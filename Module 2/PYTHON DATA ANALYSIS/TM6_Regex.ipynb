{
 "cells": [
  {
   "cell_type": "markdown",
   "metadata": {},
   "source": [
    "### **Regular Expression**"
   ]
  },
  {
   "cell_type": "code",
   "execution_count": 1,
   "metadata": {},
   "outputs": [],
   "source": [
    "import re"
   ]
  },
  {
   "cell_type": "markdown",
   "metadata": {},
   "source": [
    "**Raw Strings**"
   ]
  },
  {
   "cell_type": "code",
   "execution_count": 2,
   "metadata": {},
   "outputs": [
    {
     "ename": "SyntaxError",
     "evalue": "(unicode error) 'unicodeescape' codec can't decode bytes in position 1-2: truncated \\UXXXXXXXX escape (Temp/ipykernel_12672/3431982694.py, line 2)",
     "output_type": "error",
     "traceback": [
      "\u001b[1;36m  File \u001b[1;32m\"C:\\Users\\maulialwan\\AppData\\Local\\Temp/ipykernel_12672/3431982694.py\"\u001b[1;36m, line \u001b[1;32m2\u001b[0m\n\u001b[1;33m    path = 'C\\User\\tabular\\news'\u001b[0m\n\u001b[1;37m           ^\u001b[0m\n\u001b[1;31mSyntaxError\u001b[0m\u001b[1;31m:\u001b[0m (unicode error) 'unicodeescape' codec can't decode bytes in position 1-2: truncated \\UXXXXXXXX escape\n"
     ]
    }
   ],
   "source": [
    "# Contoh 1\n",
    "# Code di bawah akan error karena mengandung special characters (\\U yang merepresentasikan Unicode pada Python).\n",
    "path = 'C\\User\\tabular\\news'\n",
    "path"
   ]
  },
  {
   "cell_type": "code",
   "execution_count": 5,
   "metadata": {},
   "outputs": [
    {
     "name": "stdout",
     "output_type": "stream",
     "text": [
      "C\tabular\n",
      "ews\n"
     ]
    }
   ],
   "source": [
    "path = 'C\\tabular\\news'\n",
    "print(path)"
   ]
  },
  {
   "cell_type": "code",
   "execution_count": 3,
   "metadata": {},
   "outputs": [
    {
     "data": {
      "text/plain": [
       "'C\\\\User\\\\tabular\\\\news'"
      ]
     },
     "execution_count": 3,
     "metadata": {},
     "output_type": "execute_result"
    }
   ],
   "source": [
    "# Untuk membedakan antara regex code dan raw strings, gunakan 'r' di depan tanda kutip.\n",
    "path = r'C\\User\\tabular\\news'\n",
    "path"
   ]
  },
  {
   "cell_type": "markdown",
   "metadata": {},
   "source": [
    "#### **Regex Methods**"
   ]
  },
  {
   "cell_type": "markdown",
   "metadata": {},
   "source": [
    "**re.compile()**"
   ]
  },
  {
   "cell_type": "code",
   "execution_count": 6,
   "metadata": {},
   "outputs": [
    {
     "name": "stdout",
     "output_type": "stream",
     "text": [
      "<class 'str'>\n"
     ]
    }
   ],
   "source": [
    "# x terbaca sebagai raw string\n",
    "x = r'\\d{4}' # Mencari pola 4 digit secara berurutan\n",
    "print(type(x))"
   ]
  },
  {
   "cell_type": "code",
   "execution_count": 7,
   "metadata": {},
   "outputs": [
    {
     "name": "stdout",
     "output_type": "stream",
     "text": [
      "<class 're.Pattern'>\n"
     ]
    }
   ],
   "source": [
    "# Untuk mengubah tipe data string menjadi regex dtype\n",
    "x = re.compile(x)\n",
    "print(type(x))"
   ]
  },
  {
   "cell_type": "markdown",
   "metadata": {},
   "source": [
    "- re.compile() digunakan jika kita ingin mencari pola yang sama secara berulang.\n",
    "- Akan tetapi, jika kita ingin menggunakan method lain, maka otomatis cara kerja method tersebut mengandung proses compiling, sehingga kita tidak perlu melakukan compiling secara manual."
   ]
  },
  {
   "cell_type": "code",
   "execution_count": 9,
   "metadata": {},
   "outputs": [
    {
     "name": "stdout",
     "output_type": "stream",
     "text": [
      "<class 'str'>\n",
      "<class 're.Pattern'>\n",
      "['250', '340', '412', '222']\n"
     ]
    }
   ],
   "source": [
    "# Target string\n",
    "str1 = 'Nomor urut yang didapat adalah 250 340 412 222'\n",
    "\n",
    "# Mencari pola 3 digit secara berurutan\n",
    "string_pattern = r'\\d{3}'\n",
    "print(type(string_pattern))\n",
    "\n",
    "# Compile string dtype menjadi regex dtype\n",
    "regex_pattern = re.compile(string_pattern)\n",
    "\n",
    "# Menampilkan outcome\n",
    "print(type(regex_pattern))\n",
    "result = regex_pattern.findall(str1)\n",
    "print(result)"
   ]
  },
  {
   "cell_type": "code",
   "execution_count": 10,
   "metadata": {},
   "outputs": [
    {
     "data": {
      "text/plain": [
       "['250', '340', '412', '222']"
      ]
     },
     "execution_count": 10,
     "metadata": {},
     "output_type": "execute_result"
    }
   ],
   "source": [
    "# Cara lain\n",
    "string_pattern = re.findall(r'\\d{3}', str1)\n",
    "string_pattern"
   ]
  },
  {
   "cell_type": "code",
   "execution_count": 11,
   "metadata": {},
   "outputs": [
    {
     "data": {
      "text/plain": [
       "['250', '340', '412', '222']"
      ]
     },
     "execution_count": 11,
     "metadata": {},
     "output_type": "execute_result"
    }
   ],
   "source": [
    "re.findall(r'\\d{3}', str1)"
   ]
  },
  {
   "cell_type": "markdown",
   "metadata": {},
   "source": [
    "**re.search()**"
   ]
  },
  {
   "cell_type": "code",
   "execution_count": 12,
   "metadata": {},
   "outputs": [
    {
     "name": "stdout",
     "output_type": "stream",
     "text": [
      "<re.Match object; span=(22, 25), match='200'>\n"
     ]
    }
   ],
   "source": [
    "# Mencari pola 3 digit secara berurutan\n",
    "\n",
    "str = 'Saya lahir pada tahun 2000. Pada tahun 2004, umur saya baru 4 tahun. Saya tinggal di rumah bernomor 399 jalan Kahatex.'\n",
    "\n",
    "hasil_search = re.search(r'\\d{3}', str)\n",
    "print(hasil_search)"
   ]
  },
  {
   "cell_type": "markdown",
   "metadata": {},
   "source": [
    "- Method re.search() akan mencari 3 digit secara berurutan yang ada pada target string. Meskipun ada angka yang berjumlah 4 digit atau lebih, hanya 3 digit awal saja yang akan diambil oleh method ini. Sisa angka lainnya seperti tidak dianggap ada.\n",
    "- Perlu diingat bahwa method ini hanya mengembalikan 1 hasil saja. Eksekusi akan berhenti jika sudah ketemu pola yang sesuai dengan regex pattern yang didefinisikan, meskipun masih ada angka-angka lain yang sesuai spesifikasi. Hasil di output hanyalah angka pertama yang match saja."
   ]
  },
  {
   "cell_type": "code",
   "execution_count": 13,
   "metadata": {},
   "outputs": [
    {
     "name": "stdout",
     "output_type": "stream",
     "text": [
      "None\n"
     ]
    }
   ],
   "source": [
    "# Jika tidak ada yang match dengan regex pattern, maka akan dikembalikan NoneType.\n",
    "hasil_search2 = re.search(r'\\d{10}', str)\n",
    "print(hasil_search2)"
   ]
  },
  {
   "cell_type": "markdown",
   "metadata": {},
   "source": [
    "**re.findall()**"
   ]
  },
  {
   "cell_type": "markdown",
   "metadata": {},
   "source": [
    "- Salah satu method yang paling sering digunakan.\n",
    "- Mengembalikan semua nilai pada target string yang sesuai dengan regex pattern."
   ]
  },
  {
   "cell_type": "code",
   "execution_count": 14,
   "metadata": {},
   "outputs": [
    {
     "data": {
      "text/plain": [
       "['200', '200', '399']"
      ]
     },
     "execution_count": 14,
     "metadata": {},
     "output_type": "execute_result"
    }
   ],
   "source": [
    "hasil_findall = re.findall(r'\\d{3}', str)\n",
    "hasil_findall\n",
    "\n",
    "# Outcome hanya 200, 200, 399 --> hanya 3 digit awal dari 2000 dan 2004 saja yang diambil dan dikembalikan pada output."
   ]
  },
  {
   "cell_type": "code",
   "execution_count": 15,
   "metadata": {},
   "outputs": [
    {
     "name": "stdout",
     "output_type": "stream",
     "text": [
      "<class 'list'>\n"
     ]
    }
   ],
   "source": [
    "print(type(hasil_findall))"
   ]
  },
  {
   "cell_type": "code",
   "execution_count": 16,
   "metadata": {},
   "outputs": [
    {
     "data": {
      "text/plain": [
       "[]"
      ]
     },
     "execution_count": 16,
     "metadata": {},
     "output_type": "execute_result"
    }
   ],
   "source": [
    "hasil_findall2 = re.findall(r'\\d{10}', str)\n",
    "hasil_findall2"
   ]
  },
  {
   "cell_type": "markdown",
   "metadata": {},
   "source": [
    "- re.findall() akan mengembalikan tipe data berupa list.\n",
    "- Jika tidak ada yang match dengan regex pattern, maka akan dikembalikan sebuah list kosong."
   ]
  },
  {
   "cell_type": "markdown",
   "metadata": {},
   "source": [
    "**re.split()**"
   ]
  },
  {
   "cell_type": "code",
   "execution_count": 17,
   "metadata": {},
   "outputs": [
    {
     "name": "stdout",
     "output_type": "stream",
     "text": [
      "['Saya', 'lahir', 'pada', 'tahun', '2000.', 'Pada', 'tahun', '2004,', 'umur', 'saya', 'baru', '4', 'tahun.', 'Saya', 'tinggal', 'di', 'rumah', 'bernomor', '399', 'jalan', 'Kahatex.'] "
     ]
    }
   ],
   "source": [
    "# Python split()\n",
    "print(str.split(), end=' ')"
   ]
  },
  {
   "cell_type": "code",
   "execution_count": 18,
   "metadata": {},
   "outputs": [
    {
     "name": "stdout",
     "output_type": "stream",
     "text": [
      "['Saya', 'lahir', 'pada', 'tahun', '2000.', 'Pada', 'tahun', '2004,', 'umur', 'saya', 'baru', '4', 'tahun.', 'Saya', 'tinggal', 'di', 'rumah', 'bernomor', '399', 'jalan', 'Kahatex.'] "
     ]
    }
   ],
   "source": [
    "# re.split()\n",
    "hasil_split = re.split(r'\\s', str)\n",
    "print(hasil_split, end=' ')"
   ]
  },
  {
   "cell_type": "code",
   "execution_count": 19,
   "metadata": {},
   "outputs": [
    {
     "name": "stdout",
     "output_type": "stream",
     "text": [
      "['Saya lahir pada tahun 2000. Pada tahun 2004, umur saya baru 4 tahun. Saya tinggal di rumah bernomor 399 jalan Kahatex.'] "
     ]
    }
   ],
   "source": [
    "# Untuk method re.split(), jika tidak ada yang match, maka akan dikembalikan semua isi pada target string.\n",
    "hasil_split2 = re.split(r'\\s{3}', str)\n",
    "print(hasil_split2, end=' ')"
   ]
  },
  {
   "cell_type": "code",
   "execution_count": 20,
   "metadata": {},
   "outputs": [
    {
     "data": {
      "text/plain": [
       "['Saya lahir pada tahun 2000. Pada tahun',\n",
       " '2004, umur saya baru 4 tahun. Saya tinggal di rumah bernomor 399 jalan Kahatex.']"
      ]
     },
     "execution_count": 20,
     "metadata": {},
     "output_type": "execute_result"
    }
   ],
   "source": [
    "# Jika ada yang match dengan regex pattern\n",
    "# Mencari 3 whitespaces\n",
    "re.split(r'\\s{3}', 'Saya lahir pada tahun 2000. Pada tahun   2004, umur saya baru 4 tahun. Saya tinggal di rumah bernomor 399 jalan Kahatex.')"
   ]
  },
  {
   "cell_type": "markdown",
   "metadata": {},
   "source": [
    "- Pada regex, \\s berarti mencocokkan regular space (whitespace).\n",
    "- Perbedaan antara split pada Python dan regex adalah kita bisa mendefinisikan pattern pada delimiter-nya, sedangkan pada Python hanya terbatas pada fixed characters saja. Jadi, split pada regex bersifat lebih fleksibel.\n",
    "- Jika tidak ada yang match dengan pattern, maka tidak akan ada yang di-split. Outcome-nya adalah semua yang ada di dalam target string."
   ]
  },
  {
   "cell_type": "markdown",
   "metadata": {},
   "source": [
    "**re.sub()**"
   ]
  },
  {
   "cell_type": "markdown",
   "metadata": {},
   "source": [
    "**Syntax**\n",
    "re.sub(pattern, repl, string, count, flags.\n",
    "\n",
    "Tiga argument wajib:\n",
    "- pattern: regex pattern untuk target string.\n",
    "- repl: replacement yang akan dimasukkan untuk tiap occurence.\n",
    "- string: variabel target string.\n",
    "\n",
    "Argumen tambahan:\n",
    "- count: menandakan angka maksimal dari pattern yang akan diganti. Isinya harus berupa integer positif. Default-nya adalah 0, yang artinya semua pattern occurences akan diganti.\n",
    "- flags: optional flags (re.S, re.I, re.X, etc.)"
   ]
  },
  {
   "cell_type": "code",
   "execution_count": 21,
   "metadata": {},
   "outputs": [],
   "source": [
    "str2 = 'Saya LAHIR pada tahun 2000. Pada tahun 2004, UMUR saya baru 4 tahun. Saya TINGGAL di rumah bernomor 399 jalan Kahatex.'"
   ]
  },
  {
   "cell_type": "code",
   "execution_count": 22,
   "metadata": {},
   "outputs": [
    {
     "data": {
      "text/plain": [
       "'Saya INDEX pada tahun 2000. Pada tahun 2004, INDEX saya baru 4 tahun. Saya INDEX di rumah bernomor 399 jalan Kahatex.'"
      ]
     },
     "execution_count": 22,
     "metadata": {},
     "output_type": "execute_result"
    }
   ],
   "source": [
    "# Mencari pattern yang mengandung huruf kapital semua --> [A-Z]\n",
    "# Jumlah karakter pada kata minimal adalah 2 --> {2,}\n",
    "# Jika ada yang match, maka akan diganti dengan kata 'INDEX'\n",
    "hasil_sub = re.sub(r'[A-Z]{2,}', 'INDEX', str2)\n",
    "hasil_sub"
   ]
  },
  {
   "cell_type": "code",
   "execution_count": 24,
   "metadata": {},
   "outputs": [
    {
     "data": {
      "text/plain": [
       "'Saya INDEX pada tahun 2000. Pada tahun 2004, INDEX saya baru 4 tahun. Saya TINGGAL di rumah bernomor 399 jalan Kahatex.'"
      ]
     },
     "execution_count": 24,
     "metadata": {},
     "output_type": "execute_result"
    }
   ],
   "source": [
    "# Jika argument count didefinisikan. count = 2\n",
    "hasil_sub2 = re.sub(r'[A-Z]{2,}', 'INDEX', str2, 2)\n",
    "hasil_sub2"
   ]
  },
  {
   "cell_type": "markdown",
   "metadata": {},
   "source": [
    "    Optional flags"
   ]
  },
  {
   "cell_type": "markdown",
   "metadata": {},
   "source": [
    "Beberapa yang paling sering digunakan:\n",
    "- re.I --> IGNORECASE --> mengubah sifat regex pattern menjadi insensitive case.\n",
    "- re.S --> DOTALL --> cover new line character (multiline) when we are using dot (.)\n",
    "- re.X --> VERBOSE --> more flexibility & better performing jika kita menuliskan regex code yang kompleks. Diletakkan di antara () method."
   ]
  },
  {
   "cell_type": "code",
   "execution_count": 25,
   "metadata": {},
   "outputs": [
    {
     "data": {
      "text/plain": [
       "'Saya LAHIR pada tahun 2000. Pada tahun 2004, UMUR saya baru 4 tahun. Saya TINGGAL di rumah bernomor 399 jalan Kahatex.'"
      ]
     },
     "execution_count": 25,
     "metadata": {},
     "output_type": "execute_result"
    }
   ],
   "source": [
    "str2"
   ]
  },
  {
   "cell_type": "markdown",
   "metadata": {},
   "source": [
    "    re.I"
   ]
  },
  {
   "cell_type": "code",
   "execution_count": 26,
   "metadata": {},
   "outputs": [
    {
     "data": {
      "text/plain": [
       "['saya']"
      ]
     },
     "execution_count": 26,
     "metadata": {},
     "output_type": "execute_result"
    }
   ],
   "source": [
    "hasil_tanpa_ignorecase = re.findall(r'saya', str2)\n",
    "hasil_tanpa_ignorecase"
   ]
  },
  {
   "cell_type": "code",
   "execution_count": 27,
   "metadata": {},
   "outputs": [
    {
     "data": {
      "text/plain": [
       "['Saya', 'saya', 'Saya']"
      ]
     },
     "execution_count": 27,
     "metadata": {},
     "output_type": "execute_result"
    }
   ],
   "source": [
    "hasil_ignorecase = re.findall(r'saya', str2, re.I)\n",
    "hasil_ignorecase"
   ]
  },
  {
   "cell_type": "markdown",
   "metadata": {},
   "source": [
    "    re.S"
   ]
  },
  {
   "cell_type": "code",
   "execution_count": 29,
   "metadata": {},
   "outputs": [],
   "source": [
    "str3 = 'Saya LAHIR pada tahun 2000. Pada tahun 2004, UMUR saya baru 4 tahun.\\nSaya TINGGAL di rumah bernomor 399 jalan Kahatex.'"
   ]
  },
  {
   "cell_type": "code",
   "execution_count": 30,
   "metadata": {},
   "outputs": [
    {
     "data": {
      "text/plain": [
       "<re.Match object; span=(0, 68), match='Saya LAHIR pada tahun 2000. Pada tahun 2004, UMUR>"
      ]
     },
     "execution_count": 30,
     "metadata": {},
     "output_type": "execute_result"
    }
   ],
   "source": [
    "# Jika tidak menggunakan re.S, maka kalau kita menggunakan char (.), hanya line pertama saja yang terbaca.\n",
    "# Char (.) tidak menerima multiline.\n",
    "hasil_tanpa_dotall = re.search(r'.+', str3)\n",
    "hasil_tanpa_dotall"
   ]
  },
  {
   "cell_type": "code",
   "execution_count": 31,
   "metadata": {},
   "outputs": [
    {
     "data": {
      "text/plain": [
       "<re.Match object; span=(0, 118), match='Saya LAHIR pada tahun 2000. Pada tahun 2004, UMUR>"
      ]
     },
     "execution_count": 31,
     "metadata": {},
     "output_type": "execute_result"
    }
   ],
   "source": [
    "# Untuk mengatasi masalah multiline pada target string jika kita menggunakan char (.), maka kita bisa menggunakan re.S\n",
    "hasil_dotall = re.search(r'.+', str3, re.S)\n",
    "hasil_dotall"
   ]
  },
  {
   "cell_type": "code",
   "execution_count": 35,
   "metadata": {},
   "outputs": [],
   "source": [
    "str3 = 'Saya LAHIR pada tahun 2000 di rumah sakit Kahatex. Pada tahun 2004, UMUR saya baru 4 tahun.\\nSaya TINGGAL di rumah bernomor 399 jalan Kahatex.'"
   ]
  },
  {
   "cell_type": "markdown",
   "metadata": {},
   "source": [
    "    re.X"
   ]
  },
  {
   "cell_type": "code",
   "execution_count": 39,
   "metadata": {},
   "outputs": [
    {
     "data": {
      "text/plain": [
       "<re.Match object; span=(0, 141), match='Saya LAHIR pada tahun 2000 di rumah sakit Kahatex>"
      ]
     },
     "execution_count": 39,
     "metadata": {},
     "output_type": "execute_result"
    }
   ],
   "source": [
    "# Tanpa menggunakan re.X\n",
    "hasil_verbose1 = re.search(r'.+\\s(.+ex).+', str3, re.X)\n",
    "hasil_verbose1"
   ]
  },
  {
   "cell_type": "code",
   "execution_count": 37,
   "metadata": {},
   "outputs": [
    {
     "data": {
      "text/plain": [
       "<re.Match object; span=(0, 141), match='Saya LAHIR pada tahun 2000 di rumah sakit Kahatex>"
      ]
     },
     "execution_count": 37,
     "metadata": {},
     "output_type": "execute_result"
    }
   ],
   "source": [
    "# Menambahkan dokumentasi/comment dengan menggunakan re.X\n",
    "hasil_verbose2 = re.search(r'''.+\\s # Beginning of the string\n",
    "                            (.+ex) # Searching for word ending with ex\n",
    "                            .+ # Middle of the string''',\n",
    "                            str3, re.X)\n",
    "\n",
    "hasil_verbose2"
   ]
  },
  {
   "cell_type": "markdown",
   "metadata": {},
   "source": [
    "#### **Metacharacters**"
   ]
  },
  {
   "cell_type": "markdown",
   "metadata": {},
   "source": [
    "**The dot (.)**"
   ]
  },
  {
   "cell_type": "markdown",
   "metadata": {},
   "source": [
    "- Match any characters except new line (\\n)."
   ]
  },
  {
   "cell_type": "code",
   "execution_count": 40,
   "metadata": {},
   "outputs": [
    {
     "data": {
      "text/plain": [
       "<re.Match object; span=(0, 91), match='Saya LAHIR pada tahun 2000 di rumah sakit Kahatex>"
      ]
     },
     "execution_count": 40,
     "metadata": {},
     "output_type": "execute_result"
    }
   ],
   "source": [
    "# Akan membaca semua karakter pada str3 kecuali new line. Jadi, hasilnya hanya sampai Kahatex pertama saja.\n",
    "re.search(r'.+', str3)"
   ]
  },
  {
   "cell_type": "markdown",
   "metadata": {},
   "source": [
    "    Match pattern in the beginning or the end of the string"
   ]
  },
  {
   "cell_type": "markdown",
   "metadata": {},
   "source": [
    "**The caret (^)**\n",
    "\n",
    "- Matches only at the beginning of the line."
   ]
  },
  {
   "cell_type": "code",
   "execution_count": 42,
   "metadata": {},
   "outputs": [
    {
     "data": {
      "text/plain": [
       "'Saya LAHIR pada tahun 2000 di rumah sakit Kahatex. Pada tahun 2004, UMUR saya baru 4 tahun.\\nSaya TINGGAL di rumah bernomor 399 jalan Kahatex.'"
      ]
     },
     "execution_count": 42,
     "metadata": {},
     "output_type": "execute_result"
    }
   ],
   "source": [
    "str3"
   ]
  },
  {
   "cell_type": "code",
   "execution_count": 41,
   "metadata": {},
   "outputs": [
    {
     "data": {
      "text/plain": [
       "<re.Match object; span=(0, 4), match='Saya'>"
      ]
     },
     "execution_count": 41,
     "metadata": {},
     "output_type": "execute_result"
    }
   ],
   "source": [
    "# Mencari alphanumeric dan underscore berjumlah 4\n",
    "re.search(r'^\\w{4}', str3)"
   ]
  },
  {
   "cell_type": "code",
   "execution_count": 43,
   "metadata": {},
   "outputs": [
    {
     "data": {
      "text/plain": [
       "<re.Match object; span=(0, 3), match='Say'>"
      ]
     },
     "execution_count": 43,
     "metadata": {},
     "output_type": "execute_result"
    }
   ],
   "source": [
    "# Jika jumlah char yang didefinisikan kurang dari jumlah char pada kata pertama di target string\n",
    "re.search(r'^\\w{3}', str3)"
   ]
  },
  {
   "cell_type": "code",
   "execution_count": 46,
   "metadata": {},
   "outputs": [],
   "source": [
    "# Jika tidak ada yang match, tidak ada yang dikembalikan.\n",
    "re.search(r'^\\w{5}', str3)"
   ]
  },
  {
   "cell_type": "markdown",
   "metadata": {},
   "source": [
    "- re.search() hanya menampilkan temuan pertama saja jika memang ada yang match dengan regex pattern.\n",
    "- ^\\w tidak akan bisa membaca semua pattern jika terdapat new line pada target string, meskipun menggunaka method re.findall() juga.\n",
    "- Untuk dapat menemukan semua kata yang match dengan pattern pada target string meskipun terdapat multilines, guneakan re.findall() dan re.M yang gunanya untuk mengatasi masalah multiline."
   ]
  },
  {
   "cell_type": "code",
   "execution_count": 47,
   "metadata": {},
   "outputs": [],
   "source": [
    "str4 = 'Saya LAHIR pada tahun 2000 di rumah sakit Kahatex.\\nPada tahun 2004, UMUR saya baru 4 tahun.\\nSaya TINGGAL di rumah bernomor 399 jalan Kahatex.'"
   ]
  },
  {
   "cell_type": "code",
   "execution_count": 48,
   "metadata": {},
   "outputs": [
    {
     "name": "stdout",
     "output_type": "stream",
     "text": [
      "Saya LAHIR pada tahun 2000 di rumah sakit Kahatex.\n",
      "Pada tahun 2004, UMUR saya baru 4 tahun.\n",
      "Saya TINGGAL di rumah bernomor 399 jalan Kahatex.\n"
     ]
    }
   ],
   "source": [
    "print(str4)"
   ]
  },
  {
   "cell_type": "code",
   "execution_count": 49,
   "metadata": {},
   "outputs": [
    {
     "data": {
      "text/plain": [
       "['Saya']"
      ]
     },
     "execution_count": 49,
     "metadata": {},
     "output_type": "execute_result"
    }
   ],
   "source": [
    "# Hanya akan terbaca line pertama saja.\n",
    "re.findall(r'^\\w{4}', str4)"
   ]
  },
  {
   "cell_type": "code",
   "execution_count": 50,
   "metadata": {},
   "outputs": [
    {
     "data": {
      "text/plain": [
       "['Saya', 'Pada', 'Saya']"
      ]
     },
     "execution_count": 50,
     "metadata": {},
     "output_type": "execute_result"
    }
   ],
   "source": [
    "# Jika menggunakan multiline flag (re.M), maka tiap baris akan terbaca.\n",
    "# Mengatasi masalah multiline\n",
    "re.findall(r'^\\w{4}', str4, re.M)"
   ]
  },
  {
   "cell_type": "markdown",
   "metadata": {},
   "source": [
    "**The dollar sign ($)**\n",
    "\n",
    "- Opposite of the caret (^), mathces at the end of line or string (if a string only has 1 line)."
   ]
  },
  {
   "cell_type": "code",
   "execution_count": 52,
   "metadata": {},
   "outputs": [
    {
     "data": {
      "text/plain": [
       "'Saya LAHIR pada tahun 2000 di rumah sakit Kahatex.\\nPada tahun 2004, UMUR saya baru 4 tahun.\\nSaya TINGGAL di rumah bernomor 399 jalan Kahatex.'"
      ]
     },
     "execution_count": 52,
     "metadata": {},
     "output_type": "execute_result"
    }
   ],
   "source": [
    "str4"
   ]
  },
  {
   "cell_type": "code",
   "execution_count": 54,
   "metadata": {},
   "outputs": [
    {
     "data": {
      "text/plain": [
       "['Kahatex', 'tahun', 'Kahatex']"
      ]
     },
     "execution_count": 54,
     "metadata": {},
     "output_type": "execute_result"
    }
   ],
   "source": [
    "re.findall(r'\\s(\\w{2,})\\W$', str4, re.M)"
   ]
  },
  {
   "cell_type": "code",
   "execution_count": 62,
   "metadata": {},
   "outputs": [
    {
     "name": "stdout",
     "output_type": "stream",
     "text": [
      "Saya LAHIR pada tahun 2000 di rumah sakit Kahatexx. \n",
      "Pada tahun 2004, UMUR saya baru 4 tahun. \n",
      "Saya TINGGAL di rumah bernomor 399 jalan Kahatex.\n"
     ]
    }
   ],
   "source": [
    "print('Saya LAHIR pada tahun 2000 di rumah sakit Kahatexx. \\nPada tahun 2004, UMUR saya baru 4 tahun. \\nSaya TINGGAL di rumah bernomor 399 jalan Kahatex.')"
   ]
  },
  {
   "cell_type": "code",
   "execution_count": 72,
   "metadata": {},
   "outputs": [
    {
     "data": {
      "text/plain": [
       "['Kahatexx', 'tahun']"
      ]
     },
     "execution_count": 72,
     "metadata": {},
     "output_type": "execute_result"
    }
   ],
   "source": [
    "# Contoh case lain, menggunakan spasi setelah titik.\n",
    "re.findall(r'\\s(\\w{2,})\\W\\s$', 'Saya LAHIR pada tahun 2000 di rumah sakit Kahatexx. \\nPada tahun 2004, UMUR saya baru 4 tahun. \\nSaya TINGGAL di rumah bernomor 399 jalan Kahatex.', re.M)"
   ]
  },
  {
   "cell_type": "markdown",
   "metadata": {},
   "source": [
    "**The asterisk (*)**\n",
    "\n",
    "- Matches zero or more repetitions of the preceding expression in a greedy way (as many repetitions as possible) by default."
   ]
  },
  {
   "cell_type": "code",
   "execution_count": 74,
   "metadata": {},
   "outputs": [
    {
     "data": {
      "text/plain": [
       "'Saya LAHIR pada tahun 2000 di rumah sakit Kahatex.\\nPada tahun 2004, UMUR saya baru 4 tahun.\\nSaya TINGGAL di rumah bernomor 399 jalan Kahatex.'"
      ]
     },
     "execution_count": 74,
     "metadata": {},
     "output_type": "execute_result"
    }
   ],
   "source": [
    "str4"
   ]
  },
  {
   "cell_type": "code",
   "execution_count": 73,
   "metadata": {},
   "outputs": [
    {
     "data": {
      "text/plain": [
       "['2000', '2004', '399']"
      ]
     },
     "execution_count": 73,
     "metadata": {},
     "output_type": "execute_result"
    }
   ],
   "source": [
    "re.findall(r'\\d\\d\\d*', str4)\n",
    "\n",
    "# Regex pattern dengan pola minimal 2 digit (zero repetition) dan jika memungkinkan adalah 3 digit atau lebih (more repetitions)."
   ]
  },
  {
   "cell_type": "code",
   "execution_count": 81,
   "metadata": {},
   "outputs": [
    {
     "data": {
      "text/plain": [
       "['2000', '2004', '399']"
      ]
     },
     "execution_count": 81,
     "metadata": {},
     "output_type": "execute_result"
    }
   ],
   "source": [
    "# Alternatif cara penulisan.\n",
    "re.findall(r'\\d{2}\\d*', str4)"
   ]
  },
  {
   "cell_type": "code",
   "execution_count": 80,
   "metadata": {},
   "outputs": [
    {
     "data": {
      "text/plain": [
       "['2020020', '09', '2102']"
      ]
     },
     "execution_count": 80,
     "metadata": {},
     "output_type": "execute_result"
    }
   ],
   "source": [
    "# Contoh lain dengan variasi cara penulisan.\n",
    "re.findall(r'\\d{2}\\d*', '2020020 09 2102')"
   ]
  },
  {
   "cell_type": "markdown",
   "metadata": {},
   "source": [
    "    Greedy & non-greedy behaviour"
   ]
  },
  {
   "cell_type": "code",
   "execution_count": 82,
   "metadata": {},
   "outputs": [
    {
     "data": {
      "text/plain": [
       "['AHIR pada tahun 2000 di rumah sakit Kahatex.',\n",
       " 'AL di rumah bernomor 399 jalan Kahatex.']"
      ]
     },
     "execution_count": 82,
     "metadata": {},
     "output_type": "execute_result"
    }
   ],
   "source": [
    "# Contoh 1\n",
    "# Sifat greedy pada * dan +\n",
    "re.findall(r'A.*', str4)"
   ]
  },
  {
   "cell_type": "code",
   "execution_count": 83,
   "metadata": {},
   "outputs": [
    {
     "data": {
      "text/plain": [
       "['A', 'A']"
      ]
     },
     "execution_count": 83,
     "metadata": {},
     "output_type": "execute_result"
    }
   ],
   "source": [
    "# Contoh 2\n",
    "# Cancelling greedy to non-greedy by using (?)\n",
    "re.findall(r'A.*?', str4)"
   ]
  },
  {
   "cell_type": "markdown",
   "metadata": {},
   "source": [
    "- Sifat greedy berarti jika ada yang match, maka akan dikembalikan sebanyak mungkin pada outcome, seperti pada contoh 1.\n",
    "- Tapi, kita bisa cancelling greedy behaviour-nya dengan menggunakan tanda tanya (?). "
   ]
  },
  {
   "cell_type": "markdown",
   "metadata": {},
   "source": [
    "**The plus sign (+)**\n",
    "\n",
    "- Match 1 or more repetitions of the preceding expression in a greedy way by default."
   ]
  },
  {
   "cell_type": "code",
   "execution_count": 87,
   "metadata": {},
   "outputs": [
    {
     "data": {
      "text/plain": [
       "['100', '1000', '10000']"
      ]
     },
     "execution_count": 87,
     "metadata": {},
     "output_type": "execute_result"
    }
   ],
   "source": [
    "# Mencari minimal 2 digit secara berurutan (\\d\\d), tapi karena ada \\d+, jadi outcome-nya minimal adalah yang memiliki 3 digit.\n",
    "# \\d ketiga bersifat wajib atau minimal ada 1 repetisi.\n",
    "re.findall(r'\\d\\d\\d+', '1 10 100 1000 10000')"
   ]
  },
  {
   "cell_type": "code",
   "execution_count": 88,
   "metadata": {},
   "outputs": [
    {
     "data": {
      "text/plain": [
       "['10', '100', '1000', '10000']"
      ]
     },
     "execution_count": 88,
     "metadata": {},
     "output_type": "execute_result"
    }
   ],
   "source": [
    "# Bandingkan dengan menggunakan asterisk.\n",
    "# \\d bersifat opsional (boleh tidak ada repetisi).\n",
    "re.findall(r'\\d\\d\\d*', '1 10 100 1000 10000')"
   ]
  },
  {
   "cell_type": "markdown",
   "metadata": {},
   "source": [
    "Perbedaan + dan *"
   ]
  },
  {
   "cell_type": "code",
   "execution_count": 93,
   "metadata": {},
   "outputs": [
    {
     "data": {
      "text/plain": [
       "['Enak', 'Entog']"
      ]
     },
     "execution_count": 93,
     "metadata": {},
     "output_type": "execute_result"
    }
   ],
   "source": [
    "teks = 'Enak makan Entog di FTSE, ketika hari hujan'\n",
    "\n",
    "# Mencari E kapital pada target string yang diikuti oleh alphanumeric\n",
    "# Menggunakan +\n",
    "re.findall(r'E\\w+', teks)"
   ]
  },
  {
   "cell_type": "code",
   "execution_count": 94,
   "metadata": {},
   "outputs": [
    {
     "data": {
      "text/plain": [
       "['Enak', 'Entog', 'E']"
      ]
     },
     "execution_count": 94,
     "metadata": {},
     "output_type": "execute_result"
    }
   ],
   "source": [
    "# Menggunakan *\n",
    "re.findall(r'E\\w*', teks)"
   ]
  },
  {
   "cell_type": "code",
   "execution_count": 98,
   "metadata": {},
   "outputs": [
    {
     "data": {
      "text/plain": [
       "['Enak makan Entog di FTSE, ketika hari hujan']"
      ]
     },
     "execution_count": 98,
     "metadata": {},
     "output_type": "execute_result"
    }
   ],
   "source": [
    "# Jika ingin mengambil semua kata dalam teks\n",
    "re.findall(r'E.*', teks)"
   ]
  },
  {
   "cell_type": "markdown",
   "metadata": {},
   "source": [
    "- Karena + membutuhkan setidaknya satu repetisi \\w setelah E, maka hasilnya yang match hanyalah 'Enak' dan 'Entog'. E pada 'FTSE' tidak termasuk karena setelahnya diikuti oleh tanda koma, yang mana di luar spec \\w (hanya menerima alphanumeric dan underscore).\n",
    "- Sebaliknya, pada * yang bisa tidak memiliki repetisi untuk \\w setelah E, maka E pada 'FTSE' masuk ke dalam outcome."
   ]
  },
  {
   "cell_type": "markdown",
   "metadata": {},
   "source": [
    "    re.findall() nature-nya adalah menerima multiline, karena re.search() hanya menerima single line. Untuk bisa menerima multiline pada re.search(), kita bisa menggunakan re.M (multiline flag)."
   ]
  },
  {
   "cell_type": "code",
   "execution_count": 107,
   "metadata": {},
   "outputs": [
    {
     "data": {
      "text/plain": [
       "['Enak']"
      ]
     },
     "execution_count": 107,
     "metadata": {},
     "output_type": "execute_result"
    }
   ],
   "source": [
    "# Mencari E kapital pada target string yang diikuti oleh alphanumeric, lalu diikuti huruf 'k'.\n",
    "re.findall(r'E\\w+k', 'Enak makan BEBEK di FTSE, ketika hari hujan')"
   ]
  },
  {
   "cell_type": "markdown",
   "metadata": {},
   "source": [
    "**The question mark (?)**\n",
    "\n",
    "- Matches 0 or 1 repetition of the preceding expression. It is cancelling the greedy behaviour."
   ]
  },
  {
   "cell_type": "markdown",
   "metadata": {},
   "source": [
    "- Jumlah repetisi yang memungkinkan hanyalah antara 0 dan 1 kali.\n",
    "- By default adalah non-greedy behaviour."
   ]
  },
  {
   "cell_type": "code",
   "execution_count": 108,
   "metadata": {},
   "outputs": [
    {
     "data": {
      "text/plain": [
       "'Saya LAHIR pada tahun 2000. Pada tahun 2004, UMUR saya baru 4 tahun. Saya TINGGAL di rumah bernomor 399 jalan Kahatex.'"
      ]
     },
     "execution_count": 108,
     "metadata": {},
     "output_type": "execute_result"
    }
   ],
   "source": [
    "str2"
   ]
  },
  {
   "cell_type": "code",
   "execution_count": 109,
   "metadata": {},
   "outputs": [
    {
     "data": {
      "text/plain": [
       "['200', '200', '399']"
      ]
     },
     "execution_count": 109,
     "metadata": {},
     "output_type": "execute_result"
    }
   ],
   "source": [
    "re.findall(r'\\d\\d\\d?', str2)"
   ]
  },
  {
   "cell_type": "code",
   "execution_count": 111,
   "metadata": {},
   "outputs": [
    {
     "data": {
      "text/plain": [
       "['10', '100', '100', '100', '001']"
      ]
     },
     "execution_count": 111,
     "metadata": {},
     "output_type": "execute_result"
    }
   ],
   "source": [
    "re.findall(r'\\d\\d\\d?', '1 10 100 1000 100001')"
   ]
  },
  {
   "cell_type": "code",
   "execution_count": 112,
   "metadata": {},
   "outputs": [
    {
     "data": {
      "text/plain": [
       "['AH', 'AL']"
      ]
     },
     "execution_count": 112,
     "metadata": {},
     "output_type": "execute_result"
    }
   ],
   "source": [
    "re.findall(r'A.?', str2)"
   ]
  },
  {
   "cell_type": "markdown",
   "metadata": {},
   "source": [
    "**The backslash ( \\ )**"
   ]
  },
  {
   "cell_type": "markdown",
   "metadata": {},
   "source": [
    "Functions:\n",
    "1. Signals a special sequence (\\d, \\w, etc.)\n",
    "2. Escaping and matching a symbol with special meaning in regex syntax (\\ . or \\ ?)"
   ]
  },
  {
   "cell_type": "code",
   "execution_count": 115,
   "metadata": {},
   "outputs": [
    {
     "data": {
      "text/plain": [
       "'Saya LAHIR pada tahun 2000. Pada tahun 2004, UMUR saya baru 4 tahun. Saya TINGGAL di rumah bernomor 399 jalan Kahatex.'"
      ]
     },
     "execution_count": 115,
     "metadata": {},
     "output_type": "execute_result"
    }
   ],
   "source": [
    "str2"
   ]
  },
  {
   "cell_type": "code",
   "execution_count": 113,
   "metadata": {},
   "outputs": [
    {
     "data": {
      "text/plain": [
       "['2', '0', '0', '0', '2', '0', '0', '4', '4', '3', '9', '9']"
      ]
     },
     "execution_count": 113,
     "metadata": {},
     "output_type": "execute_result"
    }
   ],
   "source": [
    "# Function 1\n",
    "re.findall(r'\\d', str2)"
   ]
  },
  {
   "cell_type": "code",
   "execution_count": 114,
   "metadata": {},
   "outputs": [
    {
     "data": {
      "text/plain": [
       "['.', '.', '.']"
      ]
     },
     "execution_count": 114,
     "metadata": {},
     "output_type": "execute_result"
    }
   ],
   "source": [
    "# Function 2\n",
    "\n",
    "# Mencari tanda titik di dalam target string.\n",
    "# Jika tanda titik didahului oleh backslash, maka artinya kita mau mencari tanda titik pada target string.\n",
    "re.findall(r'\\.', str2)"
   ]
  },
  {
   "cell_type": "markdown",
   "metadata": {},
   "source": [
    "**The square brackets []**"
   ]
  },
  {
   "cell_type": "markdown",
   "metadata": {},
   "source": [
    "- Square brackets represent sets of characters and character classes.\n",
    "- Any special characters (. * ?) lose their power/meaning when inside []."
   ]
  },
  {
   "cell_type": "code",
   "execution_count": 116,
   "metadata": {},
   "outputs": [
    {
     "data": {
      "text/plain": [
       "'Saya LAHIR pada tahun 2000. Pada tahun 2004, UMUR saya baru 4 tahun. Saya TINGGAL di rumah bernomor 399 jalan Kahatex.'"
      ]
     },
     "execution_count": 116,
     "metadata": {},
     "output_type": "execute_result"
    }
   ],
   "source": [
    "str2"
   ]
  },
  {
   "cell_type": "code",
   "execution_count": 117,
   "metadata": {},
   "outputs": [
    {
     "data": {
      "text/plain": [
       "['y', 'y', 'y', 'x']"
      ]
     },
     "execution_count": 117,
     "metadata": {},
     "output_type": "execute_result"
    }
   ],
   "source": [
    "# Mencari semua karakter yang didefinisikan di dalam []\n",
    "re.findall(r'[ykx]', str2)"
   ]
  },
  {
   "cell_type": "code",
   "execution_count": 119,
   "metadata": {},
   "outputs": [
    {
     "name": "stdout",
     "output_type": "stream",
     "text": [
      "['h', 'h', 'h', 'i', 'm', 'h', 'm', 'j', 'l', 'h'] "
     ]
    }
   ],
   "source": [
    "# Menggunakan (-) untuk mendefinisikan range\n",
    "# Start stop bersifat inclusive.\n",
    "print(re.findall(r'[h-m]', str2), end=' ')"
   ]
  },
  {
   "cell_type": "code",
   "execution_count": 120,
   "metadata": {},
   "outputs": [
    {
     "name": "stdout",
     "output_type": "stream",
     "text": [
      "['2', '2', '4', '4', '3'] "
     ]
    }
   ],
   "source": [
    "# Bisa juga diaplikasikan pada digit\n",
    "print(re.findall(r'[1-5]', str2), end=' ')"
   ]
  },
  {
   "cell_type": "code",
   "execution_count": 121,
   "metadata": {},
   "outputs": [
    {
     "name": "stdout",
     "output_type": "stream",
     "text": [
      "['ah', 'ah', 'ah', 'di', 'ah', 'al', 'ah'] "
     ]
    }
   ],
   "source": [
    "# Kalau menggunakan 2 [] berarti:\n",
    "    # - karakter pertama ada pada range a-d\n",
    "    # - karakter kedua ada pada range h-m\n",
    "print(re.findall(r'[a-d][h-m]', str2), end=' ')"
   ]
  },
  {
   "cell_type": "code",
   "execution_count": 123,
   "metadata": {},
   "outputs": [
    {
     "name": "stdout",
     "output_type": "stream",
     "text": [
      "['39'] "
     ]
    }
   ],
   "source": [
    "print(re.findall(r'[1-5][7-9]', str2), end=' ')"
   ]
  },
  {
   "cell_type": "code",
   "execution_count": 127,
   "metadata": {},
   "outputs": [
    {
     "name": "stdout",
     "output_type": "stream",
     "text": [
      "['a', 'y', 'a', ' ', 'L', 'A', 'H', 'I', 'R', ' ', 'p', 'a', 'd', 'a', ' ', 't', 'a', 'h', 'u', 'n', ' ', '2', '0', '0', '0', '.', ' ', 'P', 'a', 'd', 'a', ' ', 't', 'a', 'h', 'u', 'n', ' ', '2', '0', '0', '4', ',', ' ', 'U', 'M', 'U', 'R', ' ', 's', 'a', 'y', 'a', ' ', 'b', 'a', 'r', 'u', ' ', '4', ' ', 't', 'a', 'h', 'u', 'n', '.', ' ', 'a', 'y', 'a', ' ', 'T', 'I', 'N', 'G', 'G', 'A', 'L', ' ', 'd', 'i', ' ', 'r', 'u', 'm', 'a', 'h', ' ', 'b', 'e', 'r', 'n', 'o', 'm', 'o', 'r', ' ', '3', '9', '9', ' ', 'j', 'a', 'l', 'a', 'n', ' ', 'K', 'a', 'h', 'a', 't', 'e', 'x', '.'] "
     ]
    }
   ],
   "source": [
    "# Fungsi lain dari ^ ketika berada di dalam []\n",
    "# Berarti negation atau mencari yang sebaliknya dari yang didefinisikan di dalam []\n",
    "\n",
    "x = re.findall(r'[^S]', str2)\n",
    "print(x, end=' ')"
   ]
  },
  {
   "cell_type": "code",
   "execution_count": 128,
   "metadata": {},
   "outputs": [
    {
     "data": {
      "text/plain": [
       "False"
      ]
     },
     "execution_count": 128,
     "metadata": {},
     "output_type": "execute_result"
    }
   ],
   "source": [
    "'S' in x"
   ]
  },
  {
   "cell_type": "code",
   "execution_count": 132,
   "metadata": {},
   "outputs": [
    {
     "data": {
      "text/plain": [
       "['(', ')', '.', '+', '?']"
      ]
     },
     "execution_count": 132,
     "metadata": {},
     "output_type": "execute_result"
    }
   ],
   "source": [
    "# Semua special characters kehilangan fungsinya ketika berada di dalam []\n",
    "# Regex di bawah berarti mencari antara tanda ( ) . + atau ? pada target string\n",
    "re.findall(r'[.+?()]', '().+?')"
   ]
  },
  {
   "cell_type": "markdown",
   "metadata": {},
   "source": [
    "    Character classes"
   ]
  },
  {
   "cell_type": "code",
   "execution_count": 133,
   "metadata": {},
   "outputs": [
    {
     "data": {
      "text/plain": [
       "['2', '0', '0', '0', '2', '0', '0', '4', '4', '3', '9', '9']"
      ]
     },
     "execution_count": 133,
     "metadata": {},
     "output_type": "execute_result"
    }
   ],
   "source": [
    "# Character class 0-9\n",
    "re.findall(r'[0-9]', str2)"
   ]
  },
  {
   "cell_type": "code",
   "execution_count": 135,
   "metadata": {},
   "outputs": [
    {
     "name": "stdout",
     "output_type": "stream",
     "text": [
      "['S', 'a', 'y', 'a', 'L', 'A', 'H', 'I', 'R', 'p', 'a', 'd', 'a', 't', 'a', 'h', 'u', 'n', 'P', 'a', 'd', 'a', 't', 'a', 'h', 'u', 'n', 'U', 'M', 'U', 'R', 's', 'a', 'y', 'a', 'b', 'a', 'r', 'u', 't', 'a', 'h', 'u', 'n', 'S', 'a', 'y', 'a', 'T', 'I', 'N', 'G', 'G', 'A', 'L', 'd', 'i', 'r', 'u', 'm', 'a', 'h', 'b', 'e', 'r', 'n', 'o', 'm', 'o', 'r', 'j', 'a', 'l', 'a', 'n', 'K', 'a', 'h', 'a', 't', 'e', 'x'] "
     ]
    }
   ],
   "source": [
    "# Character class a-z dan A-Z\n",
    "print(re.findall(r'[a-zA-Z]', str2), end=' ')"
   ]
  },
  {
   "cell_type": "markdown",
   "metadata": {},
   "source": [
    "**Whitespace characters**\n",
    "\n",
    "- space from keyboard\n",
    "- new line char (\\n)\n",
    "- tab char (\\t)\n",
    "- carriage return (\\r)\n",
    "- form feed (\\f)\n",
    "- vertical tab (\\v)"
   ]
  },
  {
   "cell_type": "code",
   "execution_count": 138,
   "metadata": {},
   "outputs": [
    {
     "name": "stdout",
     "output_type": "stream",
     "text": [
      "[' ', ' ', ' ', ' ', ' ', ' ', ' ', ' ', '\\n', ' ', ' ', ' ', ' ', ' ', ' ', ' ', '\\n', ' ', ' ', ' ', ' ', ' ', ' ', ' '] "
     ]
    }
   ],
   "source": [
    "print(re.findall(r'[ \\n\\t\\r\\f\\v]', str4), end=' ')"
   ]
  },
  {
   "cell_type": "markdown",
   "metadata": {},
   "source": [
    "**The curly braces {}**\n",
    "\n",
    "- Repetition operator like * and +\n",
    "- Bisa digunakan untuk mendefinisikan quantified repetitions."
   ]
  },
  {
   "cell_type": "code",
   "execution_count": 140,
   "metadata": {},
   "outputs": [
    {
     "name": "stdout",
     "output_type": "stream",
     "text": [
      "['Saya', 'LAHI', 'pada', 'tahu', '2000', 'Pada', 'tahu', '2004', 'UMUR', 'saya', 'baru', 'tahu', 'Saya', 'TING', 'ruma', 'bern', 'omor', 'jala', 'Kaha'] "
     ]
    }
   ],
   "source": [
    "# Contoh 1\n",
    "# Mencari alphanumeric sebanyak 4 kali secara beruntun. Jika ada kata yang melebihi 4 karakter, maka hanya 4 karakter pertama saja yang diambil.\n",
    "print(re.findall(r'\\w{4}', str2), end=' ')"
   ]
  },
  {
   "cell_type": "code",
   "execution_count": 141,
   "metadata": {},
   "outputs": [
    {
     "name": "stdout",
     "output_type": "stream",
     "text": [
      "['Saya', 'LAHIR', 'pada', 'tahun', '2000', 'Pada', 'tahun', '2004', 'UMUR', 'saya', 'baru', 'tahun', 'Saya', 'TINGG', 'rumah', 'berno', 'mor', '399', 'jalan', 'Kahat'] "
     ]
    }
   ],
   "source": [
    "# Mencari kata yang memiliki 3 hingga 5 chars.\n",
    "print(re.findall(r'\\w{3,5}', str2), end=' ')"
   ]
  },
  {
   "cell_type": "code",
   "execution_count": 142,
   "metadata": {},
   "outputs": [
    {
     "name": "stdout",
     "output_type": "stream",
     "text": [
      "['Saya', 'LAHIR', 'pada', 'tahun', '2000', 'Pada', 'tahun', '2004', 'UMUR', 'saya', 'baru', 'tahun', 'Saya', 'TINGGAL', 'rumah', 'bernomor', '399', 'jalan', 'Kahatex'] "
     ]
    }
   ],
   "source": [
    "# Mencari kata yang minimal memiliki 3 chars hingga ~\n",
    "print(re.findall(r'\\w{3,}', str2), end=' ')"
   ]
  },
  {
   "cell_type": "markdown",
   "metadata": {},
   "source": [
    "**The pipe (|)**"
   ]
  },
  {
   "cell_type": "markdown",
   "metadata": {},
   "source": [
    "    A|B|C berarti A atau B atau C. Hanya akan mengembalikan salah satu saja yang match.\n",
    "\n",
    "Hanya mengembalikan 1 nilai saja."
   ]
  },
  {
   "cell_type": "code",
   "execution_count": 144,
   "metadata": {},
   "outputs": [
    {
     "data": {
      "text/plain": [
       "'Saya LAHIR pada tahun 2000. Pada tahun 2004, UMUR saya baru 4 tahun. Saya TINGGAL di rumah bernomor 399 jalan Kahatex.'"
      ]
     },
     "execution_count": 144,
     "metadata": {},
     "output_type": "execute_result"
    }
   ],
   "source": [
    "str2"
   ]
  },
  {
   "cell_type": "code",
   "execution_count": 143,
   "metadata": {},
   "outputs": [
    {
     "data": {
      "text/plain": [
       "<re.Match object; span=(22, 25), match='200'>"
      ]
     },
     "execution_count": 143,
     "metadata": {},
     "output_type": "execute_result"
    }
   ],
   "source": [
    "# Contoh jika kondisi pertama sudah match\n",
    "re.search(r'\\d{3}|\\d{4}|\\b[A-Z]{4}\\b', str2)"
   ]
  },
  {
   "cell_type": "code",
   "execution_count": 148,
   "metadata": {},
   "outputs": [
    {
     "data": {
      "text/plain": [
       "<re.Match object; span=(45, 49), match='UMUR'>"
      ]
     },
     "execution_count": 148,
     "metadata": {},
     "output_type": "execute_result"
    }
   ],
   "source": [
    "# Contoh jika kondisi 1 dan 2 tidak ada yang match\n",
    "# Outcome-nya adalah UMUR karena ada \\b sebelum dan sesudah regex [A-Z]{4}, yang mana artinya adalah mencari yang benar-benar\n",
    "    # sesuai spec regex.\n",
    "re.search(r'\\d{8}|\\d{10}|\\b[A-Z]{4}\\b', str2)"
   ]
  },
  {
   "cell_type": "markdown",
   "metadata": {},
   "source": [
    "**Grouping**\n",
    "\n",
    "- (...)\n",
    "- Regex yang berada di dalam () berarti dihitung sebagai 1 grup.\n",
    "- Regex yang berada di dalam () berarti akan dioperasikan secara menyeluruh dengan metachar yang mengikutinya."
   ]
  },
  {
   "cell_type": "code",
   "execution_count": 149,
   "metadata": {},
   "outputs": [
    {
     "data": {
      "text/plain": [
       "['abc', 'abcc', 'abcccc']"
      ]
     },
     "execution_count": 149,
     "metadata": {},
     "output_type": "execute_result"
    }
   ],
   "source": [
    "re.findall(r'abc+', 'abc, abcc, abcccc')"
   ]
  },
  {
   "cell_type": "code",
   "execution_count": 150,
   "metadata": {},
   "outputs": [
    {
     "data": {
      "text/plain": [
       "['abc', 'abc', 'abc']"
      ]
     },
     "execution_count": 150,
     "metadata": {},
     "output_type": "execute_result"
    }
   ],
   "source": [
    "re.findall(r'(abc)+', 'abc, abcc, abcccc')"
   ]
  },
  {
   "cell_type": "code",
   "execution_count": 151,
   "metadata": {},
   "outputs": [
    {
     "data": {
      "text/plain": [
       "['abc', 'abc', 'abc', 'abc', 'abc', 'abc']"
      ]
     },
     "execution_count": 151,
     "metadata": {},
     "output_type": "execute_result"
    }
   ],
   "source": [
    "re.findall(r'abc+', 'abc, abcabc, abcabcabc')"
   ]
  },
  {
   "cell_type": "code",
   "execution_count": 160,
   "metadata": {},
   "outputs": [
    {
     "data": {
      "text/plain": [
       "['abc', 'abc', 'abc']"
      ]
     },
     "execution_count": 160,
     "metadata": {},
     "output_type": "execute_result"
    }
   ],
   "source": [
    "re.findall(r'(abc)+', 'abc, abcabc, abcabcabc')"
   ]
  },
  {
   "cell_type": "code",
   "execution_count": 158,
   "metadata": {},
   "outputs": [
    {
     "data": {
      "text/plain": [
       "['abc', 'abc', 'abc', 'abc', 'abc', 'abc']"
      ]
     },
     "execution_count": 158,
     "metadata": {},
     "output_type": "execute_result"
    }
   ],
   "source": [
    "re.findall(r'(abc)+?', 'abc, abcabc, abcabcabc')"
   ]
  },
  {
   "cell_type": "markdown",
   "metadata": {},
   "source": [
    "**?: non-grouping**"
   ]
  },
  {
   "cell_type": "markdown",
   "metadata": {},
   "source": [
    "?: is used when you want to group an expression, but you don't want to save it as a matched/captured portion of the string."
   ]
  },
  {
   "cell_type": "markdown",
   "metadata": {},
   "source": [
    "    Perbandingan hasil grouping dan non-grouping"
   ]
  },
  {
   "cell_type": "code",
   "execution_count": 161,
   "metadata": {},
   "outputs": [
    {
     "data": {
      "text/plain": [
       "['abc', 'abc', 'abc']"
      ]
     },
     "execution_count": 161,
     "metadata": {},
     "output_type": "execute_result"
    }
   ],
   "source": [
    "# Grouping\n",
    "re.findall(r'(abc)+', 'abc, abcabc, abcabcabc')"
   ]
  },
  {
   "cell_type": "code",
   "execution_count": 162,
   "metadata": {},
   "outputs": [
    {
     "data": {
      "text/plain": [
       "['abc', 'abcabc', 'abcabcabc']"
      ]
     },
     "execution_count": 162,
     "metadata": {},
     "output_type": "execute_result"
    }
   ],
   "source": [
    "# Non-grouping\n",
    "re.findall(r'(?:abc)+', 'abc, abcabc, abcabcabc')"
   ]
  },
  {
   "cell_type": "code",
   "execution_count": 163,
   "metadata": {},
   "outputs": [
    {
     "data": {
      "text/plain": [
       "['abc', 'abc', 'abc', 'abc', 'abc', 'abc']"
      ]
     },
     "execution_count": 163,
     "metadata": {},
     "output_type": "execute_result"
    }
   ],
   "source": [
    "re.findall(r'abc+', 'abc, abcabc, abcabcabc')"
   ]
  },
  {
   "cell_type": "code",
   "execution_count": 170,
   "metadata": {},
   "outputs": [
    {
     "data": {
      "text/plain": [
       "['(selamat pagi)']"
      ]
     },
     "execution_count": 170,
     "metadata": {},
     "output_type": "execute_result"
    }
   ],
   "source": [
    "re.findall(r'[()].+', 'Good morning (selamat pagi)')"
   ]
  },
  {
   "cell_type": "markdown",
   "metadata": {},
   "source": [
    "    Special sequences"
   ]
  },
  {
   "cell_type": "markdown",
   "metadata": {},
   "source": [
    "* * *\n",
    "* <font color=\"red\">[0-9]</font> Matches a single digit\n",
    "* <font color=\"red\">[a-z0-9]</font> Matches a single character that must be a lower case letter or a digit.\n",
    "* <font color=\"red\">[A-Za-z]</font> Matches a single character that much be a upper/lower case letter \n",
    "* <font color=\"red\">\\d</font> Matches any decimal digit; equivalent to the set [0-9].\n",
    "* <font color=\"red\">\\D</font> Matches characters that are not digits, which is equivalent to [^0-9] or [^\\d].\n",
    "* <font color=\"red\">\\w</font> Matches any alphanumeric character, which is equivalent to [a-zA-Z0-9].\n",
    "* <font color=\"red\">\\W</font> Matches any non-alphanumeric character; which is equivalent to [^a-zA-Z0-9] or [^\\w].\n",
    "* <font color=\"red\">\\s</font> Matches any whitespace character; which is equivalent to [\\t\\n\\r\\f\\v], where \\t indicates taps, \\n  line feeds, \\r carriage returns, \\f form feeds and \\v vertical tabs.\n",
    "* <font color=\"red\">\\S:</font> Matches any non-whitespace character; which is equivalent to  [^ \\t\\n\\r\\f\\v].\n",
    "* <font color=\"red\">ˆ</font> Matches the start of the line.\n",
    "* <font color=\"red\">$</font> Matches the end of the line.\n",
    "\n",
    "\n",
    "More information can be found here :\n",
    "https://docs.python.org/2/library/re.html\n",
    "* * *"
   ]
  },
  {
   "cell_type": "markdown",
   "metadata": {},
   "source": [
    "    Repetition metacharacters"
   ]
  },
  {
   "cell_type": "markdown",
   "metadata": {},
   "source": [
    "* <font color=\"red\">.</font> Matches any character (a wildcard).\n",
    "* <font color=\"red\">*</font> Matches when the preceding character occurs zero or more times.\n",
    "* <font color=\"red\">+</font> Matches when the preceding character occurs one or more times.\n",
    "* <font color=\"red\">?</font> Matches when the preceding character occurs zero or one times."
   ]
  },
  {
   "cell_type": "markdown",
   "metadata": {},
   "source": [
    "**\\b and \\B**"
   ]
  },
  {
   "cell_type": "markdown",
   "metadata": {},
   "source": [
    "    Used to signal word boundaries. Matching alphanumeric and non."
   ]
  },
  {
   "cell_type": "markdown",
   "metadata": {},
   "source": [
    "    Summary:\n",
    "\n",
    "**Front**\n",
    "- \\b.. mencari kata yang penting mengandung chars yang didefinisikan. Misal, \\bmau pada 'mau maulid libur', maka outcome-nya adalah 'mau' dan 'mau' pada 'maulid'.\n",
    "- \\B.. meskipun mengandung chars yang didefinisikan, tapi kalau tidak didahului oleh char yang lain, maka tidak akan match. Misal \\Bmau pada 'mau maulid libur' tidak akan ada yang match karena 'mau' tidak didahului oleh char apapun. Kalau misal \\Bmau pada 'semau', hasilnya akan match.\n",
    "\n",
    "**Double**\n",
    "- \\b..\\b mencari kata utuh sesuai dengan char yang didefinisikan. Jadi, kalau \\bmau\\b pada 'mau maulid libur' berarti hanya match dengan 'mau' saja, 'maulid' tidak match karena diikuti chars lain setelahnya.\n",
    "- \\B..\\B mencari char yang didefinisikan di tengah-tengah suatu kata. Misal, \\Bmau\\B pada 'kemauan' akan match karena ada 'mau' di tengah-tengah 'kemauan'.\n",
    "\n",
    "**End**\n",
    "- ..\\b mencari kata yang sesuai dengan char yang didefinisikan. Misal, mau\\b pada 'mau maulid libur', outcome hanya 'mau' pada 'mau' karena merupakan kata utuh. Sedangkan 'mau' pada 'maulid' tidak match karena diikuti 'lid' setelah 'mau'.\n",
    "- ..\\B mencari char yang didefinisikan pada suatu kata dan diikuti oleh chars lain. Misal, mau\\B pada 'mau maulid libur', outcome hanya 'mau' pada 'maulid' saja karena setelah 'mau' diikuti oleh 'lid'."
   ]
  }
 ],
 "metadata": {
  "interpreter": {
   "hash": "95a19bb7a135a8107af75b765dc097fafc28c1115c0f9727f05dc637904e7be8"
  },
  "kernelspec": {
   "display_name": "Python 3.8.3 ('base')",
   "language": "python",
   "name": "python3"
  },
  "language_info": {
   "codemirror_mode": {
    "name": "ipython",
    "version": 3
   },
   "file_extension": ".py",
   "mimetype": "text/x-python",
   "name": "python",
   "nbconvert_exporter": "python",
   "pygments_lexer": "ipython3",
   "version": "3.8.3"
  },
  "orig_nbformat": 4
 },
 "nbformat": 4,
 "nbformat_minor": 2
}
