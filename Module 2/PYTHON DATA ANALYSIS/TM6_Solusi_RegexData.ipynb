{
 "cells": [
  {
   "cell_type": "markdown",
   "metadata": {},
   "source": [
    "**Latihan**"
   ]
  },
  {
   "cell_type": "markdown",
   "metadata": {},
   "source": [
    "    Gunakan file 'mbox-short.txt' sebagai sumber data."
   ]
  },
  {
   "cell_type": "code",
   "execution_count": 1,
   "metadata": {},
   "outputs": [],
   "source": [
    "import re"
   ]
  },
  {
   "cell_type": "code",
   "execution_count": 18,
   "metadata": {},
   "outputs": [],
   "source": [
    "input_file = open(r'<insert your path>\\mbox-short.txt', 'r')\n",
    "text = input_file.read()\n",
    "# text"
   ]
  },
  {
   "cell_type": "markdown",
   "metadata": {},
   "source": [
    "**1. Cari semua IP addresses dan tampilkan yang unik saja! Ada berapa IP address unik?**"
   ]
  },
  {
   "cell_type": "code",
   "execution_count": 27,
   "metadata": {},
   "outputs": [
    {
     "data": {
      "text/plain": [
       "{'127.0.0.1',\n",
       " '134.68.220.122',\n",
       " '141.211.14.25',\n",
       " '141.211.14.34',\n",
       " '141.211.14.36',\n",
       " '141.211.14.39',\n",
       " '141.211.14.43',\n",
       " '141.211.14.46',\n",
       " '141.211.14.58',\n",
       " '141.211.14.72',\n",
       " '141.211.14.76',\n",
       " '141.211.14.79',\n",
       " '141.211.14.83',\n",
       " '141.211.14.84',\n",
       " '141.211.14.90',\n",
       " '141.211.14.91',\n",
       " '141.211.14.92',\n",
       " '141.211.14.93',\n",
       " '141.211.14.97',\n",
       " '141.211.14.98',\n",
       " '141.211.93.141',\n",
       " '141.211.93.142',\n",
       " '141.211.93.143',\n",
       " '141.211.93.144',\n",
       " '141.211.93.145',\n",
       " '141.211.93.149',\n",
       " '141.211.93.151',\n",
       " '141.211.93.152',\n",
       " '141.211.93.153',\n",
       " '194.35.219.182',\n",
       " '194.35.219.184'}"
      ]
     },
     "execution_count": 27,
     "metadata": {},
     "output_type": "execute_result"
    }
   ],
   "source": [
    "# Contoh IP address\n",
    "# '141.211.14.90',\n",
    "# '141.211.14.79',\n",
    "# '194.35.219.184',\n",
    "# '127.0.0.1'\n",
    "\n",
    "# Polanya adalah:\n",
    "# 1. 3 digit \n",
    "# 2. 1/2/3 digit\n",
    "# 3. 1/2/3 digit\n",
    "# 4. 1/2/3 digit\n",
    "\n",
    "# Cara 1\n",
    "re.findall(r'\\d{3}\\.\\d{1,3}\\.\\d{1,3}.\\d{1,3}', text)"
   ]
  },
  {
   "cell_type": "code",
   "execution_count": 16,
   "metadata": {},
   "outputs": [
    {
     "data": {
      "text/plain": [
       "['141.211.14.90',\n",
       " '141.211.14.79',\n",
       " '194.35.219.184',\n",
       " '127.0.0.1',\n",
       " '194.35.219.182',\n",
       " '134.68.220.122',\n",
       " '127.0.0.1',\n",
       " '141.211.14.97',\n",
       " '141.211.93.149',\n",
       " '194.35.219.184',\n",
       " '127.0.0.1',\n",
       " '194.35.219.182',\n",
       " '134.68.220.122',\n",
       " '127.0.0.1',\n",
       " '141.211.14.25',\n",
       " '141.211.93.144',\n",
       " '194.35.219.184',\n",
       " '127.0.0.1',\n",
       " '194.35.219.182',\n",
       " '134.68.220.122',\n",
       " '127.0.0.1',\n",
       " '141.211.14.25',\n",
       " '141.211.14.43',\n",
       " '194.35.219.184',\n",
       " '127.0.0.1',\n",
       " '194.35.219.182',\n",
       " '134.68.220.122',\n",
       " '127.0.0.1',\n",
       " '141.211.14.46',\n",
       " '141.211.14.83',\n",
       " '194.35.219.184',\n",
       " '127.0.0.1',\n",
       " '194.35.219.182',\n",
       " '134.68.220.122',\n",
       " '127.0.0.1',\n",
       " '141.211.14.93',\n",
       " '141.211.93.142',\n",
       " '194.35.219.184',\n",
       " '127.0.0.1',\n",
       " '194.35.219.182',\n",
       " '134.68.220.122',\n",
       " '127.0.0.1',\n",
       " '141.211.14.46',\n",
       " '141.211.14.72',\n",
       " '194.35.219.184',\n",
       " '127.0.0.1',\n",
       " '194.35.219.182',\n",
       " '134.68.220.122',\n",
       " '127.0.0.1',\n",
       " '141.211.14.46',\n",
       " '141.211.93.151',\n",
       " '194.35.219.184',\n",
       " '127.0.0.1',\n",
       " '194.35.219.182',\n",
       " '134.68.220.122',\n",
       " '127.0.0.1',\n",
       " '141.211.14.25',\n",
       " '141.211.14.79',\n",
       " '194.35.219.184',\n",
       " '127.0.0.1',\n",
       " '194.35.219.182',\n",
       " '134.68.220.122',\n",
       " '127.0.0.1',\n",
       " '141.211.14.36',\n",
       " '141.211.14.84',\n",
       " '194.35.219.184',\n",
       " '127.0.0.1',\n",
       " '194.35.219.182',\n",
       " '134.68.220.122',\n",
       " '127.0.0.1',\n",
       " '141.211.14.97',\n",
       " '141.211.93.152',\n",
       " '194.35.219.184',\n",
       " '127.0.0.1',\n",
       " '194.35.219.182',\n",
       " '134.68.220.122',\n",
       " '127.0.0.1',\n",
       " '141.211.14.39',\n",
       " '141.211.14.79',\n",
       " '194.35.219.184',\n",
       " '127.0.0.1',\n",
       " '194.35.219.182',\n",
       " '134.68.220.122',\n",
       " '127.0.0.1',\n",
       " '141.211.14.90',\n",
       " '141.211.93.153',\n",
       " '194.35.219.184',\n",
       " '127.0.0.1',\n",
       " '194.35.219.182',\n",
       " '134.68.220.122',\n",
       " '127.0.0.1',\n",
       " '141.211.14.97',\n",
       " '141.211.14.84',\n",
       " '194.35.219.184',\n",
       " '127.0.0.1',\n",
       " '194.35.219.182',\n",
       " '134.68.220.122',\n",
       " '127.0.0.1',\n",
       " '141.211.14.25',\n",
       " '141.211.14.79',\n",
       " '194.35.219.184',\n",
       " '127.0.0.1',\n",
       " '194.35.219.182',\n",
       " '134.68.220.122',\n",
       " '127.0.0.1',\n",
       " '141.211.14.90',\n",
       " '141.211.14.76',\n",
       " '194.35.219.184',\n",
       " '127.0.0.1',\n",
       " '194.35.219.182',\n",
       " '134.68.220.122',\n",
       " '127.0.0.1',\n",
       " '141.211.14.39',\n",
       " '141.211.14.76',\n",
       " '194.35.219.184',\n",
       " '127.0.0.1',\n",
       " '194.35.219.182',\n",
       " '134.68.220.122',\n",
       " '127.0.0.1',\n",
       " '141.211.14.98',\n",
       " '141.211.14.83',\n",
       " '194.35.219.184',\n",
       " '127.0.0.1',\n",
       " '194.35.219.182',\n",
       " '134.68.220.122',\n",
       " '127.0.0.1',\n",
       " '141.211.14.92',\n",
       " '141.211.93.145',\n",
       " '194.35.219.184',\n",
       " '127.0.0.1',\n",
       " '194.35.219.182',\n",
       " '134.68.220.122',\n",
       " '127.0.0.1',\n",
       " '141.211.14.46',\n",
       " '141.211.93.143',\n",
       " '194.35.219.184',\n",
       " '127.0.0.1',\n",
       " '194.35.219.182',\n",
       " '134.68.220.122',\n",
       " '127.0.0.1',\n",
       " '141.211.14.25',\n",
       " '141.211.14.58',\n",
       " '194.35.219.184',\n",
       " '127.0.0.1',\n",
       " '194.35.219.182',\n",
       " '134.68.220.122',\n",
       " '127.0.0.1',\n",
       " '141.211.14.91',\n",
       " '141.211.93.142',\n",
       " '194.35.219.184',\n",
       " '127.0.0.1',\n",
       " '194.35.219.182',\n",
       " '134.68.220.122',\n",
       " '127.0.0.1',\n",
       " '141.211.14.91',\n",
       " '141.211.14.58',\n",
       " '194.35.219.184',\n",
       " '127.0.0.1',\n",
       " '194.35.219.182',\n",
       " '134.68.220.122',\n",
       " '127.0.0.1',\n",
       " '141.211.14.39',\n",
       " '141.211.93.141',\n",
       " '194.35.219.184',\n",
       " '127.0.0.1',\n",
       " '194.35.219.182',\n",
       " '134.68.220.122',\n",
       " '127.0.0.1',\n",
       " '141.211.14.34',\n",
       " '141.211.93.149',\n",
       " '194.35.219.184',\n",
       " '127.0.0.1',\n",
       " '194.35.219.182',\n",
       " '134.68.220.122',\n",
       " '127.0.0.1',\n",
       " '141.211.14.46',\n",
       " '141.211.93.145',\n",
       " '194.35.219.184',\n",
       " '127.0.0.1',\n",
       " '194.35.219.182',\n",
       " '134.68.220.122',\n",
       " '127.0.0.1',\n",
       " '141.211.14.91',\n",
       " '141.211.14.58',\n",
       " '194.35.219.184',\n",
       " '127.0.0.1',\n",
       " '194.35.219.182',\n",
       " '134.68.220.122',\n",
       " '127.0.0.1']"
      ]
     },
     "execution_count": 16,
     "metadata": {},
     "output_type": "execute_result"
    }
   ],
   "source": [
    "# Bisa juga dengan grouping\n",
    "re.findall(r'\\d{3}(?:\\.\\d{1,3}){3}', text)"
   ]
  },
  {
   "cell_type": "code",
   "execution_count": 26,
   "metadata": {},
   "outputs": [
    {
     "data": {
      "text/plain": [
       "{'.0.0.1',\n",
       " '.12.11.200',\n",
       " '.211.14.25',\n",
       " '.211.14.34',\n",
       " '.211.14.36',\n",
       " '.211.14.39',\n",
       " '.211.14.43',\n",
       " '.211.14.46',\n",
       " '.211.14.58',\n",
       " '.211.14.72',\n",
       " '.211.14.76',\n",
       " '.211.14.79',\n",
       " '.211.14.83',\n",
       " '.211.14.84',\n",
       " '.211.14.90',\n",
       " '.211.14.91',\n",
       " '.211.14.92',\n",
       " '.211.14.93',\n",
       " '.211.14.97',\n",
       " '.211.14.98',\n",
       " '.211.93.141',\n",
       " '.211.93.142',\n",
       " '.211.93.143',\n",
       " '.211.93.144',\n",
       " '.211.93.145',\n",
       " '.211.93.149',\n",
       " '.211.93.151',\n",
       " '.211.93.152',\n",
       " '.211.93.153',\n",
       " '.35.219.182',\n",
       " '.35.219.184',\n",
       " '.68.220.122'}"
      ]
     },
     "execution_count": 26,
     "metadata": {},
     "output_type": "execute_result"
    }
   ],
   "source": [
    "# Menampilkan yang unik saja\n",
    "set(re.findall(r'(?:\\.\\d{1,3}){3}', text))"
   ]
  },
  {
   "cell_type": "code",
   "execution_count": 28,
   "metadata": {},
   "outputs": [
    {
     "data": {
      "text/plain": [
       "{'127.0.0.1',\n",
       " '134.68.220.122',\n",
       " '141.211.14.25',\n",
       " '141.211.14.34',\n",
       " '141.211.14.36',\n",
       " '141.211.14.39',\n",
       " '141.211.14.43',\n",
       " '141.211.14.46',\n",
       " '141.211.14.58',\n",
       " '141.211.14.72',\n",
       " '141.211.14.76',\n",
       " '141.211.14.79',\n",
       " '141.211.14.83',\n",
       " '141.211.14.84',\n",
       " '141.211.14.90',\n",
       " '141.211.14.91',\n",
       " '141.211.14.92',\n",
       " '141.211.14.93',\n",
       " '141.211.14.97',\n",
       " '141.211.14.98',\n",
       " '141.211.93.141',\n",
       " '141.211.93.142',\n",
       " '141.211.93.143',\n",
       " '141.211.93.144',\n",
       " '141.211.93.145',\n",
       " '141.211.93.149',\n",
       " '141.211.93.151',\n",
       " '141.211.93.152',\n",
       " '141.211.93.153',\n",
       " '194.35.219.182',\n",
       " '194.35.219.184'}"
      ]
     },
     "execution_count": 28,
     "metadata": {},
     "output_type": "execute_result"
    }
   ],
   "source": [
    "# Mencari ip address unik cara 1\n",
    "set(re.findall(r'\\d{3}\\.\\d{1,3}\\.\\d{1,3}.\\d{1,3}', text))"
   ]
  },
  {
   "cell_type": "code",
   "execution_count": 6,
   "metadata": {},
   "outputs": [
    {
     "data": {
      "text/plain": [
       "31"
      ]
     },
     "execution_count": 6,
     "metadata": {},
     "output_type": "execute_result"
    }
   ],
   "source": [
    "# Mencari jumlah IP address unik\n",
    "len(set(re.findall(r'\\d{3}(?:\\.\\d{1,3}){3}', text)))"
   ]
  },
  {
   "cell_type": "markdown",
   "metadata": {},
   "source": [
    "**2. Cari semua email addresses!**"
   ]
  },
  {
   "cell_type": "code",
   "execution_count": 61,
   "metadata": {},
   "outputs": [
    {
     "data": {
      "text/plain": [
       "{'200801032122.m03LMFo4005148@nakamura.uits.iupui.edu',\n",
       " '200801032127.m03LRUqH005177@nakamura.uits.iupui.edu',\n",
       " '200801032133.m03LX3gG005191@nakamura.uits.iupui.edu',\n",
       " '200801032205.m03M5Ea7005273@nakamura.uits.iupui.edu',\n",
       " '200801032216.m03MGhDa005292@nakamura.uits.iupui.edu',\n",
       " '200801040023.m040NpCc005473@nakamura.uits.iupui.edu',\n",
       " '200801040905.m0495rWB006420@nakamura.uits.iupui.edu',\n",
       " '200801040932.m049W2i5006493@nakamura.uits.iupui.edu',\n",
       " '200801040947.m049lUxo006517@nakamura.uits.iupui.edu',\n",
       " '200801041106.m04B6lK3006677@nakamura.uits.iupui.edu',\n",
       " '200801041200.m04C0gfK006793@nakamura.uits.iupui.edu',\n",
       " '200801041403.m04E3psW006926@nakamura.uits.iupui.edu',\n",
       " '200801041502.m04F21Jo007031@nakamura.uits.iupui.edu',\n",
       " '200801041515.m04FFv42007050@nakamura.uits.iupui.edu',\n",
       " '200801041537.m04Fb6Ci007092@nakamura.uits.iupui.edu',\n",
       " '200801041608.m04G8d7w007184@nakamura.uits.iupui.edu',\n",
       " '200801041609.m04G9EuX007197@nakamura.uits.iupui.edu',\n",
       " '200801041610.m04GA5KP007209@nakamura.uits.iupui.edu',\n",
       " '200801041611.m04GB1Lb007221@nakamura.uits.iupui.edu',\n",
       " '200801041633.m04GX6eG007292@nakamura.uits.iupui.edu',\n",
       " '200801041635.m04GZQGZ007313@nakamura.uits.iupui.edu',\n",
       " '200801041948.m04JmdwO007705@nakamura.uits.iupui.edu',\n",
       " '200801042001.m04K1cO0007738@nakamura.uits.iupui.edu',\n",
       " '200801042044.m04Kiem3007881@nakamura.uits.iupui.edu',\n",
       " '200801042109.m04L92hb007923@nakamura.uits.iupui.edu',\n",
       " '200801042308.m04N8v6O008125@nakamura.uits.iupui.edu',\n",
       " '200801051412.m05ECIaH010327@nakamura.uits.iupui.edu',\n",
       " 'antranig@caret.cam.ac.uk',\n",
       " 'apache@localhost',\n",
       " 'cwen@iupui.edu',\n",
       " 'david.horwitz@uct.ac.za',\n",
       " 'dhorwitz@david',\n",
       " 'gopal.ramasammycook@gmail.com',\n",
       " 'gsilver@umich.edu',\n",
       " 'hu2@iupui.edu',\n",
       " 'josrodri@iupui.edu',\n",
       " 'louis@media.berkeley.edu',\n",
       " 'postmaster@collab.sakaiproject.org',\n",
       " 'ray@media.berkeley.edu',\n",
       " 'rjlowe@iupui.edu',\n",
       " 'source@collab.sakaiproject.org',\n",
       " 'stephen.marquard@uct.ac.za',\n",
       " 'wagnermr@iupui.edu',\n",
       " 'zqian@umich.edu'}"
      ]
     },
     "execution_count": 61,
     "metadata": {},
     "output_type": "execute_result"
    }
   ],
   "source": [
    "# Contoh email yang ada, tidak semuanya email orang, ada email sistem juga misalnya.\n",
    "# '200801042044.m04Kiem3007881@nakamura.uits'\n",
    "# '200801042109.m04L92hb007923@nakamura.uits'\n",
    "# 'ray@media.berkeley'\n",
    "# 'rjlowe@iupui.edu'\n",
    "\n",
    "# Pola\n",
    "# something@something.something.something\n",
    "\n",
    "# Cara 1\n",
    "set(re.findall(r\"[\\w.]*@[\\w.]+\\.[\\w.]+\", text))"
   ]
  },
  {
   "cell_type": "code",
   "execution_count": 62,
   "metadata": {},
   "outputs": [
    {
     "data": {
      "text/plain": [
       "{'200801032122.m03LMFo4005148@nakamura.uits.iupui.edu',\n",
       " '200801032127.m03LRUqH005177@nakamura.uits.iupui.edu',\n",
       " '200801032133.m03LX3gG005191@nakamura.uits.iupui.edu',\n",
       " '200801032205.m03M5Ea7005273@nakamura.uits.iupui.edu',\n",
       " '200801032216.m03MGhDa005292@nakamura.uits.iupui.edu',\n",
       " '200801040023.m040NpCc005473@nakamura.uits.iupui.edu',\n",
       " '200801040905.m0495rWB006420@nakamura.uits.iupui.edu',\n",
       " '200801040932.m049W2i5006493@nakamura.uits.iupui.edu',\n",
       " '200801040947.m049lUxo006517@nakamura.uits.iupui.edu',\n",
       " '200801041106.m04B6lK3006677@nakamura.uits.iupui.edu',\n",
       " '200801041200.m04C0gfK006793@nakamura.uits.iupui.edu',\n",
       " '200801041403.m04E3psW006926@nakamura.uits.iupui.edu',\n",
       " '200801041502.m04F21Jo007031@nakamura.uits.iupui.edu',\n",
       " '200801041515.m04FFv42007050@nakamura.uits.iupui.edu',\n",
       " '200801041537.m04Fb6Ci007092@nakamura.uits.iupui.edu',\n",
       " '200801041608.m04G8d7w007184@nakamura.uits.iupui.edu',\n",
       " '200801041609.m04G9EuX007197@nakamura.uits.iupui.edu',\n",
       " '200801041610.m04GA5KP007209@nakamura.uits.iupui.edu',\n",
       " '200801041611.m04GB1Lb007221@nakamura.uits.iupui.edu',\n",
       " '200801041633.m04GX6eG007292@nakamura.uits.iupui.edu',\n",
       " '200801041635.m04GZQGZ007313@nakamura.uits.iupui.edu',\n",
       " '200801041948.m04JmdwO007705@nakamura.uits.iupui.edu',\n",
       " '200801042001.m04K1cO0007738@nakamura.uits.iupui.edu',\n",
       " '200801042044.m04Kiem3007881@nakamura.uits.iupui.edu',\n",
       " '200801042109.m04L92hb007923@nakamura.uits.iupui.edu',\n",
       " '200801042308.m04N8v6O008125@nakamura.uits.iupui.edu',\n",
       " '200801051412.m05ECIaH010327@nakamura.uits.iupui.edu',\n",
       " 'antranig@caret.cam.ac.uk',\n",
       " 'apache@localhost',\n",
       " 'cwen@iupui.edu',\n",
       " 'david.horwitz@uct.ac.za',\n",
       " 'dhorwitz@david',\n",
       " 'gopal.ramasammycook@gmail.com',\n",
       " 'gsilver@umich.edu',\n",
       " 'hu2@iupui.edu',\n",
       " 'josrodri@iupui.edu',\n",
       " 'louis@media.berkeley.edu',\n",
       " 'postmaster@collab.sakaiproject.org',\n",
       " 'ray@media.berkeley.edu',\n",
       " 'rjlowe@iupui.edu',\n",
       " 'source@collab.sakaiproject.org',\n",
       " 'stephen.marquard@uct.ac.za',\n",
       " 'wagnermr@iupui.edu',\n",
       " 'zqian@umich.edu'}"
      ]
     },
     "execution_count": 62,
     "metadata": {},
     "output_type": "execute_result"
    }
   ],
   "source": [
    "# Tanpa titik setelah @\n",
    "# Match = 44\n",
    "set(re.findall(r\"[\\w.]*@[\\w.]+[\\w.]+\", text))"
   ]
  },
  {
   "cell_type": "markdown",
   "metadata": {},
   "source": [
    "**3. Tampilkan email address dari baris yang memiliki pola author/to/from! Ada berapa jumlah yang unik?**"
   ]
  },
  {
   "cell_type": "code",
   "execution_count": 63,
   "metadata": {},
   "outputs": [
    {
     "data": {
      "text/plain": [
       "['source@collab.sakaiproject.org',\n",
       " 'stephen.marquard@uct.ac.za',\n",
       " 'stephen.marquard@uct.ac.za',\n",
       " 'source@collab.sakaiproject.org',\n",
       " 'louis@media.berkeley.edu',\n",
       " 'louis@media.berkeley.edu',\n",
       " 'source@collab.sakaiproject.org',\n",
       " 'zqian@umich.edu',\n",
       " 'zqian@umich.edu',\n",
       " 'source@collab.sakaiproject.org',\n",
       " 'rjlowe@iupui.edu',\n",
       " 'rjlowe@iupui.edu',\n",
       " 'source@collab.sakaiproject.org',\n",
       " 'zqian@umich.edu',\n",
       " 'zqian@umich.edu',\n",
       " 'source@collab.sakaiproject.org',\n",
       " 'rjlowe@iupui.edu',\n",
       " 'rjlowe@iupui.edu',\n",
       " 'source@collab.sakaiproject.org',\n",
       " 'cwen@iupui.edu',\n",
       " 'cwen@iupui.edu',\n",
       " 'source@collab.sakaiproject.org',\n",
       " 'cwen@iupui.edu',\n",
       " 'cwen@iupui.edu',\n",
       " 'source@collab.sakaiproject.org',\n",
       " 'gsilver@umich.edu',\n",
       " 'gsilver@umich.edu',\n",
       " 'source@collab.sakaiproject.org',\n",
       " 'gsilver@umich.edu',\n",
       " 'gsilver@umich.edu',\n",
       " 'source@collab.sakaiproject.org',\n",
       " 'zqian@umich.edu',\n",
       " 'zqian@umich.edu',\n",
       " 'source@collab.sakaiproject.org',\n",
       " 'gsilver@umich.edu',\n",
       " 'gsilver@umich.edu',\n",
       " 'source@collab.sakaiproject.org',\n",
       " 'wagnermr@iupui.edu',\n",
       " 'wagnermr@iupui.edu',\n",
       " 'source@collab.sakaiproject.org',\n",
       " 'zqian@umich.edu',\n",
       " 'zqian@umich.edu',\n",
       " 'source@collab.sakaiproject.org',\n",
       " 'antranig@caret.cam.ac.uk',\n",
       " 'antranig@caret.cam.ac.uk',\n",
       " 'source@collab.sakaiproject.org',\n",
       " 'gopal.ramasammycook@gmail.com',\n",
       " 'gopal.ramasammycook@gmail.com',\n",
       " 'source@collab.sakaiproject.org',\n",
       " 'david.horwitz@uct.ac.za',\n",
       " 'david.horwitz@uct.ac.za',\n",
       " 'source@collab.sakaiproject.org',\n",
       " 'david.horwitz@uct.ac.za',\n",
       " 'david.horwitz@uct.ac.za',\n",
       " 'source@collab.sakaiproject.org',\n",
       " 'david.horwitz@uct.ac.za',\n",
       " 'david.horwitz@uct.ac.za',\n",
       " 'source@collab.sakaiproject.org',\n",
       " 'david.horwitz@uct.ac.za',\n",
       " 'david.horwitz@uct.ac.za',\n",
       " 'source@collab.sakaiproject.org',\n",
       " 'stephen.marquard@uct.ac.za',\n",
       " 'stephen.marquard@uct.ac.za',\n",
       " 'source@collab.sakaiproject.org',\n",
       " 'louis@media.berkeley.edu',\n",
       " 'louis@media.berkeley.edu',\n",
       " 'source@collab.sakaiproject.org',\n",
       " 'louis@media.berkeley.edu',\n",
       " 'louis@media.berkeley.edu',\n",
       " 'source@collab.sakaiproject.org',\n",
       " 'ray@media.berkeley.edu',\n",
       " 'ray@media.berkeley.edu',\n",
       " 'source@collab.sakaiproject.org',\n",
       " 'cwen@iupui.edu',\n",
       " 'cwen@iupui.edu',\n",
       " 'source@collab.sakaiproject.org',\n",
       " 'cwen@iupui.edu',\n",
       " 'cwen@iupui.edu',\n",
       " 'source@collab.sakaiproject.org',\n",
       " 'cwen@iupui.edu',\n",
       " 'cwen@iupui.edu']"
      ]
     },
     "execution_count": 63,
     "metadata": {},
     "output_type": "execute_result"
    }
   ],
   "source": [
    "# Mengambil dari yang to dan from juga\n",
    "re.findall(r'(?:Author|To|From): ([\\w.+-]+@[\\w.]+\\.[\\w.]+)', text)"
   ]
  },
  {
   "cell_type": "code",
   "execution_count": 73,
   "metadata": {},
   "outputs": [
    {
     "data": {
      "text/plain": [
       "{'antranig@caret.cam.ac.uk',\n",
       " 'cwen@iupui.edu',\n",
       " 'david.horwitz@uct.ac.za',\n",
       " 'gopal.ramasammycook@gmail.com',\n",
       " 'gsilver@umich.edu',\n",
       " 'louis@media.berkeley.edu',\n",
       " 'ray@media.berkeley.edu',\n",
       " 'rjlowe@iupui.edu',\n",
       " 'source@collab.sakaiproject.org',\n",
       " 'stephen.marquard@uct.ac.za',\n",
       " 'wagnermr@iupui.edu',\n",
       " 'zqian@umich.edu'}"
      ]
     },
     "execution_count": 73,
     "metadata": {},
     "output_type": "execute_result"
    }
   ],
   "source": [
    "# Email unik\n",
    "x = set(re.findall(r'(?:Author|To|From): ([\\w.+-]+@[\\w.]+\\.[\\w.]+)', text))\n",
    "x"
   ]
  },
  {
   "cell_type": "code",
   "execution_count": 66,
   "metadata": {},
   "outputs": [
    {
     "data": {
      "text/plain": [
       "12"
      ]
     },
     "execution_count": 66,
     "metadata": {},
     "output_type": "execute_result"
    }
   ],
   "source": [
    "len(x)"
   ]
  },
  {
   "cell_type": "markdown",
   "metadata": {},
   "source": [
    "**4. Ambil semua datetime dengan format seperti contoh berikut:**"
   ]
  },
  {
   "cell_type": "markdown",
   "metadata": {},
   "source": [
    "    Contoh: '2008-01-05 09:12:07'"
   ]
  },
  {
   "cell_type": "code",
   "execution_count": 11,
   "metadata": {},
   "outputs": [
    {
     "data": {
      "text/plain": [
       "['2008-01-05 09:12:07',\n",
       " '2008-01-04 18:08:50',\n",
       " '2008-01-04 16:09:01',\n",
       " '2008-01-04 15:44:39',\n",
       " '2008-01-04 15:01:37',\n",
       " '2008-01-04 14:48:37',\n",
       " '2008-01-04 11:35:25',\n",
       " '2007-12-20 15:25:38',\n",
       " '2008-01-04 11:33:05',\n",
       " '2007-12-20 21:26:28',\n",
       " '2008-01-04 11:11:00',\n",
       " '2008-01-04 11:10:04',\n",
       " '2008-01-04 11:09:12',\n",
       " '2008-01-04 11:08:38',\n",
       " '2008-01-04 10:37:04',\n",
       " '2008-01-04 10:15:54',\n",
       " '2008-01-04 10:01:40',\n",
       " '2008-01-04 09:02:54',\n",
       " '2008-01-04 07:00:10',\n",
       " '2008-01-04 13:05:51',\n",
       " '2008-01-04 06:05:51',\n",
       " '2008-01-04 04:47:16',\n",
       " '2007-12-28 23:44:24',\n",
       " '2008-01-04 04:31:35',\n",
       " '2007-12-12 21:40:33',\n",
       " '2008-01-04 04:05:43',\n",
       " '2008-01-03 19:23:46',\n",
       " '2008-01-03 17:16:39',\n",
       " '2008-01-03 17:05:11',\n",
       " '2008-01-03 16:33:02',\n",
       " '2008-01-03 16:27:29',\n",
       " '2007-12-17 17:11:08',\n",
       " '2008-01-03 16:22:14',\n",
       " '2007-09-12 16:17:59']"
      ]
     },
     "execution_count": 11,
     "metadata": {},
     "output_type": "execute_result"
    }
   ],
   "source": [
    "re.findall(r'(\\d{4}-\\d{2}-\\d{2} \\d{2}:\\d{2}:\\d{2})', text)"
   ]
  }
 ],
 "metadata": {
  "interpreter": {
   "hash": "95a19bb7a135a8107af75b765dc097fafc28c1115c0f9727f05dc637904e7be8"
  },
  "kernelspec": {
   "display_name": "Python 3.8.3 ('base')",
   "language": "python",
   "name": "python3"
  },
  "language_info": {
   "codemirror_mode": {
    "name": "ipython",
    "version": 3
   },
   "file_extension": ".py",
   "mimetype": "text/x-python",
   "name": "python",
   "nbconvert_exporter": "python",
   "pygments_lexer": "ipython3",
   "version": "3.8.3"
  },
  "orig_nbformat": 4
 },
 "nbformat": 4,
 "nbformat_minor": 2
}
