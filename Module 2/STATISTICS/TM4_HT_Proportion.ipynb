{
 "cells": [
  {
   "cell_type": "markdown",
   "metadata": {},
   "source": [
    "    Hypothesis Testing for Population Proportion"
   ]
  },
  {
   "cell_type": "markdown",
   "metadata": {},
   "source": [
    "**1. z-test for single population proportion**"
   ]
  },
  {
   "cell_type": "markdown",
   "metadata": {},
   "source": [
    "**Problem statement**\n",
    "\n",
    "Sebuah survey mengklaim bahwa 9 dari 10 dokter merekomendasikan sebuah obat untuk orang yang penyakit maag.<br>\n",
    "Untuk menguji klaim tersebut, dilakukan sebuah simple random sampling dengan jumlah sample sebanyak 100 dokter.<br>\n",
    "Dari 100 dokter ini, 82 dokter mengindikasikan bahwa mereka merekomendasikan obat maag ini. \n",
    "\n",
    "**Question**\n",
    "\n",
    "Apakah claim tersebut benar? Gunakan confidence level 95% untuk mengujinya."
   ]
  },
  {
   "cell_type": "markdown",
   "metadata": {},
   "source": [
    "Solution:\n",
    "\n",
    "Define Null and Alternative Hypotheses\n",
    "\n",
    "Ho: p = 0.90<br>\n",
    "Ha: p ≠ 0.90\n",
    "\n",
    "Here alpha = 0.05. Using an alpha of 0.05 with a two-tailed test, we would expect our distribution to look something like this:\n",
    "\n",
    "\n",
    "Here we have 0.025 in each tail. Looking up 1 - 0.025 in our z-table, we find a critical value of 1.96. Thus, our decision rule for this two-tailed test is: \n",
    "\n",
    "**If Z is less than -1.96, or greater than 1.96, reject the null hypothesis**. \n",
    "\n",
    "Calculate Test Statistic:\n",
    "\n",
    "z = test statistic\n",
    "\n",
    "p_hat = 0.82<br>\n",
    "po = 0.90<br>\n",
    "n = 100\n",
    "\n",
    "z = (p_hat - po) / sqrt((po*(1-po))/n)\n",
    "  = -0.08 / 0.03\n",
    "  = -2.667\n",
    "\n",
    "As z = -2.667, thus we should reject the null hypothesis. Therefore, the claim that 9 out of 10 doctors recommend medicine for their patients is not accurate, since z = -2.667, p < 0.05."
   ]
  },
  {
   "cell_type": "markdown",
   "metadata": {},
   "source": [
    "**2. Problem statement**\n",
    "\n",
    "Seorang CEO dari perusahaan internet mengklaim bahwa 80% dari 1 juta customer-nya sangat puas dengan pelayanan yang didapatkan.<br>\n",
    "Untuk menguji klaim dari CEO tersebut, sebuah lembaga survey melakukan survey terhadap 100 customers menggunakan simple random sampling.<br>\n",
    "Dari hasil sampling, 73% mengatakan bahwa mereka puas dengan pelayanan yang didapatkan.<br>\n",
    "\n",
    "**Question**\n",
    "\n",
    "Berdasarkan hasil sampling tersebut, dapatkah kita menolak klaim CEO yang menyatakan bahwa 80% customers-nya sangatlah puas?<br>\n",
    "Gunakan confidence level 95% untuk membuktikannya melalui uji statistik."
   ]
  },
  {
   "cell_type": "code",
   "execution_count": 3,
   "metadata": {},
   "outputs": [
    {
     "name": "stdout",
     "output_type": "stream",
     "text": [
      "There are 80% of customers who are satisfied with the internet company's service.\n"
     ]
    }
   ],
   "source": [
    "from statsmodels.stats.proportion import proportions_ztest\n",
    "\n",
    "p_0 = 0.8 # claimed satisfaction rate\n",
    "n = 100 # sample size\n",
    "N = 1000000 # population size?\n",
    "p_observed = 0.73\n",
    "n_satisfied = n * p_observed\n",
    "\n",
    "# H0: there are 80% of customers who are satisfied with the internet company's service (p = 0.8)\n",
    "# H1: there aren't 80% of customers who are satisfied with the internet company's service (p != 0.8) (two-sided)\n",
    "\n",
    "# alternatives:\n",
    "# H1: there are less than 80% of customers who are satisfied with the internet company's service (p < 0.8) (one-sided)\n",
    "# H1: there are more than 80% of customers who are satisfied with the internet company's service (p > 0.8) (one-sided)\n",
    "\n",
    "alpha = 0.05\n",
    "test_statistic, pvalue = proportions_ztest(n_satisfied, n, p_0, alternative='two-sided')\n",
    "\n",
    "if pvalue <= alpha:\n",
    "    print(\"There aren't 80% of customers who are satisfied with the internet company's service.\")\n",
    "else:\n",
    "    print(\"There are 80% of customers who are satisfied with the internet company's service.\")"
   ]
  }
 ],
 "metadata": {
  "interpreter": {
   "hash": "95a19bb7a135a8107af75b765dc097fafc28c1115c0f9727f05dc637904e7be8"
  },
  "kernelspec": {
   "display_name": "Python 3.9.7 ('base')",
   "language": "python",
   "name": "python3"
  },
  "language_info": {
   "codemirror_mode": {
    "name": "ipython",
    "version": 3
   },
   "file_extension": ".py",
   "mimetype": "text/x-python",
   "name": "python",
   "nbconvert_exporter": "python",
   "pygments_lexer": "ipython3",
   "version": "3.9.7"
  },
  "orig_nbformat": 4
 },
 "nbformat": 4,
 "nbformat_minor": 2
}
