{
 "cells": [
  {
   "cell_type": "markdown",
   "metadata": {},
   "source": [
    "**Inferential Statistics Exercise 1**"
   ]
  },
  {
   "cell_type": "code",
   "execution_count": 1,
   "metadata": {},
   "outputs": [],
   "source": [
    "# Import libraries\n",
    "import pandas as pd\n",
    "import numpy as np\n",
    "import seaborn as sns"
   ]
  },
  {
   "cell_type": "markdown",
   "metadata": {},
   "source": [
    "### **1.**"
   ]
  },
  {
   "cell_type": "markdown",
   "metadata": {},
   "source": [
    "Let us say that the single best way to protect against the flu is to be vaccinated. Traditionally, flu vaccines are manufactured using viruses grown in chicken eggs. A new method allows growing viruses in cell cultures instead. To test the effectiveness of such vaccines, in a recent clinical trial n = 3900 randomly selected healthy subjects aged 18–49 received a cell-derived influenza vaccine by injection. \n",
    "\n",
    "During a follow-up period of approximately 28 weeks, each subject was assessed whether he or she developed influenza, which happened for 26 of the 3900 subjects.\n",
    "\n",
    "**Questions:**\n",
    "> a. Find a 99% confidence interval for the population proportion developing the flu over the follow-up period. (Here, the population is all 18- to 49-year-old people vaccinated with the cell-derived vaccine.)<br><br>\n",
    "> b. How does it compare to the 95% confidence interval?"
   ]
  },
  {
   "cell_type": "markdown",
   "metadata": {},
   "source": [
    "    Solution"
   ]
  },
  {
   "cell_type": "markdown",
   "metadata": {},
   "source": [
    "**a.**\n",
    "\n",
    "The assumptions for the method are satisfied in that the sample was randomly selected, and there were at least 15 successes and 15 failures (26 developing the flu, 3874 not developing it). The sample proportion developing the flu is:\n",
    "\n",
    "    p-hat = 26/3900 = 0.0067. \n",
    "    \n",
    "The standard error is:\n",
    "\n",
    "se = sqrt(p-hat(1 - p-hat)/n)\n",
    "   = sqrt(0.0067(1 - 0.0067)/3900)\n",
    "   = sqrt(0.0067*0.9933/3900)\n",
    "   = 0.0013\n",
    "\n",
    "The 99% confidence interval is:\n",
    "\n",
    "= p-hat +- 2.58(se)\n",
    "= 0.0067 +- 2.58(0.0013)\n",
    "= 0.0067 +- 0.0034 or (0.003, 0.0010)\n",
    "\n",
    "In other words, we can be 99% confident that between 0.3% and 1% of those vaccinated with the new method will develop the flu."
   ]
  },
  {
   "cell_type": "code",
   "execution_count": 2,
   "metadata": {},
   "outputs": [
    {
     "data": {
      "text/plain": [
       "0.0013063071849830964"
      ]
     },
     "execution_count": 2,
     "metadata": {},
     "output_type": "execute_result"
    }
   ],
   "source": [
    "# Standard error\n",
    "se = np.sqrt(0.0067*(1 - 0.0067)/3900)\n",
    "se"
   ]
  },
  {
   "cell_type": "code",
   "execution_count": 3,
   "metadata": {},
   "outputs": [
    {
     "data": {
      "text/plain": [
       "0.003370272537256389"
      ]
     },
     "execution_count": 3,
     "metadata": {},
     "output_type": "execute_result"
    }
   ],
   "source": [
    "# Margin of error 99%\n",
    "margin_99 = se * 2.58\n",
    "margin_99"
   ]
  },
  {
   "cell_type": "markdown",
   "metadata": {},
   "source": [
    "**b.**\n",
    "\n",
    "The 95% confidence interval is:\n",
    "\n",
    "= 0.0053 +- 1.96(0.0013)\n",
    "= 0.0053 +- 0.0025 or (0.004, 0.009)\n",
    "\n",
    "Confidence level:\n",
    "- 99% --> (0.003, 0.0010)\n",
    "- 95% --> (0.004, 0.009)\n",
    "\n",
    "The 95% confidence level interval is a bit narrower than the 99%."
   ]
  },
  {
   "cell_type": "code",
   "execution_count": 4,
   "metadata": {},
   "outputs": [
    {
     "data": {
      "text/plain": [
       "0.0025603620825668688"
      ]
     },
     "execution_count": 4,
     "metadata": {},
     "output_type": "execute_result"
    }
   ],
   "source": [
    "# Margin of error 95%\n",
    "margin_95 = 1.96 * se\n",
    "margin_95"
   ]
  },
  {
   "cell_type": "markdown",
   "metadata": {},
   "source": [
    "#### **2.**"
   ]
  },
  {
   "cell_type": "markdown",
   "metadata": {},
   "source": [
    "Let us say that eCommerce A is a popular Internet company for auctioning just about anything.<br>\n",
    "How much can you save by buying items on eCommerce A compared to their actual retail price? <br>\n",
    "Following is a random sample of 11 completed auctions for an Apple iPhone X with 64GB storage in new condition (i.e., item not used, but original packaging might be missing).\n",
    "\n",
    "- Closing Price (in $): 570, 620, 610, 590, 540, 590, 565, 590, 580, 570, 595\n",
    "\n",
    "**Questions:**<br>\n",
    ">a. Use numerical summaries and graphical displays to check the assumptions for using these data to find a 95% confidence interval for the mean closing price on eCommerce A.<br><br>\n",
    ">b. Find the 95% confidence interval and interpret it. Is there significant savings considering the $649 retail price of the iPhone X?"
   ]
  },
  {
   "cell_type": "markdown",
   "metadata": {},
   "source": [
    "    Use the all_cars dataset to answer the following questions"
   ]
  },
  {
   "cell_type": "code",
   "execution_count": 5,
   "metadata": {},
   "outputs": [
    {
     "data": {
      "text/html": [
       "<div>\n",
       "<style scoped>\n",
       "    .dataframe tbody tr th:only-of-type {\n",
       "        vertical-align: middle;\n",
       "    }\n",
       "\n",
       "    .dataframe tbody tr th {\n",
       "        vertical-align: top;\n",
       "    }\n",
       "\n",
       "    .dataframe thead th {\n",
       "        text-align: right;\n",
       "    }\n",
       "</style>\n",
       "<table border=\"1\" class=\"dataframe\">\n",
       "  <thead>\n",
       "    <tr style=\"text-align: right;\">\n",
       "      <th></th>\n",
       "      <th>iPhone X Price</th>\n",
       "    </tr>\n",
       "  </thead>\n",
       "  <tbody>\n",
       "    <tr>\n",
       "      <th>0</th>\n",
       "      <td>570</td>\n",
       "    </tr>\n",
       "    <tr>\n",
       "      <th>1</th>\n",
       "      <td>620</td>\n",
       "    </tr>\n",
       "    <tr>\n",
       "      <th>2</th>\n",
       "      <td>610</td>\n",
       "    </tr>\n",
       "    <tr>\n",
       "      <th>3</th>\n",
       "      <td>590</td>\n",
       "    </tr>\n",
       "    <tr>\n",
       "      <th>4</th>\n",
       "      <td>540</td>\n",
       "    </tr>\n",
       "    <tr>\n",
       "      <th>5</th>\n",
       "      <td>590</td>\n",
       "    </tr>\n",
       "    <tr>\n",
       "      <th>6</th>\n",
       "      <td>565</td>\n",
       "    </tr>\n",
       "    <tr>\n",
       "      <th>7</th>\n",
       "      <td>590</td>\n",
       "    </tr>\n",
       "    <tr>\n",
       "      <th>8</th>\n",
       "      <td>580</td>\n",
       "    </tr>\n",
       "    <tr>\n",
       "      <th>9</th>\n",
       "      <td>570</td>\n",
       "    </tr>\n",
       "    <tr>\n",
       "      <th>10</th>\n",
       "      <td>595</td>\n",
       "    </tr>\n",
       "  </tbody>\n",
       "</table>\n",
       "</div>"
      ],
      "text/plain": [
       "    iPhone X Price\n",
       "0              570\n",
       "1              620\n",
       "2              610\n",
       "3              590\n",
       "4              540\n",
       "5              590\n",
       "6              565\n",
       "7              590\n",
       "8              580\n",
       "9              570\n",
       "10             595"
      ]
     },
     "execution_count": 5,
     "metadata": {},
     "output_type": "execute_result"
    }
   ],
   "source": [
    "# Create a DataFrame\n",
    "data = [570, 620, 610, 590, 540, 590, 565, 590, 580, 570, 595]\n",
    "\n",
    "df = pd.DataFrame(data, columns=['iPhone X Price'])\n",
    "df\n"
   ]
  },
  {
   "cell_type": "markdown",
   "metadata": {},
   "source": [
    "**a.**"
   ]
  },
  {
   "cell_type": "code",
   "execution_count": 6,
   "metadata": {},
   "outputs": [
    {
     "data": {
      "text/html": [
       "<div>\n",
       "<style scoped>\n",
       "    .dataframe tbody tr th:only-of-type {\n",
       "        vertical-align: middle;\n",
       "    }\n",
       "\n",
       "    .dataframe tbody tr th {\n",
       "        vertical-align: top;\n",
       "    }\n",
       "\n",
       "    .dataframe thead th {\n",
       "        text-align: right;\n",
       "    }\n",
       "</style>\n",
       "<table border=\"1\" class=\"dataframe\">\n",
       "  <thead>\n",
       "    <tr style=\"text-align: right;\">\n",
       "      <th></th>\n",
       "      <th>iPhone X Price</th>\n",
       "    </tr>\n",
       "  </thead>\n",
       "  <tbody>\n",
       "    <tr>\n",
       "      <th>count</th>\n",
       "      <td>11.000000</td>\n",
       "    </tr>\n",
       "    <tr>\n",
       "      <th>mean</th>\n",
       "      <td>583.636364</td>\n",
       "    </tr>\n",
       "    <tr>\n",
       "      <th>std</th>\n",
       "      <td>22.146208</td>\n",
       "    </tr>\n",
       "    <tr>\n",
       "      <th>min</th>\n",
       "      <td>540.000000</td>\n",
       "    </tr>\n",
       "    <tr>\n",
       "      <th>25%</th>\n",
       "      <td>570.000000</td>\n",
       "    </tr>\n",
       "    <tr>\n",
       "      <th>50%</th>\n",
       "      <td>590.000000</td>\n",
       "    </tr>\n",
       "    <tr>\n",
       "      <th>75%</th>\n",
       "      <td>592.500000</td>\n",
       "    </tr>\n",
       "    <tr>\n",
       "      <th>max</th>\n",
       "      <td>620.000000</td>\n",
       "    </tr>\n",
       "  </tbody>\n",
       "</table>\n",
       "</div>"
      ],
      "text/plain": [
       "       iPhone X Price\n",
       "count       11.000000\n",
       "mean       583.636364\n",
       "std         22.146208\n",
       "min        540.000000\n",
       "25%        570.000000\n",
       "50%        590.000000\n",
       "75%        592.500000\n",
       "max        620.000000"
      ]
     },
     "execution_count": 6,
     "metadata": {},
     "output_type": "execute_result"
    }
   ],
   "source": [
    "# Descriptive statistics of sample\n",
    "df.describe()"
   ]
  },
  {
   "cell_type": "code",
   "execution_count": 44,
   "metadata": {},
   "outputs": [
    {
     "data": {
      "image/png": "[encoded data removed]",
      "text/plain": [
       "<Figure size 432x288 with 1 Axes>"
      ]
     },
     "metadata": {
      "needs_background": "light"
     },
     "output_type": "display_data"
    }
   ],
   "source": [
    "# Box-plot of sample data\n",
    "sns.boxplot(df['iPhone X Price']);"
   ]
  },
  {
   "cell_type": "code",
   "execution_count": 46,
   "metadata": {},
   "outputs": [
    {
     "data": {
      "image/png": "[encoded data removed]",
      "text/plain": [
       "<Figure size 432x288 with 1 Axes>"
      ]
     },
     "metadata": {
      "needs_background": "light"
     },
     "output_type": "display_data"
    }
   ],
   "source": [
    "# Histogram of sample data\n",
    "df.plot.hist();"
   ]
  },
  {
   "cell_type": "markdown",
   "metadata": {},
   "source": [
    "    According to the boxplot, we see that the shape of the distribution may be slightly skewed to the left but not too far from symmetric. Please note that it is hard to tell much with only 11 observations. \n",
    "\n",
    "- The mean closing price for these 11 auctions was $584, close to the median of $590. - The lowest price was $540 and is not shown as an outlier on the box plot. \n",
    "- The z-score for this observation is -1.97, so it is within two standard deviations of the mean. \n",
    "- The assumptions for using the t distribution are that the data come from a random sample and that the distribution of the final auction price is approximately normal. - Although these 11 observations can be regarded as a random sample from the population of all possible closing prices for iPhones X posted for sale on eCommerce A in the given time period, checking that they roughly follow a normal model is more difficult. \n",
    "- With just 11 observations, box plots or histograms are not very informative about the true shape. However, the box plot doesn’t show an outlier, so we can proceed with the analysis as the assumptions are not violated.\n"
   ]
  },
  {
   "cell_type": "markdown",
   "metadata": {},
   "source": [
    "**b.**"
   ]
  },
  {
   "cell_type": "markdown",
   "metadata": {},
   "source": [
    "As mu denote the population mean for the closing price of the auction, thus we can use the the sample mean of 11 observations as the point estimate of mu.\n",
    "\n",
    "x_bar = 583.64\n",
    "s = 22.15\n",
    "n = 11\n",
    "\n",
    "se = s/sqrt(n)\n",
    "   = 22.15/sqrt(n)\n",
    "   = 6.68\n",
    "\n",
    "Because n = 11, the degrees of freedom to use for the t-score are:<br>\n",
    "df = n - 1<br>\n",
    "df = 11 - 1<br>\n",
    "df = 10\n",
    "\n",
    "Now, we take a look the t-table. For a 95% confidence level, we use t.025 = 2.228.\n",
    "Then, we can calculate the 95% confidence interval as follows:\n",
    "\n",
    "ci = x_bar +- t.025(se)<br>\n",
    "ci = 583.64 +- 2.228*6.68<br>\n",
    "ci = 583.64 +- 14.88 or (568.8, 598.5)\n",
    "\n",
    "\n",
    "    Conclusion\n",
    "\n",
    "With 95% confidence, the range of price of the iPhone X posted for sale on eCommere A in new condition is between $569 and $599. We can conclude that even the upper bound is $50 below the retail price of $649.\n",
    "\n",
    "Thus, we can save at least $50 when buying the phone from eCommerce A."
   ]
  },
  {
   "cell_type": "code",
   "execution_count": 8,
   "metadata": {},
   "outputs": [
    {
     "data": {
      "text/plain": [
       "6.6784762823974635"
      ]
     },
     "execution_count": 8,
     "metadata": {},
     "output_type": "execute_result"
    }
   ],
   "source": [
    "# SE\n",
    "\n",
    "x_bar = 583.64\n",
    "s = 22.15\n",
    "n = 11\n",
    "\n",
    "se_iphone = s/np.sqrt(n)\n",
    "se_iphone"
   ]
  },
  {
   "cell_type": "markdown",
   "metadata": {},
   "source": [
    "### **3.**"
   ]
  },
  {
   "cell_type": "markdown",
   "metadata": {},
   "source": [
    "Are automatic cars from Hyundai and Toyota having the same mean price? Prove it with the statistical test!"
   ]
  },
  {
   "cell_type": "code",
   "execution_count": 9,
   "metadata": {},
   "outputs": [
    {
     "data": {
      "text/html": [
       "<div>\n",
       "<style scoped>\n",
       "    .dataframe tbody tr th:only-of-type {\n",
       "        vertical-align: middle;\n",
       "    }\n",
       "\n",
       "    .dataframe tbody tr th {\n",
       "        vertical-align: top;\n",
       "    }\n",
       "\n",
       "    .dataframe thead th {\n",
       "        text-align: right;\n",
       "    }\n",
       "</style>\n",
       "<table border=\"1\" class=\"dataframe\">\n",
       "  <thead>\n",
       "    <tr style=\"text-align: right;\">\n",
       "      <th></th>\n",
       "      <th>brand</th>\n",
       "      <th>model</th>\n",
       "      <th>year</th>\n",
       "      <th>price</th>\n",
       "      <th>transmission</th>\n",
       "      <th>mileage</th>\n",
       "      <th>fuelType</th>\n",
       "      <th>tax</th>\n",
       "      <th>mpg</th>\n",
       "      <th>engineSize</th>\n",
       "    </tr>\n",
       "  </thead>\n",
       "  <tbody>\n",
       "    <tr>\n",
       "      <th>0</th>\n",
       "      <td>Audi</td>\n",
       "      <td>A1</td>\n",
       "      <td>2017</td>\n",
       "      <td>12500</td>\n",
       "      <td>Manual</td>\n",
       "      <td>15735</td>\n",
       "      <td>Petrol</td>\n",
       "      <td>150</td>\n",
       "      <td>55.4</td>\n",
       "      <td>1.4</td>\n",
       "    </tr>\n",
       "    <tr>\n",
       "      <th>1</th>\n",
       "      <td>Audi</td>\n",
       "      <td>A6</td>\n",
       "      <td>2016</td>\n",
       "      <td>16500</td>\n",
       "      <td>Automatic</td>\n",
       "      <td>36203</td>\n",
       "      <td>Diesel</td>\n",
       "      <td>20</td>\n",
       "      <td>64.2</td>\n",
       "      <td>2.0</td>\n",
       "    </tr>\n",
       "    <tr>\n",
       "      <th>2</th>\n",
       "      <td>Audi</td>\n",
       "      <td>A1</td>\n",
       "      <td>2016</td>\n",
       "      <td>11000</td>\n",
       "      <td>Manual</td>\n",
       "      <td>29946</td>\n",
       "      <td>Petrol</td>\n",
       "      <td>30</td>\n",
       "      <td>55.4</td>\n",
       "      <td>1.4</td>\n",
       "    </tr>\n",
       "    <tr>\n",
       "      <th>3</th>\n",
       "      <td>Audi</td>\n",
       "      <td>A4</td>\n",
       "      <td>2017</td>\n",
       "      <td>16800</td>\n",
       "      <td>Automatic</td>\n",
       "      <td>25952</td>\n",
       "      <td>Diesel</td>\n",
       "      <td>145</td>\n",
       "      <td>67.3</td>\n",
       "      <td>2.0</td>\n",
       "    </tr>\n",
       "    <tr>\n",
       "      <th>4</th>\n",
       "      <td>Audi</td>\n",
       "      <td>A3</td>\n",
       "      <td>2019</td>\n",
       "      <td>17300</td>\n",
       "      <td>Manual</td>\n",
       "      <td>1998</td>\n",
       "      <td>Petrol</td>\n",
       "      <td>145</td>\n",
       "      <td>49.6</td>\n",
       "      <td>1.0</td>\n",
       "    </tr>\n",
       "  </tbody>\n",
       "</table>\n",
       "</div>"
      ],
      "text/plain": [
       "  brand model  year  price transmission  mileage fuelType  tax   mpg  \\\n",
       "0  Audi    A1  2017  12500       Manual    15735   Petrol  150  55.4   \n",
       "1  Audi    A6  2016  16500    Automatic    36203   Diesel   20  64.2   \n",
       "2  Audi    A1  2016  11000       Manual    29946   Petrol   30  55.4   \n",
       "3  Audi    A4  2017  16800    Automatic    25952   Diesel  145  67.3   \n",
       "4  Audi    A3  2019  17300       Manual     1998   Petrol  145  49.6   \n",
       "\n",
       "   engineSize  \n",
       "0         1.4  \n",
       "1         2.0  \n",
       "2         1.4  \n",
       "3         2.0  \n",
       "4         1.0  "
      ]
     },
     "execution_count": 9,
     "metadata": {},
     "output_type": "execute_result"
    }
   ],
   "source": [
    "df_car = pd.read_csv('all_cars.csv').drop(columns='Unnamed: 0')\n",
    "df_car.head()"
   ]
  },
  {
   "cell_type": "markdown",
   "metadata": {},
   "source": [
    "Firstly, we need to define the Ho and Ha.\n",
    "- Ho: Hyundai = Toyota\n",
    "- Ha: Hyundai != Toyota"
   ]
  },
  {
   "cell_type": "code",
   "execution_count": 10,
   "metadata": {},
   "outputs": [
    {
     "data": {
      "text/html": [
       "<div>\n",
       "<style scoped>\n",
       "    .dataframe tbody tr th:only-of-type {\n",
       "        vertical-align: middle;\n",
       "    }\n",
       "\n",
       "    .dataframe tbody tr th {\n",
       "        vertical-align: top;\n",
       "    }\n",
       "\n",
       "    .dataframe thead th {\n",
       "        text-align: right;\n",
       "    }\n",
       "</style>\n",
       "<table border=\"1\" class=\"dataframe\">\n",
       "  <thead>\n",
       "    <tr style=\"text-align: right;\">\n",
       "      <th></th>\n",
       "      <th>brand</th>\n",
       "      <th>model</th>\n",
       "      <th>year</th>\n",
       "      <th>price</th>\n",
       "      <th>transmission</th>\n",
       "      <th>mileage</th>\n",
       "      <th>fuelType</th>\n",
       "      <th>tax</th>\n",
       "      <th>mpg</th>\n",
       "      <th>engineSize</th>\n",
       "    </tr>\n",
       "  </thead>\n",
       "  <tbody>\n",
       "    <tr>\n",
       "      <th>10669</th>\n",
       "      <td>Hyundai</td>\n",
       "      <td>Tucson</td>\n",
       "      <td>2016</td>\n",
       "      <td>14499</td>\n",
       "      <td>Automatic</td>\n",
       "      <td>25233</td>\n",
       "      <td>Diesel</td>\n",
       "      <td>235</td>\n",
       "      <td>43.5</td>\n",
       "      <td>2.0</td>\n",
       "    </tr>\n",
       "    <tr>\n",
       "      <th>10675</th>\n",
       "      <td>Hyundai</td>\n",
       "      <td>Tucson</td>\n",
       "      <td>2016</td>\n",
       "      <td>14199</td>\n",
       "      <td>Automatic</td>\n",
       "      <td>30300</td>\n",
       "      <td>Diesel</td>\n",
       "      <td>125</td>\n",
       "      <td>57.6</td>\n",
       "      <td>1.7</td>\n",
       "    </tr>\n",
       "    <tr>\n",
       "      <th>10676</th>\n",
       "      <td>Hyundai</td>\n",
       "      <td>I30</td>\n",
       "      <td>2018</td>\n",
       "      <td>10399</td>\n",
       "      <td>Automatic</td>\n",
       "      <td>38082</td>\n",
       "      <td>Petrol</td>\n",
       "      <td>145</td>\n",
       "      <td>51.4</td>\n",
       "      <td>1.4</td>\n",
       "    </tr>\n",
       "    <tr>\n",
       "      <th>10697</th>\n",
       "      <td>Hyundai</td>\n",
       "      <td>Tucson</td>\n",
       "      <td>2016</td>\n",
       "      <td>15800</td>\n",
       "      <td>Automatic</td>\n",
       "      <td>20025</td>\n",
       "      <td>Diesel</td>\n",
       "      <td>125</td>\n",
       "      <td>57.6</td>\n",
       "      <td>1.7</td>\n",
       "    </tr>\n",
       "    <tr>\n",
       "      <th>10698</th>\n",
       "      <td>Hyundai</td>\n",
       "      <td>Ioniq</td>\n",
       "      <td>2018</td>\n",
       "      <td>15000</td>\n",
       "      <td>Automatic</td>\n",
       "      <td>32227</td>\n",
       "      <td>Hybrid</td>\n",
       "      <td>135</td>\n",
       "      <td>78.5</td>\n",
       "      <td>1.6</td>\n",
       "    </tr>\n",
       "    <tr>\n",
       "      <th>...</th>\n",
       "      <td>...</td>\n",
       "      <td>...</td>\n",
       "      <td>...</td>\n",
       "      <td>...</td>\n",
       "      <td>...</td>\n",
       "      <td>...</td>\n",
       "      <td>...</td>\n",
       "      <td>...</td>\n",
       "      <td>...</td>\n",
       "      <td>...</td>\n",
       "    </tr>\n",
       "    <tr>\n",
       "      <th>22250</th>\n",
       "      <td>Toyota</td>\n",
       "      <td>Camry</td>\n",
       "      <td>2019</td>\n",
       "      <td>25990</td>\n",
       "      <td>Automatic</td>\n",
       "      <td>10732</td>\n",
       "      <td>Hybrid</td>\n",
       "      <td>135</td>\n",
       "      <td>52.3</td>\n",
       "      <td>2.5</td>\n",
       "    </tr>\n",
       "    <tr>\n",
       "      <th>22253</th>\n",
       "      <td>Toyota</td>\n",
       "      <td>Verso-S</td>\n",
       "      <td>2012</td>\n",
       "      <td>5795</td>\n",
       "      <td>Automatic</td>\n",
       "      <td>61237</td>\n",
       "      <td>Petrol</td>\n",
       "      <td>30</td>\n",
       "      <td>54.3</td>\n",
       "      <td>1.3</td>\n",
       "    </tr>\n",
       "    <tr>\n",
       "      <th>22254</th>\n",
       "      <td>Toyota</td>\n",
       "      <td>IQ</td>\n",
       "      <td>2009</td>\n",
       "      <td>3995</td>\n",
       "      <td>Automatic</td>\n",
       "      <td>27292</td>\n",
       "      <td>Petrol</td>\n",
       "      <td>20</td>\n",
       "      <td>60.1</td>\n",
       "      <td>1.0</td>\n",
       "    </tr>\n",
       "    <tr>\n",
       "      <th>22259</th>\n",
       "      <td>Toyota</td>\n",
       "      <td>IQ</td>\n",
       "      <td>2011</td>\n",
       "      <td>5995</td>\n",
       "      <td>Automatic</td>\n",
       "      <td>29000</td>\n",
       "      <td>Petrol</td>\n",
       "      <td>20</td>\n",
       "      <td>58.9</td>\n",
       "      <td>1.0</td>\n",
       "    </tr>\n",
       "    <tr>\n",
       "      <th>22261</th>\n",
       "      <td>Toyota</td>\n",
       "      <td>IQ</td>\n",
       "      <td>2011</td>\n",
       "      <td>5500</td>\n",
       "      <td>Automatic</td>\n",
       "      <td>30000</td>\n",
       "      <td>Petrol</td>\n",
       "      <td>20</td>\n",
       "      <td>58.9</td>\n",
       "      <td>1.0</td>\n",
       "    </tr>\n",
       "  </tbody>\n",
       "</table>\n",
       "<p>3326 rows × 10 columns</p>\n",
       "</div>"
      ],
      "text/plain": [
       "         brand    model  year  price transmission  mileage fuelType  tax  \\\n",
       "10669  Hyundai   Tucson  2016  14499    Automatic    25233   Diesel  235   \n",
       "10675  Hyundai   Tucson  2016  14199    Automatic    30300   Diesel  125   \n",
       "10676  Hyundai      I30  2018  10399    Automatic    38082   Petrol  145   \n",
       "10697  Hyundai   Tucson  2016  15800    Automatic    20025   Diesel  125   \n",
       "10698  Hyundai    Ioniq  2018  15000    Automatic    32227   Hybrid  135   \n",
       "...        ...      ...   ...    ...          ...      ...      ...  ...   \n",
       "22250   Toyota    Camry  2019  25990    Automatic    10732   Hybrid  135   \n",
       "22253   Toyota  Verso-S  2012   5795    Automatic    61237   Petrol   30   \n",
       "22254   Toyota       IQ  2009   3995    Automatic    27292   Petrol   20   \n",
       "22259   Toyota       IQ  2011   5995    Automatic    29000   Petrol   20   \n",
       "22261   Toyota       IQ  2011   5500    Automatic    30000   Petrol   20   \n",
       "\n",
       "        mpg  engineSize  \n",
       "10669  43.5         2.0  \n",
       "10675  57.6         1.7  \n",
       "10676  51.4         1.4  \n",
       "10697  57.6         1.7  \n",
       "10698  78.5         1.6  \n",
       "...     ...         ...  \n",
       "22250  52.3         2.5  \n",
       "22253  54.3         1.3  \n",
       "22254  60.1         1.0  \n",
       "22259  58.9         1.0  \n",
       "22261  58.9         1.0  \n",
       "\n",
       "[3326 rows x 10 columns]"
      ]
     },
     "execution_count": 10,
     "metadata": {},
     "output_type": "execute_result"
    }
   ],
   "source": [
    "# Create a subset DataFrame containing only Hyundai and Toyota\n",
    "df_HT = df_car[(df_car['transmission']=='Automatic') & (df_car['brand'].isin(['Hyundai', 'Toyota']))]\n",
    "df_HT"
   ]
  },
  {
   "cell_type": "code",
   "execution_count": 11,
   "metadata": {},
   "outputs": [
    {
     "data": {
      "text/html": [
       "<div>\n",
       "<style scoped>\n",
       "    .dataframe tbody tr th:only-of-type {\n",
       "        vertical-align: middle;\n",
       "    }\n",
       "\n",
       "    .dataframe tbody tr th {\n",
       "        vertical-align: top;\n",
       "    }\n",
       "\n",
       "    .dataframe thead th {\n",
       "        text-align: right;\n",
       "    }\n",
       "</style>\n",
       "<table border=\"1\" class=\"dataframe\">\n",
       "  <thead>\n",
       "    <tr style=\"text-align: right;\">\n",
       "      <th></th>\n",
       "      <th>brand</th>\n",
       "      <th>transmission</th>\n",
       "      <th>price</th>\n",
       "    </tr>\n",
       "  </thead>\n",
       "  <tbody>\n",
       "    <tr>\n",
       "      <th>0</th>\n",
       "      <td>Hyundai</td>\n",
       "      <td>Automatic</td>\n",
       "      <td>15998.0</td>\n",
       "    </tr>\n",
       "    <tr>\n",
       "      <th>1</th>\n",
       "      <td>Toyota</td>\n",
       "      <td>Automatic</td>\n",
       "      <td>14999.0</td>\n",
       "    </tr>\n",
       "  </tbody>\n",
       "</table>\n",
       "</div>"
      ],
      "text/plain": [
       "     brand transmission    price\n",
       "0  Hyundai    Automatic  15998.0\n",
       "1   Toyota    Automatic  14999.0"
      ]
     },
     "execution_count": 11,
     "metadata": {},
     "output_type": "execute_result"
    }
   ],
   "source": [
    "# Check the median price of each brand\n",
    "df_HT.groupby(['brand', 'transmission'], as_index=False).median()[['brand', 'transmission', 'price']]"
   ]
  },
  {
   "cell_type": "code",
   "execution_count": 12,
   "metadata": {},
   "outputs": [
    {
     "data": {
      "text/html": [
       "<div>\n",
       "<style scoped>\n",
       "    .dataframe tbody tr th:only-of-type {\n",
       "        vertical-align: middle;\n",
       "    }\n",
       "\n",
       "    .dataframe tbody tr th {\n",
       "        vertical-align: top;\n",
       "    }\n",
       "\n",
       "    .dataframe thead th {\n",
       "        text-align: right;\n",
       "    }\n",
       "</style>\n",
       "<table border=\"1\" class=\"dataframe\">\n",
       "  <thead>\n",
       "    <tr style=\"text-align: right;\">\n",
       "      <th></th>\n",
       "      <th>brand</th>\n",
       "      <th>transmission</th>\n",
       "      <th>price</th>\n",
       "    </tr>\n",
       "  </thead>\n",
       "  <tbody>\n",
       "    <tr>\n",
       "      <th>0</th>\n",
       "      <td>Hyundai</td>\n",
       "      <td>Automatic</td>\n",
       "      <td>16369.224215</td>\n",
       "    </tr>\n",
       "    <tr>\n",
       "      <th>1</th>\n",
       "      <td>Toyota</td>\n",
       "      <td>Automatic</td>\n",
       "      <td>16582.828754</td>\n",
       "    </tr>\n",
       "  </tbody>\n",
       "</table>\n",
       "</div>"
      ],
      "text/plain": [
       "     brand transmission         price\n",
       "0  Hyundai    Automatic  16369.224215\n",
       "1   Toyota    Automatic  16582.828754"
      ]
     },
     "execution_count": 12,
     "metadata": {},
     "output_type": "execute_result"
    }
   ],
   "source": [
    "# Check the mean price of each brand\n",
    "df_HT.groupby(['brand', 'transmission'], as_index=False).mean()[['brand', 'transmission', 'price']]"
   ]
  },
  {
   "cell_type": "code",
   "execution_count": 13,
   "metadata": {},
   "outputs": [
    {
     "name": "stdout",
     "output_type": "stream",
     "text": [
      "Hypothesis\n",
      "Ho: The sample data is normally distributed\n",
      "Ha: The sample data is not normally distributed\n",
      "p-value = 0.00000\n",
      "p-value <= 0.05, Reject Ho\n"
     ]
    }
   ],
   "source": [
    "# Normality test by using Shapiro Wilk method\n",
    "from scipy.stats import shapiro\n",
    "\n",
    "print('Hypothesis')\n",
    "print('Ho: The sample data is normally distributed')\n",
    "print('Ha: The sample data is not normally distributed')\n",
    "\n",
    "stat, pval_shapiro1 = shapiro(df_HT['price'])\n",
    "\n",
    "print(f'p-value = {pval_shapiro1:.5f}')\n",
    "\n",
    "if pval_shapiro1 < 0.05:\n",
    "    print (f'p-value <= 0.05, Reject Ho')\n",
    "else :\n",
    "    print (f'p-value >  0.05, Failed to reject Ho')"
   ]
  },
  {
   "cell_type": "code",
   "execution_count": 38,
   "metadata": {},
   "outputs": [
    {
     "data": {
      "image/png": "[encoded data removed]",
      "text/plain": [
       "<Figure size 360x360 with 1 Axes>"
      ]
     },
     "metadata": {
      "needs_background": "light"
     },
     "output_type": "display_data"
    }
   ],
   "source": [
    "sns.displot(df_HT[df_HT['brand']=='Hyundai']['price']);"
   ]
  },
  {
   "cell_type": "code",
   "execution_count": 37,
   "metadata": {},
   "outputs": [
    {
     "data": {
      "image/png": "[encoded data removed]",
      "text/plain": [
       "<Figure size 360x360 with 1 Axes>"
      ]
     },
     "metadata": {
      "needs_background": "light"
     },
     "output_type": "display_data"
    }
   ],
   "source": [
    "sns.displot(df_HT[df_HT['brand']=='Toyota']['price']);"
   ]
  },
  {
   "cell_type": "markdown",
   "metadata": {},
   "source": [
    "Both of groups data do not follow the normal distribution pattern. Thus, the most proper way to do the hypothesis testing is using the non-parametric method. However, as we have not learned it yet, just assume that the data distribution follows the normal distribution."
   ]
  },
  {
   "cell_type": "code",
   "execution_count": 16,
   "metadata": {},
   "outputs": [
    {
     "data": {
      "text/plain": [
       "44431372.32390376"
      ]
     },
     "execution_count": 16,
     "metadata": {},
     "output_type": "execute_result"
    }
   ],
   "source": [
    "# Variance of Hyundai automatic\n",
    "df_HT[df_HT['brand']=='Hyundai']['price'].var()"
   ]
  },
  {
   "cell_type": "code",
   "execution_count": 17,
   "metadata": {},
   "outputs": [
    {
     "data": {
      "text/plain": [
       "40081611.93564868"
      ]
     },
     "execution_count": 17,
     "metadata": {},
     "output_type": "execute_result"
    }
   ],
   "source": [
    "# Variance of Toyota automatic\n",
    "df_HT[df_HT['brand']=='Toyota']['price'].var()"
   ]
  },
  {
   "cell_type": "code",
   "execution_count": 18,
   "metadata": {},
   "outputs": [
    {
     "name": "stdout",
     "output_type": "stream",
     "text": [
      "Hypothesis\n",
      "Ho: Mean price of automatic Hyundai = mean price of automatic Toyota\n",
      "Ha: Mean price of automatic Hyundai ≠ mean price of automatic Toyota\n",
      "p-value = 0.45450\n",
      "p-value > 0.05, Failed to reject Ho\n"
     ]
    }
   ],
   "source": [
    "# Statistical test with t-test independence for double population mean\n",
    "from scipy.stats import ttest_ind\n",
    "\n",
    "print('Hypothesis')\n",
    "print('Ho: Mean price of automatic Hyundai = mean price of automatic Toyota')\n",
    "print('Ha: Mean price of automatic Hyundai ≠ mean price of automatic Toyota')\n",
    "\n",
    "stat, pval = ttest_ind(\n",
    "    df_HT[df_HT['brand']=='Hyundai']['price'],\n",
    "    df_HT[df_HT['brand']=='Toyota']['price'], \n",
    "    equal_var=False\n",
    ")\n",
    "\n",
    "print(f'p-value = {pval:.5f}')\n",
    "\n",
    "if pval < 0.05:\n",
    "    print (f'p-value <= 0.05, Reject Ho')\n",
    "else :\n",
    "    print (f'p-value > 0.05, Failed to reject Ho')"
   ]
  },
  {
   "cell_type": "markdown",
   "metadata": {},
   "source": [
    "    Conclusion\n",
    "According to the statistical test, we failed to reject the null hypothesis as we have no enough evidence to reject it (p-value is larger than alpha). In other words, the mean price of Hyundai and Toyota automatic car is not significantly different."
   ]
  },
  {
   "cell_type": "markdown",
   "metadata": {},
   "source": [
    "### **4.**"
   ]
  },
  {
   "cell_type": "markdown",
   "metadata": {},
   "source": [
    "Is the mean mileage of all brands produced in 2019 the same? Prove it with the statistical test!"
   ]
  },
  {
   "cell_type": "code",
   "execution_count": 19,
   "metadata": {},
   "outputs": [
    {
     "data": {
      "text/html": [
       "<div>\n",
       "<style scoped>\n",
       "    .dataframe tbody tr th:only-of-type {\n",
       "        vertical-align: middle;\n",
       "    }\n",
       "\n",
       "    .dataframe tbody tr th {\n",
       "        vertical-align: top;\n",
       "    }\n",
       "\n",
       "    .dataframe thead th {\n",
       "        text-align: right;\n",
       "    }\n",
       "</style>\n",
       "<table border=\"1\" class=\"dataframe\">\n",
       "  <thead>\n",
       "    <tr style=\"text-align: right;\">\n",
       "      <th></th>\n",
       "      <th>brand</th>\n",
       "      <th>model</th>\n",
       "      <th>year</th>\n",
       "      <th>price</th>\n",
       "      <th>transmission</th>\n",
       "      <th>mileage</th>\n",
       "      <th>fuelType</th>\n",
       "      <th>tax</th>\n",
       "      <th>mpg</th>\n",
       "      <th>engineSize</th>\n",
       "    </tr>\n",
       "  </thead>\n",
       "  <tbody>\n",
       "    <tr>\n",
       "      <th>4</th>\n",
       "      <td>Audi</td>\n",
       "      <td>A3</td>\n",
       "      <td>2019</td>\n",
       "      <td>17300</td>\n",
       "      <td>Manual</td>\n",
       "      <td>1998</td>\n",
       "      <td>Petrol</td>\n",
       "      <td>145</td>\n",
       "      <td>49.6</td>\n",
       "      <td>1.0</td>\n",
       "    </tr>\n",
       "    <tr>\n",
       "      <th>45</th>\n",
       "      <td>Audi</td>\n",
       "      <td>A3</td>\n",
       "      <td>2019</td>\n",
       "      <td>15700</td>\n",
       "      <td>Manual</td>\n",
       "      <td>2029</td>\n",
       "      <td>Petrol</td>\n",
       "      <td>145</td>\n",
       "      <td>49.6</td>\n",
       "      <td>1.0</td>\n",
       "    </tr>\n",
       "    <tr>\n",
       "      <th>74</th>\n",
       "      <td>Audi</td>\n",
       "      <td>A3</td>\n",
       "      <td>2019</td>\n",
       "      <td>16000</td>\n",
       "      <td>Manual</td>\n",
       "      <td>5704</td>\n",
       "      <td>Petrol</td>\n",
       "      <td>145</td>\n",
       "      <td>49.6</td>\n",
       "      <td>1.0</td>\n",
       "    </tr>\n",
       "    <tr>\n",
       "      <th>90</th>\n",
       "      <td>Audi</td>\n",
       "      <td>A3</td>\n",
       "      <td>2019</td>\n",
       "      <td>25499</td>\n",
       "      <td>Semi-Auto</td>\n",
       "      <td>4000</td>\n",
       "      <td>Petrol</td>\n",
       "      <td>145</td>\n",
       "      <td>44.1</td>\n",
       "      <td>1.5</td>\n",
       "    </tr>\n",
       "    <tr>\n",
       "      <th>91</th>\n",
       "      <td>Audi</td>\n",
       "      <td>Q2</td>\n",
       "      <td>2019</td>\n",
       "      <td>25499</td>\n",
       "      <td>Semi-Auto</td>\n",
       "      <td>7897</td>\n",
       "      <td>Diesel</td>\n",
       "      <td>145</td>\n",
       "      <td>47.9</td>\n",
       "      <td>2.0</td>\n",
       "    </tr>\n",
       "    <tr>\n",
       "      <th>...</th>\n",
       "      <td>...</td>\n",
       "      <td>...</td>\n",
       "      <td>...</td>\n",
       "      <td>...</td>\n",
       "      <td>...</td>\n",
       "      <td>...</td>\n",
       "      <td>...</td>\n",
       "      <td>...</td>\n",
       "      <td>...</td>\n",
       "      <td>...</td>\n",
       "    </tr>\n",
       "    <tr>\n",
       "      <th>22246</th>\n",
       "      <td>Toyota</td>\n",
       "      <td>Camry</td>\n",
       "      <td>2019</td>\n",
       "      <td>26491</td>\n",
       "      <td>Automatic</td>\n",
       "      <td>4416</td>\n",
       "      <td>Hybrid</td>\n",
       "      <td>135</td>\n",
       "      <td>52.3</td>\n",
       "      <td>2.5</td>\n",
       "    </tr>\n",
       "    <tr>\n",
       "      <th>22247</th>\n",
       "      <td>Toyota</td>\n",
       "      <td>Camry</td>\n",
       "      <td>2019</td>\n",
       "      <td>27550</td>\n",
       "      <td>Automatic</td>\n",
       "      <td>4189</td>\n",
       "      <td>Hybrid</td>\n",
       "      <td>135</td>\n",
       "      <td>52.3</td>\n",
       "      <td>2.5</td>\n",
       "    </tr>\n",
       "    <tr>\n",
       "      <th>22248</th>\n",
       "      <td>Toyota</td>\n",
       "      <td>Camry</td>\n",
       "      <td>2019</td>\n",
       "      <td>25490</td>\n",
       "      <td>Automatic</td>\n",
       "      <td>6340</td>\n",
       "      <td>Hybrid</td>\n",
       "      <td>135</td>\n",
       "      <td>52.3</td>\n",
       "      <td>2.5</td>\n",
       "    </tr>\n",
       "    <tr>\n",
       "      <th>22249</th>\n",
       "      <td>Toyota</td>\n",
       "      <td>Camry</td>\n",
       "      <td>2019</td>\n",
       "      <td>26990</td>\n",
       "      <td>Automatic</td>\n",
       "      <td>3000</td>\n",
       "      <td>Hybrid</td>\n",
       "      <td>135</td>\n",
       "      <td>52.3</td>\n",
       "      <td>2.5</td>\n",
       "    </tr>\n",
       "    <tr>\n",
       "      <th>22250</th>\n",
       "      <td>Toyota</td>\n",
       "      <td>Camry</td>\n",
       "      <td>2019</td>\n",
       "      <td>25990</td>\n",
       "      <td>Automatic</td>\n",
       "      <td>10732</td>\n",
       "      <td>Hybrid</td>\n",
       "      <td>135</td>\n",
       "      <td>52.3</td>\n",
       "      <td>2.5</td>\n",
       "    </tr>\n",
       "  </tbody>\n",
       "</table>\n",
       "<p>5569 rows × 10 columns</p>\n",
       "</div>"
      ],
      "text/plain": [
       "        brand  model  year  price transmission  mileage fuelType  tax   mpg  \\\n",
       "4        Audi     A3  2019  17300       Manual     1998   Petrol  145  49.6   \n",
       "45       Audi     A3  2019  15700       Manual     2029   Petrol  145  49.6   \n",
       "74       Audi     A3  2019  16000       Manual     5704   Petrol  145  49.6   \n",
       "90       Audi     A3  2019  25499    Semi-Auto     4000   Petrol  145  44.1   \n",
       "91       Audi     Q2  2019  25499    Semi-Auto     7897   Diesel  145  47.9   \n",
       "...       ...    ...   ...    ...          ...      ...      ...  ...   ...   \n",
       "22246  Toyota  Camry  2019  26491    Automatic     4416   Hybrid  135  52.3   \n",
       "22247  Toyota  Camry  2019  27550    Automatic     4189   Hybrid  135  52.3   \n",
       "22248  Toyota  Camry  2019  25490    Automatic     6340   Hybrid  135  52.3   \n",
       "22249  Toyota  Camry  2019  26990    Automatic     3000   Hybrid  135  52.3   \n",
       "22250  Toyota  Camry  2019  25990    Automatic    10732   Hybrid  135  52.3   \n",
       "\n",
       "       engineSize  \n",
       "4             1.0  \n",
       "45            1.0  \n",
       "74            1.0  \n",
       "90            1.5  \n",
       "91            2.0  \n",
       "...           ...  \n",
       "22246         2.5  \n",
       "22247         2.5  \n",
       "22248         2.5  \n",
       "22249         2.5  \n",
       "22250         2.5  \n",
       "\n",
       "[5569 rows x 10 columns]"
      ]
     },
     "execution_count": 19,
     "metadata": {},
     "output_type": "execute_result"
    }
   ],
   "source": [
    "# Create a new DataFrame consisting only cars produced in 2019\n",
    "df_2019 = df_car[df_car['year'] == 2019]\n",
    "df_2019"
   ]
  },
  {
   "cell_type": "code",
   "execution_count": 20,
   "metadata": {},
   "outputs": [
    {
     "data": {
      "text/html": [
       "<div>\n",
       "<style scoped>\n",
       "    .dataframe tbody tr th:only-of-type {\n",
       "        vertical-align: middle;\n",
       "    }\n",
       "\n",
       "    .dataframe tbody tr th {\n",
       "        vertical-align: top;\n",
       "    }\n",
       "\n",
       "    .dataframe thead th {\n",
       "        text-align: right;\n",
       "    }\n",
       "</style>\n",
       "<table border=\"1\" class=\"dataframe\">\n",
       "  <thead>\n",
       "    <tr style=\"text-align: right;\">\n",
       "      <th></th>\n",
       "      <th>mileage</th>\n",
       "    </tr>\n",
       "    <tr>\n",
       "      <th>brand</th>\n",
       "      <th></th>\n",
       "    </tr>\n",
       "  </thead>\n",
       "  <tbody>\n",
       "    <tr>\n",
       "      <th>Audi</th>\n",
       "      <td>5491.362840</td>\n",
       "    </tr>\n",
       "    <tr>\n",
       "      <th>Hyundai</th>\n",
       "      <td>6326.506446</td>\n",
       "    </tr>\n",
       "    <tr>\n",
       "      <th>Toyota</th>\n",
       "      <td>5994.275272</td>\n",
       "    </tr>\n",
       "  </tbody>\n",
       "</table>\n",
       "</div>"
      ],
      "text/plain": [
       "             mileage\n",
       "brand               \n",
       "Audi     5491.362840\n",
       "Hyundai  6326.506446\n",
       "Toyota   5994.275272"
      ]
     },
     "execution_count": 20,
     "metadata": {},
     "output_type": "execute_result"
    }
   ],
   "source": [
    "# Mean of mileage of each brand\n",
    "df_2019.groupby('brand').mean()[['mileage']]"
   ]
  },
  {
   "cell_type": "code",
   "execution_count": 21,
   "metadata": {},
   "outputs": [
    {
     "data": {
      "text/html": [
       "<div>\n",
       "<style scoped>\n",
       "    .dataframe tbody tr th:only-of-type {\n",
       "        vertical-align: middle;\n",
       "    }\n",
       "\n",
       "    .dataframe tbody tr th {\n",
       "        vertical-align: top;\n",
       "    }\n",
       "\n",
       "    .dataframe thead th {\n",
       "        text-align: right;\n",
       "    }\n",
       "</style>\n",
       "<table border=\"1\" class=\"dataframe\">\n",
       "  <thead>\n",
       "    <tr style=\"text-align: right;\">\n",
       "      <th></th>\n",
       "      <th>mileage</th>\n",
       "    </tr>\n",
       "    <tr>\n",
       "      <th>brand</th>\n",
       "      <th></th>\n",
       "    </tr>\n",
       "  </thead>\n",
       "  <tbody>\n",
       "    <tr>\n",
       "      <th>Audi</th>\n",
       "      <td>5000.0</td>\n",
       "    </tr>\n",
       "    <tr>\n",
       "      <th>Hyundai</th>\n",
       "      <td>4989.0</td>\n",
       "    </tr>\n",
       "    <tr>\n",
       "      <th>Toyota</th>\n",
       "      <td>5276.0</td>\n",
       "    </tr>\n",
       "  </tbody>\n",
       "</table>\n",
       "</div>"
      ],
      "text/plain": [
       "         mileage\n",
       "brand           \n",
       "Audi      5000.0\n",
       "Hyundai   4989.0\n",
       "Toyota    5276.0"
      ]
     },
     "execution_count": 21,
     "metadata": {},
     "output_type": "execute_result"
    }
   ],
   "source": [
    "# Median of mileage of each brand\n",
    "df_2019.groupby('brand').median()[['mileage']]"
   ]
  },
  {
   "cell_type": "code",
   "execution_count": 22,
   "metadata": {},
   "outputs": [
    {
     "name": "stdout",
     "output_type": "stream",
     "text": [
      "Hypothesis\n",
      "Ho: The sample data is normally distributed\n",
      "Ha: The sample data is not normally distributed\n",
      "p-value = 0.00000\n",
      "p-value <= 0.05, Reject Ho, data is not normally distributed\n"
     ]
    },
    {
     "name": "stderr",
     "output_type": "stream",
     "text": [
      "C:\\Users\\maulialwan\\anaconda3\\lib\\site-packages\\scipy\\stats\\morestats.py:1760: UserWarning: p-value may not be accurate for N > 5000.\n",
      "  warnings.warn(\"p-value may not be accurate for N > 5000.\")\n"
     ]
    }
   ],
   "source": [
    "# Normality test by using Shapiro Wilk method\n",
    "from scipy.stats import shapiro\n",
    "\n",
    "print('Hypothesis')\n",
    "print('Ho: The sample data is normally distributed')\n",
    "print('Ha: The sample data is not normally distributed')\n",
    "\n",
    "stat, pval_shapiro1 = shapiro(df_2019['mileage'])\n",
    "\n",
    "print(f'p-value = {pval_shapiro1:.5f}')\n",
    "\n",
    "if pval_shapiro1 < 0.05:\n",
    "    print (f'p-value <= 0.05, Reject Ho, data is not normally distributed')\n",
    "else :\n",
    "    print (f'p-value >  0.05, Failed to reject Ho, data is normally distributed')"
   ]
  },
  {
   "cell_type": "markdown",
   "metadata": {},
   "source": [
    "    The above result tells us that the normality test may not be accurate if the sample size is > 5000. If the sample size is greater than 5000, Ho is likely to fail to reject (following the central limit of theorem)."
   ]
  },
  {
   "cell_type": "code",
   "execution_count": 36,
   "metadata": {},
   "outputs": [
    {
     "data": {
      "image/png": "[encoded data removed]",
      "text/plain": [
       "<Figure size 360x360 with 1 Axes>"
      ]
     },
     "metadata": {
      "needs_background": "light"
     },
     "output_type": "display_data"
    }
   ],
   "source": [
    "# Supporting the evidence with graphical plot\n",
    "sns.displot(df_2019['mileage']);"
   ]
  },
  {
   "cell_type": "code",
   "execution_count": 24,
   "metadata": {},
   "outputs": [
    {
     "data": {
      "text/plain": [
       "Audi       3197\n",
       "Toyota     1286\n",
       "Hyundai    1086\n",
       "Name: brand, dtype: int64"
      ]
     },
     "execution_count": 24,
     "metadata": {},
     "output_type": "execute_result"
    }
   ],
   "source": [
    "df_2019['brand'].value_counts()"
   ]
  },
  {
   "cell_type": "code",
   "execution_count": 25,
   "metadata": {},
   "outputs": [
    {
     "name": "stdout",
     "output_type": "stream",
     "text": [
      "Hypothesis\n",
      "Ho: The mean mileage of all brands are the same.\n",
      "Ha: At least two groups are different from each other.\n",
      "p-value = 0.00000\n",
      "p-value <= 0.05, Reject Ho\n"
     ]
    }
   ],
   "source": [
    "# Statistical test of Anova one-way\n",
    "from scipy.stats import f_oneway\n",
    "\n",
    "# Hypothesis\n",
    "print('Hypothesis')\n",
    "print('Ho: The mean mileage of all brands are the same.')\n",
    "print('Ha: At least two groups are different from each other.')\n",
    "\n",
    "# Anova one-way\n",
    "stat, pval = f_oneway(\n",
    "    df_2019[df_2019['brand']=='Audi']['mileage'],\n",
    "    df_2019[df_2019['brand']=='Hyundai']['mileage'],\n",
    "    df_2019[df_2019['brand']=='Toyota']['mileage'] \n",
    ")\n",
    "\n",
    "# p-value\n",
    "print(f'p-value = {pval:.5f}')\n",
    "\n",
    "if pval < 0.05:\n",
    "    print (f'p-value <= 0.05, Reject Ho')\n",
    "else:\n",
    "    print (f'p-value >  0.05, Failed to reject Ho')"
   ]
  },
  {
   "cell_type": "markdown",
   "metadata": {},
   "source": [
    "    Conclusion\n",
    "\n",
    "Using Anova one-way test, we can infer that at least two groups have different mean mileage from each other, but we do not know which one. "
   ]
  },
  {
   "cell_type": "markdown",
   "metadata": {},
   "source": [
    "    Use the 'mpg' dataset from seaborn for following question."
   ]
  },
  {
   "cell_type": "markdown",
   "metadata": {},
   "source": [
    "### **5.**"
   ]
  },
  {
   "cell_type": "markdown",
   "metadata": {},
   "source": [
    "Are the mean weight of cars from the USA, Europe, and Japan the same? Prove it with the proper statistical method!"
   ]
  },
  {
   "cell_type": "code",
   "execution_count": 30,
   "metadata": {},
   "outputs": [
    {
     "data": {
      "text/html": [
       "<div>\n",
       "<style scoped>\n",
       "    .dataframe tbody tr th:only-of-type {\n",
       "        vertical-align: middle;\n",
       "    }\n",
       "\n",
       "    .dataframe tbody tr th {\n",
       "        vertical-align: top;\n",
       "    }\n",
       "\n",
       "    .dataframe thead th {\n",
       "        text-align: right;\n",
       "    }\n",
       "</style>\n",
       "<table border=\"1\" class=\"dataframe\">\n",
       "  <thead>\n",
       "    <tr style=\"text-align: right;\">\n",
       "      <th></th>\n",
       "      <th>mpg</th>\n",
       "      <th>cylinders</th>\n",
       "      <th>displacement</th>\n",
       "      <th>horsepower</th>\n",
       "      <th>weight</th>\n",
       "      <th>acceleration</th>\n",
       "      <th>model_year</th>\n",
       "      <th>origin</th>\n",
       "      <th>name</th>\n",
       "    </tr>\n",
       "  </thead>\n",
       "  <tbody>\n",
       "    <tr>\n",
       "      <th>0</th>\n",
       "      <td>18.0</td>\n",
       "      <td>8</td>\n",
       "      <td>307.0</td>\n",
       "      <td>130.0</td>\n",
       "      <td>3504</td>\n",
       "      <td>12.0</td>\n",
       "      <td>70</td>\n",
       "      <td>usa</td>\n",
       "      <td>chevrolet chevelle malibu</td>\n",
       "    </tr>\n",
       "    <tr>\n",
       "      <th>1</th>\n",
       "      <td>15.0</td>\n",
       "      <td>8</td>\n",
       "      <td>350.0</td>\n",
       "      <td>165.0</td>\n",
       "      <td>3693</td>\n",
       "      <td>11.5</td>\n",
       "      <td>70</td>\n",
       "      <td>usa</td>\n",
       "      <td>buick skylark 320</td>\n",
       "    </tr>\n",
       "    <tr>\n",
       "      <th>2</th>\n",
       "      <td>18.0</td>\n",
       "      <td>8</td>\n",
       "      <td>318.0</td>\n",
       "      <td>150.0</td>\n",
       "      <td>3436</td>\n",
       "      <td>11.0</td>\n",
       "      <td>70</td>\n",
       "      <td>usa</td>\n",
       "      <td>plymouth satellite</td>\n",
       "    </tr>\n",
       "    <tr>\n",
       "      <th>3</th>\n",
       "      <td>16.0</td>\n",
       "      <td>8</td>\n",
       "      <td>304.0</td>\n",
       "      <td>150.0</td>\n",
       "      <td>3433</td>\n",
       "      <td>12.0</td>\n",
       "      <td>70</td>\n",
       "      <td>usa</td>\n",
       "      <td>amc rebel sst</td>\n",
       "    </tr>\n",
       "    <tr>\n",
       "      <th>4</th>\n",
       "      <td>17.0</td>\n",
       "      <td>8</td>\n",
       "      <td>302.0</td>\n",
       "      <td>140.0</td>\n",
       "      <td>3449</td>\n",
       "      <td>10.5</td>\n",
       "      <td>70</td>\n",
       "      <td>usa</td>\n",
       "      <td>ford torino</td>\n",
       "    </tr>\n",
       "  </tbody>\n",
       "</table>\n",
       "</div>"
      ],
      "text/plain": [
       "    mpg  cylinders  displacement  horsepower  weight  acceleration  \\\n",
       "0  18.0          8         307.0       130.0    3504          12.0   \n",
       "1  15.0          8         350.0       165.0    3693          11.5   \n",
       "2  18.0          8         318.0       150.0    3436          11.0   \n",
       "3  16.0          8         304.0       150.0    3433          12.0   \n",
       "4  17.0          8         302.0       140.0    3449          10.5   \n",
       "\n",
       "   model_year origin                       name  \n",
       "0          70    usa  chevrolet chevelle malibu  \n",
       "1          70    usa          buick skylark 320  \n",
       "2          70    usa         plymouth satellite  \n",
       "3          70    usa              amc rebel sst  \n",
       "4          70    usa                ford torino  "
      ]
     },
     "execution_count": 30,
     "metadata": {},
     "output_type": "execute_result"
    }
   ],
   "source": [
    "df_mpg = sns.load_dataset('mpg')\n",
    "df_mpg.head()"
   ]
  },
  {
   "cell_type": "code",
   "execution_count": 33,
   "metadata": {},
   "outputs": [
    {
     "data": {
      "text/html": [
       "<div>\n",
       "<style scoped>\n",
       "    .dataframe tbody tr th:only-of-type {\n",
       "        vertical-align: middle;\n",
       "    }\n",
       "\n",
       "    .dataframe tbody tr th {\n",
       "        vertical-align: top;\n",
       "    }\n",
       "\n",
       "    .dataframe thead th {\n",
       "        text-align: right;\n",
       "    }\n",
       "</style>\n",
       "<table border=\"1\" class=\"dataframe\">\n",
       "  <thead>\n",
       "    <tr style=\"text-align: right;\">\n",
       "      <th></th>\n",
       "      <th>weight</th>\n",
       "    </tr>\n",
       "    <tr>\n",
       "      <th>origin</th>\n",
       "      <th></th>\n",
       "    </tr>\n",
       "  </thead>\n",
       "  <tbody>\n",
       "    <tr>\n",
       "      <th>europe</th>\n",
       "      <td>2423.300000</td>\n",
       "    </tr>\n",
       "    <tr>\n",
       "      <th>japan</th>\n",
       "      <td>2221.227848</td>\n",
       "    </tr>\n",
       "    <tr>\n",
       "      <th>usa</th>\n",
       "      <td>3361.931727</td>\n",
       "    </tr>\n",
       "  </tbody>\n",
       "</table>\n",
       "</div>"
      ],
      "text/plain": [
       "             weight\n",
       "origin             \n",
       "europe  2423.300000\n",
       "japan   2221.227848\n",
       "usa     3361.931727"
      ]
     },
     "execution_count": 33,
     "metadata": {},
     "output_type": "execute_result"
    }
   ],
   "source": [
    "# Mean of weight of each brand\n",
    "df_mpg.groupby('origin').mean()[['weight']]"
   ]
  },
  {
   "cell_type": "code",
   "execution_count": 47,
   "metadata": {},
   "outputs": [
    {
     "data": {
      "image/png": "[encoded data removed]",
      "text/plain": [
       "<Figure size 360x360 with 1 Axes>"
      ]
     },
     "metadata": {
      "needs_background": "light"
     },
     "output_type": "display_data"
    }
   ],
   "source": [
    "# Distribution plot of weight\n",
    "sns.displot(df_mpg['weight']);"
   ]
  },
  {
   "cell_type": "code",
   "execution_count": 34,
   "metadata": {},
   "outputs": [
    {
     "name": "stdout",
     "output_type": "stream",
     "text": [
      "Hypothesis\n",
      "Ho: The sample data is normally distributed\n",
      "Ha: The sample data is not normally distributed\n",
      "p-value = 0.00000\n",
      "p-value <= 0.05, Reject Ho, data is not normally distributed\n"
     ]
    }
   ],
   "source": [
    "# Normality test by using Shapiro Wilk method\n",
    "from scipy.stats import shapiro\n",
    "\n",
    "print('Hypothesis')\n",
    "print('Ho: The sample data is normally distributed')\n",
    "print('Ha: The sample data is not normally distributed')\n",
    "\n",
    "stat, pval_shapiro1 = shapiro(df_mpg['weight'])\n",
    "\n",
    "print(f'p-value = {pval_shapiro1:.5f}')\n",
    "\n",
    "if pval_shapiro1 < 0.05:\n",
    "    print (f'p-value <= 0.05, Reject Ho, data is not normally distributed')\n",
    "else :\n",
    "    print (f'p-value >  0.05, Failed to reject Ho, data is normally distributed')"
   ]
  },
  {
   "cell_type": "code",
   "execution_count": 35,
   "metadata": {},
   "outputs": [
    {
     "name": "stdout",
     "output_type": "stream",
     "text": [
      "Hypothesis\n",
      "Ho: The mean weight of all brands are the same.\n",
      "Ha: At least two groups are different from each other.\n",
      "p-value = 0.00000\n",
      "p-value <= 0.05, Reject Ho\n"
     ]
    }
   ],
   "source": [
    "# Statistical test of Anova one-way\n",
    "from scipy.stats import f_oneway\n",
    "\n",
    "# Hypothesis\n",
    "print('Hypothesis')\n",
    "print('Ho: The mean weight of all brands are the same.')\n",
    "print('Ha: At least two groups are different from each other.')\n",
    "\n",
    "# Anova one-way\n",
    "stat, pval = f_oneway(\n",
    "    df_mpg[df_mpg['origin']=='usa']['weight'],\n",
    "    df_mpg[df_mpg['origin']=='europe']['weight'],\n",
    "    df_mpg[df_mpg['origin']=='japan']['weight'] \n",
    ")\n",
    "\n",
    "# p-value\n",
    "print(f'p-value = {pval:.5f}')\n",
    "\n",
    "if pval < 0.05:\n",
    "    print (f'p-value <= 0.05, Reject Ho')\n",
    "else:\n",
    "    print (f'p-value > 0.05, Failed to reject Ho')"
   ]
  },
  {
   "cell_type": "markdown",
   "metadata": {},
   "source": [
    "    Conclusion\n",
    "\n",
    "Using Anova one-way test, as p-value is less than alpha, we can infer that at least two groups have different mean weight from each other, but we do not know which one."
   ]
  }
 ],
 "metadata": {
  "interpreter": {
   "hash": "95a19bb7a135a8107af75b765dc097fafc28c1115c0f9727f05dc637904e7be8"
  },
  "kernelspec": {
   "display_name": "Python 3.8.3 ('base')",
   "language": "python",
   "name": "python3"
  },
  "language_info": {
   "codemirror_mode": {
    "name": "ipython",
    "version": 3
   },
   "file_extension": ".py",
   "mimetype": "text/x-python",
   "name": "python",
   "nbconvert_exporter": "python",
   "pygments_lexer": "ipython3",
   "version": "3.9.7"
  },
  "orig_nbformat": 4
 },
 "nbformat": 4,
 "nbformat_minor": 2
}
