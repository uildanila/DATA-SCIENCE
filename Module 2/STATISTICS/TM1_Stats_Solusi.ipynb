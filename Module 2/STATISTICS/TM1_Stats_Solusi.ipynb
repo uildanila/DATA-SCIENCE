{
 "cells": [
  {
   "cell_type": "markdown",
   "metadata": {},
   "source": [
    "#### **Descriptive Statistics**"
   ]
  },
  {
   "cell_type": "code",
   "execution_count": 1,
   "metadata": {},
   "outputs": [],
   "source": [
    "# Import libraries\n",
    "import numpy as np \n",
    "import pandas as pd \n",
    "import seaborn as sns\n",
    "import scipy.stats as stats\n",
    "\n",
    "# Menghilangkan future warning\n",
    "np.warnings.filterwarnings('ignore')"
   ]
  },
  {
   "cell_type": "markdown",
   "metadata": {},
   "source": [
    "1. Load dataset df_car.csv yang telah kamu buat pada Latihan TM5 Python Data Analysis, lalu simpan dalam variabel bernama 'df_car'.\n",
    "- Jika ada kolom bernama 'Unnamed: 0', ubah nama kolom tersebut menjadi 'id'!\n",
    "- Jika tidak ada, lakukan reset index. Kemudian kolom paling kiri bernama 'index' ubah\n",
    "menjadi 'id'!"
   ]
  },
  {
   "cell_type": "code",
   "execution_count": 2,
   "metadata": {},
   "outputs": [
    {
     "data": {
      "text/html": [
       "<div>\n",
       "<style scoped>\n",
       "    .dataframe tbody tr th:only-of-type {\n",
       "        vertical-align: middle;\n",
       "    }\n",
       "\n",
       "    .dataframe tbody tr th {\n",
       "        vertical-align: top;\n",
       "    }\n",
       "\n",
       "    .dataframe thead th {\n",
       "        text-align: right;\n",
       "    }\n",
       "</style>\n",
       "<table border=\"1\" class=\"dataframe\">\n",
       "  <thead>\n",
       "    <tr style=\"text-align: right;\">\n",
       "      <th></th>\n",
       "      <th>Unnamed: 0</th>\n",
       "      <th>brand</th>\n",
       "      <th>model</th>\n",
       "      <th>year</th>\n",
       "      <th>price</th>\n",
       "      <th>transmission</th>\n",
       "      <th>mileage</th>\n",
       "      <th>fuelType</th>\n",
       "      <th>tax</th>\n",
       "      <th>mpg</th>\n",
       "      <th>engineSize</th>\n",
       "    </tr>\n",
       "  </thead>\n",
       "  <tbody>\n",
       "    <tr>\n",
       "      <th>0</th>\n",
       "      <td>0</td>\n",
       "      <td>Audi</td>\n",
       "      <td>A1</td>\n",
       "      <td>2017</td>\n",
       "      <td>12500</td>\n",
       "      <td>Manual</td>\n",
       "      <td>15735</td>\n",
       "      <td>Petrol</td>\n",
       "      <td>150</td>\n",
       "      <td>55.4</td>\n",
       "      <td>1.4</td>\n",
       "    </tr>\n",
       "    <tr>\n",
       "      <th>1</th>\n",
       "      <td>1</td>\n",
       "      <td>Audi</td>\n",
       "      <td>A6</td>\n",
       "      <td>2016</td>\n",
       "      <td>16500</td>\n",
       "      <td>Automatic</td>\n",
       "      <td>36203</td>\n",
       "      <td>Diesel</td>\n",
       "      <td>20</td>\n",
       "      <td>64.2</td>\n",
       "      <td>2.0</td>\n",
       "    </tr>\n",
       "    <tr>\n",
       "      <th>2</th>\n",
       "      <td>2</td>\n",
       "      <td>Audi</td>\n",
       "      <td>A1</td>\n",
       "      <td>2016</td>\n",
       "      <td>11000</td>\n",
       "      <td>Manual</td>\n",
       "      <td>29946</td>\n",
       "      <td>Petrol</td>\n",
       "      <td>30</td>\n",
       "      <td>55.4</td>\n",
       "      <td>1.4</td>\n",
       "    </tr>\n",
       "    <tr>\n",
       "      <th>3</th>\n",
       "      <td>3</td>\n",
       "      <td>Audi</td>\n",
       "      <td>A4</td>\n",
       "      <td>2017</td>\n",
       "      <td>16800</td>\n",
       "      <td>Automatic</td>\n",
       "      <td>25952</td>\n",
       "      <td>Diesel</td>\n",
       "      <td>145</td>\n",
       "      <td>67.3</td>\n",
       "      <td>2.0</td>\n",
       "    </tr>\n",
       "    <tr>\n",
       "      <th>4</th>\n",
       "      <td>4</td>\n",
       "      <td>Audi</td>\n",
       "      <td>A3</td>\n",
       "      <td>2019</td>\n",
       "      <td>17300</td>\n",
       "      <td>Manual</td>\n",
       "      <td>1998</td>\n",
       "      <td>Petrol</td>\n",
       "      <td>145</td>\n",
       "      <td>49.6</td>\n",
       "      <td>1.0</td>\n",
       "    </tr>\n",
       "  </tbody>\n",
       "</table>\n",
       "</div>"
      ],
      "text/plain": [
       "   Unnamed: 0 brand model  year  price transmission  mileage fuelType  tax  \\\n",
       "0           0  Audi    A1  2017  12500       Manual    15735   Petrol  150   \n",
       "1           1  Audi    A6  2016  16500    Automatic    36203   Diesel   20   \n",
       "2           2  Audi    A1  2016  11000       Manual    29946   Petrol   30   \n",
       "3           3  Audi    A4  2017  16800    Automatic    25952   Diesel  145   \n",
       "4           4  Audi    A3  2019  17300       Manual     1998   Petrol  145   \n",
       "\n",
       "    mpg  engineSize  \n",
       "0  55.4         1.4  \n",
       "1  64.2         2.0  \n",
       "2  55.4         1.4  \n",
       "3  67.3         2.0  \n",
       "4  49.6         1.0  "
      ]
     },
     "execution_count": 2,
     "metadata": {},
     "output_type": "execute_result"
    }
   ],
   "source": [
    "# Load dataset: all_cars.csv\n",
    "df_car = pd.read_csv('all_cars.csv')\n",
    "df_car.head()"
   ]
  },
  {
   "cell_type": "code",
   "execution_count": 3,
   "metadata": {},
   "outputs": [
    {
     "data": {
      "text/html": [
       "<div>\n",
       "<style scoped>\n",
       "    .dataframe tbody tr th:only-of-type {\n",
       "        vertical-align: middle;\n",
       "    }\n",
       "\n",
       "    .dataframe tbody tr th {\n",
       "        vertical-align: top;\n",
       "    }\n",
       "\n",
       "    .dataframe thead th {\n",
       "        text-align: right;\n",
       "    }\n",
       "</style>\n",
       "<table border=\"1\" class=\"dataframe\">\n",
       "  <thead>\n",
       "    <tr style=\"text-align: right;\">\n",
       "      <th></th>\n",
       "      <th>id</th>\n",
       "      <th>brand</th>\n",
       "      <th>model</th>\n",
       "      <th>year</th>\n",
       "      <th>price</th>\n",
       "      <th>transmission</th>\n",
       "      <th>mileage</th>\n",
       "      <th>fuelType</th>\n",
       "      <th>tax</th>\n",
       "      <th>mpg</th>\n",
       "      <th>engineSize</th>\n",
       "    </tr>\n",
       "  </thead>\n",
       "  <tbody>\n",
       "    <tr>\n",
       "      <th>0</th>\n",
       "      <td>0</td>\n",
       "      <td>Audi</td>\n",
       "      <td>A1</td>\n",
       "      <td>2017</td>\n",
       "      <td>12500</td>\n",
       "      <td>Manual</td>\n",
       "      <td>15735</td>\n",
       "      <td>Petrol</td>\n",
       "      <td>150</td>\n",
       "      <td>55.4</td>\n",
       "      <td>1.4</td>\n",
       "    </tr>\n",
       "    <tr>\n",
       "      <th>1</th>\n",
       "      <td>1</td>\n",
       "      <td>Audi</td>\n",
       "      <td>A6</td>\n",
       "      <td>2016</td>\n",
       "      <td>16500</td>\n",
       "      <td>Automatic</td>\n",
       "      <td>36203</td>\n",
       "      <td>Diesel</td>\n",
       "      <td>20</td>\n",
       "      <td>64.2</td>\n",
       "      <td>2.0</td>\n",
       "    </tr>\n",
       "    <tr>\n",
       "      <th>2</th>\n",
       "      <td>2</td>\n",
       "      <td>Audi</td>\n",
       "      <td>A1</td>\n",
       "      <td>2016</td>\n",
       "      <td>11000</td>\n",
       "      <td>Manual</td>\n",
       "      <td>29946</td>\n",
       "      <td>Petrol</td>\n",
       "      <td>30</td>\n",
       "      <td>55.4</td>\n",
       "      <td>1.4</td>\n",
       "    </tr>\n",
       "    <tr>\n",
       "      <th>3</th>\n",
       "      <td>3</td>\n",
       "      <td>Audi</td>\n",
       "      <td>A4</td>\n",
       "      <td>2017</td>\n",
       "      <td>16800</td>\n",
       "      <td>Automatic</td>\n",
       "      <td>25952</td>\n",
       "      <td>Diesel</td>\n",
       "      <td>145</td>\n",
       "      <td>67.3</td>\n",
       "      <td>2.0</td>\n",
       "    </tr>\n",
       "    <tr>\n",
       "      <th>4</th>\n",
       "      <td>4</td>\n",
       "      <td>Audi</td>\n",
       "      <td>A3</td>\n",
       "      <td>2019</td>\n",
       "      <td>17300</td>\n",
       "      <td>Manual</td>\n",
       "      <td>1998</td>\n",
       "      <td>Petrol</td>\n",
       "      <td>145</td>\n",
       "      <td>49.6</td>\n",
       "      <td>1.0</td>\n",
       "    </tr>\n",
       "  </tbody>\n",
       "</table>\n",
       "</div>"
      ],
      "text/plain": [
       "   id brand model  year  price transmission  mileage fuelType  tax   mpg  \\\n",
       "0   0  Audi    A1  2017  12500       Manual    15735   Petrol  150  55.4   \n",
       "1   1  Audi    A6  2016  16500    Automatic    36203   Diesel   20  64.2   \n",
       "2   2  Audi    A1  2016  11000       Manual    29946   Petrol   30  55.4   \n",
       "3   3  Audi    A4  2017  16800    Automatic    25952   Diesel  145  67.3   \n",
       "4   4  Audi    A3  2019  17300       Manual     1998   Petrol  145  49.6   \n",
       "\n",
       "   engineSize  \n",
       "0         1.4  \n",
       "1         2.0  \n",
       "2         1.4  \n",
       "3         2.0  \n",
       "4         1.0  "
      ]
     },
     "execution_count": 3,
     "metadata": {},
     "output_type": "execute_result"
    }
   ],
   "source": [
    "# Rename kolom pertama\n",
    "df_car.rename(columns={'Unnamed: 0': 'id'}, inplace=True)\n",
    "df_car.head()"
   ]
  },
  {
   "cell_type": "markdown",
   "metadata": {},
   "source": [
    "2. Tampilkan deskripsi statistik dari dataset df_car. Apa yang dapat kamu simpulkan dari deskripsi statistik data kamu tersebut?"
   ]
  },
  {
   "cell_type": "code",
   "execution_count": 4,
   "metadata": {},
   "outputs": [
    {
     "data": {
      "text/html": [
       "<div>\n",
       "<style scoped>\n",
       "    .dataframe tbody tr th:only-of-type {\n",
       "        vertical-align: middle;\n",
       "    }\n",
       "\n",
       "    .dataframe tbody tr th {\n",
       "        vertical-align: top;\n",
       "    }\n",
       "\n",
       "    .dataframe thead th {\n",
       "        text-align: right;\n",
       "    }\n",
       "</style>\n",
       "<table border=\"1\" class=\"dataframe\">\n",
       "  <thead>\n",
       "    <tr style=\"text-align: right;\">\n",
       "      <th></th>\n",
       "      <th>id</th>\n",
       "      <th>brand</th>\n",
       "      <th>model</th>\n",
       "      <th>year</th>\n",
       "      <th>price</th>\n",
       "      <th>transmission</th>\n",
       "      <th>mileage</th>\n",
       "      <th>fuelType</th>\n",
       "      <th>tax</th>\n",
       "      <th>mpg</th>\n",
       "      <th>engineSize</th>\n",
       "    </tr>\n",
       "  </thead>\n",
       "  <tbody>\n",
       "    <tr>\n",
       "      <th>count</th>\n",
       "      <td>22266.000000</td>\n",
       "      <td>22266</td>\n",
       "      <td>22266</td>\n",
       "      <td>22266.000000</td>\n",
       "      <td>22266.000000</td>\n",
       "      <td>22266</td>\n",
       "      <td>22266.000000</td>\n",
       "      <td>22266</td>\n",
       "      <td>22266.000000</td>\n",
       "      <td>22266.000000</td>\n",
       "      <td>22266.000000</td>\n",
       "    </tr>\n",
       "    <tr>\n",
       "      <th>unique</th>\n",
       "      <td>NaN</td>\n",
       "      <td>3</td>\n",
       "      <td>60</td>\n",
       "      <td>NaN</td>\n",
       "      <td>NaN</td>\n",
       "      <td>4</td>\n",
       "      <td>NaN</td>\n",
       "      <td>4</td>\n",
       "      <td>NaN</td>\n",
       "      <td>NaN</td>\n",
       "      <td>NaN</td>\n",
       "    </tr>\n",
       "    <tr>\n",
       "      <th>top</th>\n",
       "      <td>NaN</td>\n",
       "      <td>Audi</td>\n",
       "      <td>Yaris</td>\n",
       "      <td>NaN</td>\n",
       "      <td>NaN</td>\n",
       "      <td>Manual</td>\n",
       "      <td>NaN</td>\n",
       "      <td>Petrol</td>\n",
       "      <td>NaN</td>\n",
       "      <td>NaN</td>\n",
       "      <td>NaN</td>\n",
       "    </tr>\n",
       "    <tr>\n",
       "      <th>freq</th>\n",
       "      <td>NaN</td>\n",
       "      <td>10668</td>\n",
       "      <td>2122</td>\n",
       "      <td>NaN</td>\n",
       "      <td>NaN</td>\n",
       "      <td>11806</td>\n",
       "      <td>NaN</td>\n",
       "      <td>12052</td>\n",
       "      <td>NaN</td>\n",
       "      <td>NaN</td>\n",
       "      <td>NaN</td>\n",
       "    </tr>\n",
       "    <tr>\n",
       "      <th>mean</th>\n",
       "      <td>11132.500000</td>\n",
       "      <td>NaN</td>\n",
       "      <td>NaN</td>\n",
       "      <td>2016.995509</td>\n",
       "      <td>17542.591575</td>\n",
       "      <td>NaN</td>\n",
       "      <td>23501.863604</td>\n",
       "      <td>NaN</td>\n",
       "      <td>115.473592</td>\n",
       "      <td>55.151181</td>\n",
       "      <td>1.688489</td>\n",
       "    </tr>\n",
       "    <tr>\n",
       "      <th>std</th>\n",
       "      <td>6427.784883</td>\n",
       "      <td>NaN</td>\n",
       "      <td>NaN</td>\n",
       "      <td>2.133576</td>\n",
       "      <td>10589.835312</td>\n",
       "      <td>NaN</td>\n",
       "      <td>21111.157417</td>\n",
       "      <td>NaN</td>\n",
       "      <td>68.835239</td>\n",
       "      <td>14.834181</td>\n",
       "      <td>0.566379</td>\n",
       "    </tr>\n",
       "    <tr>\n",
       "      <th>min</th>\n",
       "      <td>0.000000</td>\n",
       "      <td>NaN</td>\n",
       "      <td>NaN</td>\n",
       "      <td>1997.000000</td>\n",
       "      <td>850.000000</td>\n",
       "      <td>NaN</td>\n",
       "      <td>1.000000</td>\n",
       "      <td>NaN</td>\n",
       "      <td>0.000000</td>\n",
       "      <td>1.100000</td>\n",
       "      <td>0.000000</td>\n",
       "    </tr>\n",
       "    <tr>\n",
       "      <th>25%</th>\n",
       "      <td>5566.250000</td>\n",
       "      <td>NaN</td>\n",
       "      <td>NaN</td>\n",
       "      <td>2016.000000</td>\n",
       "      <td>9999.000000</td>\n",
       "      <td>NaN</td>\n",
       "      <td>7200.000000</td>\n",
       "      <td>NaN</td>\n",
       "      <td>30.000000</td>\n",
       "      <td>44.800000</td>\n",
       "      <td>1.400000</td>\n",
       "    </tr>\n",
       "    <tr>\n",
       "      <th>50%</th>\n",
       "      <td>11132.500000</td>\n",
       "      <td>NaN</td>\n",
       "      <td>NaN</td>\n",
       "      <td>2017.000000</td>\n",
       "      <td>14999.000000</td>\n",
       "      <td>NaN</td>\n",
       "      <td>18354.000000</td>\n",
       "      <td>NaN</td>\n",
       "      <td>145.000000</td>\n",
       "      <td>55.400000</td>\n",
       "      <td>1.600000</td>\n",
       "    </tr>\n",
       "    <tr>\n",
       "      <th>75%</th>\n",
       "      <td>16698.750000</td>\n",
       "      <td>NaN</td>\n",
       "      <td>NaN</td>\n",
       "      <td>2019.000000</td>\n",
       "      <td>21991.000000</td>\n",
       "      <td>NaN</td>\n",
       "      <td>33100.750000</td>\n",
       "      <td>NaN</td>\n",
       "      <td>145.000000</td>\n",
       "      <td>62.800000</td>\n",
       "      <td>2.000000</td>\n",
       "    </tr>\n",
       "    <tr>\n",
       "      <th>max</th>\n",
       "      <td>22265.000000</td>\n",
       "      <td>NaN</td>\n",
       "      <td>NaN</td>\n",
       "      <td>2020.000000</td>\n",
       "      <td>145000.000000</td>\n",
       "      <td>NaN</td>\n",
       "      <td>323000.000000</td>\n",
       "      <td>NaN</td>\n",
       "      <td>580.000000</td>\n",
       "      <td>256.800000</td>\n",
       "      <td>6.300000</td>\n",
       "    </tr>\n",
       "  </tbody>\n",
       "</table>\n",
       "</div>"
      ],
      "text/plain": [
       "                  id  brand  model          year          price transmission  \\\n",
       "count   22266.000000  22266  22266  22266.000000   22266.000000        22266   \n",
       "unique           NaN      3     60           NaN            NaN            4   \n",
       "top              NaN   Audi  Yaris           NaN            NaN       Manual   \n",
       "freq             NaN  10668   2122           NaN            NaN        11806   \n",
       "mean    11132.500000    NaN    NaN   2016.995509   17542.591575          NaN   \n",
       "std      6427.784883    NaN    NaN      2.133576   10589.835312          NaN   \n",
       "min         0.000000    NaN    NaN   1997.000000     850.000000          NaN   \n",
       "25%      5566.250000    NaN    NaN   2016.000000    9999.000000          NaN   \n",
       "50%     11132.500000    NaN    NaN   2017.000000   14999.000000          NaN   \n",
       "75%     16698.750000    NaN    NaN   2019.000000   21991.000000          NaN   \n",
       "max     22265.000000    NaN    NaN   2020.000000  145000.000000          NaN   \n",
       "\n",
       "              mileage fuelType           tax           mpg    engineSize  \n",
       "count    22266.000000    22266  22266.000000  22266.000000  22266.000000  \n",
       "unique            NaN        4           NaN           NaN           NaN  \n",
       "top               NaN   Petrol           NaN           NaN           NaN  \n",
       "freq              NaN    12052           NaN           NaN           NaN  \n",
       "mean     23501.863604      NaN    115.473592     55.151181      1.688489  \n",
       "std      21111.157417      NaN     68.835239     14.834181      0.566379  \n",
       "min          1.000000      NaN      0.000000      1.100000      0.000000  \n",
       "25%       7200.000000      NaN     30.000000     44.800000      1.400000  \n",
       "50%      18354.000000      NaN    145.000000     55.400000      1.600000  \n",
       "75%      33100.750000      NaN    145.000000     62.800000      2.000000  \n",
       "max     323000.000000      NaN    580.000000    256.800000      6.300000  "
      ]
     },
     "execution_count": 4,
     "metadata": {},
     "output_type": "execute_result"
    }
   ],
   "source": [
    "# Tampilkan deskripsi statistik dari df_car\n",
    "df_car.describe(include='all') "
   ]
  },
  {
   "cell_type": "markdown",
   "metadata": {},
   "source": [
    "3. Kita mengenal bahwa variabel dibagi menjadi 2, yaitu variabel kualitatif dan kuantitatif.\n",
    "- Variabel kualitatif dibagi menjadi 2, yaitu nominal dan ordinal.\n",
    "- Variabel kuantitatif dibagi menjadi 2, yaitu continuous dan discrete.\n",
    "<br><br>\n",
    "- Variabel mana saja yang menurut kamu merupakan variabel kualitatif? Mana yang nominal dan ordinal?\n",
    "- Variabel mana saja yang menurut kamu merupakan variabel kuantitatif? Mana yang continuous dan\n",
    "discrete?"
   ]
  },
  {
   "cell_type": "markdown",
   "metadata": {},
   "source": [
    "- Kualitatif nominal: brand, model, transmission, fuel type\n",
    "- Kualitatif ordinal: -\n",
    "<br><br>\n",
    "- Kuantitatif continuous: price, mileage, tax, mpg, engineSize, price_spread\n",
    "- Kuantitatif discrete: year"
   ]
  },
  {
   "cell_type": "markdown",
   "metadata": {},
   "source": [
    "4. Apa yang dimaksud dengan measure of central tendency? Tampilkan measure of central tendency\n",
    "dari variabel 'model' dan 'price'! Central of tendency apa yang cocok untuk variabel 'model' dan 'price'?"
   ]
  },
  {
   "cell_type": "markdown",
   "metadata": {},
   "source": [
    "- Pengukuran untuk menggambarkan posisi sentral dari distribusi frekuensi untuk sekelompok data.\n",
    "- Istilah lain --> Estimate of Location: perkiraan di mana kebanyakan data berada. "
   ]
  },
  {
   "cell_type": "code",
   "execution_count": 5,
   "metadata": {},
   "outputs": [
    {
     "data": {
      "text/html": [
       "<div>\n",
       "<style scoped>\n",
       "    .dataframe tbody tr th:only-of-type {\n",
       "        vertical-align: middle;\n",
       "    }\n",
       "\n",
       "    .dataframe tbody tr th {\n",
       "        vertical-align: top;\n",
       "    }\n",
       "\n",
       "    .dataframe thead th {\n",
       "        text-align: right;\n",
       "    }\n",
       "</style>\n",
       "<table border=\"1\" class=\"dataframe\">\n",
       "  <thead>\n",
       "    <tr style=\"text-align: right;\">\n",
       "      <th></th>\n",
       "      <th>model</th>\n",
       "      <th>price</th>\n",
       "    </tr>\n",
       "  </thead>\n",
       "  <tbody>\n",
       "    <tr>\n",
       "      <th>mean</th>\n",
       "      <td>NaN</td>\n",
       "      <td>17542.591575</td>\n",
       "    </tr>\n",
       "    <tr>\n",
       "      <th>50%</th>\n",
       "      <td>NaN</td>\n",
       "      <td>14999.000000</td>\n",
       "    </tr>\n",
       "    <tr>\n",
       "      <th>top</th>\n",
       "      <td>Yaris</td>\n",
       "      <td>NaN</td>\n",
       "    </tr>\n",
       "  </tbody>\n",
       "</table>\n",
       "</div>"
      ],
      "text/plain": [
       "      model         price\n",
       "mean    NaN  17542.591575\n",
       "50%     NaN  14999.000000\n",
       "top   Yaris           NaN"
      ]
     },
     "execution_count": 5,
     "metadata": {},
     "output_type": "execute_result"
    }
   ],
   "source": [
    "df_car.describe(include='all').loc[['mean','50%','top']][['model','price']]"
   ]
  },
  {
   "cell_type": "code",
   "execution_count": 6,
   "metadata": {},
   "outputs": [
    {
     "name": "stdout",
     "output_type": "stream",
     "text": [
      "0    Yaris\n",
      "dtype: object\n"
     ]
    }
   ],
   "source": [
    "# Variabel model hanya bisa mengukur mode, karena datanya categorical (kualitatif)\n",
    "print(df_car['model'].mode())"
   ]
  },
  {
   "cell_type": "code",
   "execution_count": 7,
   "metadata": {},
   "outputs": [
    {
     "name": "stdout",
     "output_type": "stream",
     "text": [
      "Median variabel price\n",
      " 14999.0\n"
     ]
    }
   ],
   "source": [
    "# Variabel 'price' menggunakan median, karena datanya numerical continuous\n",
    "    # dan tidak mengikuti distirbusi normal.\n",
    "print('Median variabel price\\n', df_car['price'].median())"
   ]
  },
  {
   "cell_type": "markdown",
   "metadata": {},
   "source": [
    "5. Apa yang dimaksud dengan measure of spread? Tampilkan measure of spread dari variabel 'price'!"
   ]
  },
  {
   "cell_type": "markdown",
   "metadata": {},
   "source": [
    "**Apa yang dimaksud dengan Measure of Spread?** \n",
    "- Pengukuran untuk menggambarkan variabilitas data.\n",
    "- Istilah lain --> estimates of variability.\n",
    "\n",
    "**Standar Deviasi**\n",
    "- Standar deviasi adalah ukuran variabilitas yang paling sering digunakan. \n",
    "- Secara sederhana, standar deviasi adalah rata-rata penyimpangan absolut dari nilai rata-rata. \n",
    "- Penyimpangan itu artinya selisih setiap data dengan nilai rata-ratanya.\n",
    "\n",
    "**Persentil**<br>\n",
    "Persentil adalah nilai yang membagi data yang sudah diurutkan dari yang terkecil ke yang terbesar menjadi 100 bagian yang sama.\n",
    "\n",
    "**Interquartile Range (IQR)**\n",
    "- Interquartile Range atau Rentang inter kuartil adalah jarak antara Q1 dan Q3. Sehingga rumusnya IQR = Q3 - Q1\n",
    "- IQR dapat digunakan sebagai pengganti standar deviasi saat data tidak terdistribusi normal, karena standar deviasi sangat sensitif terhadap outlier.\n",
    "- Secara teoritis, standar deviasi sama dengan 1,348 kali dari IQR\n"
   ]
  },
  {
   "cell_type": "code",
   "execution_count": 8,
   "metadata": {},
   "outputs": [
    {
     "data": {
      "text/plain": [
       "144150"
      ]
     },
     "execution_count": 8,
     "metadata": {},
     "output_type": "execute_result"
    }
   ],
   "source": [
    "# Tampilkan Measure of Spread dari kolom 'price'\n",
    "\n",
    "# Range\n",
    "df_car['price'].max() - df_car['price'].min()"
   ]
  },
  {
   "cell_type": "code",
   "execution_count": 9,
   "metadata": {},
   "outputs": [
    {
     "data": {
      "text/plain": [
       "112144611.93109098"
      ]
     },
     "execution_count": 9,
     "metadata": {},
     "output_type": "execute_result"
    }
   ],
   "source": [
    "# Variance\n",
    "df_car['price'].var()"
   ]
  },
  {
   "cell_type": "code",
   "execution_count": 10,
   "metadata": {},
   "outputs": [
    {
     "data": {
      "text/plain": [
       "112144611.93109271"
      ]
     },
     "execution_count": 10,
     "metadata": {},
     "output_type": "execute_result"
    }
   ],
   "source": [
    "# Variance\n",
    "df_car['price_spread'] = (df_car['price'] - df_car['price'].mean())**2\n",
    "\n",
    "df_car['price_spread'].sum()/(len(df_car['price_spread'])-1)"
   ]
  },
  {
   "cell_type": "code",
   "execution_count": 11,
   "metadata": {},
   "outputs": [
    {
     "data": {
      "text/plain": [
       "10589.835311802115"
      ]
     },
     "execution_count": 11,
     "metadata": {},
     "output_type": "execute_result"
    }
   ],
   "source": [
    "# Standard deviation of sample\n",
    "df_car['price'].std()"
   ]
  },
  {
   "cell_type": "code",
   "execution_count": 12,
   "metadata": {},
   "outputs": [
    {
     "data": {
      "text/plain": [
       "10589.835311802195"
      ]
     },
     "execution_count": 12,
     "metadata": {},
     "output_type": "execute_result"
    }
   ],
   "source": [
    "# Cara lain: Standard deviation of sample\n",
    "np.sqrt(df_car['price_spread'].sum()/(len(df_car['price_spread'])-1))"
   ]
  },
  {
   "cell_type": "code",
   "execution_count": 13,
   "metadata": {},
   "outputs": [
    {
     "data": {
      "text/plain": [
       "11992.0"
      ]
     },
     "execution_count": 13,
     "metadata": {},
     "output_type": "execute_result"
    }
   ],
   "source": [
    "# IQR\n",
    "q1 = df_car['price'].quantile(0.25)\n",
    "q3 = df_car['price'].quantile(0.75)\n",
    "IQR = q3 - q1\n",
    "IQR"
   ]
  },
  {
   "cell_type": "markdown",
   "metadata": {},
   "source": [
    "6. Apakah ada outliers pada variabel 'price'? Kalau ada, berapa banyak data yang merupakan outliers?"
   ]
  },
  {
   "cell_type": "markdown",
   "metadata": {},
   "source": [
    "- Outliers = extreme case = nilai yang sangat jauh dari mayoritas nilai lainnya pada suatu dataset."
   ]
  },
  {
   "cell_type": "code",
   "execution_count": 14,
   "metadata": {},
   "outputs": [
    {
     "name": "stdout",
     "output_type": "stream",
     "text": [
      "Batas atas: 39979.0\n",
      "Batas bawah: -7989.0\n",
      "Jumlah outliers: 808\n"
     ]
    }
   ],
   "source": [
    "# Apakah ada Outlier pada kolom 'price'? Kalau ada, berapa banyak data yang merupakan outliers?\n",
    "lower = q1 - 1.5*IQR\n",
    "upper = q3 + 1.5*IQR\n",
    "\n",
    "# Outlier adalah data yang di luar batas atas dan batas bawah \n",
    "outlier = df_car[(df_car['price'] < lower) | (df_car['price'] > upper)]\n",
    "outlier\n",
    "\n",
    "print('Batas atas:', upper)\n",
    "print('Batas bawah:', lower)\n",
    "\n",
    "print('Jumlah outliers:', len(outlier))"
   ]
  },
  {
   "cell_type": "code",
   "execution_count": 15,
   "metadata": {},
   "outputs": [
    {
     "data": {
      "image/png": "[encoded data removed]",
      "text/plain": [
       "<Figure size 432x288 with 1 Axes>"
      ]
     },
     "metadata": {
      "needs_background": "light"
     },
     "output_type": "display_data"
    }
   ],
   "source": [
    "sns.boxplot(df_car['price']);"
   ]
  },
  {
   "cell_type": "markdown",
   "metadata": {},
   "source": [
    "7. Variabel apa saja yang memiliki distribusi right skewed?"
   ]
  },
  {
   "cell_type": "code",
   "execution_count": 16,
   "metadata": {},
   "outputs": [
    {
     "data": {
      "text/html": [
       "<div>\n",
       "<style scoped>\n",
       "    .dataframe tbody tr th:only-of-type {\n",
       "        vertical-align: middle;\n",
       "    }\n",
       "\n",
       "    .dataframe tbody tr th {\n",
       "        vertical-align: top;\n",
       "    }\n",
       "\n",
       "    .dataframe thead th {\n",
       "        text-align: right;\n",
       "    }\n",
       "</style>\n",
       "<table border=\"1\" class=\"dataframe\">\n",
       "  <thead>\n",
       "    <tr style=\"text-align: right;\">\n",
       "      <th></th>\n",
       "      <th>id</th>\n",
       "      <th>year</th>\n",
       "      <th>price</th>\n",
       "      <th>mileage</th>\n",
       "      <th>tax</th>\n",
       "      <th>mpg</th>\n",
       "      <th>engineSize</th>\n",
       "      <th>price_spread</th>\n",
       "    </tr>\n",
       "  </thead>\n",
       "  <tbody>\n",
       "    <tr>\n",
       "      <th>mean</th>\n",
       "      <td>11132.5</td>\n",
       "      <td>2016.995509</td>\n",
       "      <td>17542.591575</td>\n",
       "      <td>23501.863604</td>\n",
       "      <td>115.473592</td>\n",
       "      <td>55.151181</td>\n",
       "      <td>1.688489</td>\n",
       "      <td>1.121396e+08</td>\n",
       "    </tr>\n",
       "    <tr>\n",
       "      <th>50%</th>\n",
       "      <td>11132.5</td>\n",
       "      <td>2017.000000</td>\n",
       "      <td>14999.000000</td>\n",
       "      <td>18354.000000</td>\n",
       "      <td>145.000000</td>\n",
       "      <td>55.400000</td>\n",
       "      <td>1.600000</td>\n",
       "      <td>4.163357e+07</td>\n",
       "    </tr>\n",
       "  </tbody>\n",
       "</table>\n",
       "</div>"
      ],
      "text/plain": [
       "           id         year         price       mileage         tax        mpg  \\\n",
       "mean  11132.5  2016.995509  17542.591575  23501.863604  115.473592  55.151181   \n",
       "50%   11132.5  2017.000000  14999.000000  18354.000000  145.000000  55.400000   \n",
       "\n",
       "      engineSize  price_spread  \n",
       "mean    1.688489  1.121396e+08  \n",
       "50%     1.600000  4.163357e+07  "
      ]
     },
     "execution_count": 16,
     "metadata": {},
     "output_type": "execute_result"
    }
   ],
   "source": [
    "# Variabel apa saja yang memiliki distribusi right skewed?\n",
    "df_car.describe().loc[['mean', '50%']]\n",
    "\n",
    "# Right skewed --> (mean > median): \n",
    "# price, mileage, engineSize"
   ]
  },
  {
   "cell_type": "code",
   "execution_count": 22,
   "metadata": {},
   "outputs": [
    {
     "data": {
      "text/plain": [
       "2.439081564611416"
      ]
     },
     "execution_count": 22,
     "metadata": {},
     "output_type": "execute_result"
    }
   ],
   "source": [
    "df_car['mpg'].skew()"
   ]
  },
  {
   "cell_type": "code",
   "execution_count": 23,
   "metadata": {},
   "outputs": [
    {
     "data": {
      "text/plain": [
       "1.1847786399520155"
      ]
     },
     "execution_count": 23,
     "metadata": {},
     "output_type": "execute_result"
    }
   ],
   "source": [
    "df_car['engineSize'].skew()"
   ]
  },
  {
   "cell_type": "code",
   "execution_count": 24,
   "metadata": {},
   "outputs": [
    {
     "data": {
      "text/plain": [
       "0.0"
      ]
     },
     "execution_count": 24,
     "metadata": {},
     "output_type": "execute_result"
    }
   ],
   "source": [
    "df_car['id'].skew()"
   ]
  },
  {
   "cell_type": "code",
   "execution_count": 17,
   "metadata": {},
   "outputs": [
    {
     "data": {
      "image/png": "[encoded data removed]",
      "text/plain": [
       "<Figure size 1440x1080 with 9 Axes>"
      ]
     },
     "metadata": {
      "needs_background": "light"
     },
     "output_type": "display_data"
    }
   ],
   "source": [
    "df_car.hist(figsize=(20, 15));"
   ]
  },
  {
   "cell_type": "markdown",
   "metadata": {},
   "source": [
    "8. Nilai mean dan median dari variabel 'mileage' berbeda jauh. Coba buktikan menggunakan plot dan formal test apakah kolom tersebut terdistribusi normal atau tidak."
   ]
  },
  {
   "cell_type": "markdown",
   "metadata": {},
   "source": [
    "**Untuk normality test:**\n",
    "- Ho: sample terdistribusi normal\n",
    "- Ha: sample TIDAK terdistribusi normal\n",
    "<br><br>\n",
    "- p-value > 0.05 : fail to reject Ho --> sample terdistribusi normal\n",
    "- p-value < 0.05 : reject Ho --> sample TIDAK terdistribusi normal (Ha)"
   ]
  },
  {
   "cell_type": "code",
   "execution_count": 18,
   "metadata": {},
   "outputs": [
    {
     "data": {
      "text/html": [
       "<div>\n",
       "<style scoped>\n",
       "    .dataframe tbody tr th:only-of-type {\n",
       "        vertical-align: middle;\n",
       "    }\n",
       "\n",
       "    .dataframe tbody tr th {\n",
       "        vertical-align: top;\n",
       "    }\n",
       "\n",
       "    .dataframe thead th {\n",
       "        text-align: right;\n",
       "    }\n",
       "</style>\n",
       "<table border=\"1\" class=\"dataframe\">\n",
       "  <thead>\n",
       "    <tr style=\"text-align: right;\">\n",
       "      <th></th>\n",
       "      <th>mileage</th>\n",
       "    </tr>\n",
       "  </thead>\n",
       "  <tbody>\n",
       "    <tr>\n",
       "      <th>mean</th>\n",
       "      <td>23501.863604</td>\n",
       "    </tr>\n",
       "    <tr>\n",
       "      <th>50%</th>\n",
       "      <td>18354.000000</td>\n",
       "    </tr>\n",
       "  </tbody>\n",
       "</table>\n",
       "</div>"
      ],
      "text/plain": [
       "           mileage\n",
       "mean  23501.863604\n",
       "50%   18354.000000"
      ]
     },
     "execution_count": 18,
     "metadata": {},
     "output_type": "execute_result"
    }
   ],
   "source": [
    "# Perbedaan mean dan median dari 'mileage'\n",
    "df_car.describe().loc[['mean', '50%']][['mileage']]"
   ]
  },
  {
   "cell_type": "code",
   "execution_count": 19,
   "metadata": {},
   "outputs": [
    {
     "data": {
      "image/png": "[encoded data removed]",
      "text/plain": [
       "<Figure size 432x288 with 1 Axes>"
      ]
     },
     "metadata": {
      "needs_background": "light"
     },
     "output_type": "display_data"
    }
   ],
   "source": [
    "# Histogram\n",
    "sns.distplot(df_car['mileage'], bins=20, kde=False);"
   ]
  },
  {
   "cell_type": "code",
   "execution_count": 20,
   "metadata": {},
   "outputs": [
    {
     "name": "stdout",
     "output_type": "stream",
     "text": [
      "p-value mileage : 0.0000000000\n",
      "Variabel 'mileage' TIDAK terdistribusi normal\n"
     ]
    }
   ],
   "source": [
    "# Membuat function untuk normality test menggunakan D'Agostino & Pearson's\n",
    "def normal(variabel):\n",
    "    stat, pvalue = stats.normaltest(variabel)\n",
    "    print(f'p-value {variabel.name} : {pvalue:.10f}' )\n",
    "    \n",
    "\n",
    "    if pvalue < 0.05:\n",
    "        print(f\"Variabel '{variabel.name}' TIDAK terdistribusi normal\")\n",
    "    else:\n",
    "        print(f\"Variabel '{variabel.name}'' terdistribusi normal\")\n",
    "    \n",
    "normal(df_car['mileage'])"
   ]
  },
  {
   "cell_type": "markdown",
   "metadata": {},
   "source": [
    "9. Grafik apa yang cocok untuk menampilkan visualisasi:\n",
    "- brand vs price\n",
    "- price vs mileage\n",
    "- frequency distribution of mileage"
   ]
  },
  {
   "cell_type": "markdown",
   "metadata": {},
   "source": [
    "- **Brand vs Price?** barplot\n",
    "- **Price vs Mileage?** scatterplot\n",
    "- **Frequency distribution of Mileage?** histogram"
   ]
  }
 ],
 "metadata": {
  "interpreter": {
   "hash": "95a19bb7a135a8107af75b765dc097fafc28c1115c0f9727f05dc637904e7be8"
  },
  "kernelspec": {
   "display_name": "Python 3.8.3 ('base')",
   "language": "python",
   "name": "python3"
  },
  "language_info": {
   "codemirror_mode": {
    "name": "ipython",
    "version": 3
   },
   "file_extension": ".py",
   "mimetype": "text/x-python",
   "name": "python",
   "nbconvert_exporter": "python",
   "pygments_lexer": "ipython3",
   "version": "3.8.3"
  },
  "orig_nbformat": 4
 },
 "nbformat": 4,
 "nbformat_minor": 2
}
