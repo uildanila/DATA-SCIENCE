{
 "cells": [
  {
   "cell_type": "code",
   "execution_count": 1,
   "metadata": {},
   "outputs": [],
   "source": [
    "# Import libraries\n",
    "import pandas as pd\n",
    "import numpy as np\n",
    "import seaborn as sns"
   ]
  },
  {
   "cell_type": "markdown",
   "metadata": {},
   "source": [
    "**Hypotesis testing for population mean**"
   ]
  },
  {
   "cell_type": "markdown",
   "metadata": {},
   "source": [
    "**1. t-test for single population mean**"
   ]
  },
  {
   "cell_type": "markdown",
   "metadata": {},
   "source": [
    "e.g. tinggi badan pria di Jakarta dengan rentang usia 25-30 tahun. Tinggi rata-rata = 175 cm.\n",
    "\n",
    "- H0: mu_0 = 175\n",
    "- Ha: mu_0 != 175 (two-tailed test/two-sided test)<br><br>\n",
    "      mu_0 < 175 (one-tailed test/one-sided test)<br><br>\n",
    "      mu_0 > 175 (one-tailed test/one-sided test)\n",
    "\n",
    "Confidence interval --> default two-tailed test --> alpha/2\n",
    "\n",
    "Kriteria pengambilan keputusan:\n",
    "- Reject H0 --> p-value < alpha\n",
    "- Failed to reject H0 --> p-value > 5\n",
    "\n",
    "Confidence level = 95% (Harus ditentukan terlebih dahulu sebelum melakukan hypotesis testing).\n",
    "alpha = 0.05 (two-tailed test)\n",
    "\n",
    "e.g. p-value = 0.03\n",
    "\n",
    "Keputusan: p-value < alpha \n",
    "            Dengan kata lain, kita reject H0. Itu berarti tinggi badan rata-rata pria di Jakarta dengan rentang usia 25-30 tahun bukanlah 175 cm.\n",
    "\n",
    "\n",
    "***Notes***\n",
    "- Menghitung nilai test statistic dan p-value itu seperti mengumpulkan evidence agar bisa reject H0.\n",
    "- Semakin kecil p-value, semakin besar probability untuk bisa reject H0."
   ]
  },
  {
   "cell_type": "code",
   "execution_count": 2,
   "metadata": {},
   "outputs": [
    {
     "data": {
      "text/html": [
       "<div>\n",
       "<style scoped>\n",
       "    .dataframe tbody tr th:only-of-type {\n",
       "        vertical-align: middle;\n",
       "    }\n",
       "\n",
       "    .dataframe tbody tr th {\n",
       "        vertical-align: top;\n",
       "    }\n",
       "\n",
       "    .dataframe thead th {\n",
       "        text-align: right;\n",
       "    }\n",
       "</style>\n",
       "<table border=\"1\" class=\"dataframe\">\n",
       "  <thead>\n",
       "    <tr style=\"text-align: right;\">\n",
       "      <th></th>\n",
       "      <th>mpg</th>\n",
       "      <th>cylinders</th>\n",
       "      <th>displacement</th>\n",
       "      <th>horsepower</th>\n",
       "      <th>weight</th>\n",
       "      <th>acceleration</th>\n",
       "      <th>model_year</th>\n",
       "      <th>origin</th>\n",
       "      <th>name</th>\n",
       "    </tr>\n",
       "  </thead>\n",
       "  <tbody>\n",
       "    <tr>\n",
       "      <th>0</th>\n",
       "      <td>18.0</td>\n",
       "      <td>8</td>\n",
       "      <td>307.0</td>\n",
       "      <td>130.0</td>\n",
       "      <td>3504</td>\n",
       "      <td>12.0</td>\n",
       "      <td>70</td>\n",
       "      <td>usa</td>\n",
       "      <td>chevrolet chevelle malibu</td>\n",
       "    </tr>\n",
       "    <tr>\n",
       "      <th>1</th>\n",
       "      <td>15.0</td>\n",
       "      <td>8</td>\n",
       "      <td>350.0</td>\n",
       "      <td>165.0</td>\n",
       "      <td>3693</td>\n",
       "      <td>11.5</td>\n",
       "      <td>70</td>\n",
       "      <td>usa</td>\n",
       "      <td>buick skylark 320</td>\n",
       "    </tr>\n",
       "    <tr>\n",
       "      <th>2</th>\n",
       "      <td>18.0</td>\n",
       "      <td>8</td>\n",
       "      <td>318.0</td>\n",
       "      <td>150.0</td>\n",
       "      <td>3436</td>\n",
       "      <td>11.0</td>\n",
       "      <td>70</td>\n",
       "      <td>usa</td>\n",
       "      <td>plymouth satellite</td>\n",
       "    </tr>\n",
       "    <tr>\n",
       "      <th>3</th>\n",
       "      <td>16.0</td>\n",
       "      <td>8</td>\n",
       "      <td>304.0</td>\n",
       "      <td>150.0</td>\n",
       "      <td>3433</td>\n",
       "      <td>12.0</td>\n",
       "      <td>70</td>\n",
       "      <td>usa</td>\n",
       "      <td>amc rebel sst</td>\n",
       "    </tr>\n",
       "    <tr>\n",
       "      <th>4</th>\n",
       "      <td>17.0</td>\n",
       "      <td>8</td>\n",
       "      <td>302.0</td>\n",
       "      <td>140.0</td>\n",
       "      <td>3449</td>\n",
       "      <td>10.5</td>\n",
       "      <td>70</td>\n",
       "      <td>usa</td>\n",
       "      <td>ford torino</td>\n",
       "    </tr>\n",
       "  </tbody>\n",
       "</table>\n",
       "</div>"
      ],
      "text/plain": [
       "    mpg  cylinders  displacement  horsepower  weight  acceleration  \\\n",
       "0  18.0          8         307.0       130.0    3504          12.0   \n",
       "1  15.0          8         350.0       165.0    3693          11.5   \n",
       "2  18.0          8         318.0       150.0    3436          11.0   \n",
       "3  16.0          8         304.0       150.0    3433          12.0   \n",
       "4  17.0          8         302.0       140.0    3449          10.5   \n",
       "\n",
       "   model_year origin                       name  \n",
       "0          70    usa  chevrolet chevelle malibu  \n",
       "1          70    usa          buick skylark 320  \n",
       "2          70    usa         plymouth satellite  \n",
       "3          70    usa              amc rebel sst  \n",
       "4          70    usa                ford torino  "
      ]
     },
     "execution_count": 2,
     "metadata": {},
     "output_type": "execute_result"
    }
   ],
   "source": [
    "df = sns.load_dataset('mpg')\n",
    "df.head()"
   ]
  },
  {
   "cell_type": "code",
   "execution_count": 20,
   "metadata": {},
   "outputs": [
    {
     "data": {
      "text/plain": [
       "origin\n",
       "europe    2423.300000\n",
       "japan     2221.227848\n",
       "usa       3361.931727\n",
       "Name: weight, dtype: float64"
      ]
     },
     "execution_count": 20,
     "metadata": {},
     "output_type": "execute_result"
    }
   ],
   "source": [
    "df.groupby(['origin']).mean()['weight']"
   ]
  },
  {
   "cell_type": "code",
   "execution_count": 3,
   "metadata": {},
   "outputs": [],
   "source": [
    "from scipy.stats import ttest_1samp"
   ]
  },
  {
   "cell_type": "code",
   "execution_count": 4,
   "metadata": {},
   "outputs": [
    {
     "data": {
      "text/plain": [
       "15.568090452261291"
      ]
     },
     "execution_count": 4,
     "metadata": {},
     "output_type": "execute_result"
    }
   ],
   "source": [
    "df['acceleration'].mean()"
   ]
  },
  {
   "cell_type": "code",
   "execution_count": null,
   "metadata": {},
   "outputs": [],
   "source": [
    "# H0: mu_0 = 16\n",
    "# Ha: mu_0 != 16\n",
    "\n",
    "mu_0 = 16\n",
    "alpha = 0.05\n",
    "tset, pval = ttest_1samp(df['acceleration'], 16, alternative='less')\n",
    "print(tset)\n",
    "print(pval)"
   ]
  },
  {
   "cell_type": "code",
   "execution_count": 8,
   "metadata": {},
   "outputs": [
    {
     "name": "stdout",
     "output_type": "stream",
     "text": [
      "Reject H0, 0.0019114768698293893 < 0.05\n"
     ]
    }
   ],
   "source": [
    "if pval < alpha:\n",
    "    print(f'Reject H0, {pval} < {alpha}')\n",
    "else:\n",
    "    print(f'Failed to reject H0, {pval} != {alpha}')"
   ]
  },
  {
   "cell_type": "markdown",
   "metadata": {},
   "source": [
    "**2. t-test independence double population mean**"
   ]
  },
  {
   "cell_type": "markdown",
   "metadata": {},
   "source": [
    "Digunakan untuk menguji apakah ada perbedaan signifikan antara 2 populasi berbeda."
   ]
  },
  {
   "cell_type": "markdown",
   "metadata": {},
   "source": [
    "Contoh: inequal variance\n",
    "\n",
    "- H0: mu_1 = mu_2 --> laki-laki dan perempuan memiliki rata-rata tinggi yang sama --> mu_1 - mu_2 = 0\n",
    "- Ha: mu_1 > mu_2 --> rata-rata tinggi badan laki-laki lebih besar dari perempuan --> mu_1 - mu_2 > 0"
   ]
  },
  {
   "cell_type": "code",
   "execution_count": null,
   "metadata": {},
   "outputs": [],
   "source": [
    "from scipy.stats import ttest_ind"
   ]
  },
  {
   "cell_type": "code",
   "execution_count": 15,
   "metadata": {},
   "outputs": [
    {
     "data": {
      "text/plain": [
       "7.604848233611381"
      ]
     },
     "execution_count": 15,
     "metadata": {},
     "output_type": "execute_result"
    }
   ],
   "source": [
    "df['acceleration'].var()"
   ]
  },
  {
   "cell_type": "markdown",
   "metadata": {},
   "source": [
    "**3. t-test paired**"
   ]
  },
  {
   "cell_type": "markdown",
   "metadata": {},
   "source": [
    "Dilakukan untuk menguji hipotesis pada sample populasi yang sama setelah diberikan suatu treatment dalam interval waktu tertentu."
   ]
  },
  {
   "cell_type": "markdown",
   "metadata": {},
   "source": [
    "Contoh:\n",
    "\n",
    "- Obat untuk orang yang memiliki riwayat penyakit jantung --> apakah obat tersebut bisa mengurangi risiko terjadinya serangan jantung?\n",
    "\n",
    "Untuk t-test paired, data diambil dari orang yang sama sebelum dan sesudah treatment.\n",
    "\n",
    "mu_1 = sebelum minum obat\n",
    "mu_2 = setelah minum obat\n",
    "\n",
    "Dugaan awal: mu_1 < mu_2 --> setelah minum obat, frekuensi terkena serangan jantung menjadi lebih sedikit.\n",
    "\n",
    "Kriteria pengambilan keputusan:\n",
    "\n",
    "confidence level = 95%\n",
    "alpha = 0.05\n",
    "\n",
    "H0: mu_1 = mu_2 --> mu_1 - mu_2 = 0\n",
    "Ha: mu_1 < mu_2 --> mu_1 - mu_2 < 0\n",
    "\n",
    "- Reject H0 jika p-value < alpha.\n",
    "- Failed to reject H0 jika p-value > alpha."
   ]
  },
  {
   "cell_type": "code",
   "execution_count": 16,
   "metadata": {},
   "outputs": [],
   "source": [
    "# Alternatif library untuk t-test paired\n",
    "from scipy.stats import ttest_rel"
   ]
  },
  {
   "cell_type": "code",
   "execution_count": null,
   "metadata": {},
   "outputs": [],
   "source": [
    "# Contoh kode untuk t-test paired\n",
    "test, pval = ttest_rel(mu_1, mu_2, 0, alternative = 'less')\n",
    "print(test)\n",
    "print(pval)"
   ]
  },
  {
   "cell_type": "markdown",
   "metadata": {},
   "source": [
    "**Anova F-test one-way**"
   ]
  },
  {
   "cell_type": "markdown",
   "metadata": {},
   "source": [
    "- Untuk 1 independen variabel.\n",
    "- Digunakan untuk menguji jumlah populasi > 2.\n",
    "- Hanya bisa mengambil simpulan bahwa at least ada atau tidak ada perbedaan signifikan antara 1 pasang grup (minimal 2 grup). Kita tidak tahu grup mana yang berbeda signifikan tersebut.\n",
    "- Untuk dapat mengetahuinya, kita dapat melakukan tes lanjutan, yang bernama post-hoc test."
   ]
  },
  {
   "cell_type": "code",
   "execution_count": 17,
   "metadata": {},
   "outputs": [],
   "source": [
    "from scipy.stats import f_oneway"
   ]
  }
 ],
 "metadata": {
  "interpreter": {
   "hash": "95a19bb7a135a8107af75b765dc097fafc28c1115c0f9727f05dc637904e7be8"
  },
  "kernelspec": {
   "display_name": "Python 3.8.3 ('base')",
   "language": "python",
   "name": "python3"
  },
  "language_info": {
   "codemirror_mode": {
    "name": "ipython",
    "version": 3
   },
   "file_extension": ".py",
   "mimetype": "text/x-python",
   "name": "python",
   "nbconvert_exporter": "python",
   "pygments_lexer": "ipython3",
   "version": "3.8.3"
  },
  "orig_nbformat": 4
 },
 "nbformat": 4,
 "nbformat_minor": 2
}
