{
 "cells": [
  {
   "cell_type": "markdown",
   "metadata": {},
   "source": [
    "# __``Hypothesis Testing``__\n",
    "\n",
    "<hr>"
   ]
  },
  {
   "cell_type": "markdown",
   "metadata": {},
   "source": [
    "Uji hipotesis adalah metode pengambilan keputusan yang didasarkan dari analisis data, baik dari percobaan yang terkontrol, maupun dari observasi (tidak terkontrol). Dalam statistik sebuah hasil bisa dikatakan signifikan secara statistik jika kejadian tersebut hampir tidak mungkin disebabkan oleh faktor yang kebetulan, sesuai dengan batas probabilitas yang sudah ditentukan sebelumnya.\n",
    "\n",
    "Uji hipotesis kadang disebut juga \"konfirmasi analisis data\". Keputusan dari uji hipotesis hampir selalu dibuat berdasarkan pengujian hipotesis nol. Ini adalah pengujian untuk menjawab pertanyaan yang mengasumsikan hipotesis nol adalah benar. [[1]](https://id.wikipedia.org/wiki/Uji_hipotesis)"
   ]
  },
  {
   "cell_type": "markdown",
   "metadata": {},
   "source": [
    "### **1. Import Libraries**"
   ]
  },
  {
   "cell_type": "markdown",
   "metadata": {},
   "source": [
    "Pada sesi ini, kita menggunakan library Pandas untuk membuka dataset. Sedangkan numpy atau disingkat np digunakan untuk membantu data analysis. Library lain yang dipakai untuk uji berbagai jenis uji hipotesis akan di-import saat akan melakukan pengujian di bawah nanti."
   ]
  },
  {
   "cell_type": "code",
   "execution_count": 1,
   "metadata": {},
   "outputs": [],
   "source": [
    "import pandas as pd\n",
    "import numpy as np"
   ]
  },
  {
   "cell_type": "markdown",
   "metadata": {},
   "source": [
    "### **2. Intro to Dataset: ``Amazon Best Selling Books``**"
   ]
  },
  {
   "cell_type": "markdown",
   "metadata": {},
   "source": [
    "Dataset ``Amazon Best Selling Books`` adalah data publik dan legal. Anda dapat membaca deskripsi dan mengunduhnya di website [Kaggle](https://www.kaggle.com/sootersaalu/amazon-top-50-bestselling-books-2009-2019). Dataset ini berisi tentang 50 buku penjualan terbaik di Amazon dari tahun 2009 sampai tahun 2019. Data telah dikategorikan ke dalam buku fiksi dan non-fiksi menggunakan Goodreads."
   ]
  },
  {
   "cell_type": "markdown",
   "metadata": {},
   "source": [
    "Mari kita buka dataset menggunakan pandas (_pd.read_csv_), lalu simpan dataset ke dalam variabel dengan nama df. Data dapat kita lihat sekilas (5 baris awal) terlebih dahulu dengan _df.head()_"
   ]
  },
  {
   "cell_type": "code",
   "execution_count": null,
   "metadata": {
    "colab": {
     "base_uri": "https://localhost:8080/",
     "height": 271
    },
    "executionInfo": {
     "elapsed": 884,
     "status": "ok",
     "timestamp": 1609052763884,
     "user": {
      "displayName": "Mohammad Nurrokim",
      "photoUrl": "https://lh3.googleusercontent.com/a-/AOh14GglrNR8qq_zDOjNkxDnMnUxZiJ-AeK7Z3gFeoZX=s64",
      "userId": "12396856573034788882"
     },
     "user_tz": -420
    },
    "id": "FsGIL7sr_DJi",
    "outputId": "ad61510c-a549-40e9-98af-0de971ce8da9"
   },
   "outputs": [],
   "source": [
    "df = pd.read_csv('bestsellers with categories.csv')\n",
    "df.head()"
   ]
  },
  {
   "cell_type": "markdown",
   "metadata": {},
   "source": [
    "**Data Info**\n",
    "\n",
    "Gambaran awal mengenai dataset dapat kita lihat menggunakan (_df.info()_). Melalui cara ini kita dapat melihat kolom apa saja di dataset, jumlah baris data yang terisi (tidak kosong), dan tipe datanya."
   ]
  },
  {
   "cell_type": "code",
   "execution_count": null,
   "metadata": {},
   "outputs": [
    {
     "name": "stdout",
     "output_type": "stream",
     "text": [
      "<class 'pandas.core.frame.DataFrame'>\n",
      "RangeIndex: 550 entries, 0 to 549\n",
      "Data columns (total 7 columns):\n",
      " #   Column       Non-Null Count  Dtype  \n",
      "---  ------       --------------  -----  \n",
      " 0   Name         550 non-null    object \n",
      " 1   Author       550 non-null    object \n",
      " 2   User Rating  550 non-null    float64\n",
      " 3   Reviews      550 non-null    int64  \n",
      " 4   Price        550 non-null    int64  \n",
      " 5   Year         550 non-null    int64  \n",
      " 6   Genre        550 non-null    object \n",
      "dtypes: float64(1), int64(3), object(3)\n",
      "memory usage: 30.2+ KB\n"
     ]
    }
   ],
   "source": [
    "df.info()"
   ]
  },
  {
   "cell_type": "markdown",
   "metadata": {},
   "source": [
    "<hr>\n",
    "\n",
    "## **Hypothesis Testing** : ``Numerical``\n",
    "\n",
    "Kita akan mempraktikkan beberapa uji hipotesis di antaranya _One Sample T-Test, Two Sample Independent T-Test, T-Test Paired,_ dan _One-Way Anova F-test for more than two population mean._\n",
    "\n",
    "Berikut ini contoh praktik uji hipotesis untuk jenis data numerikal:"
   ]
  },
  {
   "cell_type": "markdown",
   "metadata": {},
   "source": [
    "### **a) One Sample T-Test**"
   ]
  },
  {
   "cell_type": "markdown",
   "metadata": {},
   "source": [
    "Uji-t adalah uji hipotesis statistik. One Sample T-Test digunakan untuk membandingkan mean (rata-rata) pengukuran dari satu kelompok A dengan nilai teoritis yang diharapkan. [[2]](https://simple.wikipedia.org/wiki/Student%27s_t-test)\n",
    "\n",
    "Pada dataset ini, kita ingin membuktikan hipotesis apakah harga buku 10 atau di atasnya."
   ]
  },
  {
   "cell_type": "markdown",
   "metadata": {
    "id": "6OD3Hmxu-Kl7"
   },
   "source": [
    "**Hypothesis**:\n",
    "<br>\n",
    "**Ho**: Rata-rata harga buku = 10 \n",
    "<br>\n",
    "**Ha**: Rata-rata harga buku > 10"
   ]
  },
  {
   "cell_type": "code",
   "execution_count": null,
   "metadata": {},
   "outputs": [
    {
     "name": "stdout",
     "output_type": "stream",
     "text": [
      "p-value: 2.5008144800630206e-11\n",
      "Tolak H0\n"
     ]
    }
   ],
   "source": [
    "# Import Library\n",
    "from scipy.stats import ttest_1samp\n",
    "\n",
    "# One Sample T-test\n",
    "tset, pval = ttest_1samp(df['Price'], 10)\n",
    "print('p-value:', pval/2)\n",
    "\n",
    "# Conclusion\n",
    "if pval/2 < 0.05:\n",
    "    print('Reject H0')\n",
    "else:\n",
    "    print('Fail to reject H0')"
   ]
  },
  {
   "cell_type": "markdown",
   "metadata": {
    "id": "EmX5r8Bv-Kl-"
   },
   "source": [
    "**Conclusion**:\n",
    "P-Value lebih rendah dari tingkat signifikansi kita 0,05, artinya kita memiliki cukup bukti untuk menolak Hipotesis Nol. Jadi, Rata-rata harga buku lebih tinggi dari 10 dengan tingkat signifikansi 5%.\n",
    "\n",
    "Kita dapat cek rata-rata harga buku menggunakan pandas seperti code di bawah ini. Kita dapati memang harga buku di atas 10, yaitu 13,1."
   ]
  },
  {
   "cell_type": "code",
   "execution_count": null,
   "metadata": {},
   "outputs": [
    {
     "data": {
      "text/plain": [
       "13.1"
      ]
     },
     "execution_count": 10,
     "metadata": {},
     "output_type": "execute_result"
    }
   ],
   "source": [
    "df['Price'].mean()"
   ]
  },
  {
   "cell_type": "markdown",
   "metadata": {},
   "source": [
    "<hr>\n",
    "\n",
    "### **b) Two Sample Independent T-Test**"
   ]
  },
  {
   "cell_type": "markdown",
   "metadata": {},
   "source": [
    "Two Sample Independent T-Test digunakan untuk membandingkan rata-rata dari pengukuran dua kelompok A dan B. Mereka ingin memutuskan apakah rata-rata dalam kelompok A berbeda dengan nilai teoritis atau mean dalam kelompok B.[[3]](https://simple.wikipedia.org/wiki/Student%27s_t-test)\n",
    "\n",
    "Pada dataset ini, kita hendak menguji hipotesis apakah rata-rata harga buku antara buku fiksi dan non-fiksi, sama ataukah berbeda?"
   ]
  },
  {
   "cell_type": "code",
   "execution_count": null,
   "metadata": {},
   "outputs": [
    {
     "data": {
      "text/html": [
       "<div>\n",
       "<style scoped>\n",
       "    .dataframe tbody tr th:only-of-type {\n",
       "        vertical-align: middle;\n",
       "    }\n",
       "\n",
       "    .dataframe tbody tr th {\n",
       "        vertical-align: top;\n",
       "    }\n",
       "\n",
       "    .dataframe thead th {\n",
       "        text-align: right;\n",
       "    }\n",
       "</style>\n",
       "<table border=\"1\" class=\"dataframe\">\n",
       "  <thead>\n",
       "    <tr style=\"text-align: right;\">\n",
       "      <th></th>\n",
       "      <th>Price</th>\n",
       "      <th>Genre</th>\n",
       "    </tr>\n",
       "  </thead>\n",
       "  <tbody>\n",
       "    <tr>\n",
       "      <th>0</th>\n",
       "      <td>8</td>\n",
       "      <td>Non Fiction</td>\n",
       "    </tr>\n",
       "    <tr>\n",
       "      <th>1</th>\n",
       "      <td>22</td>\n",
       "      <td>Fiction</td>\n",
       "    </tr>\n",
       "    <tr>\n",
       "      <th>2</th>\n",
       "      <td>15</td>\n",
       "      <td>Non Fiction</td>\n",
       "    </tr>\n",
       "    <tr>\n",
       "      <th>3</th>\n",
       "      <td>6</td>\n",
       "      <td>Fiction</td>\n",
       "    </tr>\n",
       "    <tr>\n",
       "      <th>4</th>\n",
       "      <td>12</td>\n",
       "      <td>Non Fiction</td>\n",
       "    </tr>\n",
       "  </tbody>\n",
       "</table>\n",
       "</div>"
      ],
      "text/plain": [
       "   Price        Genre\n",
       "0      8  Non Fiction\n",
       "1     22      Fiction\n",
       "2     15  Non Fiction\n",
       "3      6      Fiction\n",
       "4     12  Non Fiction"
      ]
     },
     "execution_count": 4,
     "metadata": {},
     "output_type": "execute_result"
    }
   ],
   "source": [
    "df[['Price', 'Genre']].head()"
   ]
  },
  {
   "cell_type": "markdown",
   "metadata": {
    "id": "6OD3Hmxu-Kl7"
   },
   "source": [
    "**Hypothesis**:\n",
    "<br>\n",
    "**Ho**: Rata-rata harga buku non fiksi = rata-rata harga buku fiksi\n",
    "<br>\n",
    "**Ha**: Rata-rata harga buku non fiksi > rata-rata harga buku fiksi"
   ]
  },
  {
   "cell_type": "markdown",
   "metadata": {},
   "source": [
    "**a) Non Equal Variance Assumption**"
   ]
  },
  {
   "cell_type": "code",
   "execution_count": null,
   "metadata": {},
   "outputs": [
    {
     "name": "stdout",
     "output_type": "stream",
     "text": [
      "T-Statistic: 4.537208093329263\n",
      "P-Value: 3.5095048008863544e-06\n",
      "Tolak H0\n"
     ]
    }
   ],
   "source": [
    "# Import Library\n",
    "from scipy.stats import ttest_ind\n",
    "\n",
    "# Two sample independent t-test\n",
    "result = list(ttest_ind(\n",
    "              df[df['Genre'] == 'Non Fiction']['Price'],\n",
    "              df[df['Genre'] == 'Fiction']['Price'],\n",
    "              equal_var = False\n",
    "             ))\n",
    "\n",
    "print('T-Statistic:', result[0])\n",
    "print('P-Value:', result[1]/2)\n",
    "\n",
    "# Conclusion\n",
    "if result[1]/2 < 0.05:\n",
    "    print('Reject H0')\n",
    "else:\n",
    "    print('Fail to reject H0')"
   ]
  },
  {
   "cell_type": "markdown",
   "metadata": {},
   "source": [
    "**b) Equal Variance Assumption**"
   ]
  },
  {
   "cell_type": "code",
   "execution_count": null,
   "metadata": {},
   "outputs": [
    {
     "name": "stdout",
     "output_type": "stream",
     "text": [
      "T-Statistic: 4.351608076818746\n",
      "P-Value: 8.062175359060365e-06\n",
      "Tolak H0\n"
     ]
    }
   ],
   "source": [
    "# Import Library\n",
    "from scipy.stats import ttest_ind\n",
    "\n",
    "# Two sample independent t-test\n",
    "result = list(ttest_ind(\n",
    "              df[df['Genre'] == 'Non Fiction']['Price'],\n",
    "              df[df['Genre'] == 'Fiction']['Price'],\n",
    "              equal_var = True\n",
    "             ))\n",
    "\n",
    "print('T-Statistic:', result[0])\n",
    "print('P-Value:', result[1]/2)\n",
    "\n",
    "# Conclusion\n",
    "if result[1]/2 < 0.05:\n",
    "    print('Reject H0')\n",
    "else:\n",
    "    print('Fail to reject H0')"
   ]
  },
  {
   "cell_type": "markdown",
   "metadata": {
    "id": "beSBqCok-KmJ"
   },
   "source": [
    "**Conclusion**: P-value lebih rendah dari tingkat signifikan 0,05, itu berarti kita memiliki cukup bukti untuk menolak Hipotesis Nol. Jadi, Harga Rata-Rata Buku Non Fiksi lebih tinggi dari Harga Buku Fiksi.\n",
    "\n",
    "Kita bisa cek manual menggunakan _pandas groupby_. Data harga (_price_) kita kelompokkan berdasarkan genre buku. Memang kita dapati dari hasil code di bawah ini, bahwa rata-rata harga buku non fiksi (14,8) lebih tinggi dari buku fiksi (10,8)."
   ]
  },
  {
   "cell_type": "code",
   "execution_count": null,
   "metadata": {},
   "outputs": [
    {
     "data": {
      "text/html": [
       "<div>\n",
       "<style scoped>\n",
       "    .dataframe tbody tr th:only-of-type {\n",
       "        vertical-align: middle;\n",
       "    }\n",
       "\n",
       "    .dataframe tbody tr th {\n",
       "        vertical-align: top;\n",
       "    }\n",
       "\n",
       "    .dataframe thead th {\n",
       "        text-align: right;\n",
       "    }\n",
       "</style>\n",
       "<table border=\"1\" class=\"dataframe\">\n",
       "  <thead>\n",
       "    <tr style=\"text-align: right;\">\n",
       "      <th></th>\n",
       "      <th>Price</th>\n",
       "    </tr>\n",
       "    <tr>\n",
       "      <th>Genre</th>\n",
       "      <th></th>\n",
       "    </tr>\n",
       "  </thead>\n",
       "  <tbody>\n",
       "    <tr>\n",
       "      <th>Fiction</th>\n",
       "      <td>10.850000</td>\n",
       "    </tr>\n",
       "    <tr>\n",
       "      <th>Non Fiction</th>\n",
       "      <td>14.841935</td>\n",
       "    </tr>\n",
       "  </tbody>\n",
       "</table>\n",
       "</div>"
      ],
      "text/plain": [
       "                 Price\n",
       "Genre                 \n",
       "Fiction      10.850000\n",
       "Non Fiction  14.841935"
      ]
     },
     "execution_count": 14,
     "metadata": {},
     "output_type": "execute_result"
    }
   ],
   "source": [
    "df[['Price', 'Genre']].groupby(['Genre']).mean()"
   ]
  },
  {
   "cell_type": "markdown",
   "metadata": {},
   "source": [
    "<hr>\n",
    "\n",
    "### **c) T-Test Paired**"
   ]
  },
  {
   "cell_type": "markdown",
   "metadata": {
    "colab_type": "text",
    "id": "tjPokmRb-KmK"
   },
   "source": [
    "Kita akan menguji hipotesis kecepatan reaksi seseorang saat mengendarai mobil antara sambil membuka Smartphone dan tidak membuka Smartphone atau fokus berkendara saja."
   ]
  },
  {
   "cell_type": "code",
   "execution_count": null,
   "metadata": {
    "colab": {},
    "colab_type": "code",
    "id": "TLFTCDQX-KmL"
   },
   "outputs": [],
   "source": [
    "# Creating Dummy Dataset\n",
    "using_Smartphone = [604,556,540,522,469,544,513,470,556,531,599,537,619,536,554,467]\n",
    "no_Smartphone = [636,623,615,672,601,600,542,554,543,520,609,559,595,565,573,554]\n",
    "\n",
    "df_paired = pd.DataFrame({\n",
    "    'No':no_Smartphone,\n",
    "    'Yes':using_Smartphone\n",
    "})\n",
    "\n",
    "df_paired['diff'] = df_paired['Yes'] - df_paired['No']"
   ]
  },
  {
   "cell_type": "code",
   "execution_count": null,
   "metadata": {
    "colab": {
     "base_uri": "https://localhost:8080/",
     "height": 340
    },
    "colab_type": "code",
    "executionInfo": {
     "elapsed": 8457,
     "status": "ok",
     "timestamp": 1593758199165,
     "user": {
      "displayName": "Fathi Muhyi",
      "photoUrl": "https://lh3.googleusercontent.com/a-/AOh14GhChUnD9lp0uYHDjzFDqClMEcljUKZtuV7ArMBsmA=s64",
      "userId": "15936908794749616962"
     },
     "user_tz": -420
    },
    "id": "pl-ZbwQ7-KmO",
    "outputId": "5acd39b3-bf3d-45df-a6c2-40981d0887e4"
   },
   "outputs": [
    {
     "data": {
      "text/html": [
       "<div>\n",
       "<style scoped>\n",
       "    .dataframe tbody tr th:only-of-type {\n",
       "        vertical-align: middle;\n",
       "    }\n",
       "\n",
       "    .dataframe tbody tr th {\n",
       "        vertical-align: top;\n",
       "    }\n",
       "\n",
       "    .dataframe thead th {\n",
       "        text-align: right;\n",
       "    }\n",
       "</style>\n",
       "<table border=\"1\" class=\"dataframe\">\n",
       "  <thead>\n",
       "    <tr style=\"text-align: right;\">\n",
       "      <th></th>\n",
       "      <th>No</th>\n",
       "      <th>Yes</th>\n",
       "      <th>diff</th>\n",
       "    </tr>\n",
       "  </thead>\n",
       "  <tbody>\n",
       "    <tr>\n",
       "      <th>0</th>\n",
       "      <td>636</td>\n",
       "      <td>604</td>\n",
       "      <td>-32</td>\n",
       "    </tr>\n",
       "    <tr>\n",
       "      <th>1</th>\n",
       "      <td>623</td>\n",
       "      <td>556</td>\n",
       "      <td>-67</td>\n",
       "    </tr>\n",
       "    <tr>\n",
       "      <th>2</th>\n",
       "      <td>615</td>\n",
       "      <td>540</td>\n",
       "      <td>-75</td>\n",
       "    </tr>\n",
       "    <tr>\n",
       "      <th>3</th>\n",
       "      <td>672</td>\n",
       "      <td>522</td>\n",
       "      <td>-150</td>\n",
       "    </tr>\n",
       "    <tr>\n",
       "      <th>4</th>\n",
       "      <td>601</td>\n",
       "      <td>469</td>\n",
       "      <td>-132</td>\n",
       "    </tr>\n",
       "    <tr>\n",
       "      <th>5</th>\n",
       "      <td>600</td>\n",
       "      <td>544</td>\n",
       "      <td>-56</td>\n",
       "    </tr>\n",
       "    <tr>\n",
       "      <th>6</th>\n",
       "      <td>542</td>\n",
       "      <td>513</td>\n",
       "      <td>-29</td>\n",
       "    </tr>\n",
       "    <tr>\n",
       "      <th>7</th>\n",
       "      <td>554</td>\n",
       "      <td>470</td>\n",
       "      <td>-84</td>\n",
       "    </tr>\n",
       "    <tr>\n",
       "      <th>8</th>\n",
       "      <td>543</td>\n",
       "      <td>556</td>\n",
       "      <td>13</td>\n",
       "    </tr>\n",
       "    <tr>\n",
       "      <th>9</th>\n",
       "      <td>520</td>\n",
       "      <td>531</td>\n",
       "      <td>11</td>\n",
       "    </tr>\n",
       "  </tbody>\n",
       "</table>\n",
       "</div>"
      ],
      "text/plain": [
       "    No  Yes  diff\n",
       "0  636  604   -32\n",
       "1  623  556   -67\n",
       "2  615  540   -75\n",
       "3  672  522  -150\n",
       "4  601  469  -132\n",
       "5  600  544   -56\n",
       "6  542  513   -29\n",
       "7  554  470   -84\n",
       "8  543  556    13\n",
       "9  520  531    11"
      ]
     },
     "execution_count": 16,
     "metadata": {},
     "output_type": "execute_result"
    }
   ],
   "source": [
    "df_paired.head(10)"
   ]
  },
  {
   "cell_type": "markdown",
   "metadata": {
    "colab_type": "text",
    "id": "bqPZAp-E-KmU"
   },
   "source": [
    "**Ho** : Mean Population of difference (yes-no) = 0\n",
    "<br>\n",
    "**Ha** : Mean Population of difference (yes-no) < 0"
   ]
  },
  {
   "cell_type": "code",
   "execution_count": null,
   "metadata": {
    "colab": {
     "base_uri": "https://localhost:8080/",
     "height": 52
    },
    "colab_type": "code",
    "executionInfo": {
     "elapsed": 1363,
     "status": "ok",
     "timestamp": 1593760427278,
     "user": {
      "displayName": "Fathi Muhyi",
      "photoUrl": "https://lh3.googleusercontent.com/a-/AOh14GhChUnD9lp0uYHDjzFDqClMEcljUKZtuV7ArMBsmA=s64",
      "userId": "15936908794749616962"
     },
     "user_tz": -420
    },
    "id": "rKo0T-2Q-KmU",
    "outputId": "090e497b-8512-4266-b909-0ac2d5204b7c"
   },
   "outputs": [
    {
     "name": "stdout",
     "output_type": "stream",
     "text": [
      "0.0010497189034628326\n",
      "-3.7091357792693707\n",
      "Tolak H0\n"
     ]
    }
   ],
   "source": [
    "tset, pval = ttest_1samp(df_paired['diff'], 0)\n",
    "print(pval/2)\n",
    "print(tset)\n",
    "\n",
    "# Conclusion\n",
    "if pval/2 < 0.05:\n",
    "    print('Reject H0')\n",
    "else:\n",
    "    print('Fail to reject H0')"
   ]
  },
  {
   "cell_type": "markdown",
   "metadata": {},
   "source": [
    "Karena p-value kurang dari tingkat signifikansi 0.05, maka kita  memiliki cukup bukti untuk menolak hipotesis nol. Artinya, kecepatan reaksi seseorang menurun telah memegang Smartphone ketika mengendarai mobil."
   ]
  },
  {
   "cell_type": "markdown",
   "metadata": {},
   "source": [
    "<hr>\n",
    "\n",
    "### **d) One-Way Anova F-test for more than two population mean**"
   ]
  },
  {
   "cell_type": "markdown",
   "metadata": {},
   "source": [
    "Kita buat dummy dataset yang berisi data jam belajar siswa serta jenis transportasi yang digunakan untuk berangkat ke sekolah. Kita hendak menguji apakah ada perbedaan rata-rata belajar antara kelompok siswa yang berjalan kaki ke sekolah, dengan yang menggunakan transportasi publik, serta dengan yang mengendarai kendaraan pribadi."
   ]
  },
  {
   "cell_type": "code",
   "execution_count": null,
   "metadata": {
    "ExecuteTime": {
     "end_time": "2019-08-21T03:33:42.963397Z",
     "start_time": "2019-08-21T03:33:42.959438Z"
    },
    "colab": {},
    "colab_type": "code",
    "id": "f9qaYW48-KmX"
   },
   "outputs": [
    {
     "data": {
      "text/html": [
       "<div>\n",
       "<style scoped>\n",
       "    .dataframe tbody tr th:only-of-type {\n",
       "        vertical-align: middle;\n",
       "    }\n",
       "\n",
       "    .dataframe tbody tr th {\n",
       "        vertical-align: top;\n",
       "    }\n",
       "\n",
       "    .dataframe thead th {\n",
       "        text-align: right;\n",
       "    }\n",
       "</style>\n",
       "<table border=\"1\" class=\"dataframe\">\n",
       "  <thead>\n",
       "    <tr style=\"text-align: right;\">\n",
       "      <th></th>\n",
       "      <th>Transportation</th>\n",
       "      <th>Study Hour</th>\n",
       "    </tr>\n",
       "  </thead>\n",
       "  <tbody>\n",
       "    <tr>\n",
       "      <th>20</th>\n",
       "      <td>Private</td>\n",
       "      <td>5</td>\n",
       "    </tr>\n",
       "    <tr>\n",
       "      <th>2</th>\n",
       "      <td>Walking</td>\n",
       "      <td>5</td>\n",
       "    </tr>\n",
       "    <tr>\n",
       "      <th>25</th>\n",
       "      <td>Private</td>\n",
       "      <td>5</td>\n",
       "    </tr>\n",
       "    <tr>\n",
       "      <th>15</th>\n",
       "      <td>Public</td>\n",
       "      <td>6</td>\n",
       "    </tr>\n",
       "    <tr>\n",
       "      <th>1</th>\n",
       "      <td>Walking</td>\n",
       "      <td>4</td>\n",
       "    </tr>\n",
       "  </tbody>\n",
       "</table>\n",
       "</div>"
      ],
      "text/plain": [
       "   Transportation  Study Hour\n",
       "20        Private           5\n",
       "2         Walking           5\n",
       "25        Private           5\n",
       "15         Public           6\n",
       "1         Walking           4"
      ]
     },
     "execution_count": 21,
     "metadata": {},
     "output_type": "execute_result"
    }
   ],
   "source": [
    "# Create Dummy Dataset\n",
    "\n",
    "transport = []\n",
    "method = ['Walking ', 'Public ', 'Private ']\n",
    "for i in method:\n",
    "    transport.extend((i*10).split())\n",
    "    \n",
    "transportdf = pd.concat([pd.Series(transport, name = 'Transportation'), \n",
    "                         pd.Series([5,4,5,6,5,3,2,4,5,5,7,7,5,6,4,6,5,5,6,7,5,4,5,6,6,5,5,5,7,7], name = 'Study Hour')], axis =1)\n",
    "transportdf.sample(5)"
   ]
  },
  {
   "cell_type": "markdown",
   "metadata": {
    "colab_type": "text",
    "id": "bqPZAp-E-KmU"
   },
   "source": [
    "**Hipotesis**\n",
    "\n",
    "**Ho** : Rata-rata jam belajar siswa yang berjalan kaki = siswa yang memakai transportasi publik = siswa yang menggunakan kendaraan pribadi\n",
    "<br>\n",
    "**Ha** : Minimal ada satu pasang yang rata-rata jam belajarnya tidak sama. Tapi kita tahu."
   ]
  },
  {
   "cell_type": "code",
   "execution_count": null,
   "metadata": {
    "ExecuteTime": {
     "end_time": "2019-08-21T06:58:46.375385Z",
     "start_time": "2019-08-21T06:58:46.366443Z"
    },
    "colab": {
     "base_uri": "https://localhost:8080/",
     "height": 35
    },
    "colab_type": "code",
    "executionInfo": {
     "elapsed": 10067,
     "status": "ok",
     "timestamp": 1593758200889,
     "user": {
      "displayName": "Fathi Muhyi",
      "photoUrl": "https://lh3.googleusercontent.com/a-/AOh14GhChUnD9lp0uYHDjzFDqClMEcljUKZtuV7ArMBsmA=s64",
      "userId": "15936908794749616962"
     },
     "user_tz": -420
    },
    "id": "AjAbU1yw-Kmi",
    "outputId": "e2d49c56-d30a-4ffb-82f4-d82824ab7519"
   },
   "outputs": [
    {
     "name": "stdout",
     "output_type": "stream",
     "text": [
      "Statistic 4.809836065573772\n",
      "P-Value 0.0163405142361861\n",
      "Tolak H0\n"
     ]
    }
   ],
   "source": [
    "# Importing One-Way ANOVA from Scipy. One-way ANOVA is called F one-way as well because the test follow the F-Distribution\n",
    "from scipy.stats import f_oneway\n",
    "\n",
    "stat, pval = f_oneway(transportdf[transportdf['Transportation'] == 'Walking']['Study Hour'],\n",
    "                      transportdf[transportdf['Transportation'] == 'Public']['Study Hour'],\n",
    "                      transportdf[transportdf['Transportation'] == 'Private']['Study Hour'],\n",
    "                     )\n",
    "print('Statistic', stat)\n",
    "print('P-Value', pval)\n",
    "\n",
    "# Conclusion\n",
    "if pval < 0.05:\n",
    "    print('Reject H0')\n",
    "else:\n",
    "    print('Fail to reject H0')"
   ]
  },
  {
   "cell_type": "markdown",
   "metadata": {
    "colab_type": "text",
    "id": "u3h6pX9G-Kml"
   },
   "source": [
    "P-value kurang dari tingkat signifikansi yang telah kita tetapkan yaitu 0,05. Artinya, kita cukup bukti untuk menolak Hipotesis Nol. Sehingga minimal ada satu pasangan yang tidak sama.\n",
    "\n",
    "Jika kita lihat dengan agregasi data, berapa rata-rata jam belajar di tiap kelompok?"
   ]
  },
  {
   "cell_type": "code",
   "execution_count": null,
   "metadata": {},
   "outputs": [
    {
     "data": {
      "text/html": [
       "<div>\n",
       "<style scoped>\n",
       "    .dataframe tbody tr th:only-of-type {\n",
       "        vertical-align: middle;\n",
       "    }\n",
       "\n",
       "    .dataframe tbody tr th {\n",
       "        vertical-align: top;\n",
       "    }\n",
       "\n",
       "    .dataframe thead th {\n",
       "        text-align: right;\n",
       "    }\n",
       "</style>\n",
       "<table border=\"1\" class=\"dataframe\">\n",
       "  <thead>\n",
       "    <tr style=\"text-align: right;\">\n",
       "      <th></th>\n",
       "      <th>Study Hour</th>\n",
       "    </tr>\n",
       "    <tr>\n",
       "      <th>Transportation</th>\n",
       "      <th></th>\n",
       "    </tr>\n",
       "  </thead>\n",
       "  <tbody>\n",
       "    <tr>\n",
       "      <th>Private</th>\n",
       "      <td>5.5</td>\n",
       "    </tr>\n",
       "    <tr>\n",
       "      <th>Public</th>\n",
       "      <td>5.8</td>\n",
       "    </tr>\n",
       "    <tr>\n",
       "      <th>Walking</th>\n",
       "      <td>4.4</td>\n",
       "    </tr>\n",
       "  </tbody>\n",
       "</table>\n",
       "</div>"
      ],
      "text/plain": [
       "                Study Hour\n",
       "Transportation            \n",
       "Private                5.5\n",
       "Public                 5.8\n",
       "Walking                4.4"
      ]
     },
     "execution_count": 24,
     "metadata": {},
     "output_type": "execute_result"
    }
   ],
   "source": [
    "transportdf.groupby(['Transportation']).mean()"
   ]
  },
  {
   "cell_type": "markdown",
   "metadata": {},
   "source": [
    "<hr>"
   ]
  },
  {
   "cell_type": "markdown",
   "metadata": {},
   "source": [
    "<br>"
   ]
  },
  {
   "cell_type": "markdown",
   "metadata": {},
   "source": [
    "# __``Hypothesis Testing``__\n",
    "\n",
    "<hr>"
   ]
  },
  {
   "cell_type": "markdown",
   "metadata": {},
   "source": [
    "Uji hipotesis adalah metode pengambilan keputusan yang didasarkan dari analisis data, baik dari percobaan yang terkontrol, maupun dari observasi (tidak terkontrol). Dalam statistik sebuah hasil bisa dikatakan signifikan secara statistik jika kejadian tersebut hampir tidak mungkin disebabkan oleh faktor yang kebetulan, sesuai dengan batas probabilitas yang sudah ditentukan sebelumnya.\n",
    "\n",
    "Uji hipotesis kadang disebut juga \"konfirmasi analisis data\". Keputusan dari uji hipotesis hampir selalu dibuat berdasarkan pengujian hipotesis nol. Ini adalah pengujian untuk menjawab pertanyaan yang mengasumsikan hipotesis nol adalah benar. [[1]](https://id.wikipedia.org/wiki/Uji_hipotesis)"
   ]
  },
  {
   "cell_type": "markdown",
   "metadata": {},
   "source": [
    "### **1. Import Libraries**"
   ]
  },
  {
   "cell_type": "markdown",
   "metadata": {},
   "source": [
    "Pada sesi ini, kita menggunakan library Pandas untuk membuka dataset. Sedangkan numpy atau disingkat np digunakan untuk membantu data analysis. Library lain yang dipakai untuk uji berbagai jenis uji hipotesis akan di-import saat akan melakukan pengujian di bawah nanti."
   ]
  },
  {
   "cell_type": "code",
   "execution_count": null,
   "metadata": {},
   "outputs": [],
   "source": [
    "import pandas as pd\n",
    "import numpy as np"
   ]
  },
  {
   "cell_type": "markdown",
   "metadata": {},
   "source": [
    "### **2. Intro to Dataset: ``Amazon Best Selling Books``**"
   ]
  },
  {
   "cell_type": "markdown",
   "metadata": {},
   "source": [
    "Dataset ``Amazon Best Selling Books`` adalah data publik dan legal. Anda dapat membaca deskripsi dan mengunduhnya di website [Kaggle](https://www.kaggle.com/sootersaalu/amazon-top-50-bestselling-books-2009-2019). Dataset ini berisi tentang 50 buku penjualan terbaik di Amazon dari tahun 2009 sampai tahun 2019. Data telah dikategorikan ke dalam buku fiksi dan non-fiksi menggunakan Goodreads."
   ]
  },
  {
   "cell_type": "markdown",
   "metadata": {},
   "source": [
    "Mari kita buka dataset menggunakan pandas (_pd.read_csv_), lalu simpan dataset ke dalam variabel dengan nama df. Data dapat kita lihat sekilas (5 baris awal) terlebih dahulu dengan _df.head()_"
   ]
  },
  {
   "cell_type": "code",
   "execution_count": null,
   "metadata": {
    "colab": {
     "base_uri": "https://localhost:8080/",
     "height": 271
    },
    "executionInfo": {
     "elapsed": 884,
     "status": "ok",
     "timestamp": 1609052763884,
     "user": {
      "displayName": "Mohammad Nurrokim",
      "photoUrl": "https://lh3.googleusercontent.com/a-/AOh14GglrNR8qq_zDOjNkxDnMnUxZiJ-AeK7Z3gFeoZX=s64",
      "userId": "12396856573034788882"
     },
     "user_tz": -420
    },
    "id": "FsGIL7sr_DJi",
    "outputId": "ad61510c-a549-40e9-98af-0de971ce8da9"
   },
   "outputs": [
    {
     "data": {
      "text/html": [
       "<div>\n",
       "<style scoped>\n",
       "    .dataframe tbody tr th:only-of-type {\n",
       "        vertical-align: middle;\n",
       "    }\n",
       "\n",
       "    .dataframe tbody tr th {\n",
       "        vertical-align: top;\n",
       "    }\n",
       "\n",
       "    .dataframe thead th {\n",
       "        text-align: right;\n",
       "    }\n",
       "</style>\n",
       "<table border=\"1\" class=\"dataframe\">\n",
       "  <thead>\n",
       "    <tr style=\"text-align: right;\">\n",
       "      <th></th>\n",
       "      <th>Name</th>\n",
       "      <th>Author</th>\n",
       "      <th>User Rating</th>\n",
       "      <th>Reviews</th>\n",
       "      <th>Price</th>\n",
       "      <th>Year</th>\n",
       "      <th>Genre</th>\n",
       "    </tr>\n",
       "  </thead>\n",
       "  <tbody>\n",
       "    <tr>\n",
       "      <th>0</th>\n",
       "      <td>10-Day Green Smoothie Cleanse</td>\n",
       "      <td>JJ Smith</td>\n",
       "      <td>4.7</td>\n",
       "      <td>17350</td>\n",
       "      <td>8</td>\n",
       "      <td>2016</td>\n",
       "      <td>Non Fiction</td>\n",
       "    </tr>\n",
       "    <tr>\n",
       "      <th>1</th>\n",
       "      <td>11/22/63: A Novel</td>\n",
       "      <td>Stephen King</td>\n",
       "      <td>4.6</td>\n",
       "      <td>2052</td>\n",
       "      <td>22</td>\n",
       "      <td>2011</td>\n",
       "      <td>Fiction</td>\n",
       "    </tr>\n",
       "    <tr>\n",
       "      <th>2</th>\n",
       "      <td>12 Rules for Life: An Antidote to Chaos</td>\n",
       "      <td>Jordan B. Peterson</td>\n",
       "      <td>4.7</td>\n",
       "      <td>18979</td>\n",
       "      <td>15</td>\n",
       "      <td>2018</td>\n",
       "      <td>Non Fiction</td>\n",
       "    </tr>\n",
       "    <tr>\n",
       "      <th>3</th>\n",
       "      <td>1984 (Signet Classics)</td>\n",
       "      <td>George Orwell</td>\n",
       "      <td>4.7</td>\n",
       "      <td>21424</td>\n",
       "      <td>6</td>\n",
       "      <td>2017</td>\n",
       "      <td>Fiction</td>\n",
       "    </tr>\n",
       "    <tr>\n",
       "      <th>4</th>\n",
       "      <td>5,000 Awesome Facts (About Everything!) (Natio...</td>\n",
       "      <td>National Geographic Kids</td>\n",
       "      <td>4.8</td>\n",
       "      <td>7665</td>\n",
       "      <td>12</td>\n",
       "      <td>2019</td>\n",
       "      <td>Non Fiction</td>\n",
       "    </tr>\n",
       "  </tbody>\n",
       "</table>\n",
       "</div>"
      ],
      "text/plain": [
       "                                                Name  \\\n",
       "0                      10-Day Green Smoothie Cleanse   \n",
       "1                                  11/22/63: A Novel   \n",
       "2            12 Rules for Life: An Antidote to Chaos   \n",
       "3                             1984 (Signet Classics)   \n",
       "4  5,000 Awesome Facts (About Everything!) (Natio...   \n",
       "\n",
       "                     Author  User Rating  Reviews  Price  Year        Genre  \n",
       "0                  JJ Smith          4.7    17350      8  2016  Non Fiction  \n",
       "1              Stephen King          4.6     2052     22  2011      Fiction  \n",
       "2        Jordan B. Peterson          4.7    18979     15  2018  Non Fiction  \n",
       "3             George Orwell          4.7    21424      6  2017      Fiction  \n",
       "4  National Geographic Kids          4.8     7665     12  2019  Non Fiction  "
      ]
     },
     "execution_count": 2,
     "metadata": {},
     "output_type": "execute_result"
    }
   ],
   "source": [
    "df = pd.read_csv('bestsellers with categories.csv')\n",
    "df.head()"
   ]
  },
  {
   "cell_type": "markdown",
   "metadata": {},
   "source": [
    "**Data Info**\n",
    "\n",
    "Gambaran awal mengenai dataset dapat kita lihat menggunakan (_df.info()_). Melalui cara ini kita dapat melihat kolom apa saja di dataset, jumlah baris data yang terisi (tidak kosong), dan tipe datanya."
   ]
  },
  {
   "cell_type": "code",
   "execution_count": null,
   "metadata": {},
   "outputs": [
    {
     "name": "stdout",
     "output_type": "stream",
     "text": [
      "<class 'pandas.core.frame.DataFrame'>\n",
      "RangeIndex: 550 entries, 0 to 549\n",
      "Data columns (total 7 columns):\n",
      " #   Column       Non-Null Count  Dtype  \n",
      "---  ------       --------------  -----  \n",
      " 0   Name         550 non-null    object \n",
      " 1   Author       550 non-null    object \n",
      " 2   User Rating  550 non-null    float64\n",
      " 3   Reviews      550 non-null    int64  \n",
      " 4   Price        550 non-null    int64  \n",
      " 5   Year         550 non-null    int64  \n",
      " 6   Genre        550 non-null    object \n",
      "dtypes: float64(1), int64(3), object(3)\n",
      "memory usage: 30.2+ KB\n"
     ]
    }
   ],
   "source": [
    "df.info()"
   ]
  },
  {
   "cell_type": "markdown",
   "metadata": {},
   "source": [
    "<hr>\n",
    "\n",
    "## **Hypothesis Testing**: ``Categorical``\n",
    "\n",
    "Kita akan mempraktikkan beberapa uji hipotesis untuk jenis data kategorikal di antaranya _Proportion One Population Z-Test, Proportion Two Population Z-Test,_ dan _Chi-squared Test for Independence between Two Categorical Variables._ \n",
    "\n",
    "Berikut ini contoh praktik uji hipotesis untuk jenis data kategorikal:"
   ]
  },
  {
   "cell_type": "markdown",
   "metadata": {},
   "source": [
    "<hr>\n",
    "\n",
    "### **a) Proportion One Population Z-test**\n",
    "\n",
    "Proportion One Population Z-Test ini kita gunakan untuk menguji apakah proporsi suatu data kategorikal sesuai dengan asumsi teoritis yang kita tetapkan. Misalnya, pada dataset yang kita miliki di bawah ini, kita uji apakah proporsi jumlah buku fiksi di atas 50%. Atau dengan kata lain, jumlahnya lebih banyak dibanding buku non-fiksi."
   ]
  },
  {
   "cell_type": "code",
   "execution_count": null,
   "metadata": {},
   "outputs": [
    {
     "data": {
      "text/html": [
       "<div>\n",
       "<style scoped>\n",
       "    .dataframe tbody tr th:only-of-type {\n",
       "        vertical-align: middle;\n",
       "    }\n",
       "\n",
       "    .dataframe tbody tr th {\n",
       "        vertical-align: top;\n",
       "    }\n",
       "\n",
       "    .dataframe thead th {\n",
       "        text-align: right;\n",
       "    }\n",
       "</style>\n",
       "<table border=\"1\" class=\"dataframe\">\n",
       "  <thead>\n",
       "    <tr style=\"text-align: right;\">\n",
       "      <th></th>\n",
       "      <th>Name</th>\n",
       "      <th>Author</th>\n",
       "      <th>User Rating</th>\n",
       "      <th>Reviews</th>\n",
       "      <th>Price</th>\n",
       "      <th>Year</th>\n",
       "      <th>Genre</th>\n",
       "    </tr>\n",
       "  </thead>\n",
       "  <tbody>\n",
       "    <tr>\n",
       "      <th>0</th>\n",
       "      <td>10-Day Green Smoothie Cleanse</td>\n",
       "      <td>JJ Smith</td>\n",
       "      <td>4.7</td>\n",
       "      <td>17350</td>\n",
       "      <td>8</td>\n",
       "      <td>2016</td>\n",
       "      <td>Non Fiction</td>\n",
       "    </tr>\n",
       "    <tr>\n",
       "      <th>1</th>\n",
       "      <td>11/22/63: A Novel</td>\n",
       "      <td>Stephen King</td>\n",
       "      <td>4.6</td>\n",
       "      <td>2052</td>\n",
       "      <td>22</td>\n",
       "      <td>2011</td>\n",
       "      <td>Fiction</td>\n",
       "    </tr>\n",
       "    <tr>\n",
       "      <th>2</th>\n",
       "      <td>12 Rules for Life: An Antidote to Chaos</td>\n",
       "      <td>Jordan B. Peterson</td>\n",
       "      <td>4.7</td>\n",
       "      <td>18979</td>\n",
       "      <td>15</td>\n",
       "      <td>2018</td>\n",
       "      <td>Non Fiction</td>\n",
       "    </tr>\n",
       "    <tr>\n",
       "      <th>3</th>\n",
       "      <td>1984 (Signet Classics)</td>\n",
       "      <td>George Orwell</td>\n",
       "      <td>4.7</td>\n",
       "      <td>21424</td>\n",
       "      <td>6</td>\n",
       "      <td>2017</td>\n",
       "      <td>Fiction</td>\n",
       "    </tr>\n",
       "    <tr>\n",
       "      <th>4</th>\n",
       "      <td>5,000 Awesome Facts (About Everything!) (Natio...</td>\n",
       "      <td>National Geographic Kids</td>\n",
       "      <td>4.8</td>\n",
       "      <td>7665</td>\n",
       "      <td>12</td>\n",
       "      <td>2019</td>\n",
       "      <td>Non Fiction</td>\n",
       "    </tr>\n",
       "  </tbody>\n",
       "</table>\n",
       "</div>"
      ],
      "text/plain": [
       "                                                Name  \\\n",
       "0                      10-Day Green Smoothie Cleanse   \n",
       "1                                  11/22/63: A Novel   \n",
       "2            12 Rules for Life: An Antidote to Chaos   \n",
       "3                             1984 (Signet Classics)   \n",
       "4  5,000 Awesome Facts (About Everything!) (Natio...   \n",
       "\n",
       "                     Author  User Rating  Reviews  Price  Year        Genre  \n",
       "0                  JJ Smith          4.7    17350      8  2016  Non Fiction  \n",
       "1              Stephen King          4.6     2052     22  2011      Fiction  \n",
       "2        Jordan B. Peterson          4.7    18979     15  2018  Non Fiction  \n",
       "3             George Orwell          4.7    21424      6  2017      Fiction  \n",
       "4  National Geographic Kids          4.8     7665     12  2019  Non Fiction  "
      ]
     },
     "execution_count": 17,
     "metadata": {},
     "output_type": "execute_result"
    }
   ],
   "source": [
    "df.head()"
   ]
  },
  {
   "cell_type": "markdown",
   "metadata": {},
   "source": [
    "Sebelum kita lakukan uji hipotesis Z-Test, kita ubah dulu data kategorikal menjadi angka (numerikal). Genre _Fiction_ kita ubah menjadi 1, lalu genre _Non Fiction_ menjadi 0. Kita buat kolom baru (_Genre_Bin_) hasil konversi dari kolom _Genre_."
   ]
  },
  {
   "cell_type": "code",
   "execution_count": null,
   "metadata": {},
   "outputs": [
    {
     "data": {
      "text/html": [
       "<div>\n",
       "<style scoped>\n",
       "    .dataframe tbody tr th:only-of-type {\n",
       "        vertical-align: middle;\n",
       "    }\n",
       "\n",
       "    .dataframe tbody tr th {\n",
       "        vertical-align: top;\n",
       "    }\n",
       "\n",
       "    .dataframe thead th {\n",
       "        text-align: right;\n",
       "    }\n",
       "</style>\n",
       "<table border=\"1\" class=\"dataframe\">\n",
       "  <thead>\n",
       "    <tr style=\"text-align: right;\">\n",
       "      <th></th>\n",
       "      <th>Name</th>\n",
       "      <th>Author</th>\n",
       "      <th>User Rating</th>\n",
       "      <th>Reviews</th>\n",
       "      <th>Price</th>\n",
       "      <th>Year</th>\n",
       "      <th>Genre</th>\n",
       "      <th>Genre_Bin</th>\n",
       "    </tr>\n",
       "  </thead>\n",
       "  <tbody>\n",
       "    <tr>\n",
       "      <th>0</th>\n",
       "      <td>10-Day Green Smoothie Cleanse</td>\n",
       "      <td>JJ Smith</td>\n",
       "      <td>4.7</td>\n",
       "      <td>17350</td>\n",
       "      <td>8</td>\n",
       "      <td>2016</td>\n",
       "      <td>Non Fiction</td>\n",
       "      <td>0</td>\n",
       "    </tr>\n",
       "    <tr>\n",
       "      <th>1</th>\n",
       "      <td>11/22/63: A Novel</td>\n",
       "      <td>Stephen King</td>\n",
       "      <td>4.6</td>\n",
       "      <td>2052</td>\n",
       "      <td>22</td>\n",
       "      <td>2011</td>\n",
       "      <td>Fiction</td>\n",
       "      <td>1</td>\n",
       "    </tr>\n",
       "    <tr>\n",
       "      <th>2</th>\n",
       "      <td>12 Rules for Life: An Antidote to Chaos</td>\n",
       "      <td>Jordan B. Peterson</td>\n",
       "      <td>4.7</td>\n",
       "      <td>18979</td>\n",
       "      <td>15</td>\n",
       "      <td>2018</td>\n",
       "      <td>Non Fiction</td>\n",
       "      <td>0</td>\n",
       "    </tr>\n",
       "    <tr>\n",
       "      <th>3</th>\n",
       "      <td>1984 (Signet Classics)</td>\n",
       "      <td>George Orwell</td>\n",
       "      <td>4.7</td>\n",
       "      <td>21424</td>\n",
       "      <td>6</td>\n",
       "      <td>2017</td>\n",
       "      <td>Fiction</td>\n",
       "      <td>1</td>\n",
       "    </tr>\n",
       "    <tr>\n",
       "      <th>4</th>\n",
       "      <td>5,000 Awesome Facts (About Everything!) (Natio...</td>\n",
       "      <td>National Geographic Kids</td>\n",
       "      <td>4.8</td>\n",
       "      <td>7665</td>\n",
       "      <td>12</td>\n",
       "      <td>2019</td>\n",
       "      <td>Non Fiction</td>\n",
       "      <td>0</td>\n",
       "    </tr>\n",
       "  </tbody>\n",
       "</table>\n",
       "</div>"
      ],
      "text/plain": [
       "                                                Name  \\\n",
       "0                      10-Day Green Smoothie Cleanse   \n",
       "1                                  11/22/63: A Novel   \n",
       "2            12 Rules for Life: An Antidote to Chaos   \n",
       "3                             1984 (Signet Classics)   \n",
       "4  5,000 Awesome Facts (About Everything!) (Natio...   \n",
       "\n",
       "                     Author  User Rating  Reviews  Price  Year        Genre  \\\n",
       "0                  JJ Smith          4.7    17350      8  2016  Non Fiction   \n",
       "1              Stephen King          4.6     2052     22  2011      Fiction   \n",
       "2        Jordan B. Peterson          4.7    18979     15  2018  Non Fiction   \n",
       "3             George Orwell          4.7    21424      6  2017      Fiction   \n",
       "4  National Geographic Kids          4.8     7665     12  2019  Non Fiction   \n",
       "\n",
       "   Genre_Bin  \n",
       "0          0  \n",
       "1          1  \n",
       "2          0  \n",
       "3          1  \n",
       "4          0  "
      ]
     },
     "execution_count": 4,
     "metadata": {},
     "output_type": "execute_result"
    }
   ],
   "source": [
    "df['Genre_Bin'] = np.where(df['Genre'] == 'Fiction', 1, 0)\n",
    "df.head()"
   ]
  },
  {
   "cell_type": "markdown",
   "metadata": {},
   "source": [
    "Kita hitung dulu berdasarkan data yang ada, berapa proporsi jumlah buku fiksi di toko buku kita. Kemudian kita uji hipotesis proporsi jumlah buku fiksi ini."
   ]
  },
  {
   "cell_type": "code",
   "execution_count": null,
   "metadata": {},
   "outputs": [
    {
     "name": "stdout",
     "output_type": "stream",
     "text": [
      "Proporsi jumlah buku fiksi di toko buku kita adalah 0.43636363636363634\n"
     ]
    }
   ],
   "source": [
    "number_fiction = np.sum(df['Genre_Bin'])\n",
    "total = len(df['Genre_Bin'])\n",
    "fiction_rate = number_fiction / total\n",
    "\n",
    "print('Proporsi jumlah buku fiksi di toko buku kita adalah', fiction_rate)"
   ]
  },
  {
   "cell_type": "markdown",
   "metadata": {
    "id": "6OD3Hmxu-Kl7"
   },
   "source": [
    "**Hypothesis**:\n",
    "<br>\n",
    "**Ho**: Proporsi jumlah buku fiksi = 0.5\n",
    "<br>\n",
    "**Ha**: Proporsi jumlah buku fiksi > 0.5"
   ]
  },
  {
   "cell_type": "code",
   "execution_count": null,
   "metadata": {},
   "outputs": [
    {
     "name": "stdout",
     "output_type": "stream",
     "text": [
      "p-value 1.0\n"
     ]
    }
   ],
   "source": [
    "# Import Library\n",
    "from statsmodels.stats.proportion import proportions_ztest\n",
    "\n",
    "# Proportion One Population Z-test\n",
    "z_stat, p_value = proportions_ztest(fiction_rate, total, 0.5, alternative = 'larger')\n",
    "\n",
    "print('p-value', p_value)"
   ]
  },
  {
   "cell_type": "markdown",
   "metadata": {
    "id": "zQVAyJ7ICA1u"
   },
   "source": [
    "**Conclusion**: P-value lebih besar dari 0,05 dengan taraf signifikan 5%. Artinya, tidak ada cukup bukti bahwa proporsi jumlah buku fiksi lebih besar dari 50%.\n",
    "\n",
    "Kita bisa hitung menggunakan pandas (_.value_counts()_). Seperti hasil code di bawah ini, proporsi buku fiksi memang tidak lebih banyak dibanding buku non-fiksi."
   ]
  },
  {
   "cell_type": "code",
   "execution_count": null,
   "metadata": {},
   "outputs": [
    {
     "data": {
      "text/plain": [
       "Non Fiction    310\n",
       "Fiction        240\n",
       "Name: Genre, dtype: int64"
      ]
     },
     "execution_count": 7,
     "metadata": {},
     "output_type": "execute_result"
    }
   ],
   "source": [
    "df['Genre'].value_counts()"
   ]
  },
  {
   "cell_type": "markdown",
   "metadata": {},
   "source": [
    "<hr>\n",
    "\n",
    "### **b) Proportion Two Population Z-test**"
   ]
  },
  {
   "cell_type": "markdown",
   "metadata": {
    "id": "IBgkrVIlXJdK"
   },
   "source": [
    "**Studi Kasus: AB Testing**\n",
    "\n",
    "Sebuah toko online meluncurkan desain web baru. Mereka secara acak menugaskan pengunjung ke desain lama atau desain baru. Jumlah pengunjung tiap desain ditetapkan sebanyak 1000 pengunjung. Anda diminta kembali melakukan pengujian hipotesis apakah tingkat konversi meningkat atau tidak? Atau dengan kata lain, apakah pengunjung desain baru lebih banyak melakukan transaksi pembelian dibanding desain lama.\n",
    "\n",
    "**Membuat Dummy Dataset**"
   ]
  },
  {
   "cell_type": "code",
   "execution_count": 3,
   "metadata": {
    "id": "d18bQUSYFwM1"
   },
   "outputs": [],
   "source": [
    "visitor_data_before = np.random.binomial(1, 0.5, 1000)\n",
    "visitor_data_after = np.random.binomial(1, 0.7, 1000)\n",
    "visitor_data_before = np.where(visitor_data_before == 1, 'buying','no buying')\n",
    "visitor_data_after = np.where(visitor_data_after == 1,'buying','no buying')"
   ]
  },
  {
   "cell_type": "code",
   "execution_count": 4,
   "metadata": {
    "id": "ayYXxFjxGbPE"
   },
   "outputs": [],
   "source": [
    "df_before = pd.DataFrame({'layout':'old layout', 'conversion': visitor_data_before})\n",
    "df_after = pd.DataFrame({'layout':'new layout', 'conversion': visitor_data_after})"
   ]
  },
  {
   "cell_type": "code",
   "execution_count": 5,
   "metadata": {
    "colab": {
     "base_uri": "https://localhost:8080/",
     "height": 399
    },
    "id": "ssLXsDZdHYcX",
    "outputId": "2e2e498e-fed2-4174-c78b-a1267bbd2ebd"
   },
   "outputs": [
    {
     "data": {
      "text/html": [
       "<div>\n",
       "<style scoped>\n",
       "    .dataframe tbody tr th:only-of-type {\n",
       "        vertical-align: middle;\n",
       "    }\n",
       "\n",
       "    .dataframe tbody tr th {\n",
       "        vertical-align: top;\n",
       "    }\n",
       "\n",
       "    .dataframe thead th {\n",
       "        text-align: right;\n",
       "    }\n",
       "</style>\n",
       "<table border=\"1\" class=\"dataframe\">\n",
       "  <thead>\n",
       "    <tr style=\"text-align: right;\">\n",
       "      <th></th>\n",
       "      <th>layout</th>\n",
       "      <th>conversion</th>\n",
       "    </tr>\n",
       "  </thead>\n",
       "  <tbody>\n",
       "    <tr>\n",
       "      <th>0</th>\n",
       "      <td>old layout</td>\n",
       "      <td>buying</td>\n",
       "    </tr>\n",
       "    <tr>\n",
       "      <th>1</th>\n",
       "      <td>old layout</td>\n",
       "      <td>buying</td>\n",
       "    </tr>\n",
       "    <tr>\n",
       "      <th>2</th>\n",
       "      <td>old layout</td>\n",
       "      <td>buying</td>\n",
       "    </tr>\n",
       "    <tr>\n",
       "      <th>3</th>\n",
       "      <td>old layout</td>\n",
       "      <td>no buying</td>\n",
       "    </tr>\n",
       "    <tr>\n",
       "      <th>4</th>\n",
       "      <td>old layout</td>\n",
       "      <td>no buying</td>\n",
       "    </tr>\n",
       "    <tr>\n",
       "      <th>...</th>\n",
       "      <td>...</td>\n",
       "      <td>...</td>\n",
       "    </tr>\n",
       "    <tr>\n",
       "      <th>995</th>\n",
       "      <td>new layout</td>\n",
       "      <td>no buying</td>\n",
       "    </tr>\n",
       "    <tr>\n",
       "      <th>996</th>\n",
       "      <td>new layout</td>\n",
       "      <td>no buying</td>\n",
       "    </tr>\n",
       "    <tr>\n",
       "      <th>997</th>\n",
       "      <td>new layout</td>\n",
       "      <td>buying</td>\n",
       "    </tr>\n",
       "    <tr>\n",
       "      <th>998</th>\n",
       "      <td>new layout</td>\n",
       "      <td>buying</td>\n",
       "    </tr>\n",
       "    <tr>\n",
       "      <th>999</th>\n",
       "      <td>new layout</td>\n",
       "      <td>buying</td>\n",
       "    </tr>\n",
       "  </tbody>\n",
       "</table>\n",
       "<p>2000 rows × 2 columns</p>\n",
       "</div>"
      ],
      "text/plain": [
       "         layout conversion\n",
       "0    old layout     buying\n",
       "1    old layout     buying\n",
       "2    old layout     buying\n",
       "3    old layout  no buying\n",
       "4    old layout  no buying\n",
       "..          ...        ...\n",
       "995  new layout  no buying\n",
       "996  new layout  no buying\n",
       "997  new layout     buying\n",
       "998  new layout     buying\n",
       "999  new layout     buying\n",
       "\n",
       "[2000 rows x 2 columns]"
      ]
     },
     "execution_count": 5,
     "metadata": {},
     "output_type": "execute_result"
    }
   ],
   "source": [
    "df_full = df_before.append(df_after)\n",
    "df_full"
   ]
  },
  {
   "cell_type": "markdown",
   "metadata": {},
   "source": [
    "Eksplorasi jumlah pengunjung yang beli dan tidak beli antara desain lama dengan desain baru."
   ]
  },
  {
   "cell_type": "code",
   "execution_count": 6,
   "metadata": {
    "colab": {
     "base_uri": "https://localhost:8080/",
     "height": 135
    },
    "id": "575-4Q9RWa8d",
    "outputId": "f607de1d-fb41-4df3-fc3d-2a3703cb7740"
   },
   "outputs": [
    {
     "data": {
      "text/html": [
       "<div>\n",
       "<style scoped>\n",
       "    .dataframe tbody tr th:only-of-type {\n",
       "        vertical-align: middle;\n",
       "    }\n",
       "\n",
       "    .dataframe tbody tr th {\n",
       "        vertical-align: top;\n",
       "    }\n",
       "\n",
       "    .dataframe thead th {\n",
       "        text-align: right;\n",
       "    }\n",
       "</style>\n",
       "<table border=\"1\" class=\"dataframe\">\n",
       "  <thead>\n",
       "    <tr style=\"text-align: right;\">\n",
       "      <th>conversion</th>\n",
       "      <th>buying</th>\n",
       "      <th>no buying</th>\n",
       "    </tr>\n",
       "    <tr>\n",
       "      <th>layout</th>\n",
       "      <th></th>\n",
       "      <th></th>\n",
       "    </tr>\n",
       "  </thead>\n",
       "  <tbody>\n",
       "    <tr>\n",
       "      <th>new layout</th>\n",
       "      <td>692</td>\n",
       "      <td>308</td>\n",
       "    </tr>\n",
       "    <tr>\n",
       "      <th>old layout</th>\n",
       "      <td>486</td>\n",
       "      <td>514</td>\n",
       "    </tr>\n",
       "  </tbody>\n",
       "</table>\n",
       "</div>"
      ],
      "text/plain": [
       "conversion  buying  no buying\n",
       "layout                       \n",
       "new layout     692        308\n",
       "old layout     486        514"
      ]
     },
     "execution_count": 6,
     "metadata": {},
     "output_type": "execute_result"
    }
   ],
   "source": [
    "pd.crosstab(df_full['layout'], df_full['conversion'])"
   ]
  },
  {
   "cell_type": "markdown",
   "metadata": {},
   "source": [
    "**Hypothesis**:\n",
    "<br>\n",
    "**Ho**: p-after = p-before\n",
    "<br>\n",
    "**Ha**: p-after > p-before (the conversion rate after change the web layout is increasing)\n",
    "<br>\n",
    "atau\n",
    "<br>\n",
    "**Ho**: Pengunjung toko online yang menerima Desain Baru **tidak akan** memiliki rasio konversi akhir kunjungan yang lebih tinggi dibandingkan dengan pengunjung yang menerima Desain Lama\n",
    "<br>\n",
    "**Ha**: Pengunjung toko online yang menerima Desain Baru **akan** memiliki rasio konversi akhir kunjungan yang lebih tinggi dibandingkan dengan pengunjung yang menerima Desain Lama\n",
    "\n",
    "**Perhitungan tingkat konversi sebelum dan sesudah pergantian desain web**"
   ]
  },
  {
   "cell_type": "code",
   "execution_count": 7,
   "metadata": {
    "colab": {
     "base_uri": "https://localhost:8080/"
    },
    "id": "CGL1sSn1CWyX",
    "outputId": "e3fe2d45-87b7-4b3b-931d-76b630bf0d31"
   },
   "outputs": [
    {
     "name": "stdout",
     "output_type": "stream",
     "text": [
      "Tingkat konversi sebelum pergantian desain web (desain lama) adalah 0.486\n"
     ]
    }
   ],
   "source": [
    "# Conversion Rate Before Change the web layout\n",
    "\n",
    "n_succes_before = len(df_full[(df_full['layout']=='old layout') & (df_full['conversion']=='buying')])\n",
    "n_before = len(df_full[(df_full['layout']=='old layout')])\n",
    "success_rate_before = n_succes_before / n_before\n",
    "\n",
    "print('Tingkat konversi sebelum pergantian desain web (desain lama) adalah', success_rate_before)"
   ]
  },
  {
   "cell_type": "code",
   "execution_count": 8,
   "metadata": {
    "colab": {
     "base_uri": "https://localhost:8080/"
    },
    "id": "Vzm19qr2CW1b",
    "outputId": "4b9606c0-8f41-4a45-fed8-f4f65cb23893"
   },
   "outputs": [
    {
     "name": "stdout",
     "output_type": "stream",
     "text": [
      "Tingkat konversi setelah pergantian desain web (desain bar) adalah 0.692\n"
     ]
    }
   ],
   "source": [
    "# Conversion Rate After Change the we layout\n",
    "\n",
    "n_succes_after = len(df_full[(df_full['layout']=='new layout') & (df_full['conversion']=='buying')])\n",
    "n_after = len(df_full[(df_full['layout']=='new layout')])\n",
    "success_rate_after = n_succes_after / n_after\n",
    "\n",
    "print('Tingkat konversi setelah pergantian desain web (desain bar) adalah', success_rate_after)"
   ]
  },
  {
   "cell_type": "markdown",
   "metadata": {},
   "source": [
    "**Proportion Two Sample Z-Test**"
   ]
  },
  {
   "cell_type": "code",
   "execution_count": 9,
   "metadata": {
    "id": "ApkKY6XtDWmA"
   },
   "outputs": [],
   "source": [
    "# Total number buying transaction (success)\n",
    "number_success = np.array([n_succes_before, n_succes_after])\n",
    "\n",
    "# Total trafic (all visitor = not buying + buying)\n",
    "total = np.array([n_before, n_after])"
   ]
  },
  {
   "cell_type": "code",
   "execution_count": 24,
   "metadata": {},
   "outputs": [
    {
     "data": {
      "text/plain": [
       "array([1000, 1000])"
      ]
     },
     "execution_count": 24,
     "metadata": {},
     "output_type": "execute_result"
    }
   ],
   "source": [
    "total"
   ]
  },
  {
   "cell_type": "code",
   "execution_count": 23,
   "metadata": {},
   "outputs": [
    {
     "data": {
      "text/plain": [
       "array([486, 692])"
      ]
     },
     "execution_count": 23,
     "metadata": {},
     "output_type": "execute_result"
    }
   ],
   "source": [
    "number_success"
   ]
  },
  {
   "cell_type": "code",
   "execution_count": 10,
   "metadata": {
    "id": "VLExCnF2DWvH"
   },
   "outputs": [
    {
     "name": "stdout",
     "output_type": "stream",
     "text": [
      "3.908058129101085e-21\n"
     ]
    }
   ],
   "source": [
    "# Import library\n",
    "from statsmodels.stats.proportion import proportions_ztest\n",
    "\n",
    "# Proportion Two Population Z-test\n",
    "z_stat, p_value = proportions_ztest(number_success, total, alternative = 'smaller') \n",
    "\n",
    "print(p_value)"
   ]
  },
  {
   "cell_type": "markdown",
   "metadata": {
    "id": "m4_IvGYtJEOp"
   },
   "source": [
    "**Conclusion**: P-Value lebih rendah dari 0,05, dengan tingkat signifikan 5% terdapat cukup bukti bahwa pengunjung Toko Online yang menerima Desain Baru akan memiliki rasio konversi akhir kunjungan yang lebih tinggi dibandingkan dengan pengunjung yang menerima Desain Lama."
   ]
  },
  {
   "cell_type": "markdown",
   "metadata": {},
   "source": [
    "<hr>\n",
    "\n",
    "### **c) Chi-Squared Test for Independence between Two Categorical Variables**"
   ]
  },
  {
   "cell_type": "markdown",
   "metadata": {},
   "source": [
    "Kita buat tabel Cross Tabulation berisi jumlah buah Pisang, Mangga, dan Nanas yang dibeli konsumen laki-laki dan perempuan. Kita hendak menguji apakah variabel jenis kelamin konsumen berkaitan dengan pilihan buah yang dibeli atau tidak."
   ]
  },
  {
   "cell_type": "code",
   "execution_count": 11,
   "metadata": {},
   "outputs": [
    {
     "data": {
      "text/html": [
       "<div>\n",
       "<style scoped>\n",
       "    .dataframe tbody tr th:only-of-type {\n",
       "        vertical-align: middle;\n",
       "    }\n",
       "\n",
       "    .dataframe tbody tr th {\n",
       "        vertical-align: top;\n",
       "    }\n",
       "\n",
       "    .dataframe thead th {\n",
       "        text-align: right;\n",
       "    }\n",
       "</style>\n",
       "<table border=\"1\" class=\"dataframe\">\n",
       "  <thead>\n",
       "    <tr style=\"text-align: right;\">\n",
       "      <th></th>\n",
       "      <th>Banana</th>\n",
       "      <th>Mango</th>\n",
       "      <th>Pineapple</th>\n",
       "    </tr>\n",
       "  </thead>\n",
       "  <tbody>\n",
       "    <tr>\n",
       "      <th>Male Customer</th>\n",
       "      <td>207</td>\n",
       "      <td>282</td>\n",
       "      <td>241</td>\n",
       "    </tr>\n",
       "    <tr>\n",
       "      <th>Female Customer</th>\n",
       "      <td>234</td>\n",
       "      <td>242</td>\n",
       "      <td>232</td>\n",
       "    </tr>\n",
       "  </tbody>\n",
       "</table>\n",
       "</div>"
      ],
      "text/plain": [
       "                 Banana  Mango  Pineapple\n",
       "Male Customer       207    282        241\n",
       "Female Customer     234    242        232"
      ]
     },
     "execution_count": 11,
     "metadata": {},
     "output_type": "execute_result"
    }
   ],
   "source": [
    "# Creating Dummy Cross Tabulation \n",
    "df_c = pd.DataFrame(data = [[207, 282, 241], [234, 242, 232]],\n",
    "                   columns = ['Banana', 'Mango', 'Pineapple'],\n",
    "                   index = ['Male Customer', 'Female Customer'])\n",
    "df_c"
   ]
  },
  {
   "cell_type": "markdown",
   "metadata": {},
   "source": [
    "**Hypothesis:**\n",
    "\n",
    "* Ho : The two variables are independent\n",
    "* Ha :  The two variables are dependent."
   ]
  },
  {
   "cell_type": "code",
   "execution_count": 26,
   "metadata": {},
   "outputs": [
    {
     "name": "stdout",
     "output_type": "stream",
     "text": [
      "p value: 0.1031971404730939\n",
      "Independent (failed to reject H0)\n"
     ]
    }
   ],
   "source": [
    "from scipy.stats import chi2_contingency\n",
    "\n",
    "# defining the table\n",
    "data = [[207, 282, 241], [234, 242, 232]]\n",
    "stat, pvalue, dof, expected = chi2_contingency(data)\n",
    "\n",
    "# Conclusion\n",
    "alpha = 0.05\n",
    "print('p value:', pvalue)\n",
    "if pvalue <= alpha:\n",
    "    print('Dependent (reject H0)')\n",
    "else:\n",
    "    print('Independent (failed to reject H0)')"
   ]
  },
  {
   "cell_type": "code",
   "execution_count": 29,
   "metadata": {},
   "outputs": [
    {
     "data": {
      "text/plain": [
       "4.542228269825232"
      ]
     },
     "execution_count": 29,
     "metadata": {},
     "output_type": "execute_result"
    }
   ],
   "source": [
    "stat"
   ]
  },
  {
   "cell_type": "code",
   "execution_count": 27,
   "metadata": {},
   "outputs": [
    {
     "data": {
      "text/plain": [
       "2"
      ]
     },
     "execution_count": 27,
     "metadata": {},
     "output_type": "execute_result"
    }
   ],
   "source": [
    "dof"
   ]
  },
  {
   "cell_type": "code",
   "execution_count": 28,
   "metadata": {},
   "outputs": [
    {
     "data": {
      "text/plain": [
       "array([[223.87343533, 266.00834492, 240.11821975],\n",
       "       [217.12656467, 257.99165508, 232.88178025]])"
      ]
     },
     "execution_count": 28,
     "metadata": {},
     "output_type": "execute_result"
    }
   ],
   "source": [
    "expected"
   ]
  },
  {
   "cell_type": "markdown",
   "metadata": {},
   "source": [
    "Kedua variabel independen. Artinya, variabel jenis kelamin tidak berkaitan dengan pilihan buah yang dibeli."
   ]
  },
  {
   "cell_type": "markdown",
   "metadata": {},
   "source": [
    "<hr>\n",
    "\n",
    "## **Hypothesis Testing**: ``Non-Parametric Statistics``\n",
    "\n",
    "> **Statistik Non-parametrik** adalah salah satu cabang dari statistik. Berbeda halnya dengan statistik parametrik yang memiliki parameter pada probabilitas distribusinya seperti rata-rata (_mean_) dan varians (_variance_). Statistik non-parametrik tidak mengikuti asumsi distribusi normal atau dia memiliki pola distribusi sendiri. Singkatnya, statistik non-parametrik digunakan jika asumsi atau syarat-syarat statistik parametrik tidak tercapai seperti distribusi normal, sampel diambil secara acak, cukup data (>100), dan lainnya. [[4]](https://en.wikipedia.org/wiki/Nonparametric_statistics)\n",
    "\n",
    "\n",
    "Kita akan mempraktikkan beberapa uji hipotesis untuk non-parametrik, di antaranya: _Mann Whitney, Wilcoxon_ dan _Krukal Wallis_.\n",
    "\n",
    "Berikut ini contoh praktik uji hipotesis untuk statistik non-parametrik:"
   ]
  },
  {
   "cell_type": "markdown",
   "metadata": {},
   "source": [
    "### **a) Mann Whitney**"
   ]
  },
  {
   "cell_type": "markdown",
   "metadata": {},
   "source": [
    "Mann Whitney Test mirip seperti Two Sample Independent T-Test, tetapi untuk versi Statistik Non-parametrik-nya. Pada studi kasus ini kita hendak menguji apakah ada perbedaan median nilai (_Score_) kinerja antara karyawan yang baca buku atau tidak.\n",
    "\n",
    "**Membuat Dummy Dataset**"
   ]
  },
  {
   "cell_type": "code",
   "execution_count": 13,
   "metadata": {
    "ExecuteTime": {
     "end_time": "2019-08-21T03:17:24.818364Z",
     "start_time": "2019-08-21T03:17:24.808426Z"
    },
    "id": "R3PTZdH1dYjX"
   },
   "outputs": [
    {
     "data": {
      "text/html": [
       "<div>\n",
       "<style scoped>\n",
       "    .dataframe tbody tr th:only-of-type {\n",
       "        vertical-align: middle;\n",
       "    }\n",
       "\n",
       "    .dataframe tbody tr th {\n",
       "        vertical-align: top;\n",
       "    }\n",
       "\n",
       "    .dataframe thead th {\n",
       "        text-align: right;\n",
       "    }\n",
       "</style>\n",
       "<table border=\"1\" class=\"dataframe\">\n",
       "  <thead>\n",
       "    <tr style=\"text-align: right;\">\n",
       "      <th></th>\n",
       "      <th>Read Book</th>\n",
       "      <th>Score</th>\n",
       "    </tr>\n",
       "  </thead>\n",
       "  <tbody>\n",
       "    <tr>\n",
       "      <th>0</th>\n",
       "      <td>Yes</td>\n",
       "      <td>70</td>\n",
       "    </tr>\n",
       "    <tr>\n",
       "      <th>1</th>\n",
       "      <td>No</td>\n",
       "      <td>85</td>\n",
       "    </tr>\n",
       "    <tr>\n",
       "      <th>2</th>\n",
       "      <td>Yes</td>\n",
       "      <td>80</td>\n",
       "    </tr>\n",
       "    <tr>\n",
       "      <th>3</th>\n",
       "      <td>Yes</td>\n",
       "      <td>45</td>\n",
       "    </tr>\n",
       "    <tr>\n",
       "      <th>4</th>\n",
       "      <td>No</td>\n",
       "      <td>80</td>\n",
       "    </tr>\n",
       "  </tbody>\n",
       "</table>\n",
       "</div>"
      ],
      "text/plain": [
       "  Read Book  Score\n",
       "0       Yes     70\n",
       "1        No     85\n",
       "2       Yes     80\n",
       "3       Yes     45\n",
       "4        No     80"
      ]
     },
     "execution_count": 13,
     "metadata": {},
     "output_type": "execute_result"
    }
   ],
   "source": [
    "training = pd.concat([pd.Series(data = ['Yes', 'No', 'Yes', 'Yes', 'No', 'No', 'No','Yes','Yes', 'No','Yes','Yes','No','Yes','No','Yes','No','No','No','Yes'],name = 'Read Book'),\n",
    "                pd.Series(data = [70,85,80,45,80,70,90,70,55,80,75,60,70,85,80,85,55,75,65,70], name ='Score')], axis = 1)\n",
    "\n",
    "training.head()"
   ]
  },
  {
   "cell_type": "markdown",
   "metadata": {
    "id": "Rs9Fa2bKdYjl"
   },
   "source": [
    "**Hypothesis**:\n",
    "<br>\n",
    "**Ho**: Median nilai karyawan yang tidak baca buku = Median nilai karyawan yang baca buku\n",
    "<br>\n",
    "**Ha**: Median nilai karyawan yang tidak baca buku > Median nilai karyawan yang baca buku"
   ]
  },
  {
   "cell_type": "markdown",
   "metadata": {},
   "source": [
    "**Mann Whitney Test**"
   ]
  },
  {
   "cell_type": "code",
   "execution_count": 14,
   "metadata": {
    "ExecuteTime": {
     "end_time": "2019-08-21T03:17:40.817552Z",
     "start_time": "2019-08-21T03:17:40.809571Z"
    },
    "colab": {
     "base_uri": "https://localhost:8080/"
    },
    "id": "BWyEcdWZdYjn",
    "outputId": "1b53491a-e8a8-4e2f-ae94-36cc77c5201a"
   },
   "outputs": [
    {
     "name": "stdout",
     "output_type": "stream",
     "text": [
      "U-Statistic 61.5\n",
      "P-Value 0.1996116335589066\n"
     ]
    }
   ],
   "source": [
    "# Import Library\n",
    "from scipy.stats import mannwhitneyu\n",
    "\n",
    "\n",
    "# Mann Whitney Test\n",
    "result = list(mannwhitneyu(\n",
    "    training[training['Read Book'] == 'No']['Score'],\n",
    "    training[training['Read Book'] == 'Yes']['Score'],\n",
    "    alternative = 'greater' # M (no read) > M (read)\n",
    "))\n",
    "\n",
    "print('U-Statistic', result[0])\n",
    "print('P-Value', result[1])"
   ]
  },
  {
   "cell_type": "markdown",
   "metadata": {
    "id": "Kd6L-ydBgdgw"
   },
   "source": [
    "**Conclusion**: P-value lebih tinggi dari tingkat signifikansi 0,05, itu berarti kita tidak memiliki cukup bukti untuk menolak Hipotesis Nol. Jadi, median nilai antara karyawan yang tidak membaca dan membaca tidak terlalu berbeda.\n",
    "\n",
    "Kita lihat nilai median keduanya dengan groupby analysis."
   ]
  },
  {
   "cell_type": "code",
   "execution_count": 15,
   "metadata": {},
   "outputs": [
    {
     "data": {
      "text/html": [
       "<div>\n",
       "<style scoped>\n",
       "    .dataframe tbody tr th:only-of-type {\n",
       "        vertical-align: middle;\n",
       "    }\n",
       "\n",
       "    .dataframe tbody tr th {\n",
       "        vertical-align: top;\n",
       "    }\n",
       "\n",
       "    .dataframe thead th {\n",
       "        text-align: right;\n",
       "    }\n",
       "</style>\n",
       "<table border=\"1\" class=\"dataframe\">\n",
       "  <thead>\n",
       "    <tr style=\"text-align: right;\">\n",
       "      <th></th>\n",
       "      <th>Score</th>\n",
       "    </tr>\n",
       "    <tr>\n",
       "      <th>Read Book</th>\n",
       "      <th></th>\n",
       "    </tr>\n",
       "  </thead>\n",
       "  <tbody>\n",
       "    <tr>\n",
       "      <th>No</th>\n",
       "      <td>77.5</td>\n",
       "    </tr>\n",
       "    <tr>\n",
       "      <th>Yes</th>\n",
       "      <td>70.0</td>\n",
       "    </tr>\n",
       "  </tbody>\n",
       "</table>\n",
       "</div>"
      ],
      "text/plain": [
       "           Score\n",
       "Read Book       \n",
       "No          77.5\n",
       "Yes         70.0"
      ]
     },
     "execution_count": 15,
     "metadata": {},
     "output_type": "execute_result"
    }
   ],
   "source": [
    "training.groupby(['Read Book']).median()"
   ]
  },
  {
   "cell_type": "markdown",
   "metadata": {},
   "source": [
    "<hr>\n",
    "\n",
    "### **b) Wilcoxon**"
   ]
  },
  {
   "cell_type": "markdown",
   "metadata": {},
   "source": [
    "Wilcoxon Test mirip dengan Two Paired T-test (Dua sampel berpasangan), tapi untuk versi statistik non-parametrik-nya. Dua sampel berpasangan banyak digunakan untuk situasi eksperimen. Jadi, kita sebagai peneliti hendak menguji apakah ada perbedaan sebelum dan setelah tindakan, peristiwa, atau kondisi tertentu.\n",
    "\n",
    "Pada studi kasus di bawah ini, kita membuat Dummy Dataset yang berisi perbandingan kinerja antara karyawan yang menggunakan dan tidak menggunakan Smartphone saat bekerja. Kita bandingkan apakah ada perbedaan kinerja di antara 2 kondisi tersebut.\n",
    "\n",
    "**Membuat Dummy Dataset**: Working performance without and using Smartphone"
   ]
  },
  {
   "cell_type": "code",
   "execution_count": 16,
   "metadata": {
    "id": "rOo-ztbcfX2v"
   },
   "outputs": [
    {
     "data": {
      "text/html": [
       "<div>\n",
       "<style scoped>\n",
       "    .dataframe tbody tr th:only-of-type {\n",
       "        vertical-align: middle;\n",
       "    }\n",
       "\n",
       "    .dataframe tbody tr th {\n",
       "        vertical-align: top;\n",
       "    }\n",
       "\n",
       "    .dataframe thead th {\n",
       "        text-align: right;\n",
       "    }\n",
       "</style>\n",
       "<table border=\"1\" class=\"dataframe\">\n",
       "  <thead>\n",
       "    <tr style=\"text-align: right;\">\n",
       "      <th></th>\n",
       "      <th>no</th>\n",
       "      <th>yes</th>\n",
       "      <th>diff</th>\n",
       "    </tr>\n",
       "  </thead>\n",
       "  <tbody>\n",
       "    <tr>\n",
       "      <th>0</th>\n",
       "      <td>636</td>\n",
       "      <td>604</td>\n",
       "      <td>-32</td>\n",
       "    </tr>\n",
       "    <tr>\n",
       "      <th>1</th>\n",
       "      <td>623</td>\n",
       "      <td>556</td>\n",
       "      <td>-67</td>\n",
       "    </tr>\n",
       "    <tr>\n",
       "      <th>2</th>\n",
       "      <td>615</td>\n",
       "      <td>540</td>\n",
       "      <td>-75</td>\n",
       "    </tr>\n",
       "    <tr>\n",
       "      <th>3</th>\n",
       "      <td>672</td>\n",
       "      <td>522</td>\n",
       "      <td>-150</td>\n",
       "    </tr>\n",
       "    <tr>\n",
       "      <th>4</th>\n",
       "      <td>601</td>\n",
       "      <td>469</td>\n",
       "      <td>-132</td>\n",
       "    </tr>\n",
       "  </tbody>\n",
       "</table>\n",
       "</div>"
      ],
      "text/plain": [
       "    no  yes  diff\n",
       "0  636  604   -32\n",
       "1  623  556   -67\n",
       "2  615  540   -75\n",
       "3  672  522  -150\n",
       "4  601  469  -132"
      ]
     },
     "execution_count": 16,
     "metadata": {},
     "output_type": "execute_result"
    }
   ],
   "source": [
    "with_smartphone = [604,556,540,522,469,544,513,470,556,531,599,537,619,536,554,467]\n",
    "without_smartphone = [636,623,615,672,601,600,542,554,543,520,609,559,595,565,573,554]\n",
    "\n",
    "df_paired = pd.DataFrame({\n",
    "    'no':without_smartphone,\n",
    "    'yes':with_smartphone\n",
    "})\n",
    "\n",
    "df_paired['diff'] = df_paired['yes'] - df_paired['no']\n",
    "df_paired.head()"
   ]
  },
  {
   "cell_type": "markdown",
   "metadata": {},
   "source": [
    "**Hypothesis**:\n",
    "<br>\n",
    "**Ho**: Median Population of difference (yes-no) = 0 (Tidak ada perbedaan antara dengan dan tanpa SmartPhone)\n",
    "<br>\n",
    "**Ha**: Median Population of difference (yes-no) < 0 (Ada perbedaan antara dengan dan tanpa SmartPhone)\n",
    "<br>\n",
    "\n",
    "**Wilcoxon Test**"
   ]
  },
  {
   "cell_type": "code",
   "execution_count": 17,
   "metadata": {
    "id": "TsY1GUEBftk3"
   },
   "outputs": [
    {
     "name": "stdout",
     "output_type": "stream",
     "text": [
      "0.0008392333984375\n",
      "11.0\n"
     ]
    }
   ],
   "source": [
    "# Import Library\n",
    "from scipy.stats import wilcoxon\n",
    "\n",
    "# Wilcoxon Test\n",
    "sumrank, p_value = wilcoxon(df_paired['diff'], alternative = 'less')\n",
    "\n",
    "print(p_value)\n",
    "print(sumrank)"
   ]
  },
  {
   "cell_type": "markdown",
   "metadata": {
    "id": "3Z46VoEifX3T"
   },
   "source": [
    "**Conclusion:** P-value lebih rendah dari tingkat signifikansi 0,05, itu berarti kita memiliki cukup bukti untuk menolak Hipotesis Nol. Jadi, performa kerja karyawan yang menggunakan Smartphone lebih rendah dibanding yang tidak menggunakannya saat bekerja."
   ]
  },
  {
   "cell_type": "markdown",
   "metadata": {},
   "source": [
    "<hr>\n",
    "\n",
    "### **c) Kruskal Wallis**\n",
    "Kruskal Wallis Test digunakan untuk menguji perbandingan lebih dari 2 sampel independent dalam statistik non-parametrik. Pada studi kasus ini kita hendak membandingkan jumlah investasi bulanan antar karyawan. Karyawan dibagi tiga berdasarkan transportasi yang dipakai, yaitu pejalan kaki, pengguna transportasi umum, dan pengendara transporatasi pribadi. Kita uji apakah ada perbedaan jumlah investasi bulanan di antara ketiganya.\n",
    "\n",
    "**Membuat Dummy Dataset**: Comparing Montly Investment among Worker who go to work using private transportation, public transportation, or walking."
   ]
  },
  {
   "cell_type": "code",
   "execution_count": 18,
   "metadata": {
    "ExecuteTime": {
     "end_time": "2019-08-21T03:33:42.963397Z",
     "start_time": "2019-08-21T03:33:42.959438Z"
    },
    "id": "l7EbWP0yeuED"
   },
   "outputs": [
    {
     "data": {
      "text/html": [
       "<div>\n",
       "<style scoped>\n",
       "    .dataframe tbody tr th:only-of-type {\n",
       "        vertical-align: middle;\n",
       "    }\n",
       "\n",
       "    .dataframe tbody tr th {\n",
       "        vertical-align: top;\n",
       "    }\n",
       "\n",
       "    .dataframe thead th {\n",
       "        text-align: right;\n",
       "    }\n",
       "</style>\n",
       "<table border=\"1\" class=\"dataframe\">\n",
       "  <thead>\n",
       "    <tr style=\"text-align: right;\">\n",
       "      <th></th>\n",
       "      <th>Transportation</th>\n",
       "      <th>Monthly Investment</th>\n",
       "    </tr>\n",
       "  </thead>\n",
       "  <tbody>\n",
       "    <tr>\n",
       "      <th>0</th>\n",
       "      <td>Walking</td>\n",
       "      <td>5</td>\n",
       "    </tr>\n",
       "    <tr>\n",
       "      <th>1</th>\n",
       "      <td>Walking</td>\n",
       "      <td>4</td>\n",
       "    </tr>\n",
       "    <tr>\n",
       "      <th>2</th>\n",
       "      <td>Walking</td>\n",
       "      <td>5</td>\n",
       "    </tr>\n",
       "    <tr>\n",
       "      <th>3</th>\n",
       "      <td>Walking</td>\n",
       "      <td>6</td>\n",
       "    </tr>\n",
       "    <tr>\n",
       "      <th>4</th>\n",
       "      <td>Walking</td>\n",
       "      <td>5</td>\n",
       "    </tr>\n",
       "    <tr>\n",
       "      <th>5</th>\n",
       "      <td>Walking</td>\n",
       "      <td>3</td>\n",
       "    </tr>\n",
       "    <tr>\n",
       "      <th>6</th>\n",
       "      <td>Walking</td>\n",
       "      <td>2</td>\n",
       "    </tr>\n",
       "    <tr>\n",
       "      <th>7</th>\n",
       "      <td>Walking</td>\n",
       "      <td>4</td>\n",
       "    </tr>\n",
       "    <tr>\n",
       "      <th>8</th>\n",
       "      <td>Walking</td>\n",
       "      <td>5</td>\n",
       "    </tr>\n",
       "    <tr>\n",
       "      <th>9</th>\n",
       "      <td>Walking</td>\n",
       "      <td>5</td>\n",
       "    </tr>\n",
       "    <tr>\n",
       "      <th>10</th>\n",
       "      <td>Public</td>\n",
       "      <td>7</td>\n",
       "    </tr>\n",
       "    <tr>\n",
       "      <th>11</th>\n",
       "      <td>Public</td>\n",
       "      <td>7</td>\n",
       "    </tr>\n",
       "    <tr>\n",
       "      <th>12</th>\n",
       "      <td>Public</td>\n",
       "      <td>5</td>\n",
       "    </tr>\n",
       "    <tr>\n",
       "      <th>13</th>\n",
       "      <td>Public</td>\n",
       "      <td>6</td>\n",
       "    </tr>\n",
       "    <tr>\n",
       "      <th>14</th>\n",
       "      <td>Public</td>\n",
       "      <td>4</td>\n",
       "    </tr>\n",
       "    <tr>\n",
       "      <th>15</th>\n",
       "      <td>Public</td>\n",
       "      <td>6</td>\n",
       "    </tr>\n",
       "    <tr>\n",
       "      <th>16</th>\n",
       "      <td>Public</td>\n",
       "      <td>5</td>\n",
       "    </tr>\n",
       "    <tr>\n",
       "      <th>17</th>\n",
       "      <td>Public</td>\n",
       "      <td>5</td>\n",
       "    </tr>\n",
       "    <tr>\n",
       "      <th>18</th>\n",
       "      <td>Public</td>\n",
       "      <td>6</td>\n",
       "    </tr>\n",
       "    <tr>\n",
       "      <th>19</th>\n",
       "      <td>Public</td>\n",
       "      <td>7</td>\n",
       "    </tr>\n",
       "    <tr>\n",
       "      <th>20</th>\n",
       "      <td>Private</td>\n",
       "      <td>5</td>\n",
       "    </tr>\n",
       "    <tr>\n",
       "      <th>21</th>\n",
       "      <td>Private</td>\n",
       "      <td>4</td>\n",
       "    </tr>\n",
       "    <tr>\n",
       "      <th>22</th>\n",
       "      <td>Private</td>\n",
       "      <td>5</td>\n",
       "    </tr>\n",
       "    <tr>\n",
       "      <th>23</th>\n",
       "      <td>Private</td>\n",
       "      <td>6</td>\n",
       "    </tr>\n",
       "    <tr>\n",
       "      <th>24</th>\n",
       "      <td>Private</td>\n",
       "      <td>6</td>\n",
       "    </tr>\n",
       "    <tr>\n",
       "      <th>25</th>\n",
       "      <td>Private</td>\n",
       "      <td>5</td>\n",
       "    </tr>\n",
       "    <tr>\n",
       "      <th>26</th>\n",
       "      <td>Private</td>\n",
       "      <td>5</td>\n",
       "    </tr>\n",
       "    <tr>\n",
       "      <th>27</th>\n",
       "      <td>Private</td>\n",
       "      <td>5</td>\n",
       "    </tr>\n",
       "    <tr>\n",
       "      <th>28</th>\n",
       "      <td>Private</td>\n",
       "      <td>7</td>\n",
       "    </tr>\n",
       "    <tr>\n",
       "      <th>29</th>\n",
       "      <td>Private</td>\n",
       "      <td>7</td>\n",
       "    </tr>\n",
       "  </tbody>\n",
       "</table>\n",
       "</div>"
      ],
      "text/plain": [
       "   Transportation  Monthly Investment\n",
       "0         Walking                   5\n",
       "1         Walking                   4\n",
       "2         Walking                   5\n",
       "3         Walking                   6\n",
       "4         Walking                   5\n",
       "5         Walking                   3\n",
       "6         Walking                   2\n",
       "7         Walking                   4\n",
       "8         Walking                   5\n",
       "9         Walking                   5\n",
       "10         Public                   7\n",
       "11         Public                   7\n",
       "12         Public                   5\n",
       "13         Public                   6\n",
       "14         Public                   4\n",
       "15         Public                   6\n",
       "16         Public                   5\n",
       "17         Public                   5\n",
       "18         Public                   6\n",
       "19         Public                   7\n",
       "20        Private                   5\n",
       "21        Private                   4\n",
       "22        Private                   5\n",
       "23        Private                   6\n",
       "24        Private                   6\n",
       "25        Private                   5\n",
       "26        Private                   5\n",
       "27        Private                   5\n",
       "28        Private                   7\n",
       "29        Private                   7"
      ]
     },
     "execution_count": 18,
     "metadata": {},
     "output_type": "execute_result"
    }
   ],
   "source": [
    "transport = []\n",
    "method = ['Walking ', 'Public ', 'Private ']\n",
    "for i in method:\n",
    "    transport.extend((i*10).split())\n",
    "    \n",
    "transportdf = pd.concat([pd.Series(transport, name = 'Transportation'), \n",
    "                         pd.Series([5,4,5,6,5,3,2,4,5,5,7,7,5,6,4,6,5,5,6,7,5,4,5,6,6,5,5,5,7,7], name = 'Monthly Investment')], axis =1)\n",
    "\n",
    "transportdf"
   ]
  },
  {
   "cell_type": "markdown",
   "metadata": {},
   "source": [
    "**Perbandingan Median Nilai Investasi Ketiga Kelompok Karyawan**"
   ]
  },
  {
   "cell_type": "code",
   "execution_count": 19,
   "metadata": {
    "ExecuteTime": {
     "end_time": "2019-08-21T06:45:38.026509Z",
     "start_time": "2019-08-21T06:45:38.019537Z"
    },
    "colab": {
     "base_uri": "https://localhost:8080/"
    },
    "id": "64JXjldGeuEY",
    "outputId": "61d84a1b-51b1-4930-dc6a-3a0db67e0d36"
   },
   "outputs": [
    {
     "name": "stdout",
     "output_type": "stream",
     "text": [
      "Median of Monthly Investment Group Walking: 5.0\n",
      "Median of Monthly Investment Group Public: 6.0\n",
      "Median of Monthly Investment Group Private: 5.0\n"
     ]
    }
   ],
   "source": [
    "for i in transportdf['Transportation'].unique():\n",
    "    print('Median of Monthly Investment Group {}: {}'.format(i, transportdf[transportdf['Transportation'] == i]['Monthly Investment'].median()))"
   ]
  },
  {
   "cell_type": "code",
   "execution_count": 20,
   "metadata": {
    "ExecuteTime": {
     "end_time": "2019-08-21T06:45:17.743977Z",
     "start_time": "2019-08-21T06:45:17.739990Z"
    },
    "colab": {
     "base_uri": "https://localhost:8080/"
    },
    "id": "f9ccYatseuEb",
    "outputId": "faa5e769-eaca-482c-91c1-c23fb5c002d4"
   },
   "outputs": [
    {
     "name": "stdout",
     "output_type": "stream",
     "text": [
      "Total Monthly Investment Median:  5.0\n"
     ]
    }
   ],
   "source": [
    "print('Total Monthly Investment Median: ', transportdf['Monthly Investment'].median())"
   ]
  },
  {
   "cell_type": "markdown",
   "metadata": {},
   "source": [
    "**Hypothesis:**\n",
    "<br>\n",
    "**Ho**: Median Investasi Bulanan Kelompok Karyawan Pejalan Kaki = Pengguna Transportasi Umum = Pengendara Kendaraan Pribadi\n",
    "<br>\n",
    "**Ha**: Setidaknya ada satu pasang yang tidak sama (dan kita tidak tahu yang mana)\n"
   ]
  },
  {
   "cell_type": "code",
   "execution_count": 21,
   "metadata": {
    "ExecuteTime": {
     "end_time": "2019-08-21T06:58:46.375385Z",
     "start_time": "2019-08-21T06:58:46.366443Z"
    },
    "colab": {
     "base_uri": "https://localhost:8080/"
    },
    "id": "arT0fI0beuEj",
    "outputId": "09c321a7-7fe3-48a3-b0b9-0530f718ab41"
   },
   "outputs": [
    {
     "data": {
      "text/plain": [
       "KruskalResult(statistic=7.01891293654697, pvalue=0.029913168775421856)"
      ]
     },
     "execution_count": 21,
     "metadata": {},
     "output_type": "execute_result"
    }
   ],
   "source": [
    "# Import Library\n",
    "from scipy.stats import kruskal\n",
    "\n",
    "# Kruskal wallis test\n",
    "kruskal(transportdf[transportdf['Transportation'] == 'Walking']['Monthly Investment'],\n",
    "        transportdf[transportdf['Transportation'] == 'Public']['Monthly Investment'],\n",
    "        transportdf[transportdf['Transportation'] == 'Private']['Monthly Investment'],\n",
    "       )"
   ]
  },
  {
   "cell_type": "markdown",
   "metadata": {
    "id": "oJiIud7DeuEm"
   },
   "source": [
    "**Conclusion:** P-value lebih rendah dari tingkat signifikansi 0,05, itu berarti kita memiliki cukup bukti untuk menolak Hipotesis Nol. Jadi, setidaknya satu pasang dari median populasi tidak sama.\n",
    "\n",
    "Kita bisa bandingkan secara manual menggunakan _pandas groupby_. Dari hasil code di bawah ini memang median investasi bulanan kelompok karyawan pengguna transportasi umum lebih tinggi dibanding kelompok lainnya."
   ]
  },
  {
   "cell_type": "code",
   "execution_count": 22,
   "metadata": {},
   "outputs": [
    {
     "data": {
      "text/html": [
       "<div>\n",
       "<style scoped>\n",
       "    .dataframe tbody tr th:only-of-type {\n",
       "        vertical-align: middle;\n",
       "    }\n",
       "\n",
       "    .dataframe tbody tr th {\n",
       "        vertical-align: top;\n",
       "    }\n",
       "\n",
       "    .dataframe thead th {\n",
       "        text-align: right;\n",
       "    }\n",
       "</style>\n",
       "<table border=\"1\" class=\"dataframe\">\n",
       "  <thead>\n",
       "    <tr style=\"text-align: right;\">\n",
       "      <th></th>\n",
       "      <th>Monthly Investment</th>\n",
       "    </tr>\n",
       "    <tr>\n",
       "      <th>Transportation</th>\n",
       "      <th></th>\n",
       "    </tr>\n",
       "  </thead>\n",
       "  <tbody>\n",
       "    <tr>\n",
       "      <th>Private</th>\n",
       "      <td>5.0</td>\n",
       "    </tr>\n",
       "    <tr>\n",
       "      <th>Public</th>\n",
       "      <td>6.0</td>\n",
       "    </tr>\n",
       "    <tr>\n",
       "      <th>Walking</th>\n",
       "      <td>5.0</td>\n",
       "    </tr>\n",
       "  </tbody>\n",
       "</table>\n",
       "</div>"
      ],
      "text/plain": [
       "                Monthly Investment\n",
       "Transportation                    \n",
       "Private                        5.0\n",
       "Public                         6.0\n",
       "Walking                        5.0"
      ]
     },
     "execution_count": 22,
     "metadata": {},
     "output_type": "execute_result"
    }
   ],
   "source": [
    "transportdf.groupby(['Transportation']).median()"
   ]
  },
  {
   "cell_type": "markdown",
   "metadata": {},
   "source": [
    "<hr>"
   ]
  }
 ],
 "metadata": {
  "kernelspec": {
   "display_name": "Python 3",
   "language": "python",
   "name": "python3"
  },
  "language_info": {
   "codemirror_mode": {
    "name": "ipython",
    "version": 3
   },
   "file_extension": ".py",
   "mimetype": "text/x-python",
   "name": "python",
   "nbconvert_exporter": "python",
   "pygments_lexer": "ipython3",
   "version": "3.9.7"
  }
 },
 "nbformat": 4,
 "nbformat_minor": 4
}
