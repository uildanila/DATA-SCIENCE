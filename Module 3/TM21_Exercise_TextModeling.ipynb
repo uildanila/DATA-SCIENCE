{
 "cells": [
  {
   "cell_type": "markdown",
   "metadata": {},
   "source": [
    "`April 18, 2022`"
   ]
  },
  {
   "cell_type": "markdown",
   "metadata": {},
   "source": [
    "### **Text Modeling Exercise**"
   ]
  },
  {
   "cell_type": "markdown",
   "metadata": {},
   "source": [
    "**Use spam_or_not_spam dataset**\n",
    "\n",
    "* Do the preprocessing as you have learned in the morning session. Just choose what you think resulting the best outcome.  \n",
    "\n",
    "* For the modeling part, try to compare several classification algorithms (decision tree, logistic regression, random forest, boosting models). Choose the right metric for the case.\n",
    "  \n",
    "* Tune the model benchmark, compare the before and after tuning results, and interpret the result by using a confusion matrix.\n",
    "\n",
    "* You can use pipeline(s) and set the hyperparameters in the TF or TFIDF method.\n",
    "\n",
    "<hr>"
   ]
  }
 ],
 "metadata": {
  "interpreter": {
   "hash": "95a19bb7a135a8107af75b765dc097fafc28c1115c0f9727f05dc637904e7be8"
  },
  "kernelspec": {
   "display_name": "Python 3.8.3 64-bit ('base': conda)",
   "name": "python3"
  },
  "language_info": {
   "codemirror_mode": {
    "name": "ipython",
    "version": 3
   },
   "file_extension": ".py",
   "mimetype": "text/x-python",
   "name": "python",
   "nbconvert_exporter": "python",
   "pygments_lexer": "ipython3",
   "version": "3.8.3"
  },
  "orig_nbformat": 2
 },
 "nbformat": 4,
 "nbformat_minor": 2
}
