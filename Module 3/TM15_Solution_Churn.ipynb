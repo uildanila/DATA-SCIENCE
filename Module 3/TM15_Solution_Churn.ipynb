{
 "cells": [
  {
   "cell_type": "markdown",
   "metadata": {},
   "source": [
    "`April 7, 2022`"
   ]
  },
  {
   "cell_type": "markdown",
   "metadata": {},
   "source": [
    "### **Ensemble Model Exercise 2**"
   ]
  },
  {
   "cell_type": "markdown",
   "metadata": {},
   "source": [
    "#### **Use 'churn' dataset**\n",
    "\n",
    "\n",
    "**Can you develop a machine learning model that can predict the customers who will leave the company?**\n",
    "\n",
    "- The aim is to estimate whether a bank's customers leave the bank (churn) or not.\n",
    "\n",
    "**Dataset overview:**\n",
    "- It consists of 10000 observations and 12 variables.\n",
    "- Independent variables contain information about customers.\n",
    "- Dependent variable refers to customer abandonment.\n",
    "\n",
    "**Features:**\n",
    "- Surname: Surname\n",
    "- CreditScore: Credit score\n",
    "- Geography: Country (Germany/ France/ Spain)\n",
    "- Gender: Gender (Female/ Male)\n",
    "- Age: Age\n",
    "- Tenure: How many years of customer\n",
    "- Balance: Balance\n",
    "- NumOfProducts: The number of bank product used\n",
    "- HasCrCard: Credit card status (0 = No, 1 = Yes)\n",
    "- IsActiveMember: Active membership status (0 = No, 1 = Yes)\n",
    "- EstimatedSalary: Estimated salary\n",
    "- Exited: Churn or not? (0 = No, 1 = Yes)\n",
    "\n",
    "**Instructions:**\n",
    "* Explore how each feature correlated with the probability of survival. Do EDA along with the interpretation of each feature.\n",
    "\n",
    "* Do data preprocessing as needed (features selection included if needed).\n",
    "\n",
    "* Which evaluation metrics do you use? Why?\n",
    "\n",
    "* Use classifier algorithms you have learned so far, compare their performance and choose the best two. \n",
    "\n",
    "* Do hyperparameter tuning of the two selected models and pick the best one after testing on the test set.\n",
    "\n",
    "* Create a conclusion or summary about what you have done.\n",
    "\n",
    "* Use pipeline for the end-to-end process.\n",
    "\n",
    "<hr>"
   ]
  },
  {
   "cell_type": "markdown",
   "metadata": {},
   "source": [
    "### **Import libraries**"
   ]
  },
  {
   "cell_type": "code",
   "execution_count": 1,
   "metadata": {},
   "outputs": [],
   "source": [
    "import numpy as np\n",
    "import pandas as pd\n",
    "import matplotlib.pyplot as plt\n",
    "import seaborn as sns\n",
    "\n",
    "import category_encoders as ce\n",
    "from sklearn.preprocessing import OneHotEncoder\n",
    "from sklearn.preprocessing import StandardScaler, PolynomialFeatures, RobustScaler\n",
    "from sklearn.impute import SimpleImputer\n",
    "from sklearn.compose import ColumnTransformer\n",
    "from sklearn.pipeline import Pipeline\n",
    "\n",
    "from sklearn.linear_model import LogisticRegression\n",
    "from sklearn.model_selection import cross_val_score, GridSearchCV, RandomizedSearchCV, train_test_split, StratifiedKFold\n",
    "from sklearn.metrics import classification_report, f1_score\n",
    "from sklearn.metrics import plot_roc_curve, plot_precision_recall_curve, confusion_matrix, recall_score\n",
    "\n",
    "from sklearn.ensemble import RandomForestClassifier\n",
    "from sklearn.ensemble import AdaBoostClassifier\n",
    "from sklearn.ensemble import GradientBoostingClassifier\n",
    "from xgboost.sklearn import XGBClassifier\n",
    "from sklearn.tree import DecisionTreeClassifier, plot_tree\n",
    "\n",
    "from imblearn.over_sampling import RandomOverSampler, SMOTE, SMOTENC\n",
    "from imblearn.under_sampling import RandomUnderSampler, NearMiss\n",
    "from imblearn.pipeline import Pipeline as imbpipeline\n",
    "\n",
    "import warnings\n",
    "warnings.filterwarnings('ignore')"
   ]
  },
  {
   "cell_type": "markdown",
   "metadata": {},
   "source": [
    "### **Explore the data**"
   ]
  },
  {
   "cell_type": "code",
   "execution_count": 2,
   "metadata": {},
   "outputs": [
    {
     "data": {
      "text/html": [
       "<div>\n",
       "<style scoped>\n",
       "    .dataframe tbody tr th:only-of-type {\n",
       "        vertical-align: middle;\n",
       "    }\n",
       "\n",
       "    .dataframe tbody tr th {\n",
       "        vertical-align: top;\n",
       "    }\n",
       "\n",
       "    .dataframe thead th {\n",
       "        text-align: right;\n",
       "    }\n",
       "</style>\n",
       "<table border=\"1\" class=\"dataframe\">\n",
       "  <thead>\n",
       "    <tr style=\"text-align: right;\">\n",
       "      <th></th>\n",
       "      <th>RowNumber</th>\n",
       "      <th>CustomerId</th>\n",
       "      <th>Surname</th>\n",
       "      <th>CreditScore</th>\n",
       "      <th>Geography</th>\n",
       "      <th>Gender</th>\n",
       "      <th>Age</th>\n",
       "      <th>Tenure</th>\n",
       "      <th>Balance</th>\n",
       "      <th>NumOfProducts</th>\n",
       "      <th>HasCrCard</th>\n",
       "      <th>IsActiveMember</th>\n",
       "      <th>EstimatedSalary</th>\n",
       "      <th>Exited</th>\n",
       "    </tr>\n",
       "  </thead>\n",
       "  <tbody>\n",
       "    <tr>\n",
       "      <th>0</th>\n",
       "      <td>1</td>\n",
       "      <td>15634602</td>\n",
       "      <td>Hargrave</td>\n",
       "      <td>619</td>\n",
       "      <td>France</td>\n",
       "      <td>Female</td>\n",
       "      <td>42</td>\n",
       "      <td>2</td>\n",
       "      <td>0.00</td>\n",
       "      <td>1</td>\n",
       "      <td>1</td>\n",
       "      <td>1</td>\n",
       "      <td>101348.88</td>\n",
       "      <td>1</td>\n",
       "    </tr>\n",
       "    <tr>\n",
       "      <th>1</th>\n",
       "      <td>2</td>\n",
       "      <td>15647311</td>\n",
       "      <td>Hill</td>\n",
       "      <td>608</td>\n",
       "      <td>Spain</td>\n",
       "      <td>Female</td>\n",
       "      <td>41</td>\n",
       "      <td>1</td>\n",
       "      <td>83807.86</td>\n",
       "      <td>1</td>\n",
       "      <td>0</td>\n",
       "      <td>1</td>\n",
       "      <td>112542.58</td>\n",
       "      <td>0</td>\n",
       "    </tr>\n",
       "    <tr>\n",
       "      <th>2</th>\n",
       "      <td>3</td>\n",
       "      <td>15619304</td>\n",
       "      <td>Onio</td>\n",
       "      <td>502</td>\n",
       "      <td>France</td>\n",
       "      <td>Female</td>\n",
       "      <td>42</td>\n",
       "      <td>8</td>\n",
       "      <td>159660.80</td>\n",
       "      <td>3</td>\n",
       "      <td>1</td>\n",
       "      <td>0</td>\n",
       "      <td>113931.57</td>\n",
       "      <td>1</td>\n",
       "    </tr>\n",
       "    <tr>\n",
       "      <th>3</th>\n",
       "      <td>4</td>\n",
       "      <td>15701354</td>\n",
       "      <td>Boni</td>\n",
       "      <td>699</td>\n",
       "      <td>France</td>\n",
       "      <td>Female</td>\n",
       "      <td>39</td>\n",
       "      <td>1</td>\n",
       "      <td>0.00</td>\n",
       "      <td>2</td>\n",
       "      <td>0</td>\n",
       "      <td>0</td>\n",
       "      <td>93826.63</td>\n",
       "      <td>0</td>\n",
       "    </tr>\n",
       "    <tr>\n",
       "      <th>4</th>\n",
       "      <td>5</td>\n",
       "      <td>15737888</td>\n",
       "      <td>Mitchell</td>\n",
       "      <td>850</td>\n",
       "      <td>Spain</td>\n",
       "      <td>Female</td>\n",
       "      <td>43</td>\n",
       "      <td>2</td>\n",
       "      <td>125510.82</td>\n",
       "      <td>1</td>\n",
       "      <td>1</td>\n",
       "      <td>1</td>\n",
       "      <td>79084.10</td>\n",
       "      <td>0</td>\n",
       "    </tr>\n",
       "  </tbody>\n",
       "</table>\n",
       "</div>"
      ],
      "text/plain": [
       "   RowNumber  CustomerId   Surname  CreditScore Geography  Gender  Age  \\\n",
       "0          1    15634602  Hargrave          619    France  Female   42   \n",
       "1          2    15647311      Hill          608     Spain  Female   41   \n",
       "2          3    15619304      Onio          502    France  Female   42   \n",
       "3          4    15701354      Boni          699    France  Female   39   \n",
       "4          5    15737888  Mitchell          850     Spain  Female   43   \n",
       "\n",
       "   Tenure    Balance  NumOfProducts  HasCrCard  IsActiveMember  \\\n",
       "0       2       0.00              1          1               1   \n",
       "1       1   83807.86              1          0               1   \n",
       "2       8  159660.80              3          1               0   \n",
       "3       1       0.00              2          0               0   \n",
       "4       2  125510.82              1          1               1   \n",
       "\n",
       "   EstimatedSalary  Exited  \n",
       "0        101348.88       1  \n",
       "1        112542.58       0  \n",
       "2        113931.57       1  \n",
       "3         93826.63       0  \n",
       "4         79084.10       0  "
      ]
     },
     "execution_count": 2,
     "metadata": {},
     "output_type": "execute_result"
    }
   ],
   "source": [
    "df = pd.read_csv('churn.csv')\n",
    "df.head()"
   ]
  },
  {
   "cell_type": "code",
   "execution_count": 3,
   "metadata": {},
   "outputs": [
    {
     "name": "stdout",
     "output_type": "stream",
     "text": [
      "<class 'pandas.core.frame.DataFrame'>\n",
      "RangeIndex: 10000 entries, 0 to 9999\n",
      "Data columns (total 14 columns):\n",
      " #   Column           Non-Null Count  Dtype  \n",
      "---  ------           --------------  -----  \n",
      " 0   RowNumber        10000 non-null  int64  \n",
      " 1   CustomerId       10000 non-null  int64  \n",
      " 2   Surname          10000 non-null  object \n",
      " 3   CreditScore      10000 non-null  int64  \n",
      " 4   Geography        10000 non-null  object \n",
      " 5   Gender           10000 non-null  object \n",
      " 6   Age              10000 non-null  int64  \n",
      " 7   Tenure           10000 non-null  int64  \n",
      " 8   Balance          10000 non-null  float64\n",
      " 9   NumOfProducts    10000 non-null  int64  \n",
      " 10  HasCrCard        10000 non-null  int64  \n",
      " 11  IsActiveMember   10000 non-null  int64  \n",
      " 12  EstimatedSalary  10000 non-null  float64\n",
      " 13  Exited           10000 non-null  int64  \n",
      "dtypes: float64(2), int64(9), object(3)\n",
      "memory usage: 1.1+ MB\n"
     ]
    }
   ],
   "source": [
    "df.info()"
   ]
  },
  {
   "cell_type": "code",
   "execution_count": 4,
   "metadata": {},
   "outputs": [],
   "source": [
    "# Drop unnecessary features\n",
    "df.drop(columns=['RowNumber', 'CustomerId', 'Surname'], axis=1, inplace=True)"
   ]
  },
  {
   "cell_type": "code",
   "execution_count": 5,
   "metadata": {},
   "outputs": [
    {
     "name": "stdout",
     "output_type": "stream",
     "text": [
      "0    7963\n",
      "1    2037\n",
      "Name: Exited, dtype: int64\n",
      "\n",
      "0    79.63\n",
      "1    20.37\n",
      "Name: Exited, dtype: float64\n"
     ]
    }
   ],
   "source": [
    "print(df['Exited'].value_counts())\n",
    "print()\n",
    "print(df['Exited'].value_counts(True)*100)"
   ]
  },
  {
   "cell_type": "code",
   "execution_count": 6,
   "metadata": {},
   "outputs": [
    {
     "data": {
      "text/plain": [
       "['Geography', 'Gender']"
      ]
     },
     "execution_count": 6,
     "metadata": {},
     "output_type": "execute_result"
    }
   ],
   "source": [
    "cat_features = [feature for feature in df.columns if (df[feature].dtypes == 'O')]\n",
    "cat_features"
   ]
  },
  {
   "cell_type": "code",
   "execution_count": 7,
   "metadata": {},
   "outputs": [
    {
     "name": "stdout",
     "output_type": "stream",
     "text": [
      "Total unique values in Geography:  3\n",
      "Unique values:  ['France' 'Spain' 'Germany']\n",
      "\n",
      "Total unique values in Gender:  2\n",
      "Unique values:  ['Female' 'Male']\n",
      "\n"
     ]
    }
   ],
   "source": [
    "for i in cat_features:\n",
    "    print(f'Total unique values in {i}: ', df[i].nunique())\n",
    "    print(f'Unique values: ', df[i].unique())\n",
    "    print()"
   ]
  },
  {
   "cell_type": "code",
   "execution_count": 8,
   "metadata": {},
   "outputs": [
    {
     "data": {
      "text/plain": [
       "['CreditScore',\n",
       " 'Age',\n",
       " 'Tenure',\n",
       " 'Balance',\n",
       " 'NumOfProducts',\n",
       " 'HasCrCard',\n",
       " 'IsActiveMember',\n",
       " 'EstimatedSalary']"
      ]
     },
     "execution_count": 8,
     "metadata": {},
     "output_type": "execute_result"
    }
   ],
   "source": [
    "num_features = [feature for feature in df.columns if ((df[feature].dtypes != 'O') & (feature not in ['Exited']))]\n",
    "num_features"
   ]
  },
  {
   "cell_type": "code",
   "execution_count": 9,
   "metadata": {},
   "outputs": [
    {
     "data": {
      "text/plain": [
       "CreditScore       -0.023289\n",
       "Age                0.323968\n",
       "Tenure            -0.013978\n",
       "Balance            0.111110\n",
       "NumOfProducts     -0.125282\n",
       "HasCrCard         -0.007138\n",
       "IsActiveMember    -0.156128\n",
       "EstimatedSalary    0.012081\n",
       "Exited             1.000000\n",
       "Name: Exited, dtype: float64"
      ]
     },
     "execution_count": 9,
     "metadata": {},
     "output_type": "execute_result"
    }
   ],
   "source": [
    "df.corr(method='spearman')['Exited']"
   ]
  },
  {
   "cell_type": "code",
   "execution_count": 10,
   "metadata": {},
   "outputs": [
    {
     "data": {
      "text/html": [
       "<div>\n",
       "<style scoped>\n",
       "    .dataframe tbody tr th:only-of-type {\n",
       "        vertical-align: middle;\n",
       "    }\n",
       "\n",
       "    .dataframe tbody tr th {\n",
       "        vertical-align: top;\n",
       "    }\n",
       "\n",
       "    .dataframe thead th {\n",
       "        text-align: right;\n",
       "    }\n",
       "</style>\n",
       "<table border=\"1\" class=\"dataframe\">\n",
       "  <thead>\n",
       "    <tr style=\"text-align: right;\">\n",
       "      <th></th>\n",
       "      <th>CreditScore</th>\n",
       "      <th>Age</th>\n",
       "      <th>Tenure</th>\n",
       "      <th>Balance</th>\n",
       "      <th>NumOfProducts</th>\n",
       "      <th>HasCrCard</th>\n",
       "      <th>IsActiveMember</th>\n",
       "      <th>EstimatedSalary</th>\n",
       "      <th>Exited</th>\n",
       "    </tr>\n",
       "  </thead>\n",
       "  <tbody>\n",
       "    <tr>\n",
       "      <th>CreditScore</th>\n",
       "      <td>1.000000</td>\n",
       "      <td>-0.007974</td>\n",
       "      <td>0.001133</td>\n",
       "      <td>0.005687</td>\n",
       "      <td>0.012568</td>\n",
       "      <td>-0.003802</td>\n",
       "      <td>0.024262</td>\n",
       "      <td>0.001237</td>\n",
       "      <td>-0.023289</td>\n",
       "    </tr>\n",
       "    <tr>\n",
       "      <th>Age</th>\n",
       "      <td>-0.007974</td>\n",
       "      <td>1.000000</td>\n",
       "      <td>-0.010405</td>\n",
       "      <td>0.033304</td>\n",
       "      <td>-0.058566</td>\n",
       "      <td>-0.015278</td>\n",
       "      <td>0.039839</td>\n",
       "      <td>-0.002431</td>\n",
       "      <td>0.323968</td>\n",
       "    </tr>\n",
       "    <tr>\n",
       "      <th>Tenure</th>\n",
       "      <td>0.001133</td>\n",
       "      <td>-0.010405</td>\n",
       "      <td>1.000000</td>\n",
       "      <td>-0.009513</td>\n",
       "      <td>0.012908</td>\n",
       "      <td>0.022354</td>\n",
       "      <td>-0.028673</td>\n",
       "      <td>0.007778</td>\n",
       "      <td>-0.013978</td>\n",
       "    </tr>\n",
       "    <tr>\n",
       "      <th>Balance</th>\n",
       "      <td>0.005687</td>\n",
       "      <td>0.033304</td>\n",
       "      <td>-0.009513</td>\n",
       "      <td>1.000000</td>\n",
       "      <td>-0.316627</td>\n",
       "      <td>-0.009835</td>\n",
       "      <td>-0.011497</td>\n",
       "      <td>0.011778</td>\n",
       "      <td>0.111110</td>\n",
       "    </tr>\n",
       "    <tr>\n",
       "      <th>NumOfProducts</th>\n",
       "      <td>0.012568</td>\n",
       "      <td>-0.058566</td>\n",
       "      <td>0.012908</td>\n",
       "      <td>-0.316627</td>\n",
       "      <td>1.000000</td>\n",
       "      <td>0.003859</td>\n",
       "      <td>0.016292</td>\n",
       "      <td>0.012570</td>\n",
       "      <td>-0.125282</td>\n",
       "    </tr>\n",
       "    <tr>\n",
       "      <th>HasCrCard</th>\n",
       "      <td>-0.003802</td>\n",
       "      <td>-0.015278</td>\n",
       "      <td>0.022354</td>\n",
       "      <td>-0.009835</td>\n",
       "      <td>0.003859</td>\n",
       "      <td>1.000000</td>\n",
       "      <td>-0.011866</td>\n",
       "      <td>-0.010041</td>\n",
       "      <td>-0.007138</td>\n",
       "    </tr>\n",
       "    <tr>\n",
       "      <th>IsActiveMember</th>\n",
       "      <td>0.024262</td>\n",
       "      <td>0.039839</td>\n",
       "      <td>-0.028673</td>\n",
       "      <td>-0.011497</td>\n",
       "      <td>0.016292</td>\n",
       "      <td>-0.011866</td>\n",
       "      <td>1.000000</td>\n",
       "      <td>-0.011469</td>\n",
       "      <td>-0.156128</td>\n",
       "    </tr>\n",
       "    <tr>\n",
       "      <th>EstimatedSalary</th>\n",
       "      <td>0.001237</td>\n",
       "      <td>-0.002431</td>\n",
       "      <td>0.007778</td>\n",
       "      <td>0.011778</td>\n",
       "      <td>0.012570</td>\n",
       "      <td>-0.010041</td>\n",
       "      <td>-0.011469</td>\n",
       "      <td>1.000000</td>\n",
       "      <td>0.012081</td>\n",
       "    </tr>\n",
       "    <tr>\n",
       "      <th>Exited</th>\n",
       "      <td>-0.023289</td>\n",
       "      <td>0.323968</td>\n",
       "      <td>-0.013978</td>\n",
       "      <td>0.111110</td>\n",
       "      <td>-0.125282</td>\n",
       "      <td>-0.007138</td>\n",
       "      <td>-0.156128</td>\n",
       "      <td>0.012081</td>\n",
       "      <td>1.000000</td>\n",
       "    </tr>\n",
       "  </tbody>\n",
       "</table>\n",
       "</div>"
      ],
      "text/plain": [
       "                 CreditScore       Age    Tenure   Balance  NumOfProducts  \\\n",
       "CreditScore         1.000000 -0.007974  0.001133  0.005687       0.012568   \n",
       "Age                -0.007974  1.000000 -0.010405  0.033304      -0.058566   \n",
       "Tenure              0.001133 -0.010405  1.000000 -0.009513       0.012908   \n",
       "Balance             0.005687  0.033304 -0.009513  1.000000      -0.316627   \n",
       "NumOfProducts       0.012568 -0.058566  0.012908 -0.316627       1.000000   \n",
       "HasCrCard          -0.003802 -0.015278  0.022354 -0.009835       0.003859   \n",
       "IsActiveMember      0.024262  0.039839 -0.028673 -0.011497       0.016292   \n",
       "EstimatedSalary     0.001237 -0.002431  0.007778  0.011778       0.012570   \n",
       "Exited             -0.023289  0.323968 -0.013978  0.111110      -0.125282   \n",
       "\n",
       "                 HasCrCard  IsActiveMember  EstimatedSalary    Exited  \n",
       "CreditScore      -0.003802        0.024262         0.001237 -0.023289  \n",
       "Age              -0.015278        0.039839        -0.002431  0.323968  \n",
       "Tenure            0.022354       -0.028673         0.007778 -0.013978  \n",
       "Balance          -0.009835       -0.011497         0.011778  0.111110  \n",
       "NumOfProducts     0.003859        0.016292         0.012570 -0.125282  \n",
       "HasCrCard         1.000000       -0.011866        -0.010041 -0.007138  \n",
       "IsActiveMember   -0.011866        1.000000        -0.011469 -0.156128  \n",
       "EstimatedSalary  -0.010041       -0.011469         1.000000  0.012081  \n",
       "Exited           -0.007138       -0.156128         0.012081  1.000000  "
      ]
     },
     "execution_count": 10,
     "metadata": {},
     "output_type": "execute_result"
    }
   ],
   "source": [
    "df.corr(method='spearman')"
   ]
  },
  {
   "cell_type": "code",
   "execution_count": 11,
   "metadata": {},
   "outputs": [
    {
     "data": {
      "text/plain": [
       "CreditScore        0\n",
       "Geography          0\n",
       "Gender             0\n",
       "Age                0\n",
       "Tenure             0\n",
       "Balance            0\n",
       "NumOfProducts      0\n",
       "HasCrCard          0\n",
       "IsActiveMember     0\n",
       "EstimatedSalary    0\n",
       "Exited             0\n",
       "dtype: int64"
      ]
     },
     "execution_count": 11,
     "metadata": {},
     "output_type": "execute_result"
    }
   ],
   "source": [
    "df.isna().sum()"
   ]
  },
  {
   "cell_type": "code",
   "execution_count": 12,
   "metadata": {},
   "outputs": [
    {
     "data": {
      "text/html": [
       "<div>\n",
       "<style scoped>\n",
       "    .dataframe tbody tr th:only-of-type {\n",
       "        vertical-align: middle;\n",
       "    }\n",
       "\n",
       "    .dataframe tbody tr th {\n",
       "        vertical-align: top;\n",
       "    }\n",
       "\n",
       "    .dataframe thead th {\n",
       "        text-align: right;\n",
       "    }\n",
       "</style>\n",
       "<table border=\"1\" class=\"dataframe\">\n",
       "  <thead>\n",
       "    <tr style=\"text-align: right;\">\n",
       "      <th></th>\n",
       "      <th>CreditScore</th>\n",
       "      <th>Geography</th>\n",
       "      <th>Gender</th>\n",
       "      <th>Age</th>\n",
       "      <th>Tenure</th>\n",
       "      <th>Balance</th>\n",
       "      <th>NumOfProducts</th>\n",
       "      <th>HasCrCard</th>\n",
       "      <th>IsActiveMember</th>\n",
       "      <th>EstimatedSalary</th>\n",
       "      <th>Exited</th>\n",
       "    </tr>\n",
       "  </thead>\n",
       "  <tbody>\n",
       "  </tbody>\n",
       "</table>\n",
       "</div>"
      ],
      "text/plain": [
       "Empty DataFrame\n",
       "Columns: [CreditScore, Geography, Gender, Age, Tenure, Balance, NumOfProducts, HasCrCard, IsActiveMember, EstimatedSalary, Exited]\n",
       "Index: []"
      ]
     },
     "execution_count": 12,
     "metadata": {},
     "output_type": "execute_result"
    }
   ],
   "source": [
    "df[df.duplicated()]"
   ]
  },
  {
   "cell_type": "markdown",
   "metadata": {},
   "source": [
    "### **EDA**"
   ]
  },
  {
   "cell_type": "code",
   "execution_count": 13,
   "metadata": {},
   "outputs": [
    {
     "data": {
      "image/png": "[encoded data removed]",
      "text/plain": [
       "<Figure size 1080x720 with 8 Axes>"
      ]
     },
     "metadata": {},
     "output_type": "display_data"
    }
   ],
   "source": [
    "# Plot numerical features distribution\n",
    "plt.figure(figsize=(15, 10), facecolor='white')\n",
    "sns.set(style='whitegrid', palette='Set1')\n",
    "plotnumber = 1\n",
    "\n",
    "for feature in num_features:\n",
    "    ax = plt.subplot(3, 3, plotnumber)\n",
    "    sns.histplot(x=feature, data = df)\n",
    "    plt.xlabel(feature.capitalize())\n",
    "    plt.title(feature.capitalize())\n",
    "    plt.tight_layout()\n",
    "    plotnumber += 1;"
   ]
  },
  {
   "cell_type": "code",
   "execution_count": 14,
   "metadata": {},
   "outputs": [
    {
     "data": {
      "image/png": "[encoded data removed]",
      "text/plain": [
       "<Figure size 216x288 with 1 Axes>"
      ]
     },
     "metadata": {},
     "output_type": "display_data"
    }
   ],
   "source": [
    "# Which country that most of the customers come from?\n",
    "plt.figure(figsize=(3, 4))\n",
    "sns.set_palette('Set1')\n",
    "sns.countplot(x='Geography', data=df);"
   ]
  },
  {
   "cell_type": "code",
   "execution_count": 15,
   "metadata": {},
   "outputs": [
    {
     "data": {
      "image/png": "[encoded data removed]",
      "text/plain": [
       "<Figure size 792x360 with 3 Axes>"
      ]
     },
     "metadata": {},
     "output_type": "display_data"
    }
   ],
   "source": [
    "# Plot some features related to the origin of customers\n",
    "features = ['HasCrCard', 'Exited', 'NumOfProducts']\n",
    "plt.figure(figsize=(11, 5))\n",
    "sns.set(palette='Set1')\n",
    "plotnumber = 1\n",
    "\n",
    "for feature in features:\n",
    "    ax = plt.subplot(1, 3, plotnumber)\n",
    "    sns.countplot(x=feature, hue='Geography', data=df)\n",
    "    plt.xlabel(feature)\n",
    "    plt.title(feature)\n",
    "    plotnumber += 1\n",
    "    plt.tight_layout();"
   ]
  },
  {
   "cell_type": "code",
   "execution_count": 16,
   "metadata": {},
   "outputs": [
    {
     "data": {
      "image/png": "[encoded data removed]",
      "text/plain": [
       "<Figure size 432x288 with 1 Axes>"
      ]
     },
     "metadata": {},
     "output_type": "display_data"
    }
   ],
   "source": [
    "# Which country has the most churn customer?\n",
    "geo_churn_no = df[df.Exited==0]['Geography']\n",
    "geo_churn_yes = df[df.Exited==1]['Geography']\n",
    "\n",
    "plt.xlabel('Geography')\n",
    "plt.ylabel('Number Of Customers')\n",
    "plt.title('Customer Churn Prediction Visualization')\n",
    "plt.hist([geo_churn_yes, geo_churn_no], color=['red', 'green'], label=['Churn=Yes', 'Churn=No'])\n",
    "plt.legend();"
   ]
  },
  {
   "cell_type": "code",
   "execution_count": 17,
   "metadata": {},
   "outputs": [
    {
     "data": {
      "image/png": "[encoded data removed]",
      "text/plain": [
       "<Figure size 432x288 with 1 Axes>"
      ]
     },
     "metadata": {},
     "output_type": "display_data"
    }
   ],
   "source": [
    "# What gender tends to churn?\n",
    "gender_churn_no = df[df.Exited==0]['Gender']\n",
    "gender_churn_yes = df[df.Exited==1]['Gender']\n",
    "\n",
    "plt.xlabel('Gender')\n",
    "plt.ylabel('Number Of Customers')\n",
    "plt.title('Customer Churn Prediction Visualization')\n",
    "plt.hist([gender_churn_yes, gender_churn_no], color=['red', 'green'], label=['Churn=Yes', 'Churn=No'])\n",
    "plt.legend();"
   ]
  },
  {
   "cell_type": "code",
   "execution_count": 18,
   "metadata": {},
   "outputs": [
    {
     "data": {
      "image/png": "[encoded data removed]",
      "text/plain": [
       "<Figure size 432x288 with 1 Axes>"
      ]
     },
     "metadata": {},
     "output_type": "display_data"
    }
   ],
   "source": [
    "# Is there any relationship between tenure and churn rate?\n",
    "tenure_churn_no = df[df.Exited==0].Tenure\n",
    "tenure_churn_yes = df[df.Exited==1].Tenure\n",
    "\n",
    "plt.xlabel('Tenure')\n",
    "plt.ylabel('Number Of Customers')\n",
    "plt.title('Customer Churn Prediction Visualization')\n",
    "plt.hist([tenure_churn_yes, tenure_churn_no], color=['red', 'green'], label=['Churn=Yes', 'Churn=No'])\n",
    "plt.legend();"
   ]
  },
  {
   "cell_type": "code",
   "execution_count": 19,
   "metadata": {},
   "outputs": [
    {
     "data": {
      "image/png": "[encoded data removed]",
      "text/plain": [
       "<Figure size 432x288 with 1 Axes>"
      ]
     },
     "metadata": {},
     "output_type": "display_data"
    }
   ],
   "source": [
    "# Distribution of active member and age\n",
    "sns.boxplot(x='IsActiveMember', y='Age', data=df);"
   ]
  },
  {
   "cell_type": "code",
   "execution_count": 20,
   "metadata": {},
   "outputs": [
    {
     "data": {
      "image/png": "[encoded data removed]",
      "text/plain": [
       "<Figure size 432x288 with 1 Axes>"
      ]
     },
     "metadata": {},
     "output_type": "display_data"
    }
   ],
   "source": [
    "# Distribution of churn and age\n",
    "sns.boxplot(x='Exited', y='Age', data=df);"
   ]
  },
  {
   "cell_type": "code",
   "execution_count": 21,
   "metadata": {},
   "outputs": [
    {
     "data": {
      "image/png": "[encoded data removed]",
      "text/plain": [
       "<Figure size 432x288 with 1 Axes>"
      ]
     },
     "metadata": {},
     "output_type": "display_data"
    }
   ],
   "source": [
    "# Is there any particular pattern between estimated salary and number of products used?\n",
    "sns.boxplot(x='NumOfProducts', y='EstimatedSalary', data=df);"
   ]
  },
  {
   "cell_type": "code",
   "execution_count": 22,
   "metadata": {},
   "outputs": [
    {
     "data": {
      "image/png": "[encoded data removed]",
      "text/plain": [
       "<Figure size 432x288 with 1 Axes>"
      ]
     },
     "metadata": {},
     "output_type": "display_data"
    }
   ],
   "source": [
    "# Is there any particular trend between balance and age?\n",
    "sns.scatterplot(x='Age', y='Balance', data=df);"
   ]
  },
  {
   "cell_type": "markdown",
   "metadata": {},
   "source": [
    "### **Modeling**"
   ]
  },
  {
   "cell_type": "code",
   "execution_count": 23,
   "metadata": {},
   "outputs": [
    {
     "data": {
      "text/html": [
       "<div>\n",
       "<style scoped>\n",
       "    .dataframe tbody tr th:only-of-type {\n",
       "        vertical-align: middle;\n",
       "    }\n",
       "\n",
       "    .dataframe tbody tr th {\n",
       "        vertical-align: top;\n",
       "    }\n",
       "\n",
       "    .dataframe thead th {\n",
       "        text-align: right;\n",
       "    }\n",
       "</style>\n",
       "<table border=\"1\" class=\"dataframe\">\n",
       "  <thead>\n",
       "    <tr style=\"text-align: right;\">\n",
       "      <th></th>\n",
       "      <th>Geography</th>\n",
       "      <th>Gender</th>\n",
       "      <th>CreditScore</th>\n",
       "      <th>Age</th>\n",
       "      <th>Tenure</th>\n",
       "      <th>Balance</th>\n",
       "      <th>NumOfProducts</th>\n",
       "      <th>HasCrCard</th>\n",
       "      <th>IsActiveMember</th>\n",
       "      <th>EstimatedSalary</th>\n",
       "      <th>Exited</th>\n",
       "    </tr>\n",
       "  </thead>\n",
       "  <tbody>\n",
       "    <tr>\n",
       "      <th>0</th>\n",
       "      <td>France</td>\n",
       "      <td>Female</td>\n",
       "      <td>619</td>\n",
       "      <td>42</td>\n",
       "      <td>2</td>\n",
       "      <td>0.00</td>\n",
       "      <td>1</td>\n",
       "      <td>1</td>\n",
       "      <td>1</td>\n",
       "      <td>101348.88</td>\n",
       "      <td>1</td>\n",
       "    </tr>\n",
       "    <tr>\n",
       "      <th>1</th>\n",
       "      <td>Spain</td>\n",
       "      <td>Female</td>\n",
       "      <td>608</td>\n",
       "      <td>41</td>\n",
       "      <td>1</td>\n",
       "      <td>83807.86</td>\n",
       "      <td>1</td>\n",
       "      <td>0</td>\n",
       "      <td>1</td>\n",
       "      <td>112542.58</td>\n",
       "      <td>0</td>\n",
       "    </tr>\n",
       "    <tr>\n",
       "      <th>2</th>\n",
       "      <td>France</td>\n",
       "      <td>Female</td>\n",
       "      <td>502</td>\n",
       "      <td>42</td>\n",
       "      <td>8</td>\n",
       "      <td>159660.80</td>\n",
       "      <td>3</td>\n",
       "      <td>1</td>\n",
       "      <td>0</td>\n",
       "      <td>113931.57</td>\n",
       "      <td>1</td>\n",
       "    </tr>\n",
       "    <tr>\n",
       "      <th>3</th>\n",
       "      <td>France</td>\n",
       "      <td>Female</td>\n",
       "      <td>699</td>\n",
       "      <td>39</td>\n",
       "      <td>1</td>\n",
       "      <td>0.00</td>\n",
       "      <td>2</td>\n",
       "      <td>0</td>\n",
       "      <td>0</td>\n",
       "      <td>93826.63</td>\n",
       "      <td>0</td>\n",
       "    </tr>\n",
       "    <tr>\n",
       "      <th>4</th>\n",
       "      <td>Spain</td>\n",
       "      <td>Female</td>\n",
       "      <td>850</td>\n",
       "      <td>43</td>\n",
       "      <td>2</td>\n",
       "      <td>125510.82</td>\n",
       "      <td>1</td>\n",
       "      <td>1</td>\n",
       "      <td>1</td>\n",
       "      <td>79084.10</td>\n",
       "      <td>0</td>\n",
       "    </tr>\n",
       "  </tbody>\n",
       "</table>\n",
       "</div>"
      ],
      "text/plain": [
       "  Geography  Gender  CreditScore  Age  Tenure    Balance  NumOfProducts  \\\n",
       "0    France  Female          619   42       2       0.00              1   \n",
       "1     Spain  Female          608   41       1   83807.86              1   \n",
       "2    France  Female          502   42       8  159660.80              3   \n",
       "3    France  Female          699   39       1       0.00              2   \n",
       "4     Spain  Female          850   43       2  125510.82              1   \n",
       "\n",
       "   HasCrCard  IsActiveMember  EstimatedSalary  Exited  \n",
       "0          1               1        101348.88       1  \n",
       "1          0               1        112542.58       0  \n",
       "2          1               0        113931.57       1  \n",
       "3          0               0         93826.63       0  \n",
       "4          1               1         79084.10       0  "
      ]
     },
     "execution_count": 23,
     "metadata": {},
     "output_type": "execute_result"
    }
   ],
   "source": [
    "# Reordering columns\n",
    "num_features_all = [feature for feature in df.columns if ((df[feature].dtypes != 'O'))]\n",
    "cols = cat_features + num_features_all\n",
    "df = df[cols]\n",
    "df.head()"
   ]
  },
  {
   "cell_type": "markdown",
   "metadata": {},
   "source": [
    "**Data splitting**"
   ]
  },
  {
   "cell_type": "code",
   "execution_count": 24,
   "metadata": {},
   "outputs": [],
   "source": [
    "X = df.drop(['Exited'], axis=1)\n",
    "y = df['Exited']"
   ]
  },
  {
   "cell_type": "code",
   "execution_count": 25,
   "metadata": {},
   "outputs": [],
   "source": [
    "# Split\n",
    "X_train, X_test, y_train, y_test = train_test_split(\n",
    "    X, \n",
    "    y,\n",
    "    stratify=y,\n",
    "    test_size=0.2,\n",
    "    random_state=42\n",
    ")"
   ]
  },
  {
   "cell_type": "markdown",
   "metadata": {},
   "source": [
    "**Data preprocessing**"
   ]
  },
  {
   "cell_type": "code",
   "execution_count": 26,
   "metadata": {},
   "outputs": [
    {
     "data": {
      "text/html": [
       "<div>\n",
       "<style scoped>\n",
       "    .dataframe tbody tr th:only-of-type {\n",
       "        vertical-align: middle;\n",
       "    }\n",
       "\n",
       "    .dataframe tbody tr th {\n",
       "        vertical-align: top;\n",
       "    }\n",
       "\n",
       "    .dataframe thead th {\n",
       "        text-align: right;\n",
       "    }\n",
       "</style>\n",
       "<table border=\"1\" class=\"dataframe\">\n",
       "  <thead>\n",
       "    <tr style=\"text-align: right;\">\n",
       "      <th></th>\n",
       "      <th>Geography</th>\n",
       "      <th>Gender</th>\n",
       "      <th>CreditScore</th>\n",
       "      <th>Age</th>\n",
       "      <th>Tenure</th>\n",
       "      <th>Balance</th>\n",
       "      <th>NumOfProducts</th>\n",
       "      <th>HasCrCard</th>\n",
       "      <th>IsActiveMember</th>\n",
       "      <th>EstimatedSalary</th>\n",
       "    </tr>\n",
       "  </thead>\n",
       "  <tbody>\n",
       "    <tr>\n",
       "      <th>2151</th>\n",
       "      <td>France</td>\n",
       "      <td>Male</td>\n",
       "      <td>753</td>\n",
       "      <td>57</td>\n",
       "      <td>7</td>\n",
       "      <td>0.0</td>\n",
       "      <td>1</td>\n",
       "      <td>1</td>\n",
       "      <td>0</td>\n",
       "      <td>159475.08</td>\n",
       "    </tr>\n",
       "  </tbody>\n",
       "</table>\n",
       "</div>"
      ],
      "text/plain": [
       "     Geography Gender  CreditScore  Age  Tenure  Balance  NumOfProducts  \\\n",
       "2151    France   Male          753   57       7      0.0              1   \n",
       "\n",
       "      HasCrCard  IsActiveMember  EstimatedSalary  \n",
       "2151          1               0        159475.08  "
      ]
     },
     "execution_count": 26,
     "metadata": {},
     "output_type": "execute_result"
    }
   ],
   "source": [
    "X_train.head(1)"
   ]
  },
  {
   "cell_type": "code",
   "execution_count": 27,
   "metadata": {},
   "outputs": [],
   "source": [
    "# Transformer schema\n",
    "onehot = OneHotEncoder(drop='first')\n",
    "\n",
    "transformer = ColumnTransformer([\n",
    "    ('onehot', onehot, ['Geography', 'Gender']),\n",
    "    ('scaler', RobustScaler(), ['CreditScore', 'Age', 'Tenure', 'Balance', 'EstimatedSalary'])\n",
    "], remainder='passthrough')"
   ]
  },
  {
   "cell_type": "markdown",
   "metadata": {},
   "source": [
    "### **Model benchmark**"
   ]
  },
  {
   "cell_type": "code",
   "execution_count": 28,
   "metadata": {},
   "outputs": [],
   "source": [
    "# Define models\n",
    "logreg = LogisticRegression(random_state=42, max_iter=1000)\n",
    "tree = DecisionTreeClassifier(random_state=42)\n",
    "rf = RandomForestClassifier(random_state=42)\n",
    "ada = AdaBoostClassifier(random_state=42)\n",
    "gbc = GradientBoostingClassifier(random_state=42)\n",
    "xgbc = XGBClassifier(random_state=42, verbosity=0)\n",
    "\n",
    "# Define end-to-end pipeline\n",
    "models = [logreg, tree, rf, ada, gbc, xgbc]\n",
    "score = []\n",
    "mean_score = []\n",
    "std_score = []\n",
    "\n",
    "for i in models:\n",
    "    smotenc = SMOTENC(categorical_features=np.array(range(0, 2)), random_state=42)\n",
    "    skfold = StratifiedKFold(n_splits=5, shuffle=True, random_state=42)\n",
    "    estimator = imbpipeline([\n",
    "        ('resampling', smotenc),\n",
    "        ('preprocessing', transformer),\n",
    "        ('model', i)\n",
    "    ])\n",
    "\n",
    "    model_cv = cross_val_score(estimator, X_train, y_train, cv=skfold, scoring='recall', error_score='raise', n_jobs=-1)\n",
    "    score.append(model_cv)\n",
    "    mean_score.append(model_cv.mean())\n",
    "    std_score.append(model_cv.std())"
   ]
  },
  {
   "cell_type": "code",
   "execution_count": 29,
   "metadata": {},
   "outputs": [
    {
     "data": {
      "text/html": [
       "<div>\n",
       "<style scoped>\n",
       "    .dataframe tbody tr th:only-of-type {\n",
       "        vertical-align: middle;\n",
       "    }\n",
       "\n",
       "    .dataframe tbody tr th {\n",
       "        vertical-align: top;\n",
       "    }\n",
       "\n",
       "    .dataframe thead th {\n",
       "        text-align: right;\n",
       "    }\n",
       "</style>\n",
       "<table border=\"1\" class=\"dataframe\">\n",
       "  <thead>\n",
       "    <tr style=\"text-align: right;\">\n",
       "      <th></th>\n",
       "      <th>Model</th>\n",
       "      <th>Recall mean</th>\n",
       "      <th>Recall std</th>\n",
       "    </tr>\n",
       "  </thead>\n",
       "  <tbody>\n",
       "    <tr>\n",
       "      <th>0</th>\n",
       "      <td>Logistic Regression</td>\n",
       "      <td>0.588344</td>\n",
       "      <td>0.026487</td>\n",
       "    </tr>\n",
       "    <tr>\n",
       "      <th>1</th>\n",
       "      <td>Decision Tree</td>\n",
       "      <td>0.620859</td>\n",
       "      <td>0.029397</td>\n",
       "    </tr>\n",
       "    <tr>\n",
       "      <th>2</th>\n",
       "      <td>Random Forest</td>\n",
       "      <td>0.640491</td>\n",
       "      <td>0.043485</td>\n",
       "    </tr>\n",
       "    <tr>\n",
       "      <th>3</th>\n",
       "      <td>AdaBoost</td>\n",
       "      <td>0.689571</td>\n",
       "      <td>0.036003</td>\n",
       "    </tr>\n",
       "    <tr>\n",
       "      <th>4</th>\n",
       "      <td>GradientBoosting</td>\n",
       "      <td>0.685890</td>\n",
       "      <td>0.029204</td>\n",
       "    </tr>\n",
       "    <tr>\n",
       "      <th>5</th>\n",
       "      <td>XGBC</td>\n",
       "      <td>0.644172</td>\n",
       "      <td>0.032924</td>\n",
       "    </tr>\n",
       "  </tbody>\n",
       "</table>\n",
       "</div>"
      ],
      "text/plain": [
       "                 Model  Recall mean  Recall std\n",
       "0  Logistic Regression     0.588344    0.026487\n",
       "1        Decision Tree     0.620859    0.029397\n",
       "2        Random Forest     0.640491    0.043485\n",
       "3             AdaBoost     0.689571    0.036003\n",
       "4     GradientBoosting     0.685890    0.029204\n",
       "5                 XGBC     0.644172    0.032924"
      ]
     },
     "execution_count": 29,
     "metadata": {},
     "output_type": "execute_result"
    }
   ],
   "source": [
    "pd.DataFrame({\n",
    "    'Model':['Logistic Regression', 'Decision Tree', 'Random Forest',' AdaBoost', 'GradientBoosting', 'XGBC'],\n",
    "    'Recall mean': mean_score,\n",
    "    'Recall std': std_score\n",
    "})"
   ]
  },
  {
   "cell_type": "markdown",
   "metadata": {},
   "source": [
    "### **Model Performance on test set**"
   ]
  },
  {
   "cell_type": "code",
   "execution_count": 30,
   "metadata": {},
   "outputs": [
    {
     "data": {
      "text/html": [
       "<div>\n",
       "<style scoped>\n",
       "    .dataframe tbody tr th:only-of-type {\n",
       "        vertical-align: middle;\n",
       "    }\n",
       "\n",
       "    .dataframe tbody tr th {\n",
       "        vertical-align: top;\n",
       "    }\n",
       "\n",
       "    .dataframe thead th {\n",
       "        text-align: right;\n",
       "    }\n",
       "</style>\n",
       "<table border=\"1\" class=\"dataframe\">\n",
       "  <thead>\n",
       "    <tr style=\"text-align: right;\">\n",
       "      <th></th>\n",
       "      <th>Recall score</th>\n",
       "    </tr>\n",
       "  </thead>\n",
       "  <tbody>\n",
       "    <tr>\n",
       "      <th>AdaBoost</th>\n",
       "      <td>0.707617</td>\n",
       "    </tr>\n",
       "    <tr>\n",
       "      <th>GradientBoosting</th>\n",
       "      <td>0.710074</td>\n",
       "    </tr>\n",
       "  </tbody>\n",
       "</table>\n",
       "</div>"
      ],
      "text/plain": [
       "                  Recall score\n",
       "AdaBoost              0.707617\n",
       "GradientBoosting      0.710074"
      ]
     },
     "execution_count": 30,
     "metadata": {},
     "output_type": "execute_result"
    }
   ],
   "source": [
    "ada = AdaBoostClassifier(random_state=42)\n",
    "gbc = GradientBoostingClassifier(random_state=42)\n",
    "\n",
    "models = [ada, gbc]\n",
    "score = []\n",
    "\n",
    "for i in models:\n",
    "    smotenc = SMOTENC(categorical_features=np.array(range(0, 2)), random_state=42)\n",
    "    estimator = imbpipeline([\n",
    "        ('resampling', smotenc),\n",
    "        ('preprocessing', transformer),\n",
    "        ('model', i)\n",
    "    ])\n",
    "\n",
    "    estimator.fit(X_train, y_train)\n",
    "    y_pred = estimator.predict(X_test)\n",
    "    score.append([recall_score(y_test, y_pred)])\n",
    "\n",
    "score_before_tuning = pd.DataFrame(score, columns=['Recall score'], index = ['AdaBoost', 'GradientBoosting'])\n",
    "score_before_tuning"
   ]
  },
  {
   "cell_type": "markdown",
   "metadata": {},
   "source": [
    "### **Tuning the model benchmark**"
   ]
  },
  {
   "cell_type": "code",
   "execution_count": 31,
   "metadata": {},
   "outputs": [],
   "source": [
    "# Hyperparameter space GBC\n",
    "# Number of trees in GBC\n",
    "n_estimators = [int(x) for x in np.linspace(start = 200, stop = 4000, num = 20)]\n",
    "# Number of features to consider at every split\n",
    "max_features = ['auto', 'sqrt']\n",
    "# Maximum number of levels in tree\n",
    "max_depth = [int(x) for x in np.linspace(3, 12, num = 10)]\n",
    "# Minimum number of samples required to split a node\n",
    "min_samples_split = [2, 5, 10]\n",
    "# Minimum number of samples required at each leaf node\n",
    "min_samples_leaf = [1, 2, 4]\n",
    "# Learning rate\n",
    "learning_rate = [1, 0.1, 0.05, 0.001, 0.005]\n",
    "\n",
    "hyperparam_space_gbc = {\n",
    "    'clf_gbc__n_estimators': n_estimators,\n",
    "    'clf_gbc__max_features': max_features,\n",
    "    'clf_gbc__max_depth': max_depth,\n",
    "    'clf_gbc__min_samples_split': min_samples_split,\n",
    "    'clf_gbc__min_samples_leaf': min_samples_leaf,\n",
    "    'clf_gbc__learning_rate': learning_rate\n",
    "}\n",
    "\n",
    "# Hyperparameter space AdaBoost\n",
    "# Number of trees in AdaBoost\n",
    "n_estimators = [int(x) for x in np.linspace(start = 200, stop = 4000, num = 20)]\n",
    "# Learning rate\n",
    "learning_rate = [1, 0.1, 0.05, 0.001, 0.005]\n",
    "\n",
    "hyperparam_space_ada = {\n",
    "    'clf_ada__n_estimators': n_estimators,\n",
    "    'clf_ada__learning_rate': learning_rate\n",
    "}"
   ]
  },
  {
   "cell_type": "code",
   "execution_count": 38,
   "metadata": {},
   "outputs": [],
   "source": [
    "# Create the algorithm chains\n",
    "estimator_gbc = imbpipeline([('balancing', smotenc), ('preprocessing', transformer), ('clf_gbc', gbc)])\n",
    "estimator_ada = imbpipeline([('balancing', smotenc), ('preprocessing', transformer), ('clf_ada', ada)])\n",
    "\n",
    "# Stratified cross validation\n",
    "skf = StratifiedKFold(n_splits = 5, shuffle=True, random_state=42)\n",
    "\n",
    "# Hyperparameter tuning\n",
    "random_gbc = RandomizedSearchCV(\n",
    "    estimator_gbc, # model to tune\n",
    "    param_distributions = hyperparam_space_gbc, # hyperparameter space\n",
    "    cv = skf, # evaluation method\n",
    "    scoring = 'recall', # metrics\n",
    "    return_train_score = True,\n",
    "    n_jobs = -1, # use all cores\n",
    "    random_state = 42  \n",
    ")\n",
    "\n",
    "random_ada = RandomizedSearchCV(\n",
    "    estimator_ada, # model to tune\n",
    "    param_distributions = hyperparam_space_ada, # hyperparameter space\n",
    "    cv = skf, # evaluation method\n",
    "    scoring = 'recall', # metrics\n",
    "    return_train_score = True, \n",
    "    n_jobs = -1 # use all cores\n",
    "    random_state = 42\n",
    ")"
   ]
  },
  {
   "cell_type": "code",
   "execution_count": 40,
   "metadata": {},
   "outputs": [
    {
     "data": {
      "text/plain": [
       "RandomizedSearchCV(cv=StratifiedKFold(n_splits=5, random_state=42, shuffle=True),\n",
       "                   estimator=Pipeline(steps=[('balancing',\n",
       "                                              SMOTENC(categorical_features=array([0, 1]),\n",
       "                                                      random_state=42)),\n",
       "                                             ('preprocessing',\n",
       "                                              ColumnTransformer(remainder='passthrough',\n",
       "                                                                transformers=[('onehot',\n",
       "                                                                               OneHotEncoder(drop='first'),\n",
       "                                                                               ['Geography',\n",
       "                                                                                'Gender']),\n",
       "                                                                              ('scaler',\n",
       "                                                                               RobustScaler(),\n",
       "                                                                               ['CreditScor...\n",
       "                   param_distributions={'clf_gbc__learning_rate': [1, 0.1, 0.05,\n",
       "                                                                   0.001,\n",
       "                                                                   0.005],\n",
       "                                        'clf_gbc__max_depth': [3, 4, 5, 6, 7, 8,\n",
       "                                                               9, 10, 11, 12],\n",
       "                                        'clf_gbc__max_features': ['auto',\n",
       "                                                                  'sqrt'],\n",
       "                                        'clf_gbc__min_samples_leaf': [1, 2, 4],\n",
       "                                        'clf_gbc__min_samples_split': [2, 5,\n",
       "                                                                       10],\n",
       "                                        'clf_gbc__n_estimators': [200, 400, 600,\n",
       "                                                                  800, 1000,\n",
       "                                                                  1200, 1400,\n",
       "                                                                  1600, 1800,\n",
       "                                                                  2000, 2200,\n",
       "                                                                  2400, 2600,\n",
       "                                                                  2800, 3000,\n",
       "                                                                  3200, 3400,\n",
       "                                                                  3600, 3800,\n",
       "                                                                  4000]},\n",
       "                   return_train_score=True, scoring='recall')"
      ]
     },
     "execution_count": 40,
     "metadata": {},
     "output_type": "execute_result"
    }
   ],
   "source": [
    "random_gbc.fit(X_train, y_train)"
   ]
  },
  {
   "cell_type": "code",
   "execution_count": 41,
   "metadata": {},
   "outputs": [
    {
     "data": {
      "text/plain": [
       "RandomizedSearchCV(cv=StratifiedKFold(n_splits=5, random_state=42, shuffle=True),\n",
       "                   estimator=Pipeline(steps=[('balancing',\n",
       "                                              SMOTENC(categorical_features=array([0, 1]),\n",
       "                                                      random_state=42)),\n",
       "                                             ('preprocessing',\n",
       "                                              ColumnTransformer(remainder='passthrough',\n",
       "                                                                transformers=[('onehot',\n",
       "                                                                               OneHotEncoder(drop='first'),\n",
       "                                                                               ['Geography',\n",
       "                                                                                'Gender']),\n",
       "                                                                              ('scaler',\n",
       "                                                                               RobustScaler(),\n",
       "                                                                               ['CreditScore',\n",
       "                                                                                'Age',\n",
       "                                                                                'Tenure',\n",
       "                                                                                'Balance',\n",
       "                                                                                'EstimatedSalary'])])),\n",
       "                                             ('clf_ada',\n",
       "                                              AdaBoostClassifier(random_state=42))]),\n",
       "                   n_jobs=-1,\n",
       "                   param_distributions={'clf_ada__learning_rate': [1, 0.1, 0.05,\n",
       "                                                                   0.001,\n",
       "                                                                   0.005],\n",
       "                                        'clf_ada__n_estimators': [200, 400, 600,\n",
       "                                                                  800, 1000,\n",
       "                                                                  1200, 1400,\n",
       "                                                                  1600, 1800,\n",
       "                                                                  2000, 2200,\n",
       "                                                                  2400, 2600,\n",
       "                                                                  2800, 3000,\n",
       "                                                                  3200, 3400,\n",
       "                                                                  3600, 3800,\n",
       "                                                                  4000]},\n",
       "                   return_train_score=True, scoring='recall')"
      ]
     },
     "execution_count": 41,
     "metadata": {},
     "output_type": "execute_result"
    }
   ],
   "source": [
    "random_ada.fit(X_train, y_train)"
   ]
  },
  {
   "cell_type": "code",
   "execution_count": 42,
   "metadata": {},
   "outputs": [
    {
     "name": "stdout",
     "output_type": "stream",
     "text": [
      "GBC\n",
      "Best_score: 0.6478527607361964\n",
      "Best_params: {'clf_gbc__n_estimators': 1600, 'clf_gbc__min_samples_split': 5, 'clf_gbc__min_samples_leaf': 2, 'clf_gbc__max_features': 'sqrt', 'clf_gbc__max_depth': 8, 'clf_gbc__learning_rate': 0.005}\n",
      "\n",
      "AdaBoost\n",
      "Best_score: 0.7098159509202454\n",
      "Best_params: {'clf_ada__n_estimators': 200, 'clf_ada__learning_rate': 0.05}\n"
     ]
    }
   ],
   "source": [
    "print('GBC')\n",
    "print('Best_score:', random_gbc.best_score_)\n",
    "print('Best_params:', random_gbc.best_params_)\n",
    "print()\n",
    "print('AdaBoost')\n",
    "print('Best_score:', random_ada.best_score_)\n",
    "print('Best_params:', random_ada.best_params_)"
   ]
  },
  {
   "cell_type": "markdown",
   "metadata": {},
   "source": [
    "### **Use the best estimator to predict test set**"
   ]
  },
  {
   "cell_type": "code",
   "execution_count": 43,
   "metadata": {},
   "outputs": [],
   "source": [
    "gbc_tuning = random_gbc.best_estimator_\n",
    "gbc_tuning.fit(X_train, y_train)\n",
    "\n",
    "ada_tuning = random_ada.best_estimator_\n",
    "ada_tuning.fit(X_train, y_train)\n",
    "\n",
    "y_pred_gbc_tuning = gbc_tuning.predict(X_test)\n",
    "y_pred_ada_tuning = ada_tuning.predict(X_test)\n",
    "\n",
    "recall_gbc_tuning = recall_score(y_test, y_pred_gbc_tuning)\n",
    "recall_ada_tuning = recall_score(y_test, y_pred_ada_tuning)"
   ]
  },
  {
   "cell_type": "code",
   "execution_count": 52,
   "metadata": {},
   "outputs": [],
   "source": [
    "score_list = [recall_ada_tuning, recall_gbc_tuning]\n",
    "models = ['AdaBoost', 'GradientBoosting']\n",
    "score_after_tuning = pd.DataFrame({\n",
    "    'Model': models,\n",
    "    'Recall': score_list\n",
    "})"
   ]
  },
  {
   "cell_type": "markdown",
   "metadata": {},
   "source": [
    "### **Comparison of the recall scores**"
   ]
  },
  {
   "cell_type": "code",
   "execution_count": 51,
   "metadata": {},
   "outputs": [
    {
     "data": {
      "text/html": [
       "<div>\n",
       "<style scoped>\n",
       "    .dataframe tbody tr th:only-of-type {\n",
       "        vertical-align: middle;\n",
       "    }\n",
       "\n",
       "    .dataframe tbody tr th {\n",
       "        vertical-align: top;\n",
       "    }\n",
       "\n",
       "    .dataframe thead th {\n",
       "        text-align: right;\n",
       "    }\n",
       "</style>\n",
       "<table border=\"1\" class=\"dataframe\">\n",
       "  <thead>\n",
       "    <tr style=\"text-align: right;\">\n",
       "      <th></th>\n",
       "      <th>Recall score</th>\n",
       "    </tr>\n",
       "  </thead>\n",
       "  <tbody>\n",
       "    <tr>\n",
       "      <th>AdaBoost</th>\n",
       "      <td>0.707617</td>\n",
       "    </tr>\n",
       "    <tr>\n",
       "      <th>GradientBoosting</th>\n",
       "      <td>0.710074</td>\n",
       "    </tr>\n",
       "  </tbody>\n",
       "</table>\n",
       "</div>"
      ],
      "text/plain": [
       "                  Recall score\n",
       "AdaBoost              0.707617\n",
       "GradientBoosting      0.710074"
      ]
     },
     "execution_count": 51,
     "metadata": {},
     "output_type": "execute_result"
    }
   ],
   "source": [
    "score_before_tuning"
   ]
  },
  {
   "cell_type": "code",
   "execution_count": 53,
   "metadata": {},
   "outputs": [
    {
     "data": {
      "text/html": [
       "<div>\n",
       "<style scoped>\n",
       "    .dataframe tbody tr th:only-of-type {\n",
       "        vertical-align: middle;\n",
       "    }\n",
       "\n",
       "    .dataframe tbody tr th {\n",
       "        vertical-align: top;\n",
       "    }\n",
       "\n",
       "    .dataframe thead th {\n",
       "        text-align: right;\n",
       "    }\n",
       "</style>\n",
       "<table border=\"1\" class=\"dataframe\">\n",
       "  <thead>\n",
       "    <tr style=\"text-align: right;\">\n",
       "      <th></th>\n",
       "      <th>Model</th>\n",
       "      <th>Recall</th>\n",
       "    </tr>\n",
       "  </thead>\n",
       "  <tbody>\n",
       "    <tr>\n",
       "      <th>0</th>\n",
       "      <td>AdaBoost</td>\n",
       "      <td>0.712531</td>\n",
       "    </tr>\n",
       "    <tr>\n",
       "      <th>1</th>\n",
       "      <td>GradientBoosting</td>\n",
       "      <td>0.660934</td>\n",
       "    </tr>\n",
       "  </tbody>\n",
       "</table>\n",
       "</div>"
      ],
      "text/plain": [
       "              Model    Recall\n",
       "0          AdaBoost  0.712531\n",
       "1  GradientBoosting  0.660934"
      ]
     },
     "execution_count": 53,
     "metadata": {},
     "output_type": "execute_result"
    }
   ],
   "source": [
    "score_after_tuning"
   ]
  },
  {
   "cell_type": "markdown",
   "metadata": {},
   "source": [
    "`Confusion matrix`"
   ]
  },
  {
   "cell_type": "code",
   "execution_count": 47,
   "metadata": {},
   "outputs": [
    {
     "name": "stdout",
     "output_type": "stream",
     "text": [
      "GradientBoostingClassifier\n",
      "              precision    recall  f1-score   support\n",
      "\n",
      "           0       0.91      0.86      0.88      1593\n",
      "           1       0.55      0.66      0.60       407\n",
      "\n",
      "    accuracy                           0.82      2000\n",
      "   macro avg       0.73      0.76      0.74      2000\n",
      "weighted avg       0.84      0.82      0.83      2000\n",
      "\n",
      "\n",
      "AdaBoost\n",
      "              precision    recall  f1-score   support\n",
      "\n",
      "           0       0.92      0.80      0.85      1593\n",
      "           1       0.47      0.71      0.57       407\n",
      "\n",
      "    accuracy                           0.78      2000\n",
      "   macro avg       0.70      0.76      0.71      2000\n",
      "weighted avg       0.83      0.78      0.80      2000\n",
      "\n"
     ]
    }
   ],
   "source": [
    "print('GradientBoostingClassifier')\n",
    "print(classification_report(y_test, y_pred_gbc_tuning))\n",
    "print()\n",
    "print('AdaBoost')\n",
    "print(classification_report(y_test, y_pred_ada_tuning))"
   ]
  },
  {
   "cell_type": "code",
   "execution_count": 48,
   "metadata": {},
   "outputs": [
    {
     "data": {
      "image/png": "[encoded data removed]",
      "text/plain": [
       "<Figure size 576x360 with 2 Axes>"
      ]
     },
     "metadata": {},
     "output_type": "display_data"
    }
   ],
   "source": [
    "f, ax = plt.subplots(figsize=(8, 5))\n",
    "sns.heatmap(confusion_matrix(y_test, y_pred_gbc_tuning), annot=True, fmt='.0f', ax=ax)\n",
    "plt.xlabel('y Prediction')\n",
    "plt.ylabel('y Actual')\n",
    "plt.title('GradientBoosting After Tuning');"
   ]
  },
  {
   "cell_type": "code",
   "execution_count": 49,
   "metadata": {},
   "outputs": [
    {
     "data": {
      "image/png": "[encoded data removed]",
      "text/plain": [
       "<Figure size 576x360 with 2 Axes>"
      ]
     },
     "metadata": {},
     "output_type": "display_data"
    }
   ],
   "source": [
    "f, ax = plt.subplots(figsize=(8, 5))\n",
    "sns.heatmap(confusion_matrix(y_test, y_pred_ada_tuning), annot=True, fmt='.0f', ax=ax)\n",
    "plt.xlabel('y Prediction')\n",
    "plt.ylabel('y Actual')\n",
    "plt.title('AdaBoost After Tuning');"
   ]
  },
  {
   "cell_type": "markdown",
   "metadata": {},
   "source": [
    "### **Summary**\n",
    "\n",
    "As we have tried to tune the best two models, we can see that the result is opposite to each other. Surprisingly, the gradient boosting model has a significant drop in its recall score after we tuned with some hyperparameters. On the other hand, AdaBoost got a slight improvement even though we only tuned the number of estimators and learning rate.\n",
    "\n",
    "However, there is always a trade-off between recall and precision score with a default threshold. Assume that we only focus on suppressing the number of false negatives and do not mind the number of false positives because false negatives are more costly; then, the AdaBoost is a better choice. The last point to note, there may be other approaches to improve the performance since we only have about 20% of the class positive, e.g., feature engineering, more appropriate hyperparameter values. "
   ]
  }
 ],
 "metadata": {
  "interpreter": {
   "hash": "95a19bb7a135a8107af75b765dc097fafc28c1115c0f9727f05dc637904e7be8"
  },
  "kernelspec": {
   "display_name": "Python 3.8.3 64-bit ('base': conda)",
   "name": "python3"
  },
  "language_info": {
   "codemirror_mode": {
    "name": "ipython",
    "version": 3
   },
   "file_extension": ".py",
   "mimetype": "text/x-python",
   "name": "python",
   "nbconvert_exporter": "python",
   "pygments_lexer": "ipython3",
   "version": "3.9.7"
  },
  "orig_nbformat": 4
 },
 "nbformat": 4,
 "nbformat_minor": 2
}
