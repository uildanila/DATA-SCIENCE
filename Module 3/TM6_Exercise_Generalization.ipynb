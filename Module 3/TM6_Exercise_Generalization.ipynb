{
 "cells": [
  {
   "cell_type": "markdown",
   "metadata": {},
   "source": [
    "`March, 25 2022`"
   ]
  },
  {
   "cell_type": "markdown",
   "metadata": {},
   "source": [
    "### **Generalization in KNN & Decision Tree Exercise**"
   ]
  },
  {
   "cell_type": "markdown",
   "metadata": {},
   "source": [
    "#### **Use 'titanic' dataset from seaborn**\n",
    "\n",
    "      - Features: 'pclass', 'sex', 'age', 'fare'\n",
    "      - Target: 'survived'\n",
    "\n",
    "**- Preprocess the data as needed.**<br>\n",
    "**- Split the data into 70:30 proportion.**\n",
    "\n",
    "#### **KNN**\n",
    "\n",
    "- Scale the data.\n",
    "- Find the optimum k factor in range of 1 to 150 and interpret the result in terms of underfitting and overfitting.\n",
    "- Use accuracy score as the performance evaluation metric.\n",
    "\n",
    "\n",
    "#### **Decision Tree**\n",
    "\n",
    "- Analyze model performance regarding overfitting, underfitting, and sweetspot with these following hyperparameters:\n",
    "\n",
    "            - minimum samples split in range of 2 to 150.\n",
    "            - minimum samples leaf in range of 1 to 150.\n",
    "            \n",
    "- Explain what the hyperparameters do along with the interpretation of the result above!"
   ]
  }
 ],
 "metadata": {
  "interpreter": {
   "hash": "95a19bb7a135a8107af75b765dc097fafc28c1115c0f9727f05dc637904e7be8"
  },
  "kernelspec": {
   "display_name": "Python 3.8.3 64-bit ('base': conda)",
   "name": "python3"
  },
  "language_info": {
   "codemirror_mode": {
    "name": "ipython",
    "version": 3
   },
   "file_extension": ".py",
   "mimetype": "text/x-python",
   "name": "python",
   "nbconvert_exporter": "python",
   "pygments_lexer": "ipython3",
   "version": "3.8.3"
  },
  "orig_nbformat": 4
 },
 "nbformat": 4,
 "nbformat_minor": 2
}
