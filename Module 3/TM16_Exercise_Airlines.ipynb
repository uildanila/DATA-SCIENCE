{
 "cells": [
  {
   "cell_type": "markdown",
   "metadata": {},
   "source": [
    "`April 8, 2022`"
   ]
  },
  {
   "cell_type": "markdown",
   "metadata": {},
   "source": [
    "### **Supervised Learning Exercise**"
   ]
  },
  {
   "cell_type": "markdown",
   "metadata": {},
   "source": [
    "#### **Use 'airline passengers satisfaction' dataset**\n",
    "\n",
    "`This dataset is taken from the survey of anonymous airline in the USA.`\n",
    "\n",
    "**Can you develop a machine learning model that can predict the satisfaction of airline passengers? What factors that affect the most the satisfaction?**\n",
    "\n",
    "- The aim is to estimate whether an airline passenger is satisfy or not.\n",
    "\n",
    "\n",
    "**Features:**\n",
    "\n",
    "- Satisfaction: Airline satisfaction level (Satisfaction, neutral or dissatisfaction).\n",
    "\n",
    "- Age: The actual age of the passengers.\n",
    "\n",
    "- Gender: Gender of the passengers (Female, Male).\n",
    "\n",
    "- Type of Travel: Purpose of the flight of the passengers (Personal Travel, Business Travel).\n",
    "\n",
    "- Class: Travel class in the plane of the passengers (Business, Eco, Eco Plus).\n",
    "\n",
    "- Customer Type:The customer type (Loyal customer, disloyal customer).\n",
    "\n",
    "- Flight distance:The flight distance of this journey.\n",
    "\n",
    "- Inflight wifi service: Satisfaction level of the inflight wifi service (0: Not Applicable; 1-5).\n",
    "\n",
    "- Ease of Online booking: Satisfaction level of online booking.\n",
    "\n",
    "- Inflight service: Satisfaction level of inflight service.\n",
    "\n",
    "- Online boarding: Satisfaction level of online boarding.\n",
    "\n",
    "- Inflight entertainment: Satisfaction level of inflight entertainment.\n",
    "\n",
    "- Food and drink: Satisfaction level of food and drink.\n",
    "\n",
    "- Seat comfort: Satisfaction level of seat comfort.\n",
    "\n",
    "- On-board service: Satisfaction level of on-board service.\n",
    "\n",
    "- Leg room service: Satisfaction level of leg room service.\n",
    "\n",
    "- Departure/Arrival time convenient: Satisfaction level of departure/arrival time convenient.\n",
    "\n",
    "- Baggage handling: Satisfaction level of baggage handling.\n",
    "\n",
    "- Gate location: Satisfaction level of gate location.\n",
    "\n",
    "- Cleanliness: Satisfaction level of cleanliness.\n",
    "\n",
    "- Check-in service: Satisfaction level of check-in service.\n",
    "\n",
    "- Departure Delay in Minutes: Minutes delayed when departure.\n",
    "\n",
    "- Arrival Delay in Minutes: Minutes delayed when arrival.\n",
    "\n",
    "- Flight cancelled: Whether the flight cancelled or not (Yes, No).\n",
    "\n",
    "- Flight time in minutes: Minutes of flight takes.\n",
    "\n",
    "\n",
    "**Instructions:**\n",
    "\n",
    "* Explore how each feature correlated with the probability of satisfaction. Do EDA along with the interpretation of each feature.\n",
    "\n",
    "* Do data preprocessing as needed (features selection included if needed).\n",
    "\n",
    "* Which evaluation metrics do you use? Why?\n",
    "\n",
    "* Use classifier algorithms you have learned so far, compare their performance and choose the best two. \n",
    "\n",
    "* Do hyperparameter tuning of the two selected models and pick the best one after testing on the test set.\n",
    "\n",
    "* Create a conclusion or summary about what you have done.\n",
    "\n",
    "* Use pipeline for the end-to-end process.\n",
    "\n",
    "<hr>"
   ]
  }
 ],
 "metadata": {
  "interpreter": {
   "hash": "95a19bb7a135a8107af75b765dc097fafc28c1115c0f9727f05dc637904e7be8"
  },
  "kernelspec": {
   "display_name": "Python 3.9.7 ('base')",
   "language": "python",
   "name": "python3"
  },
  "language_info": {
   "codemirror_mode": {
    "name": "ipython",
    "version": 3
   },
   "file_extension": ".py",
   "mimetype": "text/x-python",
   "name": "python",
   "nbconvert_exporter": "python",
   "pygments_lexer": "ipython3",
   "version": "3.9.7"
  },
  "orig_nbformat": 4
 },
 "nbformat": 4,
 "nbformat_minor": 2
}
