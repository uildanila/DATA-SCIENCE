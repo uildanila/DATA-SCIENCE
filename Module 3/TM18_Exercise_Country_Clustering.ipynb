{
 "cells": [
  {
   "cell_type": "markdown",
   "metadata": {},
   "source": [
    "`April 12, 2022`"
   ]
  },
  {
   "cell_type": "markdown",
   "metadata": {},
   "source": [
    "### **Clustering Exercise**\n",
    "\n",
    "\n",
    "**Use country dataset**\n",
    "\n",
    "- Explore the data first.\n",
    "- Preprocess and scale the data.\n",
    "\n",
    "- It is up to you if you want to apply and use PCA or not. If yes, then try to analyze the number of principal components and variance extracted.\n",
    "- Use K-Means, agglomerative clustering, and DBScan algorithms. Find the most optimal number of cluster for each algorithm. \n",
    "- Compare the results among the algorithms, which one is the best?\n",
    "- Interpret the result."
   ]
  },
  {
   "cell_type": "markdown",
   "metadata": {},
   "source": [
    "**`Objective:`**<br>\n",
    "To categorize the countries using socio-economic and health factors that determine the country's overall development.\n",
    "\n",
    "**`About organization:`**<br>\n",
    "HELP International is an international humanitarian NGO committed to fighting poverty and providing the people of backward countries with basic amenities and relief during disasters and natural calamities.\n",
    "\n",
    "**`Problem Statement:`**<br>\n",
    "HELP International has been able to raise around USD 10 million. Now, the CEO of the NGO needs to decide how to use this money strategically and effectively. Therefore, the CEO has to choose the countries in the state of need of aid.\n",
    "\n",
    "Your task as a data scientist is to categorize the countries using some socio-economic and health factors that determine the country's overall development. Then it would help if you suggested the countries the CEO needs to focus on the most."
   ]
  },
  {
   "cell_type": "markdown",
   "metadata": {},
   "source": [
    "### **Features information**\n",
    "\n",
    "| `Feature`   | `Description` |\n",
    "|---------  |-------------|\n",
    "country     | Name of the country\n",
    "child_mort  | Death of children under 5 years of age per 1000 live births\n",
    "exports     | Exports of goods and services per capita. Given as %age of the GDP per capita\n",
    "health      | Total health spending per capita. Given as %age of GDP per capita\n",
    "imports     | Imports of goods and services per capita. Given as %age of the GDP per capita\n",
    "income      | Net income per person\n",
    "inflation   | The measurement of the annual growth rate of the Total GDP\n",
    "life_expec  | The average number of years a new born child would live if the current mortality patterns are to remain the same\n",
    "total_fer   | The number of children that would be born to each woman if the current age-fertility rates remain the same.\n",
    "gdpp        | The GDP per capita. Calculated as the Total GDP divided by the total population\n",
    "\n",
    "<hr>"
   ]
  }
 ],
 "metadata": {
  "kernelspec": {
   "display_name": "Python 3.10.2 64-bit",
   "language": "python",
   "name": "python3"
  },
  "language_info": {
   "codemirror_mode": {
    "name": "ipython",
    "version": 3
   },
   "file_extension": ".py",
   "mimetype": "text/x-python",
   "name": "python",
   "nbconvert_exporter": "python",
   "pygments_lexer": "ipython3",
   "version": "3.10.2"
  },
  "orig_nbformat": 4,
  "vscode": {
   "interpreter": {
    "hash": "aee8b7b246df8f9039afb4144a1f6fd8d2ca17a180786b69acc140d282b71a49"
   }
  }
 },
 "nbformat": 4,
 "nbformat_minor": 2
}
