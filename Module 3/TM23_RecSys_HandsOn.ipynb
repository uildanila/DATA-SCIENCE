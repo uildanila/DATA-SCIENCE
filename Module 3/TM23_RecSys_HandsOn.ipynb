{
 "cells": [
  {
   "cell_type": "markdown",
   "metadata": {},
   "source": [
    "`April 20, 2022`"
   ]
  },
  {
   "cell_type": "markdown",
   "metadata": {
    "id": "T2KvEV902Wwh"
   },
   "source": [
    "# Cosine Similarity"
   ]
  },
  {
   "cell_type": "markdown",
   "metadata": {
    "id": "6l3KonTPsr1y"
   },
   "source": [
    "\\begin{align}\n",
    "Cosine(x,y)= \\frac{\\sum_{i = 1}^{n}x_i y_i\n",
    "}{\\sqrt{\\sum_{i=1}^{n}x_i^2} \\sqrt{\\sum_{i=1}^{n}y_i^2}}\n",
    "\\end{align}"
   ]
  },
  {
   "cell_type": "markdown",
   "metadata": {
    "id": "ukFYEeEnECcB"
   },
   "source": [
    "> ## Cosine Similarity Illustration 1"
   ]
  },
  {
   "cell_type": "code",
   "execution_count": null,
   "metadata": {
    "id": "fxz0Qq2bK1-x"
   },
   "outputs": [],
   "source": [
    "import numpy as np\n",
    "import pandas as pd"
   ]
  },
  {
   "cell_type": "code",
   "execution_count": null,
   "metadata": {
    "colab": {
     "base_uri": "https://localhost:8080/"
    },
    "id": "q6gmmhzkPMGr",
    "outputId": "136dcbd2-d42e-48d6-af61-546d89d403eb"
   },
   "outputs": [
    {
     "name": "stdout",
     "output_type": "stream",
     "text": [
      "0.8660254037844387\n"
     ]
    }
   ],
   "source": [
    "cosine = (1*1+1*1+1*1+1*0)/(np.sqrt(4)*np.sqrt(3))\n",
    "print(cosine)"
   ]
  },
  {
   "cell_type": "code",
   "execution_count": null,
   "metadata": {
    "colab": {
     "base_uri": "https://localhost:8080/"
    },
    "id": "Oifj6F9gKsBp",
    "outputId": "4833c7f4-4b8b-4b79-bc2f-3a195677ae69"
   },
   "outputs": [
    {
     "name": "stdout",
     "output_type": "stream",
     "text": [
      "0.7071067811865475\n"
     ]
    }
   ],
   "source": [
    "cosine = (1*0+1*1+1*1+1*0)/(np.sqrt(4)*np.sqrt(2))\n",
    "print(cosine)"
   ]
  },
  {
   "cell_type": "code",
   "execution_count": null,
   "metadata": {
    "colab": {
     "base_uri": "https://localhost:8080/"
    },
    "id": "44hLReSxLHNE",
    "outputId": "1edf337c-8908-493c-ce06-7b50ece35ed8"
   },
   "outputs": [
    {
     "name": "stdout",
     "output_type": "stream",
     "text": [
      "0.5\n"
     ]
    }
   ],
   "source": [
    "cosine = (1*1+1*0+1*0+1*0)/(np.sqrt(4)*np.sqrt(1))\n",
    "print(cosine)"
   ]
  },
  {
   "cell_type": "markdown",
   "metadata": {
    "id": "Z2gznnJZEAPw"
   },
   "source": [
    "> ## Cosine Similarity Illustration 2"
   ]
  },
  {
   "cell_type": "code",
   "execution_count": null,
   "metadata": {
    "colab": {
     "base_uri": "https://localhost:8080/"
    },
    "id": "JIUEjludN1VI",
    "outputId": "b7c17a2a-2268-4217-b3a9-f9fe1a0578b2"
   },
   "outputs": [
    {
     "name": "stdout",
     "output_type": "stream",
     "text": [
      "0.891371527293353\n"
     ]
    }
   ],
   "source": [
    "cosine = (4*3+5*5+5*5+4*0)/(np.sqrt(4**2+5**2+5**2+4**2)*np.sqrt(3**2+5**2+5**2+0**2))\n",
    "print(cosine)"
   ]
  },
  {
   "cell_type": "code",
   "execution_count": null,
   "metadata": {
    "colab": {
     "base_uri": "https://localhost:8080/"
    },
    "id": "knNwZcx3N1eS",
    "outputId": "e991be8a-eae3-46b5-d892-471bf8b73560"
   },
   "outputs": [
    {
     "name": "stdout",
     "output_type": "stream",
     "text": [
      "0.7808688094430302\n"
     ]
    }
   ],
   "source": [
    "cosine = (4*0+5*5+5*5+4*0)/(np.sqrt(4**2+5**2+5**2+4**2)*np.sqrt(0**2+5**2+5**2+0**2))\n",
    "print(cosine)"
   ]
  },
  {
   "cell_type": "code",
   "execution_count": null,
   "metadata": {
    "id": "l5xhg8922Wwq",
    "outputId": "4ac481b2-3793-4d74-d998-1cca6e347cd3"
   },
   "outputs": [
    {
     "name": "stdout",
     "output_type": "stream",
     "text": [
      "0.5521576303742327\n"
     ]
    }
   ],
   "source": [
    "cosine = (4*5+5*0+5*0+4*0)/(np.sqrt(4**2+5**2+5**2+4**2)*np.sqrt(4**2+0**2+0**2+0**2))\n",
    "print(cosine)"
   ]
  },
  {
   "cell_type": "markdown",
   "metadata": {
    "id": "sbqefTNp2Wwq"
   },
   "source": [
    "# Content Based Filtering"
   ]
  },
  {
   "cell_type": "markdown",
   "metadata": {
    "id": "1Ovej6GYFMwt"
   },
   "source": [
    "> ## Content Based Filtering One User"
   ]
  },
  {
   "cell_type": "code",
   "execution_count": null,
   "metadata": {
    "id": "wlVP0R3oGgYY"
   },
   "outputs": [],
   "source": [
    "import pandas as pd\n",
    "import numpy as np"
   ]
  },
  {
   "cell_type": "code",
   "execution_count": null,
   "metadata": {
    "id": "ZmmVLD9eFOhJ",
    "outputId": "8c581448-434b-490a-f6d7-12cdd654cfdd"
   },
   "outputs": [
    {
     "data": {
      "text/html": [
       "<div>\n",
       "<style scoped>\n",
       "    .dataframe tbody tr th:only-of-type {\n",
       "        vertical-align: middle;\n",
       "    }\n",
       "\n",
       "    .dataframe tbody tr th {\n",
       "        vertical-align: top;\n",
       "    }\n",
       "\n",
       "    .dataframe thead th {\n",
       "        text-align: right;\n",
       "    }\n",
       "</style>\n",
       "<table border=\"1\" class=\"dataframe\">\n",
       "  <thead>\n",
       "    <tr style=\"text-align: right;\">\n",
       "      <th></th>\n",
       "      <th>movie</th>\n",
       "      <th>scores</th>\n",
       "      <th>Action</th>\n",
       "      <th>Sci-Fi</th>\n",
       "      <th>Adventure</th>\n",
       "      <th>Comedy</th>\n",
       "      <th>Drama</th>\n",
       "    </tr>\n",
       "  </thead>\n",
       "  <tbody>\n",
       "    <tr>\n",
       "      <th>0</th>\n",
       "      <td>Terminator 2</td>\n",
       "      <td>7</td>\n",
       "      <td>1</td>\n",
       "      <td>1</td>\n",
       "      <td>0</td>\n",
       "      <td>0</td>\n",
       "      <td>0</td>\n",
       "    </tr>\n",
       "    <tr>\n",
       "      <th>1</th>\n",
       "      <td>Interstellar</td>\n",
       "      <td>9</td>\n",
       "      <td>0</td>\n",
       "      <td>1</td>\n",
       "      <td>1</td>\n",
       "      <td>0</td>\n",
       "      <td>1</td>\n",
       "    </tr>\n",
       "    <tr>\n",
       "      <th>2</th>\n",
       "      <td>Ant Man 2</td>\n",
       "      <td>8</td>\n",
       "      <td>1</td>\n",
       "      <td>1</td>\n",
       "      <td>1</td>\n",
       "      <td>1</td>\n",
       "      <td>0</td>\n",
       "    </tr>\n",
       "    <tr>\n",
       "      <th>3</th>\n",
       "      <td>3 Idiots</td>\n",
       "      <td>9</td>\n",
       "      <td>0</td>\n",
       "      <td>0</td>\n",
       "      <td>0</td>\n",
       "      <td>1</td>\n",
       "      <td>1</td>\n",
       "    </tr>\n",
       "  </tbody>\n",
       "</table>\n",
       "</div>"
      ],
      "text/plain": [
       "          movie  scores  Action  Sci-Fi  Adventure  Comedy  Drama\n",
       "0  Terminator 2       7       1       1          0       0      0\n",
       "1  Interstellar       9       0       1          1       0      1\n",
       "2     Ant Man 2       8       1       1          1       1      0\n",
       "3      3 Idiots       9       0       0          0       1      1"
      ]
     },
     "metadata": {},
     "output_type": "display_data"
    }
   ],
   "source": [
    "movies = [\"Terminator 2\",\"Interstellar\",\"Ant Man 2\",\"3 Idiots\"]\n",
    "scores = [7,9,8,9]\n",
    "action = [1,0,1,0]\n",
    "scifi = [1,1,1,0]\n",
    "adventure = [0,1,1,0]\n",
    "comedy = [0,0,1,1]\n",
    "drama = [0,1,0,1]\n",
    "\n",
    "df_movies = pd.DataFrame({\n",
    "    'movie':movies,\n",
    "    'scores':scores,\n",
    "    'Action':action,\n",
    "    'Sci-Fi':scifi,\n",
    "    'Adventure':adventure,\n",
    "    'Comedy':comedy,\n",
    "    'Drama':drama\n",
    "})\n",
    "\n",
    "df_movies"
   ]
  },
  {
   "cell_type": "code",
   "execution_count": null,
   "metadata": {
    "id": "XlFIX6r4Ge43",
    "outputId": "c310a9d8-7378-48fb-a51a-824d8ccb00fb"
   },
   "outputs": [
    {
     "data": {
      "text/plain": [
       "Action       0.164835\n",
       "Sci-Fi       0.263736\n",
       "Adventure    0.186813\n",
       "Comedy       0.186813\n",
       "Drama        0.197802\n",
       "dtype: float64"
      ]
     },
     "metadata": {},
     "output_type": "display_data"
    }
   ],
   "source": [
    "df_movies2 = df_movies.copy()\n",
    "df_movies2.drop('movie', axis = 1, inplace = True)\n",
    "\n",
    "for i in ['Action','Sci-Fi','Adventure','Comedy','Drama']:\n",
    "  df_movies2[i] = df_movies2['scores']*df_movies2[i] \n",
    "\n",
    "df_movies2.drop('scores', axis = 1, inplace = True)\n",
    "movie_scoring = df_movies2.sum()/df_movies2.sum().sum()\n",
    "movie_scoring"
   ]
  },
  {
   "cell_type": "code",
   "execution_count": null,
   "metadata": {
    "colab": {
     "base_uri": "https://localhost:8080/",
     "height": 133
    },
    "id": "fg6VX6TrION8",
    "outputId": "81d5d581-d642-4b28-f5c1-78f790b9d79e"
   },
   "outputs": [
    {
     "data": {
      "text/html": [
       "<div>\n",
       "<style scoped>\n",
       "    .dataframe tbody tr th:only-of-type {\n",
       "        vertical-align: middle;\n",
       "    }\n",
       "\n",
       "    .dataframe tbody tr th {\n",
       "        vertical-align: top;\n",
       "    }\n",
       "\n",
       "    .dataframe thead th {\n",
       "        text-align: right;\n",
       "    }\n",
       "</style>\n",
       "<table border=\"1\" class=\"dataframe\">\n",
       "  <thead>\n",
       "    <tr style=\"text-align: right;\">\n",
       "      <th></th>\n",
       "      <th>movie</th>\n",
       "      <th>Action</th>\n",
       "      <th>Sci-Fi</th>\n",
       "      <th>Adventure</th>\n",
       "      <th>Comedy</th>\n",
       "      <th>Drama</th>\n",
       "    </tr>\n",
       "  </thead>\n",
       "  <tbody>\n",
       "    <tr>\n",
       "      <th>0</th>\n",
       "      <td>Titanic</td>\n",
       "      <td>1</td>\n",
       "      <td>1</td>\n",
       "      <td>0</td>\n",
       "      <td>0</td>\n",
       "      <td>0</td>\n",
       "    </tr>\n",
       "    <tr>\n",
       "      <th>1</th>\n",
       "      <td>Martian</td>\n",
       "      <td>0</td>\n",
       "      <td>1</td>\n",
       "      <td>1</td>\n",
       "      <td>0</td>\n",
       "      <td>1</td>\n",
       "    </tr>\n",
       "    <tr>\n",
       "      <th>2</th>\n",
       "      <td>GOTG Vol 2</td>\n",
       "      <td>1</td>\n",
       "      <td>1</td>\n",
       "      <td>1</td>\n",
       "      <td>1</td>\n",
       "      <td>0</td>\n",
       "    </tr>\n",
       "  </tbody>\n",
       "</table>\n",
       "</div>"
      ],
      "text/plain": [
       "        movie  Action  Sci-Fi  Adventure  Comedy  Drama\n",
       "0     Titanic       1       1          0       0      0\n",
       "1     Martian       0       1          1       0      1\n",
       "2  GOTG Vol 2       1       1          1       1      0"
      ]
     },
     "metadata": {},
     "output_type": "display_data"
    }
   ],
   "source": [
    "movies = [\"Titanic\",'Martian','GOTG Vol 2']\n",
    "action = [1,0,1]\n",
    "scifi = [1,1,1]\n",
    "adventure = [0,1,1]\n",
    "comedy = [0,0,1]\n",
    "drama = [0,1,0]\n",
    "\n",
    "df_movies_recommendation = pd.DataFrame({\n",
    "    'movie':movies,\n",
    "    'Action':action,\n",
    "    'Sci-Fi':scifi,\n",
    "    'Adventure':adventure,\n",
    "    'Comedy':comedy,\n",
    "    'Drama':drama\n",
    "})\n",
    "\n",
    "df_movies_recommendation"
   ]
  },
  {
   "cell_type": "code",
   "execution_count": null,
   "metadata": {
    "colab": {
     "base_uri": "https://localhost:8080/"
    },
    "id": "eYYqU0SCLm47",
    "outputId": "50ade15d-5747-497c-fe95-3672401c6c4f"
   },
   "outputs": [
    {
     "data": {
      "text/plain": [
       "Action       0.164835\n",
       "Sci-Fi       0.263736\n",
       "Adventure    0.186813\n",
       "Comedy       0.186813\n",
       "Drama        0.197802\n",
       "dtype: float64"
      ]
     },
     "metadata": {},
     "output_type": "display_data"
    }
   ],
   "source": [
    "movie_scoring"
   ]
  },
  {
   "cell_type": "code",
   "execution_count": null,
   "metadata": {
    "id": "tpw557qlLxXU",
    "outputId": "d979c2f9-a1f5-4b4d-f80a-c9bcd54d6e6a"
   },
   "outputs": [
    {
     "data": {
      "text/html": [
       "<div>\n",
       "<style scoped>\n",
       "    .dataframe tbody tr th:only-of-type {\n",
       "        vertical-align: middle;\n",
       "    }\n",
       "\n",
       "    .dataframe tbody tr th {\n",
       "        vertical-align: top;\n",
       "    }\n",
       "\n",
       "    .dataframe thead th {\n",
       "        text-align: right;\n",
       "    }\n",
       "</style>\n",
       "<table border=\"1\" class=\"dataframe\">\n",
       "  <thead>\n",
       "    <tr style=\"text-align: right;\">\n",
       "      <th></th>\n",
       "      <th>movie</th>\n",
       "      <th>Action</th>\n",
       "      <th>Sci-Fi</th>\n",
       "      <th>Adventure</th>\n",
       "      <th>Comedy</th>\n",
       "      <th>Drama</th>\n",
       "      <th>movie rating prediction</th>\n",
       "    </tr>\n",
       "  </thead>\n",
       "  <tbody>\n",
       "    <tr>\n",
       "      <th>0</th>\n",
       "      <td>Titanic</td>\n",
       "      <td>0.164835</td>\n",
       "      <td>0.263736</td>\n",
       "      <td>0.000000</td>\n",
       "      <td>0.000000</td>\n",
       "      <td>0.000000</td>\n",
       "      <td>0.428571</td>\n",
       "    </tr>\n",
       "    <tr>\n",
       "      <th>1</th>\n",
       "      <td>Martian</td>\n",
       "      <td>0.000000</td>\n",
       "      <td>0.263736</td>\n",
       "      <td>0.186813</td>\n",
       "      <td>0.000000</td>\n",
       "      <td>0.197802</td>\n",
       "      <td>0.648352</td>\n",
       "    </tr>\n",
       "    <tr>\n",
       "      <th>2</th>\n",
       "      <td>GOTG Vol 2</td>\n",
       "      <td>0.164835</td>\n",
       "      <td>0.263736</td>\n",
       "      <td>0.186813</td>\n",
       "      <td>0.186813</td>\n",
       "      <td>0.000000</td>\n",
       "      <td>0.802198</td>\n",
       "    </tr>\n",
       "  </tbody>\n",
       "</table>\n",
       "</div>"
      ],
      "text/plain": [
       "        movie    Action    Sci-Fi  Adventure    Comedy     Drama  \\\n",
       "0     Titanic  0.164835  0.263736   0.000000  0.000000  0.000000   \n",
       "1     Martian  0.000000  0.263736   0.186813  0.000000  0.197802   \n",
       "2  GOTG Vol 2  0.164835  0.263736   0.186813  0.186813  0.000000   \n",
       "\n",
       "   movie rating prediction  \n",
       "0                 0.428571  \n",
       "1                 0.648352  \n",
       "2                 0.802198  "
      ]
     },
     "metadata": {},
     "output_type": "display_data"
    }
   ],
   "source": [
    "for i in ['Action','Sci-Fi','Adventure','Comedy','Drama']:\n",
    "  df_movies_recommendation[i] = df_movies_recommendation[i]*movie_scoring[i]\n",
    "\n",
    "df_movies_recommendation['movie rating prediction'] = df_movies_recommendation.sum(axis = 1)\n",
    "df_movies_recommendation"
   ]
  },
  {
   "cell_type": "markdown",
   "metadata": {
    "id": "zUsKWYvv2Wwt"
   },
   "source": [
    "Recommendation Order for the user:\n",
    "- GOTG Vol 2\n",
    "- Martian\n",
    "- Titanic"
   ]
  },
  {
   "cell_type": "markdown",
   "metadata": {
    "id": "MVBvhVBFx0BF"
   },
   "source": [
    "> ## Content Based Filtering Multiple User"
   ]
  },
  {
   "cell_type": "code",
   "execution_count": null,
   "metadata": {
    "id": "tMGg1ur2yRWE"
   },
   "outputs": [],
   "source": [
    "import pandas as pd\n",
    "import numpy as np"
   ]
  },
  {
   "cell_type": "code",
   "execution_count": null,
   "metadata": {
    "id": "b-0DpPLXMdYz",
    "outputId": "07e1c07b-8e81-49a6-a1f3-f1dd9565634b"
   },
   "outputs": [
    {
     "data": {
      "text/html": [
       "<div>\n",
       "<style scoped>\n",
       "    .dataframe tbody tr th:only-of-type {\n",
       "        vertical-align: middle;\n",
       "    }\n",
       "\n",
       "    .dataframe tbody tr th {\n",
       "        vertical-align: top;\n",
       "    }\n",
       "\n",
       "    .dataframe thead th {\n",
       "        text-align: right;\n",
       "    }\n",
       "</style>\n",
       "<table border=\"1\" class=\"dataframe\">\n",
       "  <thead>\n",
       "    <tr style=\"text-align: right;\">\n",
       "      <th></th>\n",
       "      <th>movie</th>\n",
       "      <th>Action</th>\n",
       "      <th>Sci-Fi</th>\n",
       "      <th>Adventure</th>\n",
       "      <th>Comedy</th>\n",
       "      <th>Drama</th>\n",
       "    </tr>\n",
       "  </thead>\n",
       "  <tbody>\n",
       "    <tr>\n",
       "      <th>0</th>\n",
       "      <td>Terminator 2</td>\n",
       "      <td>1</td>\n",
       "      <td>1</td>\n",
       "      <td>0</td>\n",
       "      <td>0</td>\n",
       "      <td>0</td>\n",
       "    </tr>\n",
       "    <tr>\n",
       "      <th>1</th>\n",
       "      <td>Interstellar</td>\n",
       "      <td>0</td>\n",
       "      <td>1</td>\n",
       "      <td>1</td>\n",
       "      <td>0</td>\n",
       "      <td>1</td>\n",
       "    </tr>\n",
       "    <tr>\n",
       "      <th>2</th>\n",
       "      <td>Ant Man 2</td>\n",
       "      <td>1</td>\n",
       "      <td>1</td>\n",
       "      <td>1</td>\n",
       "      <td>1</td>\n",
       "      <td>0</td>\n",
       "    </tr>\n",
       "    <tr>\n",
       "      <th>3</th>\n",
       "      <td>3 Idiots</td>\n",
       "      <td>0</td>\n",
       "      <td>0</td>\n",
       "      <td>0</td>\n",
       "      <td>1</td>\n",
       "      <td>1</td>\n",
       "    </tr>\n",
       "  </tbody>\n",
       "</table>\n",
       "</div>"
      ],
      "text/plain": [
       "          movie  Action  Sci-Fi  Adventure  Comedy  Drama\n",
       "0  Terminator 2       1       1          0       0      0\n",
       "1  Interstellar       0       1          1       0      1\n",
       "2     Ant Man 2       1       1          1       1      0\n",
       "3      3 Idiots       0       0          0       1      1"
      ]
     },
     "metadata": {},
     "output_type": "display_data"
    }
   ],
   "source": [
    "movies = [\"Terminator 2\",\"Interstellar\",\"Ant Man 2\",\"3 Idiots\"]\n",
    "action = [1,0,1,0]\n",
    "scifi = [1,1,1,0]\n",
    "adventure = [0,1,1,0]\n",
    "comedy = [0,0,1,1]\n",
    "drama = [0,1,0,1]\n",
    "\n",
    "df_item_features = pd.DataFrame({\n",
    "    'movie':movies,\n",
    "    'Action':action,\n",
    "    'Sci-Fi':scifi,\n",
    "    'Adventure':adventure,\n",
    "    'Comedy':comedy,\n",
    "    'Drama':drama\n",
    "})\n",
    "\n",
    "df_item_features"
   ]
  },
  {
   "cell_type": "code",
   "execution_count": null,
   "metadata": {
    "colab": {
     "base_uri": "https://localhost:8080/",
     "height": 162
    },
    "id": "QSwvaCa2yMQM",
    "outputId": "3e278c88-fbb3-4b57-9fbf-a068a80eba0d"
   },
   "outputs": [
    {
     "data": {
      "text/html": [
       "<div>\n",
       "<style scoped>\n",
       "    .dataframe tbody tr th:only-of-type {\n",
       "        vertical-align: middle;\n",
       "    }\n",
       "\n",
       "    .dataframe tbody tr th {\n",
       "        vertical-align: top;\n",
       "    }\n",
       "\n",
       "    .dataframe thead th {\n",
       "        text-align: right;\n",
       "    }\n",
       "</style>\n",
       "<table border=\"1\" class=\"dataframe\">\n",
       "  <thead>\n",
       "    <tr style=\"text-align: right;\">\n",
       "      <th></th>\n",
       "      <th>user</th>\n",
       "      <th>Terminator 2</th>\n",
       "      <th>Interstellar</th>\n",
       "      <th>Ant Man 2</th>\n",
       "      <th>3 Idiots</th>\n",
       "    </tr>\n",
       "  </thead>\n",
       "  <tbody>\n",
       "    <tr>\n",
       "      <th>0</th>\n",
       "      <td>user 1</td>\n",
       "      <td>7</td>\n",
       "      <td>9</td>\n",
       "      <td>8</td>\n",
       "      <td>9</td>\n",
       "    </tr>\n",
       "    <tr>\n",
       "      <th>1</th>\n",
       "      <td>user 2</td>\n",
       "      <td>8</td>\n",
       "      <td>0</td>\n",
       "      <td>6</td>\n",
       "      <td>5</td>\n",
       "    </tr>\n",
       "    <tr>\n",
       "      <th>2</th>\n",
       "      <td>user 3</td>\n",
       "      <td>9</td>\n",
       "      <td>0</td>\n",
       "      <td>0</td>\n",
       "      <td>10</td>\n",
       "    </tr>\n",
       "    <tr>\n",
       "      <th>3</th>\n",
       "      <td>user 4</td>\n",
       "      <td>0</td>\n",
       "      <td>7</td>\n",
       "      <td>0</td>\n",
       "      <td>9</td>\n",
       "    </tr>\n",
       "  </tbody>\n",
       "</table>\n",
       "</div>"
      ],
      "text/plain": [
       "     user  Terminator 2  Interstellar  Ant Man 2  3 Idiots\n",
       "0  user 1             7             9          8         9\n",
       "1  user 2             8             0          6         5\n",
       "2  user 3             9             0          0        10\n",
       "3  user 4             0             7          0         9"
      ]
     },
     "metadata": {},
     "output_type": "display_data"
    }
   ],
   "source": [
    "user = ['user 1','user 2','user 3','user 4']\n",
    "terminator_2 = [7,8,9,0]\n",
    "interstellar = [9,0,0,7]\n",
    "ant_man_2 = [8,6,0,0]\n",
    "three_idiots = [9,5,10,9]\n",
    "\n",
    "df_user_items = pd.DataFrame({\n",
    "    'user':user,\n",
    "    'Terminator 2':terminator_2,\n",
    "    'Interstellar':interstellar,\n",
    "    'Ant Man 2':ant_man_2,\n",
    "    '3 Idiots':three_idiots\n",
    "})\n",
    "\n",
    "df_user_items"
   ]
  },
  {
   "cell_type": "code",
   "execution_count": null,
   "metadata": {
    "id": "53hNxQifWEO9"
   },
   "outputs": [],
   "source": [
    "arr_user_items = np.array(df_user_items.drop('user', axis = 1))\n",
    "arr_item_features = np.array(df_item_features.drop('movie', axis = 1))\n",
    "\n",
    "n_user = arr_user_items.shape[0]\n",
    "n_item = arr_user_items.shape[1]\n",
    "n_feature = arr_item_features.shape[1]\n",
    "\n",
    "arr_user_items_score = np.empty((n_user,n_item))\n",
    "arr_user_feature = np.empty((n_user,n_feature))\n",
    "\n",
    "for i in range(0,n_user):\n",
    "  # print(arr_user_items[i,:])\n",
    "  user_feature = np.matmul(arr_user_items[i,:],arr_item_features)\n",
    "  # print(user_feature)\n",
    "  user_feature = user_feature/user_feature.sum()\n",
    "  arr_user_feature[i,:] = user_feature"
   ]
  },
  {
   "cell_type": "code",
   "execution_count": null,
   "metadata": {
    "id": "4pfPBDgb2Wwu",
    "outputId": "5a795e0a-d7ac-4e70-e462-c08bae6ade30"
   },
   "outputs": [
    {
     "data": {
      "text/html": [
       "<div>\n",
       "<style scoped>\n",
       "    .dataframe tbody tr th:only-of-type {\n",
       "        vertical-align: middle;\n",
       "    }\n",
       "\n",
       "    .dataframe tbody tr th {\n",
       "        vertical-align: top;\n",
       "    }\n",
       "\n",
       "    .dataframe thead th {\n",
       "        text-align: right;\n",
       "    }\n",
       "</style>\n",
       "<table border=\"1\" class=\"dataframe\">\n",
       "  <thead>\n",
       "    <tr style=\"text-align: right;\">\n",
       "      <th></th>\n",
       "      <th>Action</th>\n",
       "      <th>Sci-Fi</th>\n",
       "      <th>Adventure</th>\n",
       "      <th>Comedy</th>\n",
       "      <th>Drama</th>\n",
       "    </tr>\n",
       "  </thead>\n",
       "  <tbody>\n",
       "    <tr>\n",
       "      <th>user 1</th>\n",
       "      <td>0.164835</td>\n",
       "      <td>0.263736</td>\n",
       "      <td>0.186813</td>\n",
       "      <td>0.186813</td>\n",
       "      <td>0.197802</td>\n",
       "    </tr>\n",
       "    <tr>\n",
       "      <th>user 2</th>\n",
       "      <td>0.280000</td>\n",
       "      <td>0.280000</td>\n",
       "      <td>0.120000</td>\n",
       "      <td>0.220000</td>\n",
       "      <td>0.100000</td>\n",
       "    </tr>\n",
       "    <tr>\n",
       "      <th>user 3</th>\n",
       "      <td>0.236842</td>\n",
       "      <td>0.236842</td>\n",
       "      <td>0.000000</td>\n",
       "      <td>0.263158</td>\n",
       "      <td>0.263158</td>\n",
       "    </tr>\n",
       "    <tr>\n",
       "      <th>user 4</th>\n",
       "      <td>0.000000</td>\n",
       "      <td>0.179487</td>\n",
       "      <td>0.179487</td>\n",
       "      <td>0.230769</td>\n",
       "      <td>0.410256</td>\n",
       "    </tr>\n",
       "  </tbody>\n",
       "</table>\n",
       "</div>"
      ],
      "text/plain": [
       "          Action    Sci-Fi  Adventure    Comedy     Drama\n",
       "user 1  0.164835  0.263736   0.186813  0.186813  0.197802\n",
       "user 2  0.280000  0.280000   0.120000  0.220000  0.100000\n",
       "user 3  0.236842  0.236842   0.000000  0.263158  0.263158\n",
       "user 4  0.000000  0.179487   0.179487  0.230769  0.410256"
      ]
     },
     "metadata": {},
     "output_type": "display_data"
    }
   ],
   "source": [
    "df_user_feature = pd.DataFrame(arr_user_feature)\n",
    "df_user_feature.columns = df_item_features.columns[1:]\n",
    "df_user_feature.index = user\n",
    "df_user_feature"
   ]
  },
  {
   "cell_type": "code",
   "execution_count": null,
   "metadata": {
    "id": "SJGeFVfE2Wwu",
    "outputId": "daf908dd-8f88-499d-926d-91c3120e4d6e"
   },
   "outputs": [
    {
     "data": {
      "text/html": [
       "<div>\n",
       "<style scoped>\n",
       "    .dataframe tbody tr th:only-of-type {\n",
       "        vertical-align: middle;\n",
       "    }\n",
       "\n",
       "    .dataframe tbody tr th {\n",
       "        vertical-align: top;\n",
       "    }\n",
       "\n",
       "    .dataframe thead th {\n",
       "        text-align: right;\n",
       "    }\n",
       "</style>\n",
       "<table border=\"1\" class=\"dataframe\">\n",
       "  <thead>\n",
       "    <tr style=\"text-align: right;\">\n",
       "      <th></th>\n",
       "      <th>Terminator 2</th>\n",
       "      <th>Interstellar</th>\n",
       "      <th>Ant Man 2</th>\n",
       "      <th>3 Idiots</th>\n",
       "    </tr>\n",
       "  </thead>\n",
       "  <tbody>\n",
       "    <tr>\n",
       "      <th>user 1</th>\n",
       "      <td>0.000000</td>\n",
       "      <td>0.0</td>\n",
       "      <td>0.000000</td>\n",
       "      <td>0.0</td>\n",
       "    </tr>\n",
       "    <tr>\n",
       "      <th>user 2</th>\n",
       "      <td>0.000000</td>\n",
       "      <td>0.5</td>\n",
       "      <td>0.000000</td>\n",
       "      <td>0.0</td>\n",
       "    </tr>\n",
       "    <tr>\n",
       "      <th>user 3</th>\n",
       "      <td>0.000000</td>\n",
       "      <td>0.5</td>\n",
       "      <td>0.736842</td>\n",
       "      <td>0.0</td>\n",
       "    </tr>\n",
       "    <tr>\n",
       "      <th>user 4</th>\n",
       "      <td>0.179487</td>\n",
       "      <td>0.0</td>\n",
       "      <td>0.589744</td>\n",
       "      <td>0.0</td>\n",
       "    </tr>\n",
       "  </tbody>\n",
       "</table>\n",
       "</div>"
      ],
      "text/plain": [
       "        Terminator 2  Interstellar  Ant Man 2  3 Idiots\n",
       "user 1      0.000000           0.0   0.000000       0.0\n",
       "user 2      0.000000           0.5   0.000000       0.0\n",
       "user 3      0.000000           0.5   0.736842       0.0\n",
       "user 4      0.179487           0.0   0.589744       0.0"
      ]
     },
     "metadata": {},
     "output_type": "display_data"
    }
   ],
   "source": [
    "for i in range(0, n_user):\n",
    "  user_item_score = np.matmul(arr_item_features,arr_user_feature[i,:])\n",
    "  arr_user_items_score[i,:] = user_item_score\n",
    "\n",
    "arr_user_items_score_unwatched = np.where(arr_user_items == 0,arr_user_items_score,0)\n",
    "\n",
    "df_user_items_score_unwatched = pd.DataFrame(arr_user_items_score_unwatched)\n",
    "df_user_items_score_unwatched.columns = movies\n",
    "df_user_items_score_unwatched.index = user\n",
    "df_user_items_score_unwatched"
   ]
  },
  {
   "cell_type": "markdown",
   "metadata": {
    "id": "21OMyFWR2Wwv"
   },
   "source": [
    "Recommendation Order for unwatched movies\n",
    "- User 3 : Ant Man 2, Interstellar\n",
    "- User 4 : Ant Man 2, Terminator 2\n"
   ]
  },
  {
   "cell_type": "code",
   "execution_count": null,
   "metadata": {
    "id": "f8QI-QPxHI--",
    "outputId": "718e7d8e-b031-4994-aea5-7a89567400df"
   },
   "outputs": [
    {
     "data": {
      "text/html": [
       "<div>\n",
       "<style scoped>\n",
       "    .dataframe tbody tr th:only-of-type {\n",
       "        vertical-align: middle;\n",
       "    }\n",
       "\n",
       "    .dataframe tbody tr th {\n",
       "        vertical-align: top;\n",
       "    }\n",
       "\n",
       "    .dataframe thead th {\n",
       "        text-align: right;\n",
       "    }\n",
       "</style>\n",
       "<table border=\"1\" class=\"dataframe\">\n",
       "  <thead>\n",
       "    <tr style=\"text-align: right;\">\n",
       "      <th></th>\n",
       "      <th>movie</th>\n",
       "      <th>Action</th>\n",
       "      <th>Sci-Fi</th>\n",
       "      <th>Adventure</th>\n",
       "      <th>Comedy</th>\n",
       "      <th>Drama</th>\n",
       "    </tr>\n",
       "  </thead>\n",
       "  <tbody>\n",
       "    <tr>\n",
       "      <th>0</th>\n",
       "      <td>Titanic</td>\n",
       "      <td>1</td>\n",
       "      <td>1</td>\n",
       "      <td>0</td>\n",
       "      <td>0</td>\n",
       "      <td>0</td>\n",
       "    </tr>\n",
       "    <tr>\n",
       "      <th>1</th>\n",
       "      <td>Martian</td>\n",
       "      <td>0</td>\n",
       "      <td>1</td>\n",
       "      <td>1</td>\n",
       "      <td>0</td>\n",
       "      <td>1</td>\n",
       "    </tr>\n",
       "    <tr>\n",
       "      <th>2</th>\n",
       "      <td>GOTG Vol 2</td>\n",
       "      <td>1</td>\n",
       "      <td>1</td>\n",
       "      <td>1</td>\n",
       "      <td>1</td>\n",
       "      <td>0</td>\n",
       "    </tr>\n",
       "  </tbody>\n",
       "</table>\n",
       "</div>"
      ],
      "text/plain": [
       "        movie  Action  Sci-Fi  Adventure  Comedy  Drama\n",
       "0     Titanic       1       1          0       0      0\n",
       "1     Martian       0       1          1       0      1\n",
       "2  GOTG Vol 2       1       1          1       1      0"
      ]
     },
     "metadata": {},
     "output_type": "display_data"
    }
   ],
   "source": [
    "movies = [\"Titanic\",\"Martian\",\"GOTG Vol 2\"]\n",
    "action = [1,0,1]\n",
    "scifi = [1,1,1]\n",
    "adventure = [0,1,1]\n",
    "comedy = [0,0,1]\n",
    "drama = [0,1,0]\n",
    "\n",
    "df_item_features_new = pd.DataFrame({\n",
    "    'movie':movies,\n",
    "    'Action':action,\n",
    "    'Sci-Fi':scifi,\n",
    "    'Adventure':adventure,\n",
    "    'Comedy':comedy,\n",
    "    'Drama':drama\n",
    "})\n",
    "\n",
    "df_item_features_new"
   ]
  },
  {
   "cell_type": "code",
   "execution_count": null,
   "metadata": {
    "id": "iui5zmU-s8f2",
    "outputId": "0e85cab4-f7b1-4ab2-d309-4a6f90864733"
   },
   "outputs": [
    {
     "data": {
      "text/html": [
       "<div>\n",
       "<style scoped>\n",
       "    .dataframe tbody tr th:only-of-type {\n",
       "        vertical-align: middle;\n",
       "    }\n",
       "\n",
       "    .dataframe tbody tr th {\n",
       "        vertical-align: top;\n",
       "    }\n",
       "\n",
       "    .dataframe thead th {\n",
       "        text-align: right;\n",
       "    }\n",
       "</style>\n",
       "<table border=\"1\" class=\"dataframe\">\n",
       "  <thead>\n",
       "    <tr style=\"text-align: right;\">\n",
       "      <th>movie</th>\n",
       "      <th>Titanic</th>\n",
       "      <th>Martian</th>\n",
       "      <th>GOTG Vol 2</th>\n",
       "    </tr>\n",
       "  </thead>\n",
       "  <tbody>\n",
       "    <tr>\n",
       "      <th>user 1</th>\n",
       "      <td>0.428571</td>\n",
       "      <td>0.648352</td>\n",
       "      <td>0.802198</td>\n",
       "    </tr>\n",
       "    <tr>\n",
       "      <th>user 2</th>\n",
       "      <td>0.560000</td>\n",
       "      <td>0.500000</td>\n",
       "      <td>0.900000</td>\n",
       "    </tr>\n",
       "    <tr>\n",
       "      <th>user 3</th>\n",
       "      <td>0.473684</td>\n",
       "      <td>0.500000</td>\n",
       "      <td>0.736842</td>\n",
       "    </tr>\n",
       "    <tr>\n",
       "      <th>user 4</th>\n",
       "      <td>0.179487</td>\n",
       "      <td>0.769231</td>\n",
       "      <td>0.589744</td>\n",
       "    </tr>\n",
       "  </tbody>\n",
       "</table>\n",
       "</div>"
      ],
      "text/plain": [
       "movie    Titanic   Martian  GOTG Vol 2\n",
       "user 1  0.428571  0.648352    0.802198\n",
       "user 2  0.560000  0.500000    0.900000\n",
       "user 3  0.473684  0.500000    0.736842\n",
       "user 4  0.179487  0.769231    0.589744"
      ]
     },
     "metadata": {},
     "output_type": "display_data"
    }
   ],
   "source": [
    "arr_item_features_new = np.array(df_item_features_new.drop('movie', axis = 1))\n",
    "\n",
    "n_item_new = df_item_features_new.shape[0]\n",
    "\n",
    "arr_user_items_score_new = np.empty((n_user,n_item_new))\n",
    "\n",
    "for i in range(0, n_user):\n",
    "  user_item_score = np.matmul(arr_item_features_new,arr_user_feature[i,:])\n",
    "  arr_user_items_score_new[i,:] = user_item_score\n",
    "\n",
    "df_user_items_score_new = pd.DataFrame(arr_user_items_score_new)\n",
    "df_user_items_score_new.index = user\n",
    "df_user_items_score_new.columns = df_item_features_new['movie']\n",
    "df_user_items_score_new"
   ]
  },
  {
   "cell_type": "markdown",
   "metadata": {
    "id": "_vSlRbeW2Wwv"
   },
   "source": [
    "Recommendation Order\n",
    "- User 1 : GOTG Vol 2, Martian, Titanic\n",
    "- User 2 : GOTG Vol 2, Titanic, Martian\n",
    "- User 3 : GOTG Vol 2, Martian, Titanic\n",
    "- User 4 : Martian, GOTG Vol 2, Titanic"
   ]
  }
 ],
 "metadata": {
  "language_info": {
   "name": "python"
  },
  "orig_nbformat": 4
 },
 "nbformat": 4,
 "nbformat_minor": 2
}
