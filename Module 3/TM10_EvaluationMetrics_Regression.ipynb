{
 "cells": [
  {
   "cell_type": "markdown",
   "metadata": {},
   "source": [
    "`March 31, 2022`"
   ]
  },
  {
   "cell_type": "code",
   "execution_count": 1,
   "metadata": {},
   "outputs": [],
   "source": [
    "import pandas as pd\n",
    "import numpy as np\n",
    "import matplotlib.pyplot as plt\n",
    "import seaborn as sns\n",
    "\n",
    "from sklearn.model_selection import train_test_split\n",
    "from sklearn.preprocessing import StandardScaler, MinMaxScaler\n",
    "\n",
    "from sklearn.linear_model import LinearRegression\n",
    "from sklearn.linear_model import Ridge, Lasso\n",
    "from sklearn.tree import DecisionTreeRegressor\n",
    "from sklearn.neighbors import KNeighborsRegressor\n",
    "\n",
    "from sklearn.metrics import mean_squared_error, r2_score\n",
    "\n",
    "# Encoder\n",
    "from sklearn.preprocessing import OneHotEncoder, OrdinalEncoder\n",
    "import category_encoders as ce\n",
    "\n",
    "from sklearn.compose import ColumnTransformer\n",
    "from sklearn.impute import KNNImputer\n",
    "\n",
    "from sklearn.metrics import mean_absolute_error, mean_absolute_percentage_error, mean_squared_error, mean_squared_log_error\n",
    "\n",
    "import warnings\n",
    "warnings.filterwarnings('ignore')"
   ]
  },
  {
   "cell_type": "code",
   "execution_count": 2,
   "metadata": {},
   "outputs": [
    {
     "data": {
      "text/html": [
       "<div>\n",
       "<style scoped>\n",
       "    .dataframe tbody tr th:only-of-type {\n",
       "        vertical-align: middle;\n",
       "    }\n",
       "\n",
       "    .dataframe tbody tr th {\n",
       "        vertical-align: top;\n",
       "    }\n",
       "\n",
       "    .dataframe thead th {\n",
       "        text-align: right;\n",
       "    }\n",
       "</style>\n",
       "<table border=\"1\" class=\"dataframe\">\n",
       "  <thead>\n",
       "    <tr style=\"text-align: right;\">\n",
       "      <th></th>\n",
       "      <th>mpg</th>\n",
       "      <th>cylinders</th>\n",
       "      <th>displacement</th>\n",
       "      <th>horsepower</th>\n",
       "      <th>weight</th>\n",
       "      <th>acceleration</th>\n",
       "      <th>model_year</th>\n",
       "      <th>origin</th>\n",
       "      <th>name</th>\n",
       "    </tr>\n",
       "  </thead>\n",
       "  <tbody>\n",
       "    <tr>\n",
       "      <th>0</th>\n",
       "      <td>18.0</td>\n",
       "      <td>8</td>\n",
       "      <td>307.0</td>\n",
       "      <td>130.0</td>\n",
       "      <td>3504</td>\n",
       "      <td>12.0</td>\n",
       "      <td>70</td>\n",
       "      <td>usa</td>\n",
       "      <td>chevrolet chevelle malibu</td>\n",
       "    </tr>\n",
       "    <tr>\n",
       "      <th>1</th>\n",
       "      <td>15.0</td>\n",
       "      <td>8</td>\n",
       "      <td>350.0</td>\n",
       "      <td>165.0</td>\n",
       "      <td>3693</td>\n",
       "      <td>11.5</td>\n",
       "      <td>70</td>\n",
       "      <td>usa</td>\n",
       "      <td>buick skylark 320</td>\n",
       "    </tr>\n",
       "    <tr>\n",
       "      <th>2</th>\n",
       "      <td>18.0</td>\n",
       "      <td>8</td>\n",
       "      <td>318.0</td>\n",
       "      <td>150.0</td>\n",
       "      <td>3436</td>\n",
       "      <td>11.0</td>\n",
       "      <td>70</td>\n",
       "      <td>usa</td>\n",
       "      <td>plymouth satellite</td>\n",
       "    </tr>\n",
       "    <tr>\n",
       "      <th>3</th>\n",
       "      <td>16.0</td>\n",
       "      <td>8</td>\n",
       "      <td>304.0</td>\n",
       "      <td>150.0</td>\n",
       "      <td>3433</td>\n",
       "      <td>12.0</td>\n",
       "      <td>70</td>\n",
       "      <td>usa</td>\n",
       "      <td>amc rebel sst</td>\n",
       "    </tr>\n",
       "    <tr>\n",
       "      <th>4</th>\n",
       "      <td>17.0</td>\n",
       "      <td>8</td>\n",
       "      <td>302.0</td>\n",
       "      <td>140.0</td>\n",
       "      <td>3449</td>\n",
       "      <td>10.5</td>\n",
       "      <td>70</td>\n",
       "      <td>usa</td>\n",
       "      <td>ford torino</td>\n",
       "    </tr>\n",
       "  </tbody>\n",
       "</table>\n",
       "</div>"
      ],
      "text/plain": [
       "    mpg  cylinders  displacement  horsepower  weight  acceleration  \\\n",
       "0  18.0          8         307.0       130.0    3504          12.0   \n",
       "1  15.0          8         350.0       165.0    3693          11.5   \n",
       "2  18.0          8         318.0       150.0    3436          11.0   \n",
       "3  16.0          8         304.0       150.0    3433          12.0   \n",
       "4  17.0          8         302.0       140.0    3449          10.5   \n",
       "\n",
       "   model_year origin                       name  \n",
       "0          70    usa  chevrolet chevelle malibu  \n",
       "1          70    usa          buick skylark 320  \n",
       "2          70    usa         plymouth satellite  \n",
       "3          70    usa              amc rebel sst  \n",
       "4          70    usa                ford torino  "
      ]
     },
     "execution_count": 2,
     "metadata": {},
     "output_type": "execute_result"
    }
   ],
   "source": [
    "df = sns.load_dataset('mpg')\n",
    "df.head()"
   ]
  },
  {
   "cell_type": "code",
   "execution_count": 3,
   "metadata": {},
   "outputs": [
    {
     "data": {
      "text/plain": [
       "mpg             0\n",
       "cylinders       0\n",
       "displacement    0\n",
       "horsepower      6\n",
       "weight          0\n",
       "acceleration    0\n",
       "model_year      0\n",
       "origin          0\n",
       "name            0\n",
       "dtype: int64"
      ]
     },
     "execution_count": 3,
     "metadata": {},
     "output_type": "execute_result"
    }
   ],
   "source": [
    "df.isna().sum()"
   ]
  },
  {
   "cell_type": "code",
   "execution_count": 4,
   "metadata": {},
   "outputs": [
    {
     "name": "stdout",
     "output_type": "stream",
     "text": [
      "<class 'pandas.core.frame.DataFrame'>\n",
      "RangeIndex: 398 entries, 0 to 397\n",
      "Data columns (total 9 columns):\n",
      " #   Column        Non-Null Count  Dtype  \n",
      "---  ------        --------------  -----  \n",
      " 0   mpg           398 non-null    float64\n",
      " 1   cylinders     398 non-null    int64  \n",
      " 2   displacement  398 non-null    float64\n",
      " 3   horsepower    392 non-null    float64\n",
      " 4   weight        398 non-null    int64  \n",
      " 5   acceleration  398 non-null    float64\n",
      " 6   model_year    398 non-null    int64  \n",
      " 7   origin        398 non-null    object \n",
      " 8   name          398 non-null    object \n",
      "dtypes: float64(4), int64(3), object(2)\n",
      "memory usage: 28.1+ KB\n"
     ]
    }
   ],
   "source": [
    "# df.dropna(inplace=True)\n",
    "df.info()"
   ]
  },
  {
   "cell_type": "code",
   "execution_count": 5,
   "metadata": {},
   "outputs": [
    {
     "data": {
      "image/png": "[encoded data removed]",
      "text/plain": [
       "<Figure size 720x720 with 9 Axes>"
      ]
     },
     "metadata": {
      "needs_background": "light"
     },
     "output_type": "display_data"
    }
   ],
   "source": [
    "df.hist(figsize=(10, 10));"
   ]
  },
  {
   "cell_type": "markdown",
   "metadata": {},
   "source": [
    "Features to be used:\n",
    "- cylinders\n",
    "- horsepower\n",
    "- origin\n",
    "- model_year"
   ]
  },
  {
   "cell_type": "markdown",
   "metadata": {},
   "source": [
    "**Modeling**"
   ]
  },
  {
   "cell_type": "code",
   "execution_count": 6,
   "metadata": {},
   "outputs": [],
   "source": [
    "df.drop('name', axis=1, inplace=True)"
   ]
  },
  {
   "cell_type": "code",
   "execution_count": 7,
   "metadata": {},
   "outputs": [],
   "source": [
    "# df = pd.get_dummies(df, drop_first=True)\n",
    "# df.head()"
   ]
  },
  {
   "cell_type": "code",
   "execution_count": 8,
   "metadata": {},
   "outputs": [],
   "source": [
    "# df[df['horsepower'].isna()]"
   ]
  },
  {
   "cell_type": "code",
   "execution_count": 9,
   "metadata": {},
   "outputs": [],
   "source": [
    "# df[df['horsepower'].isna()].index"
   ]
  },
  {
   "cell_type": "code",
   "execution_count": 10,
   "metadata": {},
   "outputs": [],
   "source": [
    "# # KNN imputer\n",
    "# knn_imputer = KNNImputer()\n",
    "# pd.DataFrame(knn_imputer.fit_transform(df[['cylinders', 'displacement', 'horsepower', 'weight',\n",
    "#                                     'acceleration', 'model_year']])).iloc[df[df['horsepower'].isna()].index]\n"
   ]
  },
  {
   "cell_type": "code",
   "execution_count": 11,
   "metadata": {},
   "outputs": [],
   "source": [
    "# Impute missing values.\n",
    "knn_imputer = KNNImputer()\n",
    "df['horsepower'] = knn_imputer.fit_transform(df[['horsepower']])"
   ]
  },
  {
   "cell_type": "code",
   "execution_count": 12,
   "metadata": {},
   "outputs": [
    {
     "data": {
      "text/plain": [
       "False"
      ]
     },
     "execution_count": 12,
     "metadata": {},
     "output_type": "execute_result"
    }
   ],
   "source": [
    "df['horsepower'].isna().any()"
   ]
  },
  {
   "cell_type": "code",
   "execution_count": 13,
   "metadata": {},
   "outputs": [],
   "source": [
    "transformer = ColumnTransformer([\n",
    "                                 ('encoder', OneHotEncoder(drop='first'), ['origin'])\n",
    "                                ], remainder='passthrough')"
   ]
  },
  {
   "cell_type": "code",
   "execution_count": 14,
   "metadata": {},
   "outputs": [
    {
     "data": {
      "text/plain": [
       "ColumnTransformer(remainder='passthrough',\n",
       "                  transformers=[('encoder', OneHotEncoder(drop='first'),\n",
       "                                 ['origin'])])"
      ]
     },
     "execution_count": 14,
     "metadata": {},
     "output_type": "execute_result"
    }
   ],
   "source": [
    "transformer"
   ]
  },
  {
   "cell_type": "code",
   "execution_count": 15,
   "metadata": {},
   "outputs": [],
   "source": [
    "# Define X and y.\n",
    "X = df[['cylinders', 'horsepower', 'origin', 'model_year', 'weight']]\n",
    "y = df['mpg']"
   ]
  },
  {
   "cell_type": "code",
   "execution_count": 16,
   "metadata": {},
   "outputs": [],
   "source": [
    "# Splitting data.\n",
    "X_train, X_test, y_train, y_test = train_test_split(\n",
    "                                                    X, \n",
    "                                                    y,\n",
    "                                                    test_size=0.2,\n",
    "                                                    random_state=42\n",
    ")"
   ]
  },
  {
   "cell_type": "code",
   "execution_count": 17,
   "metadata": {},
   "outputs": [
    {
     "data": {
      "text/html": [
       "<div>\n",
       "<style scoped>\n",
       "    .dataframe tbody tr th:only-of-type {\n",
       "        vertical-align: middle;\n",
       "    }\n",
       "\n",
       "    .dataframe tbody tr th {\n",
       "        vertical-align: top;\n",
       "    }\n",
       "\n",
       "    .dataframe thead th {\n",
       "        text-align: right;\n",
       "    }\n",
       "</style>\n",
       "<table border=\"1\" class=\"dataframe\">\n",
       "  <thead>\n",
       "    <tr style=\"text-align: right;\">\n",
       "      <th></th>\n",
       "      <th>cylinders</th>\n",
       "      <th>horsepower</th>\n",
       "      <th>origin</th>\n",
       "      <th>model_year</th>\n",
       "      <th>weight</th>\n",
       "    </tr>\n",
       "  </thead>\n",
       "  <tbody>\n",
       "    <tr>\n",
       "      <th>3</th>\n",
       "      <td>8</td>\n",
       "      <td>150.0</td>\n",
       "      <td>usa</td>\n",
       "      <td>70</td>\n",
       "      <td>3433</td>\n",
       "    </tr>\n",
       "    <tr>\n",
       "      <th>18</th>\n",
       "      <td>4</td>\n",
       "      <td>88.0</td>\n",
       "      <td>japan</td>\n",
       "      <td>70</td>\n",
       "      <td>2130</td>\n",
       "    </tr>\n",
       "    <tr>\n",
       "      <th>376</th>\n",
       "      <td>4</td>\n",
       "      <td>68.0</td>\n",
       "      <td>japan</td>\n",
       "      <td>82</td>\n",
       "      <td>2025</td>\n",
       "    </tr>\n",
       "    <tr>\n",
       "      <th>248</th>\n",
       "      <td>4</td>\n",
       "      <td>60.0</td>\n",
       "      <td>japan</td>\n",
       "      <td>78</td>\n",
       "      <td>1800</td>\n",
       "    </tr>\n",
       "    <tr>\n",
       "      <th>177</th>\n",
       "      <td>4</td>\n",
       "      <td>95.0</td>\n",
       "      <td>europe</td>\n",
       "      <td>75</td>\n",
       "      <td>2694</td>\n",
       "    </tr>\n",
       "    <tr>\n",
       "      <th>...</th>\n",
       "      <td>...</td>\n",
       "      <td>...</td>\n",
       "      <td>...</td>\n",
       "      <td>...</td>\n",
       "      <td>...</td>\n",
       "    </tr>\n",
       "    <tr>\n",
       "      <th>71</th>\n",
       "      <td>3</td>\n",
       "      <td>97.0</td>\n",
       "      <td>japan</td>\n",
       "      <td>72</td>\n",
       "      <td>2330</td>\n",
       "    </tr>\n",
       "    <tr>\n",
       "      <th>106</th>\n",
       "      <td>8</td>\n",
       "      <td>180.0</td>\n",
       "      <td>usa</td>\n",
       "      <td>73</td>\n",
       "      <td>4499</td>\n",
       "    </tr>\n",
       "    <tr>\n",
       "      <th>270</th>\n",
       "      <td>4</td>\n",
       "      <td>95.0</td>\n",
       "      <td>japan</td>\n",
       "      <td>78</td>\n",
       "      <td>2515</td>\n",
       "    </tr>\n",
       "    <tr>\n",
       "      <th>348</th>\n",
       "      <td>4</td>\n",
       "      <td>62.0</td>\n",
       "      <td>japan</td>\n",
       "      <td>81</td>\n",
       "      <td>2050</td>\n",
       "    </tr>\n",
       "    <tr>\n",
       "      <th>102</th>\n",
       "      <td>4</td>\n",
       "      <td>46.0</td>\n",
       "      <td>europe</td>\n",
       "      <td>73</td>\n",
       "      <td>1950</td>\n",
       "    </tr>\n",
       "  </tbody>\n",
       "</table>\n",
       "<p>318 rows × 5 columns</p>\n",
       "</div>"
      ],
      "text/plain": [
       "     cylinders  horsepower  origin  model_year  weight\n",
       "3            8       150.0     usa          70    3433\n",
       "18           4        88.0   japan          70    2130\n",
       "376          4        68.0   japan          82    2025\n",
       "248          4        60.0   japan          78    1800\n",
       "177          4        95.0  europe          75    2694\n",
       "..         ...         ...     ...         ...     ...\n",
       "71           3        97.0   japan          72    2330\n",
       "106          8       180.0     usa          73    4499\n",
       "270          4        95.0   japan          78    2515\n",
       "348          4        62.0   japan          81    2050\n",
       "102          4        46.0  europe          73    1950\n",
       "\n",
       "[318 rows x 5 columns]"
      ]
     },
     "execution_count": 17,
     "metadata": {},
     "output_type": "execute_result"
    }
   ],
   "source": [
    "X_train"
   ]
  },
  {
   "cell_type": "code",
   "execution_count": 18,
   "metadata": {},
   "outputs": [],
   "source": [
    "# encode origin\n",
    "onehot_encoder = OneHotEncoder(drop='first')\n",
    "# origin_encoded_train = onehot_encoder.fit_transform(df[['origin']]).toarray()\n",
    "# origin_encoded_test = onehot_encoder.transform(df[['origin']]).toarray()"
   ]
  },
  {
   "cell_type": "code",
   "execution_count": 19,
   "metadata": {},
   "outputs": [],
   "source": [
    "# # encode model_year\n",
    "# ordinal_encoder = OrdinalEncoder(categories=[df['model_year'].sort_values().unique()])\n",
    "# model_year_encoded_train = ordinal_encoder.fit_transform(df[['model_year']])"
   ]
  },
  {
   "cell_type": "code",
   "execution_count": 20,
   "metadata": {},
   "outputs": [],
   "source": [
    "# pd.DataFrame({\n",
    "#     'model_year': df['model_year'],\n",
    "#     'model_year_encoded': model_year_encoded_train[:, 0]\n",
    "# }).drop_duplicates().sort_values(by='model_year').astype('int')"
   ]
  },
  {
   "cell_type": "code",
   "execution_count": 21,
   "metadata": {},
   "outputs": [],
   "source": [
    "X_train_prep = transformer.fit_transform(X_train)\n",
    "X_test_prep = transformer.transform(X_test)"
   ]
  },
  {
   "cell_type": "code",
   "execution_count": 22,
   "metadata": {},
   "outputs": [],
   "source": [
    "# Scale numerical features.\n",
    "scaler = MinMaxScaler()\n",
    "\n",
    "X_train_scaled = scaler.fit_transform(X_train_prep)\n",
    "X_test_scaled = scaler.transform(X_test_prep)"
   ]
  },
  {
   "cell_type": "code",
   "execution_count": 23,
   "metadata": {},
   "outputs": [
    {
     "data": {
      "text/plain": [
       "array([[0.        , 1.        , 1.        , 0.58100559, 0.        ,\n",
       "        0.51601928],\n",
       "       [1.        , 0.        , 0.2       , 0.23463687, 0.        ,\n",
       "        0.1465835 ],\n",
       "       [1.        , 0.        , 0.2       , 0.12290503, 1.        ,\n",
       "        0.11681316],\n",
       "       ...,\n",
       "       [1.        , 0.        , 0.2       , 0.27374302, 0.66666667,\n",
       "        0.25574142],\n",
       "       [1.        , 0.        , 0.2       , 0.08938547, 0.91666667,\n",
       "        0.12390133],\n",
       "       [0.        , 0.        , 0.2       , 0.        , 0.25      ,\n",
       "        0.09554862]])"
      ]
     },
     "execution_count": 23,
     "metadata": {},
     "output_type": "execute_result"
    }
   ],
   "source": [
    "X_train_scaled"
   ]
  },
  {
   "cell_type": "code",
   "execution_count": 24,
   "metadata": {},
   "outputs": [],
   "source": [
    "# Define models\n",
    "linreg = LinearRegression()\n",
    "ridge = Ridge(random_state=42)\n",
    "lasso = Lasso(random_state=42)\n",
    "tree_reg = DecisionTreeRegressor(random_state=42)\n",
    "knn_reg = KNeighborsRegressor()"
   ]
  },
  {
   "cell_type": "code",
   "execution_count": 25,
   "metadata": {},
   "outputs": [
    {
     "data": {
      "text/plain": [
       "KNeighborsRegressor()"
      ]
     },
     "execution_count": 25,
     "metadata": {},
     "output_type": "execute_result"
    }
   ],
   "source": [
    "# Fitting model\n",
    "linreg.fit(X_train_scaled, y_train)\n",
    "ridge.fit(X_train_scaled, y_train)\n",
    "lasso.fit(X_train_scaled, y_train)\n",
    "tree_reg.fit(X_train_scaled, y_train)\n",
    "knn_reg.fit(X_train_scaled, y_train)"
   ]
  },
  {
   "cell_type": "code",
   "execution_count": 26,
   "metadata": {},
   "outputs": [
    {
     "name": "stdout",
     "output_type": "stream",
     "text": [
      "================================\n",
      "LinearRegression\n",
      "\n",
      "Train set r-squared: 0.8158636040361795\n",
      "Test set r-squared: 0.8332558127965364\n",
      "\n",
      "Train set RMSE: 3.3977428455149927\n",
      "Test set RMSE: 2.994201389672128\n",
      "================================\n",
      "Ridge\n",
      "\n",
      "Train set r-squared: 0.811323259022134\n",
      "Test set r-squared: 0.8427340652534349\n",
      "\n",
      "Train set RMSE: 3.439377694480798\n",
      "Test set RMSE: 2.9078566048452883\n",
      "================================\n",
      "Lasso\n",
      "\n",
      "Train set r-squared: 0.4874593582108051\n",
      "Test set r-squared: 0.5359162190534688\n",
      "\n",
      "Train set RMSE: 5.668717853022696\n",
      "Test set RMSE: 4.995211157053223\n",
      "================================\n",
      "DecisionTreeRegressor\n",
      "\n",
      "Train set r-squared: 0.9991563593517117\n",
      "Test set r-squared: 0.7531452877613838\n",
      "\n",
      "Train set RMSE: 0.22998495985826195\n",
      "Test set RMSE: 3.6431442463893737\n",
      "================================\n",
      "KNeighborsRegressor\n",
      "\n",
      "Train set r-squared: 0.9010010069253245\n",
      "Test set r-squared: 0.8789760016441481\n",
      "\n",
      "Train set RMSE: 2.4913576405409485\n",
      "Test set RMSE: 2.5508880806495613\n"
     ]
    }
   ],
   "source": [
    "# Predict\n",
    "\n",
    "models = [linreg, ridge, lasso, tree_reg, knn_reg]\n",
    "\n",
    "for model in models:\n",
    "    print('================================')\n",
    "    print(model.__class__.__name__)\n",
    "    print()\n",
    "\n",
    "    y_train_pred = model.predict(X_train_scaled)\n",
    "    y_test_pred = model.predict(X_test_scaled)\n",
    "\n",
    "    print('Train set r-squared:', model.score(X_train_scaled, y_train))\n",
    "    print('Test set r-squared:', model.score(X_test_scaled, y_test))\n",
    "    print()\n",
    "    print('Train set RMSE:', np.sqrt(mean_squared_error(y_train, y_train_pred)))\n",
    "    print('Test set RMSE:', np.sqrt(mean_squared_error(y_test, y_test_pred)))"
   ]
  },
  {
   "cell_type": "code",
   "execution_count": 27,
   "metadata": {},
   "outputs": [
    {
     "data": {
      "text/plain": [
       "array([ 0.        , -2.00556709, -7.28067354, -0.        ,  0.78966884,\n",
       "       -0.        ])"
      ]
     },
     "execution_count": 27,
     "metadata": {},
     "output_type": "execute_result"
    }
   ],
   "source": [
    "lasso.coef_"
   ]
  },
  {
   "cell_type": "code",
   "execution_count": 28,
   "metadata": {},
   "outputs": [
    {
     "data": {
      "text/plain": [
       "27.98224636587691"
      ]
     },
     "execution_count": 28,
     "metadata": {},
     "output_type": "execute_result"
    }
   ],
   "source": [
    "lasso.intercept_"
   ]
  },
  {
   "cell_type": "code",
   "execution_count": 29,
   "metadata": {},
   "outputs": [
    {
     "data": {
      "text/plain": [
       "array([  0.15294024,  -2.44679346,  -0.74297965,  -3.4276884 ,\n",
       "         9.08170709, -16.42809468])"
      ]
     },
     "execution_count": 29,
     "metadata": {},
     "output_type": "execute_result"
    }
   ],
   "source": [
    "ridge.coef_"
   ]
  },
  {
   "cell_type": "code",
   "execution_count": 30,
   "metadata": {},
   "outputs": [
    {
     "data": {
      "text/html": [
       "<div>\n",
       "<style scoped>\n",
       "    .dataframe tbody tr th:only-of-type {\n",
       "        vertical-align: middle;\n",
       "    }\n",
       "\n",
       "    .dataframe tbody tr th {\n",
       "        vertical-align: top;\n",
       "    }\n",
       "\n",
       "    .dataframe thead th {\n",
       "        text-align: right;\n",
       "    }\n",
       "</style>\n",
       "<table border=\"1\" class=\"dataframe\">\n",
       "  <thead>\n",
       "    <tr style=\"text-align: right;\">\n",
       "      <th></th>\n",
       "      <th>k</th>\n",
       "      <th>train_r2</th>\n",
       "      <th>test_r2</th>\n",
       "    </tr>\n",
       "  </thead>\n",
       "  <tbody>\n",
       "    <tr>\n",
       "      <th>0</th>\n",
       "      <td>1.0</td>\n",
       "      <td>0.998313</td>\n",
       "      <td>0.728404</td>\n",
       "    </tr>\n",
       "    <tr>\n",
       "      <th>1</th>\n",
       "      <td>3.0</td>\n",
       "      <td>0.831332</td>\n",
       "      <td>0.780267</td>\n",
       "    </tr>\n",
       "    <tr>\n",
       "      <th>2</th>\n",
       "      <td>5.0</td>\n",
       "      <td>0.800523</td>\n",
       "      <td>0.785055</td>\n",
       "    </tr>\n",
       "    <tr>\n",
       "      <th>3</th>\n",
       "      <td>7.0</td>\n",
       "      <td>0.773041</td>\n",
       "      <td>0.795040</td>\n",
       "    </tr>\n",
       "    <tr>\n",
       "      <th>4</th>\n",
       "      <td>9.0</td>\n",
       "      <td>0.760780</td>\n",
       "      <td>0.787972</td>\n",
       "    </tr>\n",
       "    <tr>\n",
       "      <th>5</th>\n",
       "      <td>11.0</td>\n",
       "      <td>0.740977</td>\n",
       "      <td>0.784878</td>\n",
       "    </tr>\n",
       "    <tr>\n",
       "      <th>6</th>\n",
       "      <td>13.0</td>\n",
       "      <td>0.736362</td>\n",
       "      <td>0.784768</td>\n",
       "    </tr>\n",
       "    <tr>\n",
       "      <th>7</th>\n",
       "      <td>15.0</td>\n",
       "      <td>0.724823</td>\n",
       "      <td>0.781369</td>\n",
       "    </tr>\n",
       "    <tr>\n",
       "      <th>8</th>\n",
       "      <td>17.0</td>\n",
       "      <td>0.722801</td>\n",
       "      <td>0.771558</td>\n",
       "    </tr>\n",
       "    <tr>\n",
       "      <th>9</th>\n",
       "      <td>19.0</td>\n",
       "      <td>0.717602</td>\n",
       "      <td>0.766972</td>\n",
       "    </tr>\n",
       "    <tr>\n",
       "      <th>10</th>\n",
       "      <td>21.0</td>\n",
       "      <td>0.717340</td>\n",
       "      <td>0.762273</td>\n",
       "    </tr>\n",
       "    <tr>\n",
       "      <th>11</th>\n",
       "      <td>23.0</td>\n",
       "      <td>0.713840</td>\n",
       "      <td>0.770209</td>\n",
       "    </tr>\n",
       "  </tbody>\n",
       "</table>\n",
       "</div>"
      ],
      "text/plain": [
       "       k  train_r2   test_r2\n",
       "0    1.0  0.998313  0.728404\n",
       "1    3.0  0.831332  0.780267\n",
       "2    5.0  0.800523  0.785055\n",
       "3    7.0  0.773041  0.795040\n",
       "4    9.0  0.760780  0.787972\n",
       "5   11.0  0.740977  0.784878\n",
       "6   13.0  0.736362  0.784768\n",
       "7   15.0  0.724823  0.781369\n",
       "8   17.0  0.722801  0.771558\n",
       "9   19.0  0.717602  0.766972\n",
       "10  21.0  0.717340  0.762273\n",
       "11  23.0  0.713840  0.770209"
      ]
     },
     "execution_count": 30,
     "metadata": {},
     "output_type": "execute_result"
    }
   ],
   "source": [
    "k_range = range(1, 25, 2)\n",
    "\n",
    "df_result = pd.DataFrame(columns=['k', 'train_r2', 'test_r2'])\n",
    "for k in k_range:\n",
    "    knn_model = KNeighborsRegressor(n_neighbors=k)\n",
    "    knn_model.fit(X_train_prep, y_train)\n",
    "    df_result = df_result.append({\n",
    "        'k': k,\n",
    "        'train_r2': knn_model.score(X_train_prep, y_train),\n",
    "        'test_r2': knn_model.score(X_test_prep, y_test)\n",
    "    }, ignore_index=True)\n",
    "    \n",
    "df_result"
   ]
  },
  {
   "cell_type": "code",
   "execution_count": 31,
   "metadata": {},
   "outputs": [
    {
     "data": {
      "image/png": "[encoded data removed]",
      "text/plain": [
       "<Figure size 432x288 with 1 Axes>"
      ]
     },
     "metadata": {
      "needs_background": "light"
     },
     "output_type": "display_data"
    }
   ],
   "source": [
    "sns.lineplot(x='k', y='train_r2', data=df_result)\n",
    "sns.lineplot(x='k', y='test_r2', data=df_result);"
   ]
  },
  {
   "cell_type": "markdown",
   "metadata": {},
   "source": [
    "**`Feature Selection`**"
   ]
  },
  {
   "cell_type": "code",
   "execution_count": 32,
   "metadata": {},
   "outputs": [
    {
     "data": {
      "text/plain": [
       "array([[0.        , 1.        , 1.        , 0.58100559, 0.        ,\n",
       "        0.51601928],\n",
       "       [1.        , 0.        , 0.2       , 0.23463687, 0.        ,\n",
       "        0.1465835 ],\n",
       "       [1.        , 0.        , 0.2       , 0.12290503, 1.        ,\n",
       "        0.11681316],\n",
       "       ...,\n",
       "       [1.        , 0.        , 0.2       , 0.27374302, 0.66666667,\n",
       "        0.25574142],\n",
       "       [1.        , 0.        , 0.2       , 0.08938547, 0.91666667,\n",
       "        0.12390133],\n",
       "       [0.        , 0.        , 0.2       , 0.        , 0.25      ,\n",
       "        0.09554862]])"
      ]
     },
     "execution_count": 32,
     "metadata": {},
     "output_type": "execute_result"
    }
   ],
   "source": [
    "X_train_scaled"
   ]
  },
  {
   "cell_type": "code",
   "execution_count": 33,
   "metadata": {},
   "outputs": [
    {
     "data": {
      "text/plain": [
       "LinearRegression()"
      ]
     },
     "execution_count": 33,
     "metadata": {},
     "output_type": "execute_result"
    }
   ],
   "source": [
    "# Model based approach\n",
    "# For a model base, only use a model that has feature importance or coeff.\n",
    "\n",
    "lin_reg = LinearRegression()\n",
    "lin_reg.fit(X_train_scaled, y_train)"
   ]
  },
  {
   "cell_type": "code",
   "execution_count": 34,
   "metadata": {},
   "outputs": [
    {
     "data": {
      "text/plain": [
       "0.8158636040361795"
      ]
     },
     "execution_count": 34,
     "metadata": {},
     "output_type": "execute_result"
    }
   ],
   "source": [
    "lin_reg.score(X_train_scaled, y_train)"
   ]
  },
  {
   "cell_type": "code",
   "execution_count": 35,
   "metadata": {},
   "outputs": [
    {
     "data": {
      "text/plain": [
       "array([ -0.25515974,  -2.44691492,   1.86262214,  -1.51923749,\n",
       "         9.74810907, -22.08974961])"
      ]
     },
     "execution_count": 35,
     "metadata": {},
     "output_type": "execute_result"
    }
   ],
   "source": [
    "lin_reg.coef_"
   ]
  },
  {
   "cell_type": "code",
   "execution_count": 36,
   "metadata": {},
   "outputs": [
    {
     "data": {
      "text/plain": [
       "['encoder__x0_japan',\n",
       " 'encoder__x0_usa',\n",
       " 'cylinders',\n",
       " 'horsepower',\n",
       " 'model_year',\n",
       " 'weight']"
      ]
     },
     "execution_count": 36,
     "metadata": {},
     "output_type": "execute_result"
    }
   ],
   "source": [
    "transformer.get_feature_names()"
   ]
  },
  {
   "cell_type": "code",
   "execution_count": 37,
   "metadata": {},
   "outputs": [
    {
     "data": {
      "text/html": [
       "<div>\n",
       "<style scoped>\n",
       "    .dataframe tbody tr th:only-of-type {\n",
       "        vertical-align: middle;\n",
       "    }\n",
       "\n",
       "    .dataframe tbody tr th {\n",
       "        vertical-align: top;\n",
       "    }\n",
       "\n",
       "    .dataframe thead th {\n",
       "        text-align: right;\n",
       "    }\n",
       "</style>\n",
       "<table border=\"1\" class=\"dataframe\">\n",
       "  <thead>\n",
       "    <tr style=\"text-align: right;\">\n",
       "      <th></th>\n",
       "      <th>col</th>\n",
       "      <th>coef</th>\n",
       "      <th>coef_abs</th>\n",
       "    </tr>\n",
       "  </thead>\n",
       "  <tbody>\n",
       "    <tr>\n",
       "      <th>0</th>\n",
       "      <td>encoder__x0_japan</td>\n",
       "      <td>-0.255160</td>\n",
       "      <td>0.255160</td>\n",
       "    </tr>\n",
       "    <tr>\n",
       "      <th>1</th>\n",
       "      <td>encoder__x0_usa</td>\n",
       "      <td>-2.446915</td>\n",
       "      <td>2.446915</td>\n",
       "    </tr>\n",
       "    <tr>\n",
       "      <th>2</th>\n",
       "      <td>cylinders</td>\n",
       "      <td>1.862622</td>\n",
       "      <td>1.862622</td>\n",
       "    </tr>\n",
       "    <tr>\n",
       "      <th>3</th>\n",
       "      <td>horsepower</td>\n",
       "      <td>-1.519237</td>\n",
       "      <td>1.519237</td>\n",
       "    </tr>\n",
       "    <tr>\n",
       "      <th>4</th>\n",
       "      <td>model_year</td>\n",
       "      <td>9.748109</td>\n",
       "      <td>9.748109</td>\n",
       "    </tr>\n",
       "    <tr>\n",
       "      <th>5</th>\n",
       "      <td>weight</td>\n",
       "      <td>-22.089750</td>\n",
       "      <td>22.089750</td>\n",
       "    </tr>\n",
       "  </tbody>\n",
       "</table>\n",
       "</div>"
      ],
      "text/plain": [
       "                 col       coef   coef_abs\n",
       "0  encoder__x0_japan  -0.255160   0.255160\n",
       "1    encoder__x0_usa  -2.446915   2.446915\n",
       "2          cylinders   1.862622   1.862622\n",
       "3         horsepower  -1.519237   1.519237\n",
       "4         model_year   9.748109   9.748109\n",
       "5             weight -22.089750  22.089750"
      ]
     },
     "execution_count": 37,
     "metadata": {},
     "output_type": "execute_result"
    }
   ],
   "source": [
    "prep_cols = transformer.get_feature_names()\n",
    "\n",
    "df_importance = pd.DataFrame({\n",
    "                                'col': prep_cols,\n",
    "                                'coef': lin_reg.coef_,\n",
    "                                'coef_abs': np.abs(lin_reg.coef_)\n",
    "})\n",
    "\n",
    "df_importance"
   ]
  },
  {
   "cell_type": "code",
   "execution_count": 38,
   "metadata": {},
   "outputs": [
    {
     "data": {
      "image/png": "[encoded data removed]",
      "text/plain": [
       "<Figure size 432x288 with 1 Axes>"
      ]
     },
     "metadata": {
      "needs_background": "light"
     },
     "output_type": "display_data"
    }
   ],
   "source": [
    "sns.barplot(x='coef_abs', y='col', data=df_importance, order=df_importance.sort_values('coef_abs', ascending=False).col);"
   ]
  },
  {
   "cell_type": "code",
   "execution_count": 39,
   "metadata": {},
   "outputs": [
    {
     "data": {
      "text/plain": [
       "array([[0.        , 1.        , 0.58100559],\n",
       "       [1.        , 0.        , 0.23463687],\n",
       "       [1.        , 0.        , 0.12290503],\n",
       "       [1.        , 0.        , 0.07821229],\n",
       "       [0.        , 0.        , 0.27374302],\n",
       "       [0.        , 1.        , 0.72067039],\n",
       "       [1.        , 0.        , 0.03351955],\n",
       "       [0.        , 1.        , 0.10614525],\n",
       "       [1.        , 0.        , 0.23463687],\n",
       "       [0.        , 1.        , 0.84916201],\n",
       "       [0.        , 1.        , 0.80446927],\n",
       "       [1.        , 0.        , 0.30167598],\n",
       "       [0.        , 0.        , 0.16201117],\n",
       "       [0.        , 0.        , 0.06703911],\n",
       "       [1.        , 0.        , 0.34636872],\n",
       "       [0.        , 1.        , 0.09497207],\n",
       "       [0.        , 1.        , 0.2122905 ],\n",
       "       [0.        , 1.        , 0.38547486],\n",
       "       [0.        , 1.        , 0.32960894],\n",
       "       [0.        , 1.        , 0.58100559],\n",
       "       [0.        , 1.        , 0.11173184],\n",
       "       [1.        , 0.        , 0.26815642],\n",
       "       [0.        , 1.        , 0.2849162 ],\n",
       "       [0.        , 1.        , 0.58100559],\n",
       "       [0.        , 1.        , 0.32960894],\n",
       "       [0.        , 1.        , 0.94413408],\n",
       "       [0.        , 0.        , 0.        ],\n",
       "       [0.        , 1.        , 0.58100559],\n",
       "       [0.        , 0.        , 0.15642458],\n",
       "       [1.        , 0.        , 0.10614525],\n",
       "       [1.        , 0.        , 0.10614525],\n",
       "       [0.        , 0.        , 0.22346369],\n",
       "       [0.        , 1.        , 0.44134078],\n",
       "       [1.        , 0.        , 0.11731844],\n",
       "       [0.        , 1.        , 0.18994413],\n",
       "       [0.        , 1.        , 0.24581006],\n",
       "       [0.        , 0.        , 0.12849162],\n",
       "       [0.        , 1.        , 0.3575419 ],\n",
       "       [0.        , 0.        , 0.12849162],\n",
       "       [0.        , 0.        , 0.48603352],\n",
       "       [0.        , 1.        , 0.55307263],\n",
       "       [0.        , 1.        , 0.1452514 ],\n",
       "       [0.        , 1.        , 0.21787709],\n",
       "       [0.        , 1.        , 0.27374302],\n",
       "       [0.        , 1.        , 0.24581006],\n",
       "       [1.        , 0.        , 0.39106145],\n",
       "       [1.        , 0.        , 0.12290503],\n",
       "       [0.        , 1.        , 0.24581006],\n",
       "       [0.        , 1.        , 0.13407821],\n",
       "       [1.        , 0.        , 0.15642458],\n",
       "       [1.        , 0.        , 0.07821229],\n",
       "       [1.        , 0.        , 0.08379888],\n",
       "       [1.        , 0.        , 0.10614525],\n",
       "       [0.        , 1.        , 0.24581006],\n",
       "       [0.        , 0.        , 0.25139665],\n",
       "       [0.        , 1.        , 0.32960894],\n",
       "       [0.        , 1.        , 0.27374302],\n",
       "       [1.        , 0.        , 0.07821229],\n",
       "       [0.        , 1.        , 0.09497207],\n",
       "       [1.        , 0.        , 0.16201117],\n",
       "       [0.        , 1.        , 0.23463687],\n",
       "       [0.        , 1.        , 0.52513966],\n",
       "       [0.        , 1.        , 0.53631285],\n",
       "       [0.        , 1.        , 0.1452514 ],\n",
       "       [0.        , 1.        , 0.24581006],\n",
       "       [0.        , 1.        , 0.03351955],\n",
       "       [0.        , 0.        , 0.04469274],\n",
       "       [1.        , 0.        , 0.24581006],\n",
       "       [0.        , 1.        , 0.27932961],\n",
       "       [1.        , 0.        , 0.2849162 ],\n",
       "       [0.        , 1.        , 0.97206704],\n",
       "       [0.        , 1.        , 0.51396648],\n",
       "       [0.        , 0.        , 0.31843575],\n",
       "       [1.        , 0.        , 0.26256983],\n",
       "       [0.        , 1.        , 0.69273743],\n",
       "       [1.        , 0.        , 0.11731844],\n",
       "       [0.        , 1.        , 0.58100559],\n",
       "       [1.        , 0.        , 0.25698324],\n",
       "       [0.        , 1.        , 0.30167598],\n",
       "       [1.        , 0.        , 0.11731844],\n",
       "       [0.        , 0.        , 0.1396648 ],\n",
       "       [0.        , 0.        , 0.41340782],\n",
       "       [1.        , 0.        , 0.16201117],\n",
       "       [0.        , 1.        , 0.3575419 ],\n",
       "       [0.        , 1.        , 0.58100559],\n",
       "       [0.        , 1.        , 0.52513966],\n",
       "       [0.        , 1.        , 0.27374302],\n",
       "       [0.        , 0.        , 0.16201117],\n",
       "       [0.        , 1.        , 0.24581006],\n",
       "       [0.        , 1.        , 0.62569832],\n",
       "       [0.        , 1.        , 0.63687151],\n",
       "       [1.        , 0.        , 0.42458101],\n",
       "       [0.        , 1.        , 0.72067039],\n",
       "       [0.        , 0.        , 0.17877095],\n",
       "       [0.        , 1.        , 0.13407821],\n",
       "       [0.        , 1.        , 0.32960894],\n",
       "       [0.        , 1.        , 0.29050279],\n",
       "       [0.        , 1.        , 0.60893855],\n",
       "       [0.        , 0.        , 0.37430168],\n",
       "       [0.        , 1.        , 0.30167598],\n",
       "       [1.        , 0.        , 0.03351955],\n",
       "       [0.        , 0.        , 0.3575419 ],\n",
       "       [0.        , 1.        , 0.90502793],\n",
       "       [0.        , 1.        , 0.52513966],\n",
       "       [1.        , 0.        , 0.30167598],\n",
       "       [0.        , 0.        , 0.1396648 ],\n",
       "       [0.        , 1.        , 0.24581006],\n",
       "       [0.        , 1.        , 0.19553073],\n",
       "       [0.        , 1.        , 0.27374302],\n",
       "       [0.        , 1.        , 0.16201117],\n",
       "       [0.        , 0.        , 0.17877095],\n",
       "       [0.        , 1.        , 0.58100559],\n",
       "       [0.        , 0.        , 0.23463687],\n",
       "       [0.        , 0.        , 0.1396648 ],\n",
       "       [0.        , 1.        , 0.32664462],\n",
       "       [0.        , 1.        , 0.55307263],\n",
       "       [0.        , 1.        , 0.32960894],\n",
       "       [0.        , 1.        , 0.13407821],\n",
       "       [0.        , 0.        , 0.19553073],\n",
       "       [0.        , 0.        , 0.11731844],\n",
       "       [0.        , 1.        , 0.23463687],\n",
       "       [0.        , 0.        , 0.23463687],\n",
       "       [0.        , 1.        , 0.21787709],\n",
       "       [1.        , 0.        , 0.11731844],\n",
       "       [0.        , 1.        , 0.66480447],\n",
       "       [0.        , 1.        , 0.63687151],\n",
       "       [0.        , 0.        , 0.01117318],\n",
       "       [0.        , 1.        , 0.18435754],\n",
       "       [1.        , 0.        , 0.13407821],\n",
       "       [0.        , 1.        , 0.21787709],\n",
       "       [0.        , 0.        , 0.29050279],\n",
       "       [1.        , 0.        , 0.2849162 ],\n",
       "       [1.        , 0.        , 0.48044693],\n",
       "       [0.        , 0.        , 0.01675978],\n",
       "       [0.        , 1.        , 0.21787709],\n",
       "       [0.        , 1.        , 0.32664462],\n",
       "       [1.        , 0.        , 0.13407821],\n",
       "       [0.        , 1.        , 0.46368715],\n",
       "       [0.        , 0.        , 0.16759777],\n",
       "       [0.        , 1.        , 0.3575419 ],\n",
       "       [1.        , 0.        , 0.11731844],\n",
       "       [0.        , 1.        , 0.52513966],\n",
       "       [0.        , 1.        , 0.1452514 ],\n",
       "       [0.        , 1.        , 0.30167598],\n",
       "       [0.        , 0.        , 0.13407821],\n",
       "       [1.        , 0.        , 0.27932961],\n",
       "       [0.        , 1.        , 0.58100559],\n",
       "       [1.        , 0.        , 0.13407821],\n",
       "       [0.        , 1.        , 0.55307263],\n",
       "       [0.        , 1.        , 0.57541899],\n",
       "       [0.        , 1.        , 0.23463687],\n",
       "       [0.        , 1.        , 0.8603352 ],\n",
       "       [0.        , 0.        , 0.36871508],\n",
       "       [0.        , 1.        , 0.24581006],\n",
       "       [0.        , 1.        , 0.46927374],\n",
       "       [1.        , 0.        , 0.11731844],\n",
       "       [0.        , 1.        , 0.12290503],\n",
       "       [0.        , 1.        , 0.23463687],\n",
       "       [0.        , 1.        , 0.2122905 ],\n",
       "       [0.        , 1.        , 0.30167598],\n",
       "       [0.        , 1.        , 0.52513966],\n",
       "       [1.        , 0.        , 0.16201117],\n",
       "       [1.        , 0.        , 0.23463687],\n",
       "       [0.        , 1.        , 0.18994413],\n",
       "       [1.        , 0.        , 0.11731844],\n",
       "       [0.        , 1.        , 0.30167598],\n",
       "       [1.        , 0.        , 0.13407821],\n",
       "       [0.        , 1.        , 0.23463687],\n",
       "       [0.        , 1.        , 0.30167598],\n",
       "       [0.        , 0.        , 0.01117318],\n",
       "       [0.        , 1.        , 0.25698324],\n",
       "       [0.        , 1.        , 0.60893855],\n",
       "       [0.        , 1.        , 0.72067039],\n",
       "       [0.        , 1.        , 0.23463687],\n",
       "       [0.        , 1.        , 0.59776536],\n",
       "       [1.        , 0.        , 0.25698324],\n",
       "       [0.        , 1.        , 0.72067039],\n",
       "       [0.        , 0.        , 0.3575419 ],\n",
       "       [0.        , 0.        , 0.20670391],\n",
       "       [0.        , 1.        , 0.5698324 ],\n",
       "       [0.        , 1.        , 0.58100559],\n",
       "       [0.        , 1.        , 0.30167598],\n",
       "       [0.        , 1.        , 0.82122905],\n",
       "       [0.        , 1.        , 0.17877095],\n",
       "       [0.        , 0.        , 0.11731844],\n",
       "       [0.        , 0.        , 0.17877095],\n",
       "       [0.        , 1.        , 0.32960894],\n",
       "       [0.        , 1.        , 0.55307263],\n",
       "       [0.        , 1.        , 1.        ],\n",
       "       [0.        , 0.        , 0.13407821],\n",
       "       [0.        , 0.        , 0.17877095],\n",
       "       [0.        , 0.        , 0.17318436],\n",
       "       [0.        , 0.        , 0.01117318],\n",
       "       [0.        , 0.        , 0.23463687],\n",
       "       [0.        , 1.        , 0.58100559],\n",
       "       [0.        , 0.        , 0.08938547],\n",
       "       [0.        , 1.        , 0.1452514 ],\n",
       "       [0.        , 1.        , 0.21787709],\n",
       "       [0.        , 1.        , 0.21787709],\n",
       "       [0.        , 1.        , 0.52513966],\n",
       "       [0.        , 1.        , 0.30167598],\n",
       "       [1.        , 0.        , 0.16201117],\n",
       "       [0.        , 1.        , 0.23463687],\n",
       "       [0.        , 1.        , 0.32960894],\n",
       "       [0.        , 1.        , 0.25698324],\n",
       "       [0.        , 1.        , 0.55307263],\n",
       "       [1.        , 0.        , 0.27932961],\n",
       "       [0.        , 1.        , 0.30167598],\n",
       "       [0.        , 1.        , 0.58100559],\n",
       "       [0.        , 1.        , 0.22346369],\n",
       "       [0.        , 1.        , 0.30167598],\n",
       "       [0.        , 1.        , 0.32664462],\n",
       "       [1.        , 0.        , 0.27374302],\n",
       "       [0.        , 1.        , 0.17877095],\n",
       "       [0.        , 0.        , 0.32664462],\n",
       "       [0.        , 1.        , 0.91620112],\n",
       "       [0.        , 1.        , 0.13407821],\n",
       "       [0.        , 1.        , 0.69273743],\n",
       "       [0.        , 1.        , 0.3575419 ],\n",
       "       [0.        , 1.        , 0.4972067 ],\n",
       "       [0.        , 1.        , 0.3575419 ],\n",
       "       [0.        , 1.        , 0.2122905 ],\n",
       "       [0.        , 1.        , 0.58100559],\n",
       "       [0.        , 1.        , 0.66480447],\n",
       "       [0.        , 1.        , 0.32960894],\n",
       "       [0.        , 1.        , 0.30167598],\n",
       "       [0.        , 1.        , 1.        ],\n",
       "       [0.        , 1.        , 0.58100559],\n",
       "       [0.        , 1.        , 0.24581006],\n",
       "       [1.        , 0.        , 0.27374302],\n",
       "       [0.        , 1.        , 0.69273743],\n",
       "       [0.        , 1.        , 0.59776536],\n",
       "       [0.        , 1.        , 0.32960894],\n",
       "       [1.        , 0.        , 0.10614525],\n",
       "       [1.        , 0.        , 0.12290503],\n",
       "       [1.        , 0.        , 0.12290503],\n",
       "       [0.        , 1.        , 0.23463687],\n",
       "       [0.        , 1.        , 0.24022346],\n",
       "       [0.        , 0.        , 0.31284916],\n",
       "       [0.        , 1.        , 0.74860335],\n",
       "       [0.        , 1.        , 0.18994413],\n",
       "       [1.        , 0.        , 0.41340782],\n",
       "       [0.        , 1.        , 0.51955307],\n",
       "       [0.        , 1.        , 0.25698324],\n",
       "       [0.        , 1.        , 0.3575419 ],\n",
       "       [1.        , 0.        , 0.10614525],\n",
       "       [0.        , 1.        , 0.16201117],\n",
       "       [0.        , 1.        , 0.3575419 ],\n",
       "       [0.        , 1.        , 0.32960894],\n",
       "       [0.        , 1.        , 0.69273743],\n",
       "       [0.        , 1.        , 0.18994413],\n",
       "       [0.        , 1.        , 0.59217877],\n",
       "       [0.        , 0.        , 0.16759777],\n",
       "       [0.        , 1.        , 0.21787709],\n",
       "       [0.        , 1.        , 0.69273743],\n",
       "       [1.        , 0.        , 0.10614525],\n",
       "       [0.        , 1.        , 0.66480447],\n",
       "       [0.        , 1.        , 0.22346369],\n",
       "       [0.        , 1.        , 0.22346369],\n",
       "       [1.        , 0.        , 0.16201117],\n",
       "       [0.        , 1.        , 0.32960894],\n",
       "       [0.        , 1.        , 0.66480447],\n",
       "       [0.        , 1.        , 0.58100559],\n",
       "       [0.        , 1.        , 0.2122905 ],\n",
       "       [0.        , 0.        , 0.16759777],\n",
       "       [0.        , 1.        , 0.51955307],\n",
       "       [1.        , 0.        , 0.2849162 ],\n",
       "       [0.        , 1.        , 1.        ],\n",
       "       [0.        , 1.        , 0.24581006],\n",
       "       [0.        , 1.        , 0.50837989],\n",
       "       [1.        , 0.        , 0.2849162 ],\n",
       "       [0.        , 1.        , 0.46368715],\n",
       "       [0.        , 0.        , 0.11731844],\n",
       "       [0.        , 1.        , 0.2122905 ],\n",
       "       [0.        , 1.        , 0.3575419 ],\n",
       "       [0.        , 1.        , 0.38547486],\n",
       "       [1.        , 0.        , 0.16201117],\n",
       "       [1.        , 0.        , 0.16201117],\n",
       "       [1.        , 0.        , 0.3575419 ],\n",
       "       [1.        , 0.        , 0.12849162],\n",
       "       [0.        , 0.        , 0.24581006],\n",
       "       [0.        , 1.        , 0.2849162 ],\n",
       "       [0.        , 1.        , 0.41340782],\n",
       "       [0.        , 1.        , 0.2122905 ],\n",
       "       [0.        , 1.        , 0.52513966],\n",
       "       [0.        , 1.        , 0.30167598],\n",
       "       [0.        , 1.        , 0.18994413],\n",
       "       [0.        , 1.        , 0.23463687],\n",
       "       [0.        , 1.        , 0.10055866],\n",
       "       [1.        , 0.        , 0.16201117],\n",
       "       [0.        , 1.        , 0.32960894],\n",
       "       [0.        , 0.        , 0.24581006],\n",
       "       [0.        , 1.        , 0.24581006],\n",
       "       [0.        , 1.        , 0.3575419 ],\n",
       "       [0.        , 0.        , 0.38547486],\n",
       "       [0.        , 1.        , 0.30167598],\n",
       "       [0.        , 0.        , 0.1396648 ],\n",
       "       [1.        , 0.        , 0.06703911],\n",
       "       [0.        , 1.        , 0.24581006],\n",
       "       [0.        , 1.        , 0.24581006],\n",
       "       [1.        , 0.        , 0.2849162 ],\n",
       "       [0.        , 1.        , 0.18994413],\n",
       "       [0.        , 0.        , 0.11731844],\n",
       "       [0.        , 0.        , 0.18994413],\n",
       "       [0.        , 1.        , 0.30167598],\n",
       "       [0.        , 1.        , 0.24581006],\n",
       "       [0.        , 1.        , 0.55307263],\n",
       "       [0.        , 0.        , 0.32664462],\n",
       "       [0.        , 1.        , 0.46927374],\n",
       "       [0.        , 1.        , 0.58100559],\n",
       "       [0.        , 1.        , 0.20111732],\n",
       "       [0.        , 0.        , 0.22905028],\n",
       "       [0.        , 1.        , 0.58100559],\n",
       "       [1.        , 0.        , 0.2849162 ],\n",
       "       [0.        , 1.        , 0.74860335],\n",
       "       [1.        , 0.        , 0.27374302],\n",
       "       [1.        , 0.        , 0.08938547],\n",
       "       [0.        , 0.        , 0.        ]])"
      ]
     },
     "execution_count": 39,
     "metadata": {},
     "output_type": "execute_result"
    }
   ],
   "source": [
    "X_train_scaled[:, [0, 1, 3]]"
   ]
  },
  {
   "cell_type": "code",
   "execution_count": 40,
   "metadata": {},
   "outputs": [
    {
     "data": {
      "text/plain": [
       "LinearRegression()"
      ]
     },
     "execution_count": 40,
     "metadata": {},
     "output_type": "execute_result"
    }
   ],
   "source": [
    "X_train_selected = X_train_scaled[:, [0, 1, 3]]\n",
    "X_test_selected = X_test_scaled[:, [0, 1, 3]]\n",
    "\n",
    "lin_reg = LinearRegression()\n",
    "lin_reg.fit(X_train_selected, y_train)"
   ]
  },
  {
   "cell_type": "code",
   "execution_count": 41,
   "metadata": {},
   "outputs": [
    {
     "data": {
      "text/plain": [
       "0.64386305863182"
      ]
     },
     "execution_count": 41,
     "metadata": {},
     "output_type": "execute_result"
    }
   ],
   "source": [
    "lin_reg.score(X_train_selected, y_train)"
   ]
  },
  {
   "cell_type": "code",
   "execution_count": 42,
   "metadata": {},
   "outputs": [],
   "source": [
    "yhat = lin_reg.predict(X_test_selected)"
   ]
  },
  {
   "cell_type": "code",
   "execution_count": 43,
   "metadata": {},
   "outputs": [
    {
     "data": {
      "text/plain": [
       "0.6865183639753243"
      ]
     },
     "execution_count": 43,
     "metadata": {},
     "output_type": "execute_result"
    }
   ],
   "source": [
    "lin_reg.score(X_test_selected, y_test)"
   ]
  },
  {
   "cell_type": "code",
   "execution_count": 44,
   "metadata": {},
   "outputs": [
    {
     "data": {
      "text/html": [
       "<div>\n",
       "<style scoped>\n",
       "    .dataframe tbody tr th:only-of-type {\n",
       "        vertical-align: middle;\n",
       "    }\n",
       "\n",
       "    .dataframe tbody tr th {\n",
       "        vertical-align: top;\n",
       "    }\n",
       "\n",
       "    .dataframe thead th {\n",
       "        text-align: right;\n",
       "    }\n",
       "</style>\n",
       "<table border=\"1\" class=\"dataframe\">\n",
       "  <thead>\n",
       "    <tr style=\"text-align: right;\">\n",
       "      <th></th>\n",
       "      <th>y_test</th>\n",
       "      <th>y_hat</th>\n",
       "    </tr>\n",
       "  </thead>\n",
       "  <tbody>\n",
       "    <tr>\n",
       "      <th>198</th>\n",
       "      <td>33.0</td>\n",
       "      <td>34.061258</td>\n",
       "    </tr>\n",
       "    <tr>\n",
       "      <th>396</th>\n",
       "      <td>28.0</td>\n",
       "      <td>25.242652</td>\n",
       "    </tr>\n",
       "    <tr>\n",
       "      <th>33</th>\n",
       "      <td>19.0</td>\n",
       "      <td>22.393891</td>\n",
       "    </tr>\n",
       "    <tr>\n",
       "      <th>208</th>\n",
       "      <td>13.0</td>\n",
       "      <td>15.611126</td>\n",
       "    </tr>\n",
       "    <tr>\n",
       "      <th>93</th>\n",
       "      <td>14.0</td>\n",
       "      <td>15.611126</td>\n",
       "    </tr>\n",
       "    <tr>\n",
       "      <th>...</th>\n",
       "      <td>...</td>\n",
       "      <td>...</td>\n",
       "    </tr>\n",
       "    <tr>\n",
       "      <th>249</th>\n",
       "      <td>19.9</td>\n",
       "      <td>21.037338</td>\n",
       "    </tr>\n",
       "    <tr>\n",
       "      <th>225</th>\n",
       "      <td>17.5</td>\n",
       "      <td>21.037338</td>\n",
       "    </tr>\n",
       "    <tr>\n",
       "      <th>367</th>\n",
       "      <td>28.0</td>\n",
       "      <td>24.021754</td>\n",
       "    </tr>\n",
       "    <tr>\n",
       "      <th>175</th>\n",
       "      <td>29.0</td>\n",
       "      <td>29.666841</td>\n",
       "    </tr>\n",
       "    <tr>\n",
       "      <th>285</th>\n",
       "      <td>17.0</td>\n",
       "      <td>18.324232</td>\n",
       "    </tr>\n",
       "  </tbody>\n",
       "</table>\n",
       "<p>80 rows × 2 columns</p>\n",
       "</div>"
      ],
      "text/plain": [
       "     y_test      y_hat\n",
       "198    33.0  34.061258\n",
       "396    28.0  25.242652\n",
       "33     19.0  22.393891\n",
       "208    13.0  15.611126\n",
       "93     14.0  15.611126\n",
       "..      ...        ...\n",
       "249    19.9  21.037338\n",
       "225    17.5  21.037338\n",
       "367    28.0  24.021754\n",
       "175    29.0  29.666841\n",
       "285    17.0  18.324232\n",
       "\n",
       "[80 rows x 2 columns]"
      ]
     },
     "execution_count": 44,
     "metadata": {},
     "output_type": "execute_result"
    }
   ],
   "source": [
    "pd.DataFrame({'y_test': y_test,\n",
    "                'y_hat': yhat})"
   ]
  },
  {
   "cell_type": "code",
   "execution_count": 45,
   "metadata": {},
   "outputs": [
    {
     "data": {
      "text/plain": [
       "4.105458896393764"
      ]
     },
     "execution_count": 45,
     "metadata": {},
     "output_type": "execute_result"
    }
   ],
   "source": [
    "np.sqrt(mean_squared_error(y_test, yhat))"
   ]
  },
  {
   "cell_type": "markdown",
   "metadata": {},
   "source": [
    "`Model Based`"
   ]
  },
  {
   "cell_type": "code",
   "execution_count": 46,
   "metadata": {},
   "outputs": [],
   "source": [
    "from sklearn.feature_selection import SelectPercentile, SelectKBest, RFE, mutual_info_regression, SelectFromModel"
   ]
  },
  {
   "cell_type": "code",
   "execution_count": 47,
   "metadata": {},
   "outputs": [],
   "source": [
    "feature_model = SelectFromModel(LinearRegression())\n",
    "X_train_selected_from_model = feature_model.fit_transform(X_train_scaled, y_train)"
   ]
  },
  {
   "cell_type": "code",
   "execution_count": 48,
   "metadata": {},
   "outputs": [
    {
     "data": {
      "text/plain": [
       "['encoder__x0_japan',\n",
       " 'encoder__x0_usa',\n",
       " 'cylinders',\n",
       " 'horsepower',\n",
       " 'model_year',\n",
       " 'weight']"
      ]
     },
     "execution_count": 48,
     "metadata": {},
     "output_type": "execute_result"
    }
   ],
   "source": [
    "transformer.get_feature_names()"
   ]
  },
  {
   "cell_type": "code",
   "execution_count": 49,
   "metadata": {},
   "outputs": [
    {
     "data": {
      "text/plain": [
       "array([False, False, False, False,  True,  True])"
      ]
     },
     "execution_count": 49,
     "metadata": {},
     "output_type": "execute_result"
    }
   ],
   "source": [
    "feature_model.get_support()"
   ]
  },
  {
   "cell_type": "code",
   "execution_count": 50,
   "metadata": {},
   "outputs": [
    {
     "data": {
      "text/plain": [
       "DecisionTreeRegressor(max_depth=3, random_state=42)"
      ]
     },
     "execution_count": 50,
     "metadata": {},
     "output_type": "execute_result"
    }
   ],
   "source": [
    "dt = DecisionTreeRegressor(random_state=42, max_depth=3)\n",
    "dt.fit(X_train_scaled, y_train)"
   ]
  },
  {
   "cell_type": "code",
   "execution_count": 51,
   "metadata": {},
   "outputs": [
    {
     "data": {
      "text/plain": [
       "0.8205256825740304"
      ]
     },
     "execution_count": 51,
     "metadata": {},
     "output_type": "execute_result"
    }
   ],
   "source": [
    "dt.score(X_train_scaled, y_train)"
   ]
  },
  {
   "cell_type": "code",
   "execution_count": 52,
   "metadata": {},
   "outputs": [],
   "source": [
    "feature_model_dt = SelectFromModel(DecisionTreeRegressor())\n",
    "X_train_selected_from_model_dt = feature_model_dt.fit_transform(X_train_scaled, y_train)"
   ]
  },
  {
   "cell_type": "code",
   "execution_count": 53,
   "metadata": {},
   "outputs": [
    {
     "data": {
      "text/plain": [
       "array([False, False,  True,  True, False, False])"
      ]
     },
     "execution_count": 53,
     "metadata": {},
     "output_type": "execute_result"
    }
   ],
   "source": [
    "feature_model_dt.get_support()"
   ]
  },
  {
   "cell_type": "code",
   "execution_count": 54,
   "metadata": {},
   "outputs": [
    {
     "data": {
      "text/plain": [
       "['encoder__x0_japan',\n",
       " 'encoder__x0_usa',\n",
       " 'cylinders',\n",
       " 'horsepower',\n",
       " 'model_year',\n",
       " 'weight']"
      ]
     },
     "execution_count": 54,
     "metadata": {},
     "output_type": "execute_result"
    }
   ],
   "source": [
    "transformer.get_feature_names()"
   ]
  },
  {
   "cell_type": "markdown",
   "metadata": {},
   "source": [
    "`Iterative`"
   ]
  },
  {
   "cell_type": "code",
   "execution_count": 55,
   "metadata": {},
   "outputs": [],
   "source": [
    "rfe = RFE(LinearRegression(), n_features_to_select=3)\n",
    "X_train_rfe = rfe.fit_transform(X_train_scaled, y_train)"
   ]
  },
  {
   "cell_type": "code",
   "execution_count": 56,
   "metadata": {},
   "outputs": [
    {
     "data": {
      "text/plain": [
       "array([False,  True, False, False,  True,  True])"
      ]
     },
     "execution_count": 56,
     "metadata": {},
     "output_type": "execute_result"
    }
   ],
   "source": [
    "rfe.get_support()"
   ]
  },
  {
   "cell_type": "code",
   "execution_count": 57,
   "metadata": {},
   "outputs": [
    {
     "data": {
      "text/plain": [
       "['encoder__x0_japan',\n",
       " 'encoder__x0_usa',\n",
       " 'cylinders',\n",
       " 'horsepower',\n",
       " 'model_year',\n",
       " 'weight']"
      ]
     },
     "execution_count": 57,
     "metadata": {},
     "output_type": "execute_result"
    }
   ],
   "source": [
    "transformer.get_feature_names()"
   ]
  },
  {
   "cell_type": "markdown",
   "metadata": {},
   "source": [
    "#### **Model Performance Evaluation**"
   ]
  },
  {
   "cell_type": "code",
   "execution_count": 58,
   "metadata": {},
   "outputs": [],
   "source": [
    "linreg = LinearRegression()\n",
    "linreg.fit(X_train_scaled, y_train)\n",
    "y_train_pred = linreg.predict(X_train_scaled)\n",
    "\n",
    "resid = y_train - y_train_pred\n",
    "resid_pct = resid / y_train"
   ]
  },
  {
   "cell_type": "code",
   "execution_count": 59,
   "metadata": {},
   "outputs": [
    {
     "data": {
      "image/png": "[encoded data removed]",
      "text/plain": [
       "<Figure size 360x360 with 1 Axes>"
      ]
     },
     "metadata": {
      "needs_background": "light"
     },
     "output_type": "display_data"
    }
   ],
   "source": [
    "sns.displot(resid);"
   ]
  },
  {
   "cell_type": "code",
   "execution_count": 60,
   "metadata": {},
   "outputs": [
    {
     "data": {
      "image/png": "[encoded data removed]",
      "text/plain": [
       "<Figure size 432x288 with 1 Axes>"
      ]
     },
     "metadata": {
      "needs_background": "light"
     },
     "output_type": "display_data"
    }
   ],
   "source": [
    "sns.boxplot(x=resid);"
   ]
  },
  {
   "cell_type": "code",
   "execution_count": 62,
   "metadata": {},
   "outputs": [],
   "source": [
    "# RMSPE\n",
    "def rmspe(y_train, y_train_pred):\n",
    "    sum_of_squared_pct = 0\n",
    "    n = len(y_train)\n",
    "    \n",
    "    for i in range(n):\n",
    "        pct_squared = ((y_train[i] - y_train_pred[i]) / y_train[i]) ** 2\n",
    "        sum_of_squared_pct += pct_squared\n",
    "        \n",
    "    rmspe_score = np.sqrt(sum_of_squared_pct / n)\n",
    "    \n",
    "    return rmspe_score"
   ]
  },
  {
   "cell_type": "code",
   "execution_count": 64,
   "metadata": {},
   "outputs": [
    {
     "name": "stdout",
     "output_type": "stream",
     "text": [
      "MSE: 11.54465644424832\n",
      "RMSE: 3.3977428455149927\n",
      "MAE: 2.5977057427126633\n",
      "MAPE: 0.11931218493554197\n",
      "RMSLE 0.1502802976032802\n",
      "RMSPE: 0.15750905489540865\n"
     ]
    }
   ],
   "source": [
    "print('MSE:', mean_squared_error(y_train, y_train_pred))\n",
    "print('RMSE:', np.sqrt(mean_squared_error(y_train, y_train_pred)))\n",
    "print('MAE:', mean_absolute_error(y_train, y_train_pred))\n",
    "print('MAPE:', mean_absolute_percentage_error(y_train, y_train_pred))\n",
    "print('RMSLE', np.sqrt(mean_squared_log_error(y_train, y_train_pred)))\n",
    "print(f'RMSPE: {rmspe(y_train.values, y_train_pred)}')"
   ]
  }
 ],
 "metadata": {
  "interpreter": {
   "hash": "95a19bb7a135a8107af75b765dc097fafc28c1115c0f9727f05dc637904e7be8"
  },
  "kernelspec": {
   "display_name": "Python 3.9.7 ('base')",
   "language": "python",
   "name": "python3"
  },
  "language_info": {
   "codemirror_mode": {
    "name": "ipython",
    "version": 3
   },
   "file_extension": ".py",
   "mimetype": "text/x-python",
   "name": "python",
   "nbconvert_exporter": "python",
   "pygments_lexer": "ipython3",
   "version": "3.9.7"
  },
  "orig_nbformat": 4
 },
 "nbformat": 4,
 "nbformat_minor": 2
}
