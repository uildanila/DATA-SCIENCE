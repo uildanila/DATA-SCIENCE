{
 "cells": [
  {
   "cell_type": "markdown",
   "metadata": {},
   "source": [
    "`April 14, 2022`"
   ]
  },
  {
   "cell_type": "markdown",
   "metadata": {},
   "source": [
    "### **Time Series Exercise (ARIMA)**"
   ]
  },
  {
   "cell_type": "markdown",
   "metadata": {},
   "source": [
    "**Use belem_temperature dataset**\n",
    "\n",
    "In this exercise, we use the time series temperature data of Belem city (a city in Brazil). Temperature records are provided by months. The last columns are mean values according to some calculation estimates.\n",
    "\n",
    "What you need to do?\n",
    "\n",
    "- Explore the data.\n",
    "- Find the anomalies and clean the data.\n",
    "\n",
    "- Find out is there a change in temperature in the Belem city over the period?\n",
    "- Forecast for one year period.\n",
    "- Feel free to use exogenous variable(s).\n",
    "\n",
    "<hr>"
   ]
  }
 ],
 "metadata": {
  "interpreter": {
   "hash": "95a19bb7a135a8107af75b765dc097fafc28c1115c0f9727f05dc637904e7be8"
  },
  "kernelspec": {
   "display_name": "Python 3.9.7 ('base')",
   "language": "python",
   "name": "python3"
  },
  "language_info": {
   "codemirror_mode": {
    "name": "ipython",
    "version": 3
   },
   "file_extension": ".py",
   "mimetype": "text/x-python",
   "name": "python",
   "nbconvert_exporter": "python",
   "pygments_lexer": "ipython3",
   "version": "3.9.7"
  },
  "orig_nbformat": 4
 },
 "nbformat": 4,
 "nbformat_minor": 2
}
