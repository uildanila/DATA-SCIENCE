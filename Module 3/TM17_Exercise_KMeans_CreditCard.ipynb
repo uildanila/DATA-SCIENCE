{
 "cells": [
  {
   "cell_type": "markdown",
   "metadata": {},
   "source": [
    "`April 11, 2022`"
   ]
  },
  {
   "cell_type": "markdown",
   "metadata": {},
   "source": [
    "## **PCA & K-Means Exercise**\n",
    "\n",
    "\n",
    "**Use Creditcard dataset**\n",
    "\n",
    "- Explore the data first.\n",
    "- Preprocess and scale the data using StandardScaler.\n",
    "\n",
    "- Do PCA, then try to analyze the number of principal components and variance extracted.\n",
    "- Do clustering with the most optimum principal components number, then find the best number of clusters with elbow method and silhouette score.\n",
    "- Interpret the result."
   ]
  },
  {
   "cell_type": "markdown",
   "metadata": {},
   "source": [
    "### **Features information**\n",
    "\n",
    "|Feature|Description|\n",
    "|-------|-----------|\n",
    "|CUSTID | Identification of credit card holder (Categorical)\n",
    "|BALANCE | Balance amount left in their account to make purchases\n",
    "|BALANCEFREQUENCY | How frequently the balance is updated (1 = frequently updated, 0 = not frequently updated)\n",
    "|PURCHASES | Amount of purchases made from account\n",
    "|ONEOFFPURCHASES | Maximum purchase amount done in one-go\n",
    "|INSTALLMENTSPURCHASES | Amount of purchase done in installment\n",
    "|CASHADVANCE | Cash in advance given by the user\n",
    "|PURCHASESFREQUENCY | How frequently the purchases are being made (1 = frequently purchased, 0 = not frequently purchased)\n",
    "|ONEOFFPURCHASESFREQUENCY | How frequently purchases are happening in one-go (1 = frequently purchased, 0 = not frequently purchased)\n",
    "|PURCHASESINSTALLMENTSFREQUENCY | How frequently purchases in installments are being done (1 = frequently done, 0 = not frequently done)\n",
    "|CASHADVANCEFREQUENCY | How frequently the cash in advance being paid\n",
    "|CASHADVANCETRX | Number of transactions made with \"Cash in Advanced\"\n",
    "|PURCHASESTRX | Numbe of purchase transactions made\n",
    "|CREDITLIMIT | Limit of credit card for user\n",
    "|PAYMENTS | Amount of payment done by user\n",
    "|MINIMUM_PAYMENTS | Minimum amount of payments made by user\n",
    "|PRCFULLPAYMENT | Percent of full payment paid by user\n",
    "|TENURE | Tenure of credit card service for user\n",
    "\n",
    "<hr>"
   ]
  }
 ],
 "metadata": {
  "interpreter": {
   "hash": "95a19bb7a135a8107af75b765dc097fafc28c1115c0f9727f05dc637904e7be8"
  },
  "kernelspec": {
   "display_name": "Python 3.8.3 64-bit ('base': conda)",
   "name": "python3"
  },
  "language_info": {
   "codemirror_mode": {
    "name": "ipython",
    "version": 3
   },
   "file_extension": ".py",
   "mimetype": "text/x-python",
   "name": "python",
   "nbconvert_exporter": "python",
   "pygments_lexer": "ipython3",
   "version": "3.8.3"
  },
  "orig_nbformat": 4
 },
 "nbformat": 4,
 "nbformat_minor": 2
}
